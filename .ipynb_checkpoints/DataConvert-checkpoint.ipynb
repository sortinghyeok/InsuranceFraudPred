{
 "cells": [
  {
   "cell_type": "code",
   "execution_count": 10,
   "id": "941c651d",
   "metadata": {},
   "outputs": [],
   "source": [
    "import numpy as np\n",
    "import pandas as pd"
   ]
  },
  {
   "cell_type": "markdown",
   "id": "97daca32",
   "metadata": {},
   "source": [
    "### 데이터 변환\n",
    "\n",
    "##### xlsx to csv   \n",
    "##### csv to csv   \n",
    "\n",
    "\n",
    "- 구분자 쉼표\n",
    "- 인코딩 방식 UTF-8\n",
    "- 결측치 NaN"
   ]
  },
  {
   "cell_type": "code",
   "execution_count": 43,
   "id": "b3acebe7",
   "metadata": {},
   "outputs": [],
   "source": [
    "file_name = 'Table_explan'\n",
    "data_location = '../data/'\n",
    "data_loctaion_convert = '../data_convert'\n",
    "\n",
    "file = data_location + file_name\n",
    "file_convert = data_loctaion_convert + file_name"
   ]
  },
  {
   "cell_type": "code",
   "execution_count": 44,
   "id": "3ae75397",
   "metadata": {
    "scrolled": true
   },
   "outputs": [
    {
     "data": {
      "text/html": [
       "<div>\n",
       "<style scoped>\n",
       "    .dataframe tbody tr th:only-of-type {\n",
       "        vertical-align: middle;\n",
       "    }\n",
       "\n",
       "    .dataframe tbody tr th {\n",
       "        vertical-align: top;\n",
       "    }\n",
       "\n",
       "    .dataframe thead th {\n",
       "        text-align: right;\n",
       "    }\n",
       "</style>\n",
       "<table border=\"1\" class=\"dataframe\">\n",
       "  <thead>\n",
       "    <tr style=\"text-align: right;\">\n",
       "      <th></th>\n",
       "      <th>No</th>\n",
       "      <th>변수영문명</th>\n",
       "      <th>변수타입</th>\n",
       "      <th>변수명</th>\n",
       "      <th>변수 설명</th>\n",
       "      <th>비고</th>\n",
       "    </tr>\n",
       "  </thead>\n",
       "  <tbody>\n",
       "    <tr>\n",
       "      <th>0</th>\n",
       "      <td>1</td>\n",
       "      <td>CUST_ID</td>\n",
       "      <td>N</td>\n",
       "      <td>고객ID</td>\n",
       "      <td>고객을 구분하는 고유번호</td>\n",
       "      <td>비 식별화 조치 시행</td>\n",
       "    </tr>\n",
       "    <tr>\n",
       "      <th>1</th>\n",
       "      <td>2</td>\n",
       "      <td>DIVIDED_SET</td>\n",
       "      <td>N</td>\n",
       "      <td>데이터셋 구분</td>\n",
       "      <td>학습용 Set의 경우 1번 // 평가용 Set의 경우 2번을 부여</td>\n",
       "      <td>NaN</td>\n",
       "    </tr>\n",
       "    <tr>\n",
       "      <th>2</th>\n",
       "      <td>3</td>\n",
       "      <td>SIU_CUST_YN</td>\n",
       "      <td>C</td>\n",
       "      <td>보험사기자여부</td>\n",
       "      <td>Y의 경우 '보험사기자' / N의 경우 '일반고객' /평가용 Set에는 미부여</td>\n",
       "      <td>NaN</td>\n",
       "    </tr>\n",
       "    <tr>\n",
       "      <th>3</th>\n",
       "      <td>4</td>\n",
       "      <td>SEX</td>\n",
       "      <td>N</td>\n",
       "      <td>성별</td>\n",
       "      <td>성별 1은 '남성' 2는 '여성'</td>\n",
       "      <td>NaN</td>\n",
       "    </tr>\n",
       "    <tr>\n",
       "      <th>4</th>\n",
       "      <td>5</td>\n",
       "      <td>AGE</td>\n",
       "      <td>N</td>\n",
       "      <td>연령</td>\n",
       "      <td>고객연령</td>\n",
       "      <td>NaN</td>\n",
       "    </tr>\n",
       "  </tbody>\n",
       "</table>\n",
       "</div>"
      ],
      "text/plain": [
       "   No        변수영문명 변수타입      변수명                                        변수 설명  \\\n",
       "0   1      CUST_ID    N    고객ID                                 고객을 구분하는 고유번호   \n",
       "1   2  DIVIDED_SET    N  데이터셋 구분         학습용 Set의 경우 1번 // 평가용 Set의 경우 2번을 부여   \n",
       "2   3  SIU_CUST_YN    C  보험사기자여부  Y의 경우 '보험사기자' / N의 경우 '일반고객' /평가용 Set에는 미부여   \n",
       "3   4          SEX    N       성별                           성별 1은 '남성' 2는 '여성'   \n",
       "4   5          AGE    N       연령                                         고객연령   \n",
       "\n",
       "            비고  \n",
       "0  비 식별화 조치 시행  \n",
       "1          NaN  \n",
       "2          NaN  \n",
       "3          NaN  \n",
       "4          NaN  "
      ]
     },
     "execution_count": 44,
     "metadata": {},
     "output_type": "execute_result"
    }
   ],
   "source": [
    "data = pd.read_excel('{}.xlsx'.format(file))\n",
    "#data = pd.read_csv('../data/{}.csv'.format(file_name))\n",
    "#경우에 따라 사용\n",
    "data.head()"
   ]
  },
  {
   "cell_type": "code",
   "execution_count": 39,
   "id": "7fe81f8c",
   "metadata": {},
   "outputs": [],
   "source": [
    "data.to_csv('{}convert.csv'.format(file_convert),sep=',',na_rep='',encoding='UTF-8',index=False)"
   ]
  },
  {
   "cell_type": "code",
   "execution_count": 40,
   "id": "7b189c9e",
   "metadata": {
    "scrolled": true
   },
   "outputs": [
    {
     "data": {
      "text/html": [
       "<div>\n",
       "<style scoped>\n",
       "    .dataframe tbody tr th:only-of-type {\n",
       "        vertical-align: middle;\n",
       "    }\n",
       "\n",
       "    .dataframe tbody tr th {\n",
       "        vertical-align: top;\n",
       "    }\n",
       "\n",
       "    .dataframe thead th {\n",
       "        text-align: right;\n",
       "    }\n",
       "</style>\n",
       "<table border=\"1\" class=\"dataframe\">\n",
       "  <thead>\n",
       "    <tr style=\"text-align: right;\">\n",
       "      <th></th>\n",
       "      <th>No</th>\n",
       "      <th>변수영문명</th>\n",
       "      <th>변수타입</th>\n",
       "      <th>변수명</th>\n",
       "      <th>변수 설명</th>\n",
       "      <th>비고</th>\n",
       "    </tr>\n",
       "  </thead>\n",
       "  <tbody>\n",
       "    <tr>\n",
       "      <th>0</th>\n",
       "      <td>1</td>\n",
       "      <td>CUST_ID</td>\n",
       "      <td>N</td>\n",
       "      <td>고객ID</td>\n",
       "      <td>고객을 구분하는 고유번호</td>\n",
       "      <td>비 식별화 조치 시행</td>\n",
       "    </tr>\n",
       "    <tr>\n",
       "      <th>1</th>\n",
       "      <td>2</td>\n",
       "      <td>DIVIDED_SET</td>\n",
       "      <td>N</td>\n",
       "      <td>데이터셋 구분</td>\n",
       "      <td>학습용 Set의 경우 1번 // 평가용 Set의 경우 2번을 부여</td>\n",
       "      <td>NaN</td>\n",
       "    </tr>\n",
       "    <tr>\n",
       "      <th>2</th>\n",
       "      <td>3</td>\n",
       "      <td>SIU_CUST_YN</td>\n",
       "      <td>C</td>\n",
       "      <td>보험사기자여부</td>\n",
       "      <td>Y의 경우 '보험사기자' / N의 경우 '일반고객' /평가용 Set에는 미부여</td>\n",
       "      <td>NaN</td>\n",
       "    </tr>\n",
       "    <tr>\n",
       "      <th>3</th>\n",
       "      <td>4</td>\n",
       "      <td>SEX</td>\n",
       "      <td>N</td>\n",
       "      <td>성별</td>\n",
       "      <td>성별 1은 '남성' 2는 '여성'</td>\n",
       "      <td>NaN</td>\n",
       "    </tr>\n",
       "    <tr>\n",
       "      <th>4</th>\n",
       "      <td>5</td>\n",
       "      <td>AGE</td>\n",
       "      <td>N</td>\n",
       "      <td>연령</td>\n",
       "      <td>고객연령</td>\n",
       "      <td>NaN</td>\n",
       "    </tr>\n",
       "  </tbody>\n",
       "</table>\n",
       "</div>"
      ],
      "text/plain": [
       "   No        변수영문명 변수타입      변수명                                        변수 설명  \\\n",
       "0   1      CUST_ID    N    고객ID                                 고객을 구분하는 고유번호   \n",
       "1   2  DIVIDED_SET    N  데이터셋 구분         학습용 Set의 경우 1번 // 평가용 Set의 경우 2번을 부여   \n",
       "2   3  SIU_CUST_YN    C  보험사기자여부  Y의 경우 '보험사기자' / N의 경우 '일반고객' /평가용 Set에는 미부여   \n",
       "3   4          SEX    N       성별                           성별 1은 '남성' 2는 '여성'   \n",
       "4   5          AGE    N       연령                                         고객연령   \n",
       "\n",
       "            비고  \n",
       "0  비 식별화 조치 시행  \n",
       "1          NaN  \n",
       "2          NaN  \n",
       "3          NaN  \n",
       "4          NaN  "
      ]
     },
     "execution_count": 40,
     "metadata": {},
     "output_type": "execute_result"
    }
   ],
   "source": [
    "data = pd.read_csv('{}convert.csv'.format(file_convert))\n",
    "data.head()"
   ]
  },
  {
   "cell_type": "code",
   "execution_count": null,
   "id": "ff67bd73",
   "metadata": {},
   "outputs": [],
   "source": []
  },
  {
   "cell_type": "code",
   "execution_count": null,
   "id": "edf9348a",
   "metadata": {},
   "outputs": [],
   "source": []
  }
 ],
 "metadata": {
  "kernelspec": {
   "display_name": "Python 3",
   "language": "python",
   "name": "python3"
  },
  "language_info": {
   "codemirror_mode": {
    "name": "ipython",
    "version": 3
   },
   "file_extension": ".py",
   "mimetype": "text/x-python",
   "name": "python",
   "nbconvert_exporter": "python",
   "pygments_lexer": "ipython3",
   "version": "3.9.4"
  }
 },
 "nbformat": 4,
 "nbformat_minor": 5
}
