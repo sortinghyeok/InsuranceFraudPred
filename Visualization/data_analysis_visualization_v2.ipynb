{
 "cells": [
  {
   "cell_type": "markdown",
   "id": "1229a824",
   "metadata": {},
   "source": [
    "## 시각화 및 데이터 분석\n",
    "\n",
    "2021.08.24(화)"
   ]
  },
  {
   "cell_type": "code",
   "execution_count": 1,
   "id": "5e43738b",
   "metadata": {},
   "outputs": [],
   "source": [
    "from sklearn.linear_model import LogisticRegression\n",
    "import matplotlib.pyplot as plt"
   ]
  },
  {
   "cell_type": "code",
   "execution_count": 2,
   "id": "a2d8efc7",
   "metadata": {},
   "outputs": [],
   "source": [
    "# import random undersampling and other necessary libraries \n",
    "import numpy as np\n",
    "import warnings\n",
    "warnings.simplefilter(action='ignore', category=FutureWarning)"
   ]
  },
  {
   "cell_type": "code",
   "execution_count": 3,
   "id": "661cdee9",
   "metadata": {
    "scrolled": true
   },
   "outputs": [
    {
     "name": "stdout",
     "output_type": "stream",
     "text": [
      "(7626, 17)\n",
      "   Unnamed: 0 SIU_CUST_YN  SEX  AGE FP_CAREER  OCCP_GRP  TOTALPREM  \\\n",
      "0           0           N    2    4         N         1         14   \n",
      "1           1           N    1    6         N        11          2   \n",
      "2           2           N    1    5         Y         2         15   \n",
      "3           3           N    1    5         N        17         13   \n",
      "4           4           N    1    5         N         1          3   \n",
      "\n",
      "   MAIN_INSR_AMT_SUM  EXPR_SUM  WORK_YEARS_MIN  EXPR_COUNT  DMND_AMT_SUM  \\\n",
      "0          120266433         0               0           8        141450   \n",
      "1            5000000         0               1           1       1390000   \n",
      "2         1797991770        22               1          24       2480000   \n",
      "3          212274240         3               1           6         72320   \n",
      "4           75256800         3              13           4       1300000   \n",
      "\n",
      "   CLAIM_CNT  TOTAL_VLID_HOSP_OTDA  HOSP_VARIES  HOSP_DVSN_VARIES  \\\n",
      "0          4                     5            2                 2   \n",
      "1          3                     6            3                 2   \n",
      "2         10                    21            4                 3   \n",
      "3          1                     5            1                 1   \n",
      "4          4                    26            2                 2   \n",
      "\n",
      "   CHME_LICE_COUNT  \n",
      "0                1  \n",
      "1                3  \n",
      "2                4  \n",
      "3                1  \n",
      "4                2  \n"
     ]
    }
   ],
   "source": [
    "import pandas as pd\n",
    "df = pd.read_csv(\"insurancedata.csv\")\n",
    "print(df.shape)\n",
    "print(df.head())"
   ]
  },
  {
   "cell_type": "markdown",
   "id": "cce52f2b",
   "metadata": {},
   "source": [
    "## N : 0 / Y : 1 의 각각 비율 확인"
   ]
  },
  {
   "cell_type": "code",
   "execution_count": 4,
   "id": "c0ee4c66",
   "metadata": {
    "scrolled": false
   },
   "outputs": [
    {
     "data": {
      "text/plain": [
       "N    6901\n",
       "Y     725\n",
       "Name: SIU_CUST_YN, dtype: int64"
      ]
     },
     "execution_count": 4,
     "metadata": {},
     "output_type": "execute_result"
    }
   ],
   "source": [
    "df.SIU_CUST_YN.value_counts()"
   ]
  },
  {
   "cell_type": "code",
   "execution_count": 5,
   "id": "37778ece",
   "metadata": {
    "scrolled": false
   },
   "outputs": [
    {
     "name": "stdout",
     "output_type": "stream",
     "text": [
      "N    90.49305\n",
      "Y     9.50695\n",
      "Name: SIU_CUST_YN, dtype: float64\n"
     ]
    },
    {
     "data": {
      "image/png": "[encoded data removed]",
      "text/plain": [
       "<Figure size 432x288 with 1 Axes>"
      ]
     },
     "metadata": {
      "needs_background": "light"
     },
     "output_type": "display_data"
    }
   ],
   "source": [
    "df.SIU_CUST_YN.value_counts(normalize=True).plot(kind='bar', color = \"black\")\n",
    "print(df.SIU_CUST_YN.value_counts(normalize=True)*100)"
   ]
  },
  {
   "cell_type": "markdown",
   "id": "a106c69c",
   "metadata": {},
   "source": [
    "## 데이터 추가정제\n",
    "\n",
    "데이터에 맞춰서 하나만 실행"
   ]
  },
  {
   "cell_type": "code",
   "execution_count": 6,
   "id": "cee662b4",
   "metadata": {},
   "outputs": [],
   "source": [
    "#insurance data\n",
    "\n",
    "df['SIU_CUST_YN'].replace('N', 0, inplace = True)\n",
    "df['SIU_CUST_YN'].replace('Y', 1, inplace = True)\n",
    "df['FP_CAREER'].replace('N', 0, inplace = True)\n",
    "df['FP_CAREER'].replace('Y', 1, inplace = True)\n",
    "df.drop(['Unnamed: 0'], axis=1, inplace = True)\n",
    "df.drop(['EXPR_SUM'], axis=1, inplace = True)\n",
    "df.drop(['TOTALPREM'], axis=1, inplace = True)"
   ]
  },
  {
   "cell_type": "code",
   "execution_count": 7,
   "id": "a6f6bc4e",
   "metadata": {
    "scrolled": true
   },
   "outputs": [
    {
     "data": {
      "text/html": [
       "<div>\n",
       "<style scoped>\n",
       "    .dataframe tbody tr th:only-of-type {\n",
       "        vertical-align: middle;\n",
       "    }\n",
       "\n",
       "    .dataframe tbody tr th {\n",
       "        vertical-align: top;\n",
       "    }\n",
       "\n",
       "    .dataframe thead th {\n",
       "        text-align: right;\n",
       "    }\n",
       "</style>\n",
       "<table border=\"1\" class=\"dataframe\">\n",
       "  <thead>\n",
       "    <tr style=\"text-align: right;\">\n",
       "      <th></th>\n",
       "      <th>SIU_CUST_YN</th>\n",
       "      <th>SEX</th>\n",
       "      <th>AGE</th>\n",
       "      <th>FP_CAREER</th>\n",
       "      <th>OCCP_GRP</th>\n",
       "      <th>MAIN_INSR_AMT_SUM</th>\n",
       "      <th>WORK_YEARS_MIN</th>\n",
       "      <th>EXPR_COUNT</th>\n",
       "      <th>DMND_AMT_SUM</th>\n",
       "      <th>CLAIM_CNT</th>\n",
       "      <th>TOTAL_VLID_HOSP_OTDA</th>\n",
       "      <th>HOSP_VARIES</th>\n",
       "      <th>HOSP_DVSN_VARIES</th>\n",
       "      <th>CHME_LICE_COUNT</th>\n",
       "    </tr>\n",
       "  </thead>\n",
       "  <tbody>\n",
       "    <tr>\n",
       "      <th>0</th>\n",
       "      <td>0</td>\n",
       "      <td>2</td>\n",
       "      <td>4</td>\n",
       "      <td>0</td>\n",
       "      <td>1</td>\n",
       "      <td>120266433</td>\n",
       "      <td>0</td>\n",
       "      <td>8</td>\n",
       "      <td>141450</td>\n",
       "      <td>4</td>\n",
       "      <td>5</td>\n",
       "      <td>2</td>\n",
       "      <td>2</td>\n",
       "      <td>1</td>\n",
       "    </tr>\n",
       "    <tr>\n",
       "      <th>1</th>\n",
       "      <td>0</td>\n",
       "      <td>1</td>\n",
       "      <td>6</td>\n",
       "      <td>0</td>\n",
       "      <td>11</td>\n",
       "      <td>5000000</td>\n",
       "      <td>1</td>\n",
       "      <td>1</td>\n",
       "      <td>1390000</td>\n",
       "      <td>3</td>\n",
       "      <td>6</td>\n",
       "      <td>3</td>\n",
       "      <td>2</td>\n",
       "      <td>3</td>\n",
       "    </tr>\n",
       "    <tr>\n",
       "      <th>2</th>\n",
       "      <td>0</td>\n",
       "      <td>1</td>\n",
       "      <td>5</td>\n",
       "      <td>1</td>\n",
       "      <td>2</td>\n",
       "      <td>1797991770</td>\n",
       "      <td>1</td>\n",
       "      <td>24</td>\n",
       "      <td>2480000</td>\n",
       "      <td>10</td>\n",
       "      <td>21</td>\n",
       "      <td>4</td>\n",
       "      <td>3</td>\n",
       "      <td>4</td>\n",
       "    </tr>\n",
       "    <tr>\n",
       "      <th>3</th>\n",
       "      <td>0</td>\n",
       "      <td>1</td>\n",
       "      <td>5</td>\n",
       "      <td>0</td>\n",
       "      <td>17</td>\n",
       "      <td>212274240</td>\n",
       "      <td>1</td>\n",
       "      <td>6</td>\n",
       "      <td>72320</td>\n",
       "      <td>1</td>\n",
       "      <td>5</td>\n",
       "      <td>1</td>\n",
       "      <td>1</td>\n",
       "      <td>1</td>\n",
       "    </tr>\n",
       "    <tr>\n",
       "      <th>4</th>\n",
       "      <td>0</td>\n",
       "      <td>1</td>\n",
       "      <td>5</td>\n",
       "      <td>0</td>\n",
       "      <td>1</td>\n",
       "      <td>75256800</td>\n",
       "      <td>13</td>\n",
       "      <td>4</td>\n",
       "      <td>1300000</td>\n",
       "      <td>4</td>\n",
       "      <td>26</td>\n",
       "      <td>2</td>\n",
       "      <td>2</td>\n",
       "      <td>2</td>\n",
       "    </tr>\n",
       "  </tbody>\n",
       "</table>\n",
       "</div>"
      ],
      "text/plain": [
       "   SIU_CUST_YN  SEX  AGE  FP_CAREER  OCCP_GRP  MAIN_INSR_AMT_SUM  \\\n",
       "0            0    2    4          0         1          120266433   \n",
       "1            0    1    6          0        11            5000000   \n",
       "2            0    1    5          1         2         1797991770   \n",
       "3            0    1    5          0        17          212274240   \n",
       "4            0    1    5          0         1           75256800   \n",
       "\n",
       "   WORK_YEARS_MIN  EXPR_COUNT  DMND_AMT_SUM  CLAIM_CNT  TOTAL_VLID_HOSP_OTDA  \\\n",
       "0               0           8        141450          4                     5   \n",
       "1               1           1       1390000          3                     6   \n",
       "2               1          24       2480000         10                    21   \n",
       "3               1           6         72320          1                     5   \n",
       "4              13           4       1300000          4                    26   \n",
       "\n",
       "   HOSP_VARIES  HOSP_DVSN_VARIES  CHME_LICE_COUNT  \n",
       "0            2                 2                1  \n",
       "1            3                 2                3  \n",
       "2            4                 3                4  \n",
       "3            1                 1                1  \n",
       "4            2                 2                2  "
      ]
     },
     "execution_count": 7,
     "metadata": {},
     "output_type": "execute_result"
    }
   ],
   "source": [
    "df.head()"
   ]
  },
  {
   "cell_type": "code",
   "execution_count": 8,
   "id": "e00590ca",
   "metadata": {},
   "outputs": [],
   "source": [
    "X = df.iloc[:,1:] # SIU_CUST_YN을 제외한 모든 cloumn\n",
    "y = df.iloc[:,0] # SIU_CUST_YN"
   ]
  },
  {
   "cell_type": "code",
   "execution_count": 9,
   "id": "dcd02b7c",
   "metadata": {
    "scrolled": true
   },
   "outputs": [
    {
     "name": "stdout",
     "output_type": "stream",
     "text": [
      "<class 'numpy.ndarray'>\n"
     ]
    }
   ],
   "source": [
    "# 데이터에 StartifiedKFold를 적용하기 위해서 nd.array형태로 데이터 변환\n",
    "X = X.to_numpy()\n",
    "print(type(X))"
   ]
  },
  {
   "cell_type": "code",
   "execution_count": 10,
   "id": "870935bc",
   "metadata": {
    "scrolled": false
   },
   "outputs": [
    {
     "name": "stdout",
     "output_type": "stream",
     "text": [
      "4\n",
      "TRAIN: [1899 1900 1901 ... 7623 7624 7625] TEST: [   0    1    2 ... 1940 1942 1943]\n",
      "Before Sampling:  Counter({0: 5175, 1: 544})\n",
      "After oversampling(ADASYN):  Counter({0: 5175, 1: 5175})\n",
      "score = 0.8715259570005244\n",
      "coef = [[-7.31578879e-05 -4.23620294e-01 -1.44890115e-01 -1.05743591e-01\n",
      "   4.28712836e-01 -1.66355384e-01 -1.84214751e-01  6.53469422e-01\n",
      "  -5.31303607e-01  3.39808074e+00 -3.52523476e-01  1.10966188e-01\n",
      "   8.21543096e-01]]\n",
      "x_result = [[0.87706643 0.12293357]\n",
      " [0.93261152 0.06738848]\n",
      " [0.54050775 0.45949225]\n",
      " ...\n",
      " [0.21093991 0.78906009]\n",
      " [0.7148357  0.2851643 ]\n",
      " [0.05363171 0.94636829]]\n",
      "result\n",
      "---------------------------\n",
      "accuracy: 0.87\n",
      "precision: 0.38\n",
      "recall: 0.55\n",
      "F1: 0.45\n"
     ]
    },
    {
     "data": {
      "image/png": "[encoded data removed]",
      "text/plain": [
       "<Figure size 432x360 with 2 Axes>"
      ]
     },
     "metadata": {
      "needs_background": "light"
     },
     "output_type": "display_data"
    },
    {
     "name": "stdout",
     "output_type": "stream",
     "text": [
      "TRAIN: [   0    1    2 ... 7623 7624 7625] TEST: [1899 1900 1901 ... 4041 4054 4058]\n",
      "Before Sampling:  Counter({0: 5176, 1: 543})\n",
      "After oversampling(ADASYN):  Counter({0: 5176, 1: 5176})\n",
      "score = 0.8914525432616676\n",
      "coef = [[-0.02612822 -0.44820752 -0.2599419  -0.22618507  0.36877551 -0.20309525\n",
      "  -0.22062877  0.13190971 -1.00270209  3.07452899  1.91333812 -0.60556838\n",
      "   0.36399106]]\n",
      "x_result = [[0.89247345 0.10752655]\n",
      " [0.55417399 0.44582601]\n",
      " [0.85353877 0.14646123]\n",
      " ...\n",
      " [0.32552244 0.67447756]\n",
      " [0.28478197 0.71521803]\n",
      " [0.378313   0.621687  ]]\n",
      "result\n",
      "---------------------------\n",
      "accuracy: 0.89\n",
      "precision: 0.45\n",
      "recall: 0.64\n",
      "F1: 0.53\n"
     ]
    },
    {
     "data": {
      "image/png": "[encoded data removed]",
      "text/plain": [
       "<Figure size 432x360 with 2 Axes>"
      ]
     },
     "metadata": {
      "needs_background": "light"
     },
     "output_type": "display_data"
    },
    {
     "name": "stdout",
     "output_type": "stream",
     "text": [
      "TRAIN: [   0    1    2 ... 7623 7624 7625] TEST: [3782 3783 3784 ... 5804 5815 5820]\n",
      "Before Sampling:  Counter({0: 5176, 1: 544})\n",
      "After oversampling(ADASYN):  Counter({0: 5176, 1: 5176})\n",
      "score = 0.8793284365162645\n",
      "coef = [[-0.1671069  -0.44486451 -0.03207781 -0.1855444   0.38658395 -0.09012855\n",
      "  -0.1621682   0.92610279 -1.59130589  3.65112339 -0.11875423 -0.05605234\n",
      "   1.8283001 ]]\n",
      "x_result = [[6.65384013e-01 3.34615987e-01]\n",
      " [7.78362983e-01 2.21637017e-01]\n",
      " [8.14470513e-01 1.85529487e-01]\n",
      " ...\n",
      " [2.61270456e-01 7.38729544e-01]\n",
      " [1.58671788e-06 9.99998413e-01]\n",
      " [7.45958761e-01 2.54041239e-01]]\n",
      "result\n",
      "---------------------------\n",
      "accuracy: 0.88\n",
      "precision: 0.40\n",
      "recall: 0.53\n",
      "F1: 0.45\n"
     ]
    },
    {
     "data": {
      "image/png": "[encoded data removed]",
      "text/plain": [
       "<Figure size 432x360 with 2 Axes>"
      ]
     },
     "metadata": {
      "needs_background": "light"
     },
     "output_type": "display_data"
    },
    {
     "name": "stdout",
     "output_type": "stream",
     "text": [
      "TRAIN: [   0    1    2 ... 5804 5815 5820] TEST: [5710 5711 5712 ... 7623 7624 7625]\n",
      "Before Sampling:  Counter({0: 5176, 1: 544})\n",
      "After oversampling(ADASYN):  Counter({0: 5176, 1: 5176})\n",
      "score = 0.8856243441762854\n",
      "coef = [[-0.12803534 -0.51305047  0.02903703 -0.18964134  0.35620272 -0.11036259\n",
      "  -0.11234577  0.02921453 -1.06792919  4.58050303 -0.04163617 -0.11424218\n",
      "   1.33289907]]\n",
      "x_result = [[0.89141284 0.10858716]\n",
      " [0.91746304 0.08253696]\n",
      " [0.59024537 0.40975463]\n",
      " ...\n",
      " [0.93208449 0.06791551]\n",
      " [0.86675555 0.13324445]\n",
      " [0.18863911 0.81136089]]\n",
      "result\n",
      "---------------------------\n",
      "accuracy: 0.89\n",
      "precision: 0.42\n",
      "recall: 0.56\n",
      "F1: 0.48\n"
     ]
    },
    {
     "data": {
      "image/png": "[encoded data removed]",
      "text/plain": [
       "<Figure size 432x360 with 2 Axes>"
      ]
     },
     "metadata": {
      "needs_background": "light"
     },
     "output_type": "display_data"
    }
   ],
   "source": [
    "from sklearn.preprocessing import StandardScaler\n",
    "from sklearn.model_selection import StratifiedKFold\n",
    "\n",
    "from collections import Counter\n",
    "from imblearn.over_sampling import SVMSMOTE\n",
    "from sklearn.preprocessing import StandardScaler\n",
    "from sklearn.linear_model import LogisticRegression\n",
    "\n",
    "from sklearn.metrics import confusion_matrix, accuracy_score,precision_score,recall_score,f1_score\n",
    "\n",
    "model = LogisticRegression()\n",
    "\n",
    "SK_fold = StratifiedKFold(n_splits=4)\n",
    "print(SK_fold.get_n_splits(df, df['SIU_CUST_YN']))\n",
    "\n",
    "result_data = []\n",
    "answers=[]\n",
    "result_y = []\n",
    "\n",
    "\n",
    "accuracy = []\n",
    "precision = []\n",
    "recall = []\n",
    "fscore = []\n",
    "train_idx = []\n",
    "test_idx = []\n",
    "\n",
    "for train_index, test_index in SK_fold.split(X,y):\n",
    "    print(\"TRAIN:\", train_index, \"TEST:\", test_index)\n",
    "    train_idx.append(train_index)\n",
    "    test_idx.append(test_index)\n",
    "    X_train, X_test = X[train_index], X[test_index]\n",
    "    y_train, y_test = y[train_index], y[test_index]\n",
    "    \n",
    "    #SVMSOMTE -> 오버샘플링 기법\n",
    "    SVMSOMTE = SVMSMOTE()\n",
    "    X_train_SVMSOMTE, y_train_SVMSOMTE = SVMSOMTE.fit_resample(X_train, y_train)\n",
    "    \n",
    "    print(\"Before Sampling: \",Counter(y_train))\n",
    "    print(\"After oversampling(ADASYN): \",Counter(y_train_SVMSOMTE))\n",
    "    \n",
    "    # 해당 변수를 설정해서 Sampling 방식 선택 후 머신러닝 실행\n",
    "    X_train_sampling = X_train_SVMSOMTE\n",
    "    y_train_sampling = y_train_SVMSOMTE\n",
    "    \n",
    "    scaler = StandardScaler()\n",
    "    X_train_sampling = scaler.fit_transform(X_train_sampling)\n",
    "    X_test = scaler.transform(X_test)\n",
    "    \n",
    "    # 학습 알고리즘 예시 (LogisticRegressiong - 로지스틱 회귀분석)\n",
    "    model.fit(X_train_sampling, y_train_sampling)\n",
    "    \n",
    "    # sklearn에서 제공하는 score값\n",
    "    print('score =', model.score(X_test, y_test))\n",
    "    \n",
    "    # 각 속성별 가중치 -> 절대값으로 보면됨.\n",
    "    print('coef =', model.coef_)\n",
    "    \n",
    "    print('x_result =', model.predict_proba(X_test))\n",
    "    \n",
    "    \n",
    "    result_data.append(model.predict_proba(X_test)[:,1:])\n",
    "    answers.append(y_test)\n",
    "    \n",
    "    predict_X = model.predict(X_test)\n",
    "    result_y.append(model.predict(X_test))\n",
    "    \n",
    "    print('result')\n",
    "    print(\"---------------------------\")\n",
    "    print('accuracy: %.2f' % accuracy_score(y_test, predict_X))\n",
    "    print('precision: %.2f' % precision_score(y_test, predict_X))\n",
    "    print('recall: %.2f' % recall_score(y_test, predict_X))\n",
    "    print('F1: %.2f' % f1_score(y_test, predict_X))\n",
    "    \n",
    "    \n",
    "    accuracy.append(accuracy_score(y_test, predict_X))\n",
    "    precision.append(precision_score(y_test, predict_X))\n",
    "    recall.append(recall_score(y_test, predict_X))\n",
    "    fscore.append(f1_score(y_test, predict_X))\n",
    "    \n",
    "    import seaborn as sns\n",
    "    confusion = confusion_matrix(y_true = y_test\n",
    "                             , y_pred = predict_X)\n",
    "\n",
    "    plt.figure(figsize=(6, 5))\n",
    "    sns.heatmap(confusion, annot=True, annot_kws={'size':15}, cmap='OrRd', fmt='.10g')\n",
    "    plt.title('Confusion Matrix')\n",
    "    plt.show()"
   ]
  },
  {
   "cell_type": "markdown",
   "id": "68d58b06",
   "metadata": {},
   "source": [
    "## 교차검증 평균 값"
   ]
  },
  {
   "cell_type": "code",
   "execution_count": 11,
   "id": "28360c6d",
   "metadata": {},
   "outputs": [],
   "source": [
    "import itertools\n",
    "answers = list(itertools.chain.from_iterable(answers))\n",
    "result_y = list(itertools.chain.from_iterable(result_y))"
   ]
  },
  {
   "cell_type": "code",
   "execution_count": 12,
   "id": "e9199f6c",
   "metadata": {},
   "outputs": [],
   "source": [
    "confusion = confusion_matrix(y_true = result_y\n",
    "                             , y_pred = answers)"
   ]
  },
  {
   "cell_type": "code",
   "execution_count": 13,
   "id": "27a6b10f",
   "metadata": {
    "scrolled": false
   },
   "outputs": [
    {
     "data": {
      "image/png": "[encoded data removed]",
      "text/plain": [
       "<Figure size 432x360 with 2 Axes>"
      ]
     },
     "metadata": {
      "needs_background": "light"
     },
     "output_type": "display_data"
    }
   ],
   "source": [
    "plt.figure(figsize=(6, 5))\n",
    "sns.heatmap(confusion, annot=True, annot_kws={'size':15}, cmap='OrRd', fmt='.10g')\n",
    "plt.title('Confusion Matrix')\n",
    "plt.show()"
   ]
  },
  {
   "cell_type": "code",
   "execution_count": 14,
   "id": "48dcda9d",
   "metadata": {
    "scrolled": false
   },
   "outputs": [
    {
     "name": "stdout",
     "output_type": "stream",
     "text": [
      "mean\n",
      "---------------------------\n",
      "accuracy: 0.88\n",
      "precision: 0.41\n",
      "recall: 0.57\n",
      "F1: 0.48\n"
     ]
    }
   ],
   "source": [
    "print('mean')\n",
    "print(\"---------------------------\")\n",
    "print('accuracy: %.2f' % (sum(accuracy)/len(accuracy)))\n",
    "print('precision: %.2f' % (sum(precision)/len(precision)))\n",
    "print('recall: %.2f' % (sum(recall)/len(recall)))\n",
    "print('F1: %.2f' % (sum(fscore)/len(fscore)))"
   ]
  },
  {
   "cell_type": "markdown",
   "id": "62be5c36",
   "metadata": {},
   "source": [
    "## 데이터 확인 및 정제"
   ]
  },
  {
   "cell_type": "code",
   "execution_count": 15,
   "id": "17cda78f",
   "metadata": {},
   "outputs": [],
   "source": [
    "result_data = list(itertools.chain.from_iterable(result_data))\n",
    "result_data = list(map(float, result_data))"
   ]
  },
  {
   "cell_type": "code",
   "execution_count": 16,
   "id": "6d7b5c0f",
   "metadata": {},
   "outputs": [],
   "source": [
    "# datas => 정답여부 \n",
    "# test_idx => test_index의 index number\n",
    "# answers => y_test(정답)\n",
    "# result_data => train 후 test_X를 활용해 예측된 결과값\n",
    "\n",
    "datas = []\n",
    "for i in range(len(answers)):\n",
    "    if answers[i] == 1:\n",
    "        if result_data[i] >=0.5:\n",
    "            datas.append(1)\n",
    "        else :\n",
    "            datas.append(0)\n",
    "            \n",
    "    elif answers[i] == 0:\n",
    "        if result_data[i] <0.5:\n",
    "            datas.append(1)\n",
    "        else :\n",
    "            datas.append(0)\n",
    "        "
   ]
  },
  {
   "cell_type": "code",
   "execution_count": 17,
   "id": "4e7fe1a7",
   "metadata": {},
   "outputs": [],
   "source": [
    "status = []\n",
    "for i in range(len(answers)):\n",
    "    if result_data[i] <0.5:\n",
    "        status.append('주의')\n",
    "    elif result_data[i] <0.7:\n",
    "        status.append('경계')\n",
    "    else:\n",
    "        status.append('위험')\n",
    "            "
   ]
  },
  {
   "cell_type": "code",
   "execution_count": 18,
   "id": "a4f99413",
   "metadata": {},
   "outputs": [
    {
     "name": "stdout",
     "output_type": "stream",
     "text": [
      "7626 7626 7626 7626\n"
     ]
    }
   ],
   "source": [
    "print(len(answers), len(result_data), len(datas), len(status))"
   ]
  },
  {
   "cell_type": "code",
   "execution_count": 19,
   "id": "da024af1",
   "metadata": {},
   "outputs": [
    {
     "name": "stdout",
     "output_type": "stream",
     "text": [
      "<class 'list'> <class 'int'>\n",
      "<class 'list'> <class 'float'>\n",
      "<class 'list'> <class 'int'>\n",
      "<class 'list'> <class 'str'>\n"
     ]
    }
   ],
   "source": [
    "print(type(answers), type(answers[0]))\n",
    "print(type(result_data), type(result_data[0]))\n",
    "print(type(datas), type(datas[0]))\n",
    "print(type(status), type(status[0]))"
   ]
  },
  {
   "cell_type": "code",
   "execution_count": 20,
   "id": "f69172cb",
   "metadata": {},
   "outputs": [],
   "source": [
    "df_result = pd.DataFrame({'answers':answers,'result_data':result_data,'datas':datas, 'status':status})"
   ]
  },
  {
   "cell_type": "code",
   "execution_count": 21,
   "id": "4c681f0c",
   "metadata": {
    "scrolled": true
   },
   "outputs": [
    {
     "data": {
      "text/html": [
       "<div>\n",
       "<style scoped>\n",
       "    .dataframe tbody tr th:only-of-type {\n",
       "        vertical-align: middle;\n",
       "    }\n",
       "\n",
       "    .dataframe tbody tr th {\n",
       "        vertical-align: top;\n",
       "    }\n",
       "\n",
       "    .dataframe thead th {\n",
       "        text-align: right;\n",
       "    }\n",
       "</style>\n",
       "<table border=\"1\" class=\"dataframe\">\n",
       "  <thead>\n",
       "    <tr style=\"text-align: right;\">\n",
       "      <th></th>\n",
       "      <th>answers</th>\n",
       "      <th>result_data</th>\n",
       "      <th>datas</th>\n",
       "      <th>status</th>\n",
       "    </tr>\n",
       "  </thead>\n",
       "  <tbody>\n",
       "    <tr>\n",
       "      <th>0</th>\n",
       "      <td>0</td>\n",
       "      <td>0.122934</td>\n",
       "      <td>1</td>\n",
       "      <td>주의</td>\n",
       "    </tr>\n",
       "    <tr>\n",
       "      <th>1</th>\n",
       "      <td>0</td>\n",
       "      <td>0.067388</td>\n",
       "      <td>1</td>\n",
       "      <td>주의</td>\n",
       "    </tr>\n",
       "    <tr>\n",
       "      <th>2</th>\n",
       "      <td>0</td>\n",
       "      <td>0.459492</td>\n",
       "      <td>1</td>\n",
       "      <td>주의</td>\n",
       "    </tr>\n",
       "    <tr>\n",
       "      <th>3</th>\n",
       "      <td>0</td>\n",
       "      <td>0.083928</td>\n",
       "      <td>1</td>\n",
       "      <td>주의</td>\n",
       "    </tr>\n",
       "    <tr>\n",
       "      <th>4</th>\n",
       "      <td>0</td>\n",
       "      <td>0.109198</td>\n",
       "      <td>1</td>\n",
       "      <td>주의</td>\n",
       "    </tr>\n",
       "    <tr>\n",
       "      <th>...</th>\n",
       "      <td>...</td>\n",
       "      <td>...</td>\n",
       "      <td>...</td>\n",
       "      <td>...</td>\n",
       "    </tr>\n",
       "    <tr>\n",
       "      <th>7621</th>\n",
       "      <td>0</td>\n",
       "      <td>0.147127</td>\n",
       "      <td>1</td>\n",
       "      <td>주의</td>\n",
       "    </tr>\n",
       "    <tr>\n",
       "      <th>7622</th>\n",
       "      <td>0</td>\n",
       "      <td>0.137403</td>\n",
       "      <td>1</td>\n",
       "      <td>주의</td>\n",
       "    </tr>\n",
       "    <tr>\n",
       "      <th>7623</th>\n",
       "      <td>0</td>\n",
       "      <td>0.067916</td>\n",
       "      <td>1</td>\n",
       "      <td>주의</td>\n",
       "    </tr>\n",
       "    <tr>\n",
       "      <th>7624</th>\n",
       "      <td>0</td>\n",
       "      <td>0.133244</td>\n",
       "      <td>1</td>\n",
       "      <td>주의</td>\n",
       "    </tr>\n",
       "    <tr>\n",
       "      <th>7625</th>\n",
       "      <td>0</td>\n",
       "      <td>0.811361</td>\n",
       "      <td>0</td>\n",
       "      <td>위험</td>\n",
       "    </tr>\n",
       "  </tbody>\n",
       "</table>\n",
       "<p>7626 rows × 4 columns</p>\n",
       "</div>"
      ],
      "text/plain": [
       "      answers  result_data  datas status\n",
       "0           0     0.122934      1     주의\n",
       "1           0     0.067388      1     주의\n",
       "2           0     0.459492      1     주의\n",
       "3           0     0.083928      1     주의\n",
       "4           0     0.109198      1     주의\n",
       "...       ...          ...    ...    ...\n",
       "7621        0     0.147127      1     주의\n",
       "7622        0     0.137403      1     주의\n",
       "7623        0     0.067916      1     주의\n",
       "7624        0     0.133244      1     주의\n",
       "7625        0     0.811361      0     위험\n",
       "\n",
       "[7626 rows x 4 columns]"
      ]
     },
     "execution_count": 21,
     "metadata": {},
     "output_type": "execute_result"
    }
   ],
   "source": [
    "df_result\n",
    "# column 조치사항 '주의'(0.0~0.5),'경계'(0.5~0.7),'위험'(0,7~1.0)"
   ]
  },
  {
   "cell_type": "code",
   "execution_count": 22,
   "id": "ab801854",
   "metadata": {},
   "outputs": [],
   "source": [
    "df_result.to_csv('result.csv')"
   ]
  },
  {
   "cell_type": "markdown",
   "id": "f6d3a8b6",
   "metadata": {},
   "source": [
    "## 결과 데이터 정제"
   ]
  },
  {
   "cell_type": "code",
   "execution_count": 23,
   "id": "0c7c6b1a",
   "metadata": {},
   "outputs": [],
   "source": [
    "y1 = np.array([0 for i in range(10)])\n",
    "count = 0\n",
    "for i in df_result['datas']:\n",
    "    if i==1 and df_result['result_data'][count] < 0.1 :\n",
    "        y1[0] +=1\n",
    "    elif i==1 and df_result['result_data'][count] < 0.2 :\n",
    "        y1[1] +=1\n",
    "    elif i==1 and df_result['result_data'][count] < 0.3 :\n",
    "        y1[2] +=1\n",
    "    elif i==1 and df_result['result_data'][count] < 0.4 :\n",
    "        y1[3] +=1\n",
    "    elif i==1 and df_result['result_data'][count] < 0.5 :\n",
    "        y1[4] +=1\n",
    "    elif i==1 and df_result['result_data'][count] < 0.6 :\n",
    "        y1[5] +=1\n",
    "    elif i==1 and df_result['result_data'][count] < 0.7 :\n",
    "        y1[6] +=1\n",
    "    elif i==1 and df_result['result_data'][count] < 0.8 :\n",
    "        y1[7] +=1\n",
    "    elif i==1 and df_result['result_data'][count] < 0.9 :\n",
    "        y1[8] +=1\n",
    "    elif i==1 and df_result['result_data'][count] <= 1 :\n",
    "        y1[9] +=1\n",
    "    count+=1"
   ]
  },
  {
   "cell_type": "code",
   "execution_count": 24,
   "id": "c4713904",
   "metadata": {},
   "outputs": [],
   "source": [
    "y3 = np.array([0 for i in range(10)])\n",
    "count = 0\n",
    "for i in df_result['datas']:\n",
    "    if i==0 and df_result['result_data'][count] < 0.1 :\n",
    "        y3[0] +=1\n",
    "    elif i==0 and df_result['result_data'][count] < 0.2 :\n",
    "        y3[1] +=1\n",
    "    elif i==0 and df_result['result_data'][count] < 0.3 :\n",
    "        y3[2] +=1\n",
    "    elif i==0 and df_result['result_data'][count] < 0.4 :\n",
    "        y3[3] +=1\n",
    "    elif i==0 and df_result['result_data'][count] < 0.5 :\n",
    "        y3[4] +=1\n",
    "    elif i==0 and df_result['result_data'][count] < 0.6 :\n",
    "        y3[5] +=1\n",
    "    elif i==0 and df_result['result_data'][count] < 0.7 :\n",
    "        y3[6] +=1\n",
    "    elif i==0 and df_result['result_data'][count] < 0.8 :\n",
    "        y3[7] +=1\n",
    "    elif i==0 and df_result['result_data'][count] < 0.9 :\n",
    "        y3[8] +=1\n",
    "    elif i==0 and df_result['result_data'][count] <= 1 :\n",
    "        y3[9] +=1\n",
    "    count+=1"
   ]
  },
  {
   "cell_type": "code",
   "execution_count": 25,
   "id": "ac275ff7",
   "metadata": {},
   "outputs": [],
   "source": [
    "y2 =  np.array([0 for i in range(10)])\n",
    "count = 0\n",
    "for i in df_result['datas']:\n",
    "    if df_result['result_data'][count] < 0.1 :\n",
    "        y2[0] +=1\n",
    "    elif df_result['result_data'][count] < 0.2 :\n",
    "        y2[1] +=1\n",
    "    elif df_result['result_data'][count] < 0.3 :\n",
    "        y2[2] +=1\n",
    "    elif df_result['result_data'][count] < 0.4 :\n",
    "        y2[3]+=1\n",
    "    elif df_result['result_data'][count] < 0.5 :\n",
    "        y2[4] +=1\n",
    "    elif df_result['result_data'][count] < 0.6 :\n",
    "        y2[5] +=1\n",
    "    elif df_result['result_data'][count] < 0.7 :\n",
    "        y2[6] +=1\n",
    "    elif df_result['result_data'][count] < 0.8 :\n",
    "        y2[7] +=1\n",
    "    elif df_result['result_data'][count] < 0.9 :\n",
    "        y2[8] +=1\n",
    "    elif df_result['result_data'][count] <= 1:\n",
    "        y2[9] +=1\n",
    "    count+=1"
   ]
  },
  {
   "cell_type": "code",
   "execution_count": 26,
   "id": "5e257193",
   "metadata": {},
   "outputs": [],
   "source": [
    "df = pd.DataFrame({'correct':y1,'all':y2,'wrong':y3})"
   ]
  },
  {
   "cell_type": "markdown",
   "id": "b0dc285f",
   "metadata": {},
   "source": [
    "## 데이터 시각화"
   ]
  },
  {
   "cell_type": "code",
   "execution_count": 27,
   "id": "a086326a",
   "metadata": {},
   "outputs": [],
   "source": [
    "x =  np.array([i for i in range(10)])"
   ]
  },
  {
   "cell_type": "code",
   "execution_count": 28,
   "id": "83316a3d",
   "metadata": {},
   "outputs": [
    {
     "data": {
      "image/png": "[encoded data removed]",
      "text/plain": [
       "<Figure size 720x720 with 1 Axes>"
      ]
     },
     "metadata": {
      "needs_background": "light"
     },
     "output_type": "display_data"
    }
   ],
   "source": [
    "# 예측한 전체 데이터 갯수\n",
    "\n",
    "tick_size = 13 ## 눈금 폰트 사이즈\n",
    "axis_label_size = 15 ## x축, y축 폰트 사이즈\n",
    "\n",
    "fig = plt.figure(figsize=(10,10)) ## Figure 생성 사이즈는 10 by 10\n",
    "ax = fig.add_subplot() ## Axes 추가\n",
    "bars = plt.bar(x,y2, width=0.5, color = 'orange')\n",
    "plt.xlabel('result')\n",
    "plt.ylabel('count')\n",
    "\n",
    "for i, b in enumerate(bars):\n",
    "    ax.text(b.get_x()+b.get_width()*(1/2),b.get_height()+0.1, \\\n",
    "                y2[i],ha='center',fontsize=13)\n",
    "xtick_label_position = list(range(len(x)))\n",
    "plt.xticks(xtick_label_position, x, fontsize=tick_size)\n",
    "\n",
    "plt.show()"
   ]
  },
  {
   "cell_type": "code",
   "execution_count": 32,
   "id": "a7478523",
   "metadata": {},
   "outputs": [
    {
     "data": {
      "image/png": "[encoded data removed]",
      "text/plain": [
       "<Figure size 720x720 with 1 Axes>"
      ]
     },
     "metadata": {
      "needs_background": "light"
     },
     "output_type": "display_data"
    }
   ],
   "source": [
    "# 정답 갯수\n",
    "\n",
    "tick_size = 13 ## 눈금 폰트 사이즈\n",
    "axis_label_size = 15 ## x축, y축 폰트 사이즈\n",
    "\n",
    "fig = plt.figure(figsize=(10,10)) ## Figure 생성 사이즈는 10 by 10\n",
    "ax = fig.add_subplot() ## Axes 추가\n",
    "bars = plt.bar(x,y1, width=0.5, color ='green')\n",
    "plt.xlabel('result')\n",
    "plt.ylabel('count')\n",
    "\n",
    "for i, b in enumerate(bars):\n",
    "    ax.text(b.get_x()+b.get_width()*(1/2),b.get_height()+0.1, \\\n",
    "                y1[i],ha='center',fontsize=13)\n",
    "xtick_label_position = list(range(len(x)))\n",
    "plt.xticks(xtick_label_position, x, fontsize=tick_size)\n",
    "\n",
    "plt.show()"
   ]
  },
  {
   "cell_type": "code",
   "execution_count": null,
   "id": "2c94f8a2",
   "metadata": {},
   "outputs": [],
   "source": [
    "# 오답 갯수\n",
    "\n",
    "tick_size = 13 ## 눈금 폰트 사이즈\n",
    "axis_label_size = 15 ## x축, y축 폰트 사이즈\n",
    "\n",
    "fig = plt.figure(figsize=(10,10)) ## Figure 생성 사이즈는 10 by 10\n",
    "ax = fig.add_subplot() ## Axes 추가\n",
    "bars = plt.bar(x,y3, width=0.5, color ='blue')\n",
    "plt.xlabel('result')\n",
    "plt.ylabel('count')\n",
    "\n",
    "for i, b in enumerate(bars):\n",
    "    ax.text(b.get_x()+b.get_width()*(1/2),b.get_height()+0.1, \\\n",
    "                y3[i],ha='center',fontsize=13)\n",
    "xtick_label_position = list(range(len(x)))\n",
    "plt.xticks(xtick_label_position, x, fontsize=tick_size)\n",
    "\n",
    "plt.show()"
   ]
  },
  {
   "cell_type": "code",
   "execution_count": 30,
   "id": "fce19779",
   "metadata": {},
   "outputs": [
    {
     "data": {
      "image/png": "[encoded data removed]",
      "text/plain": [
       "<Figure size 720x720 with 1 Axes>"
      ]
     },
     "metadata": {
      "needs_background": "light"
     },
     "output_type": "display_data"
    }
   ],
   "source": [
    "import matplotlib.pyplot as plt\n",
    "# 주황으로 보이는 부분이 오답이라고 생각하면 됨.\n",
    "\n",
    "tick_size = 13 ## 눈금 폰트 사이즈\n",
    "axis_label_size = 15 ## x축, y축 폰트 사이즈\n",
    "\n",
    "fig = plt.figure(figsize=(10,10)) ## Figure 생성 사이즈는 10 by 10\n",
    "ax = fig.add_subplot() ## Axes 추가\n",
    "bars = plt.bar(x,y2, width=0.5, color = 'orange')\n",
    "bars2 = plt.bar(x,y1, width=0.5, color ='green')\n",
    "plt.xlabel('result')\n",
    "plt.ylabel('count')\n",
    "\n",
    "for i, b in enumerate(bars2):\n",
    "    ax.text(b.get_x()+b.get_width()*(1/2),b.get_height()+0.1, \\\n",
    "                y2[i]-y1[i],ha='center',fontsize=13)\n",
    "    \n",
    "xtick_label_position = list(range(len(x)))\n",
    "plt.xticks(xtick_label_position, x, fontsize=tick_size)\n",
    "\n",
    "plt.show()"
   ]
  },
  {
   "cell_type": "code",
   "execution_count": 31,
   "id": "6e949892",
   "metadata": {},
   "outputs": [
    {
     "data": {
      "image/png": "[encoded data removed]",
      "text/plain": [
       "<Figure size 432x288 with 1 Axes>"
      ]
     },
     "metadata": {
      "needs_background": "light"
     },
     "output_type": "display_data"
    }
   ],
   "source": [
    "import matplotlib.pyplot as plt\n",
    "from matplotlib import rc\n",
    "%matplotlib inline\n",
    "rc('font', family='AppleGothic')\n",
    "\n",
    "# 주황으로 보이는 부분이 오답이라고 생각하면 됨.\n",
    "bins = np.arange(4) - 0.5\n",
    "ys, xs, patches = plt.hist(df_result['status'], color = 'black',bins=bins, rwidth=0.4,)\n",
    "for i in range(0, len(ys)):\n",
    "    ## 앞에서 plt.hist 가 리턴하는 값이 bar의 x, y좌표이기 때문에 \n",
    "    ## 이 값을 이용해서 글자를 어디에 넣을지 결정해줌. \n",
    "    plt.text(x=xs[i]+0.35, y=ys[i]+0.015, \n",
    "             s='{:0>4.1f}%'.format(ys[i]/len(df_result)*100), ## 넣을 스트링\n",
    "             fontsize=10,## 크기 \n",
    "             color='black',)\n",
    "plt.xlabel('result')\n",
    "plt.xticks(['주의','경계','위험'])\n",
    "plt.ylabel('count')\n",
    "plt.show()\n"
   ]
  },
  {
   "cell_type": "code",
   "execution_count": null,
   "id": "3ecdf236",
   "metadata": {},
   "outputs": [],
   "source": []
  }
 ],
 "metadata": {
  "kernelspec": {
   "display_name": "dataCampus",
   "language": "python",
   "name": "datacampus"
  },
  "language_info": {
   "codemirror_mode": {
    "name": "ipython",
    "version": 3
   },
   "file_extension": ".py",
   "mimetype": "text/x-python",
   "name": "python",
   "nbconvert_exporter": "python",
   "pygments_lexer": "ipython3",
   "version": "3.9.4"
  }
 },
 "nbformat": 4,
 "nbformat_minor": 5
}
