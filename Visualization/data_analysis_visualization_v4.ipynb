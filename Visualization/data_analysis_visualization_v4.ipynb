{
 "cells": [
  {
   "cell_type": "markdown",
   "id": "1229a824",
   "metadata": {},
   "source": [
    "## 시각화 및 데이터 분석\n",
    "\n",
    "2021.08.25(수)"
   ]
  },
  {
   "cell_type": "markdown",
   "id": "0be7b58a",
   "metadata": {},
   "source": [
    "#### 모듈 설치 (이미 설치 되어있는 경우 생략)"
   ]
  },
  {
   "cell_type": "code",
   "execution_count": 1,
   "id": "2771885c",
   "metadata": {},
   "outputs": [
    {
     "name": "stdout",
     "output_type": "stream",
     "text": [
      "Requirement already satisfied: scikit-learn in /Users/gimjiseob/miniforge3/lib/python3.9/site-packages (0.24.2)\n",
      "Requirement already satisfied: threadpoolctl>=2.0.0 in /Users/gimjiseob/miniforge3/lib/python3.9/site-packages (from scikit-learn) (2.2.0)\n",
      "Requirement already satisfied: numpy>=1.13.3 in /Users/gimjiseob/miniforge3/lib/python3.9/site-packages (from scikit-learn) (1.20.3)\n",
      "Requirement already satisfied: joblib>=0.11 in /Users/gimjiseob/miniforge3/lib/python3.9/site-packages (from scikit-learn) (1.0.1)\n",
      "Requirement already satisfied: scipy>=0.19.1 in /Users/gimjiseob/miniforge3/lib/python3.9/site-packages (from scikit-learn) (1.6.3)\n",
      "Note: you may need to restart the kernel to use updated packages.\n"
     ]
    }
   ],
   "source": [
    "pip install scikit-learn"
   ]
  },
  {
   "cell_type": "code",
   "execution_count": 2,
   "id": "33bc5f83",
   "metadata": {},
   "outputs": [
    {
     "name": "stdout",
     "output_type": "stream",
     "text": [
      "Requirement already satisfied: scipy in /Users/gimjiseob/miniforge3/lib/python3.9/site-packages (1.6.3)\n",
      "Requirement already satisfied: numpy<1.23.0,>=1.16.5 in /Users/gimjiseob/miniforge3/lib/python3.9/site-packages (from scipy) (1.20.3)\n",
      "Note: you may need to restart the kernel to use updated packages.\n"
     ]
    }
   ],
   "source": [
    "pip install scipy"
   ]
  },
  {
   "cell_type": "code",
   "execution_count": 3,
   "id": "7d07b27f",
   "metadata": {},
   "outputs": [
    {
     "name": "stdout",
     "output_type": "stream",
     "text": [
      "Requirement already satisfied: numpy in /Users/gimjiseob/miniforge3/lib/python3.9/site-packages (1.20.3)\n",
      "Note: you may need to restart the kernel to use updated packages.\n"
     ]
    }
   ],
   "source": [
    "pip install numpy"
   ]
  },
  {
   "cell_type": "code",
   "execution_count": 4,
   "id": "c911083d",
   "metadata": {},
   "outputs": [
    {
     "name": "stdout",
     "output_type": "stream",
     "text": [
      "Requirement already satisfied: pandas in /Users/gimjiseob/miniforge3/lib/python3.9/site-packages (1.3.0)\n",
      "Requirement already satisfied: numpy>=1.17.3 in /Users/gimjiseob/miniforge3/lib/python3.9/site-packages (from pandas) (1.20.3)\n",
      "Requirement already satisfied: python-dateutil>=2.7.3 in /Users/gimjiseob/miniforge3/lib/python3.9/site-packages (from pandas) (2.8.1)\n",
      "Requirement already satisfied: pytz>=2017.3 in /Users/gimjiseob/miniforge3/lib/python3.9/site-packages (from pandas) (2021.1)\n",
      "Requirement already satisfied: six>=1.5 in /Users/gimjiseob/miniforge3/lib/python3.9/site-packages (from python-dateutil>=2.7.3->pandas) (1.16.0)\n",
      "Note: you may need to restart the kernel to use updated packages.\n"
     ]
    }
   ],
   "source": [
    "pip install pandas"
   ]
  },
  {
   "cell_type": "code",
   "execution_count": 5,
   "id": "e2f56a49",
   "metadata": {},
   "outputs": [
    {
     "name": "stdout",
     "output_type": "stream",
     "text": [
      "Requirement already satisfied: matplotlib in /Users/gimjiseob/miniforge3/lib/python3.9/site-packages (3.4.2)\n",
      "Requirement already satisfied: pillow>=6.2.0 in /Users/gimjiseob/miniforge3/lib/python3.9/site-packages (from matplotlib) (8.2.0)\n",
      "Requirement already satisfied: numpy>=1.16 in /Users/gimjiseob/miniforge3/lib/python3.9/site-packages (from matplotlib) (1.20.3)\n",
      "Requirement already satisfied: kiwisolver>=1.0.1 in /Users/gimjiseob/miniforge3/lib/python3.9/site-packages (from matplotlib) (1.3.1)\n",
      "Requirement already satisfied: pyparsing>=2.2.1 in /Users/gimjiseob/miniforge3/lib/python3.9/site-packages (from matplotlib) (2.4.7)\n",
      "Requirement already satisfied: cycler>=0.10 in /Users/gimjiseob/miniforge3/lib/python3.9/site-packages (from matplotlib) (0.10.0)\n",
      "Requirement already satisfied: python-dateutil>=2.7 in /Users/gimjiseob/miniforge3/lib/python3.9/site-packages (from matplotlib) (2.8.1)\n",
      "Requirement already satisfied: six in /Users/gimjiseob/miniforge3/lib/python3.9/site-packages (from cycler>=0.10->matplotlib) (1.16.0)\n",
      "Note: you may need to restart the kernel to use updated packages.\n"
     ]
    }
   ],
   "source": [
    "pip install matplotlib"
   ]
  },
  {
   "cell_type": "markdown",
   "id": "574b3ab7",
   "metadata": {},
   "source": [
    "#### 샘플링 모듈 (일반)"
   ]
  },
  {
   "cell_type": "code",
   "execution_count": 6,
   "id": "5bffb51c",
   "metadata": {},
   "outputs": [
    {
     "name": "stdout",
     "output_type": "stream",
     "text": [
      "Requirement already satisfied: imbalanced-learn in /Users/gimjiseob/miniforge3/lib/python3.9/site-packages (0.8.0)\n",
      "Requirement already satisfied: numpy>=1.13.3 in /Users/gimjiseob/miniforge3/lib/python3.9/site-packages (from imbalanced-learn) (1.20.3)\n",
      "Requirement already satisfied: scipy>=0.19.1 in /Users/gimjiseob/miniforge3/lib/python3.9/site-packages (from imbalanced-learn) (1.6.3)\n",
      "Requirement already satisfied: joblib>=0.11 in /Users/gimjiseob/miniforge3/lib/python3.9/site-packages (from imbalanced-learn) (1.0.1)\n",
      "Requirement already satisfied: scikit-learn>=0.24 in /Users/gimjiseob/miniforge3/lib/python3.9/site-packages (from imbalanced-learn) (0.24.2)\n",
      "Requirement already satisfied: threadpoolctl>=2.0.0 in /Users/gimjiseob/miniforge3/lib/python3.9/site-packages (from scikit-learn>=0.24->imbalanced-learn) (2.2.0)\n",
      "Note: you may need to restart the kernel to use updated packages.\n"
     ]
    }
   ],
   "source": [
    "pip install -U imbalanced-learn"
   ]
  },
  {
   "cell_type": "markdown",
   "id": "17e6154f",
   "metadata": {},
   "source": [
    "#### 샘플링 모듈 (anaconda)"
   ]
  },
  {
   "cell_type": "code",
   "execution_count": 7,
   "id": "310c1fff",
   "metadata": {},
   "outputs": [
    {
     "name": "stdout",
     "output_type": "stream",
     "text": [
      "Collecting package metadata (current_repodata.json): done\n",
      "Solving environment: done\n",
      "\n",
      "## Package Plan ##\n",
      "\n",
      "  environment location: /Users/gimjiseob/miniforge3\n",
      "\n",
      "  added / updated specs:\n",
      "    - imbalanced-learn\n",
      "\n",
      "\n",
      "The following packages will be downloaded:\n",
      "\n",
      "    package                    |            build\n",
      "    ---------------------------|-----------------\n",
      "    imbalanced-learn-0.8.0     |     pyhd8ed1ab_0         109 KB  conda-forge\n",
      "    openssl-1.1.1k             |       h3422bc3_1         1.8 MB  conda-forge\n",
      "    ------------------------------------------------------------\n",
      "                                           Total:         1.9 MB\n",
      "\n",
      "The following NEW packages will be INSTALLED:\n",
      "\n",
      "  imbalanced-learn   conda-forge/noarch::imbalanced-learn-0.8.0-pyhd8ed1ab_0\n",
      "\n",
      "The following packages will be UPDATED:\n",
      "\n",
      "  certifi            pkgs/main/noarch::certifi-2020.6.20-p~ --> conda-forge/osx-arm64::certifi-2021.5.30-py39h2804cbe_0\n",
      "  openssl                                 1.1.1k-h27ca646_0 --> 1.1.1k-h3422bc3_1\n",
      "\n",
      "\n",
      "\n",
      "Downloading and Extracting Packages\n",
      "openssl-1.1.1k       | 1.8 MB    | ##################################### | 100% \n",
      "imbalanced-learn-0.8 | 109 KB    | ##################################### | 100% \n",
      "Preparing transaction: done\n",
      "Verifying transaction: | WARNING conda.core.path_actions:verify(962): Unable to create environments file. Path not writable.\n",
      "  environment location: /Users/gimjiseob/.conda/environments.txt\n",
      "\n",
      "done\n",
      "Executing transaction: \\ WARNING conda.core.envs_manager:register_env(50): Unable to register environment. Path not writable or missing.\n",
      "  environment location: /Users/gimjiseob/miniforge3\n",
      "  registry file: /Users/gimjiseob/.conda/environments.txt\n",
      "done\n",
      "\n",
      "Note: you may need to restart the kernel to use updated packages.\n"
     ]
    }
   ],
   "source": [
    "conda install -c conda-forge imbalanced-learn"
   ]
  },
  {
   "cell_type": "code",
   "execution_count": null,
   "id": "32d9762b",
   "metadata": {},
   "outputs": [],
   "source": []
  },
  {
   "cell_type": "markdown",
   "id": "d7edd3a3",
   "metadata": {},
   "source": [
    " "
   ]
  },
  {
   "cell_type": "code",
   "execution_count": 8,
   "id": "5e43738b",
   "metadata": {},
   "outputs": [],
   "source": [
    "from sklearn.linear_model import LogisticRegression\n",
    "import matplotlib.pyplot as plt"
   ]
  },
  {
   "cell_type": "code",
   "execution_count": 9,
   "id": "a2d8efc7",
   "metadata": {},
   "outputs": [],
   "source": [
    "# import random undersampling and other necessary libraries \n",
    "import numpy as np\n",
    "import warnings\n",
    "warnings.simplefilter(action='ignore', category=FutureWarning)"
   ]
  },
  {
   "cell_type": "code",
   "execution_count": 10,
   "id": "661cdee9",
   "metadata": {
    "scrolled": true
   },
   "outputs": [
    {
     "name": "stdout",
     "output_type": "stream",
     "text": [
      "(7626, 17)\n",
      "   Unnamed: 0 SIU_CUST_YN  SEX  AGE FP_CAREER  OCCP_GRP  TOTALPREM  \\\n",
      "0           0           N    2    4         N         1         14   \n",
      "1           1           N    1    6         N        11          2   \n",
      "2           2           N    1    5         Y         2         15   \n",
      "3           3           N    1    5         N        17         13   \n",
      "4           4           N    1    5         N         1          3   \n",
      "\n",
      "   MAIN_INSR_AMT_SUM  EXPR_SUM  WORK_YEARS_MIN  EXPR_COUNT  DMND_AMT_SUM  \\\n",
      "0          120266433         0               0           8        141450   \n",
      "1            5000000         0               1           1       1390000   \n",
      "2         1797991770        22               1          24       2480000   \n",
      "3          212274240         3               1           6         72320   \n",
      "4           75256800         3              13           4       1300000   \n",
      "\n",
      "   CLAIM_CNT  TOTAL_VLID_HOSP_OTDA  HOSP_VARIES  HOSP_DVSN_VARIES  \\\n",
      "0          4                     5            2                 2   \n",
      "1          3                     6            3                 2   \n",
      "2         10                    21            4                 3   \n",
      "3          1                     5            1                 1   \n",
      "4          4                    26            2                 2   \n",
      "\n",
      "   CHME_LICE_COUNT  \n",
      "0                1  \n",
      "1                3  \n",
      "2                4  \n",
      "3                1  \n",
      "4                2  \n"
     ]
    }
   ],
   "source": [
    "import pandas as pd\n",
    "df = pd.read_csv(\"insurancedata.csv\")\n",
    "print(df.shape)\n",
    "print(df.head())"
   ]
  },
  {
   "cell_type": "markdown",
   "id": "cce52f2b",
   "metadata": {},
   "source": [
    "## N : 0 / Y : 1 의 각각 비율 확인"
   ]
  },
  {
   "cell_type": "code",
   "execution_count": 11,
   "id": "c0ee4c66",
   "metadata": {
    "scrolled": false
   },
   "outputs": [
    {
     "data": {
      "text/plain": [
       "N    6901\n",
       "Y     725\n",
       "Name: SIU_CUST_YN, dtype: int64"
      ]
     },
     "execution_count": 11,
     "metadata": {},
     "output_type": "execute_result"
    }
   ],
   "source": [
    "df.SIU_CUST_YN.value_counts()"
   ]
  },
  {
   "cell_type": "code",
   "execution_count": 12,
   "id": "37778ece",
   "metadata": {
    "scrolled": false
   },
   "outputs": [
    {
     "name": "stdout",
     "output_type": "stream",
     "text": [
      "N    90.49305\n",
      "Y     9.50695\n",
      "Name: SIU_CUST_YN, dtype: float64\n"
     ]
    },
    {
     "data": {
      "image/png": "[encoded data removed]",
      "text/plain": [
       "<Figure size 432x288 with 1 Axes>"
      ]
     },
     "metadata": {
      "needs_background": "light"
     },
     "output_type": "display_data"
    }
   ],
   "source": [
    "df.SIU_CUST_YN.value_counts(normalize=True).plot(kind='bar', color = \"black\")\n",
    "print(df.SIU_CUST_YN.value_counts(normalize=True)*100)"
   ]
  },
  {
   "cell_type": "markdown",
   "id": "a106c69c",
   "metadata": {},
   "source": [
    "## 데이터 추가정제\n",
    "\n",
    "데이터에 맞춰서 하나만 실행"
   ]
  },
  {
   "cell_type": "code",
   "execution_count": 13,
   "id": "cee662b4",
   "metadata": {},
   "outputs": [],
   "source": [
    "#insurance data\n",
    "\n",
    "df['SIU_CUST_YN'].replace('N', 0, inplace = True)\n",
    "df['SIU_CUST_YN'].replace('Y', 1, inplace = True)\n",
    "df['FP_CAREER'].replace('N', 0, inplace = True)\n",
    "df['FP_CAREER'].replace('Y', 1, inplace = True)\n",
    "df.drop(['Unnamed: 0'], axis=1, inplace = True)\n",
    "df.drop(['EXPR_SUM'], axis=1, inplace = True)\n",
    "df.drop(['TOTALPREM'], axis=1, inplace = True)"
   ]
  },
  {
   "cell_type": "code",
   "execution_count": 14,
   "id": "a6f6bc4e",
   "metadata": {
    "scrolled": true
   },
   "outputs": [
    {
     "data": {
      "text/html": [
       "<div>\n",
       "<style scoped>\n",
       "    .dataframe tbody tr th:only-of-type {\n",
       "        vertical-align: middle;\n",
       "    }\n",
       "\n",
       "    .dataframe tbody tr th {\n",
       "        vertical-align: top;\n",
       "    }\n",
       "\n",
       "    .dataframe thead th {\n",
       "        text-align: right;\n",
       "    }\n",
       "</style>\n",
       "<table border=\"1\" class=\"dataframe\">\n",
       "  <thead>\n",
       "    <tr style=\"text-align: right;\">\n",
       "      <th></th>\n",
       "      <th>SIU_CUST_YN</th>\n",
       "      <th>SEX</th>\n",
       "      <th>AGE</th>\n",
       "      <th>FP_CAREER</th>\n",
       "      <th>OCCP_GRP</th>\n",
       "      <th>MAIN_INSR_AMT_SUM</th>\n",
       "      <th>WORK_YEARS_MIN</th>\n",
       "      <th>EXPR_COUNT</th>\n",
       "      <th>DMND_AMT_SUM</th>\n",
       "      <th>CLAIM_CNT</th>\n",
       "      <th>TOTAL_VLID_HOSP_OTDA</th>\n",
       "      <th>HOSP_VARIES</th>\n",
       "      <th>HOSP_DVSN_VARIES</th>\n",
       "      <th>CHME_LICE_COUNT</th>\n",
       "    </tr>\n",
       "  </thead>\n",
       "  <tbody>\n",
       "    <tr>\n",
       "      <th>0</th>\n",
       "      <td>0</td>\n",
       "      <td>2</td>\n",
       "      <td>4</td>\n",
       "      <td>0</td>\n",
       "      <td>1</td>\n",
       "      <td>120266433</td>\n",
       "      <td>0</td>\n",
       "      <td>8</td>\n",
       "      <td>141450</td>\n",
       "      <td>4</td>\n",
       "      <td>5</td>\n",
       "      <td>2</td>\n",
       "      <td>2</td>\n",
       "      <td>1</td>\n",
       "    </tr>\n",
       "    <tr>\n",
       "      <th>1</th>\n",
       "      <td>0</td>\n",
       "      <td>1</td>\n",
       "      <td>6</td>\n",
       "      <td>0</td>\n",
       "      <td>11</td>\n",
       "      <td>5000000</td>\n",
       "      <td>1</td>\n",
       "      <td>1</td>\n",
       "      <td>1390000</td>\n",
       "      <td>3</td>\n",
       "      <td>6</td>\n",
       "      <td>3</td>\n",
       "      <td>2</td>\n",
       "      <td>3</td>\n",
       "    </tr>\n",
       "    <tr>\n",
       "      <th>2</th>\n",
       "      <td>0</td>\n",
       "      <td>1</td>\n",
       "      <td>5</td>\n",
       "      <td>1</td>\n",
       "      <td>2</td>\n",
       "      <td>1797991770</td>\n",
       "      <td>1</td>\n",
       "      <td>24</td>\n",
       "      <td>2480000</td>\n",
       "      <td>10</td>\n",
       "      <td>21</td>\n",
       "      <td>4</td>\n",
       "      <td>3</td>\n",
       "      <td>4</td>\n",
       "    </tr>\n",
       "    <tr>\n",
       "      <th>3</th>\n",
       "      <td>0</td>\n",
       "      <td>1</td>\n",
       "      <td>5</td>\n",
       "      <td>0</td>\n",
       "      <td>17</td>\n",
       "      <td>212274240</td>\n",
       "      <td>1</td>\n",
       "      <td>6</td>\n",
       "      <td>72320</td>\n",
       "      <td>1</td>\n",
       "      <td>5</td>\n",
       "      <td>1</td>\n",
       "      <td>1</td>\n",
       "      <td>1</td>\n",
       "    </tr>\n",
       "    <tr>\n",
       "      <th>4</th>\n",
       "      <td>0</td>\n",
       "      <td>1</td>\n",
       "      <td>5</td>\n",
       "      <td>0</td>\n",
       "      <td>1</td>\n",
       "      <td>75256800</td>\n",
       "      <td>13</td>\n",
       "      <td>4</td>\n",
       "      <td>1300000</td>\n",
       "      <td>4</td>\n",
       "      <td>26</td>\n",
       "      <td>2</td>\n",
       "      <td>2</td>\n",
       "      <td>2</td>\n",
       "    </tr>\n",
       "  </tbody>\n",
       "</table>\n",
       "</div>"
      ],
      "text/plain": [
       "   SIU_CUST_YN  SEX  AGE  FP_CAREER  OCCP_GRP  MAIN_INSR_AMT_SUM  \\\n",
       "0            0    2    4          0         1          120266433   \n",
       "1            0    1    6          0        11            5000000   \n",
       "2            0    1    5          1         2         1797991770   \n",
       "3            0    1    5          0        17          212274240   \n",
       "4            0    1    5          0         1           75256800   \n",
       "\n",
       "   WORK_YEARS_MIN  EXPR_COUNT  DMND_AMT_SUM  CLAIM_CNT  TOTAL_VLID_HOSP_OTDA  \\\n",
       "0               0           8        141450          4                     5   \n",
       "1               1           1       1390000          3                     6   \n",
       "2               1          24       2480000         10                    21   \n",
       "3               1           6         72320          1                     5   \n",
       "4              13           4       1300000          4                    26   \n",
       "\n",
       "   HOSP_VARIES  HOSP_DVSN_VARIES  CHME_LICE_COUNT  \n",
       "0            2                 2                1  \n",
       "1            3                 2                3  \n",
       "2            4                 3                4  \n",
       "3            1                 1                1  \n",
       "4            2                 2                2  "
      ]
     },
     "execution_count": 14,
     "metadata": {},
     "output_type": "execute_result"
    }
   ],
   "source": [
    "df.head()"
   ]
  },
  {
   "cell_type": "code",
   "execution_count": 15,
   "id": "e00590ca",
   "metadata": {},
   "outputs": [],
   "source": [
    "X = df.iloc[:,1:] # SIU_CUST_YN을 제외한 모든 cloumn\n",
    "y = df.iloc[:,0] # SIU_CUST_YN"
   ]
  },
  {
   "cell_type": "code",
   "execution_count": 16,
   "id": "dcd02b7c",
   "metadata": {
    "scrolled": true
   },
   "outputs": [
    {
     "name": "stdout",
     "output_type": "stream",
     "text": [
      "<class 'numpy.ndarray'>\n"
     ]
    }
   ],
   "source": [
    "# 데이터에 StartifiedKFold를 적용하기 위해서 nd.array형태로 데이터 변환\n",
    "X = X.to_numpy()\n",
    "print(type(X))"
   ]
  },
  {
   "cell_type": "code",
   "execution_count": 17,
   "id": "870935bc",
   "metadata": {
    "scrolled": false
   },
   "outputs": [
    {
     "name": "stdout",
     "output_type": "stream",
     "text": [
      "4\n",
      "TRAIN: [1899 1900 1901 ... 7623 7624 7625] TEST: [   0    1    2 ... 1940 1942 1943]\n",
      "Before Sampling:  Counter({0: 5175, 1: 544})\n",
      "After oversampling(ADASYN):  Counter({0: 5175, 1: 5175})\n",
      "score = 0.8893550078657577\n",
      "coef = [[ 0.05996814 -0.41175019 -0.04004005 -0.11612074  0.48313247 -0.1795538\n",
      "  -0.36811706  0.82585149 -0.34640493  3.02457924 -0.52858533  0.22933799\n",
      "   0.83449347]]\n",
      "x_result = [[0.90354427 0.09645573]\n",
      " [0.94762851 0.05237149]\n",
      " [0.51084357 0.48915643]\n",
      " ...\n",
      " [0.28290858 0.71709142]\n",
      " [0.76237244 0.23762756]\n",
      " [0.07659293 0.92340707]]\n",
      "result\n",
      "---------------------------\n",
      "accuracy: 0.89\n",
      "precision: 0.43\n",
      "recall: 0.53\n",
      "F1: 0.48\n"
     ]
    },
    {
     "data": {
      "image/png": "[encoded data removed]",
      "text/plain": [
       "<Figure size 432x360 with 2 Axes>"
      ]
     },
     "metadata": {
      "needs_background": "light"
     },
     "output_type": "display_data"
    },
    {
     "name": "stdout",
     "output_type": "stream",
     "text": [
      "TRAIN: [   0    1    2 ... 7623 7624 7625] TEST: [1899 1900 1901 ... 4041 4054 4058]\n",
      "Before Sampling:  Counter({0: 5176, 1: 543})\n",
      "After oversampling(ADASYN):  Counter({0: 5176, 1: 5176})\n",
      "score = 0.8898793917147352\n",
      "coef = [[-0.01462632 -0.4037113  -0.17508141 -0.25887436  0.32770224 -0.19421135\n",
      "  -0.19484373  0.17927256 -0.97358505  2.93932752  2.10708042 -0.75453292\n",
      "   0.3615408 ]]\n",
      "x_result = [[0.89874486 0.10125514]\n",
      " [0.56238742 0.43761258]\n",
      " [0.85694975 0.14305025]\n",
      " ...\n",
      " [0.34892896 0.65107104]\n",
      " [0.32551055 0.67448945]\n",
      " [0.35402164 0.64597836]]\n",
      "result\n",
      "---------------------------\n",
      "accuracy: 0.89\n",
      "precision: 0.45\n",
      "recall: 0.63\n",
      "F1: 0.52\n"
     ]
    },
    {
     "data": {
      "image/png": "[encoded data removed]",
      "text/plain": [
       "<Figure size 432x360 with 2 Axes>"
      ]
     },
     "metadata": {
      "needs_background": "light"
     },
     "output_type": "display_data"
    },
    {
     "name": "stdout",
     "output_type": "stream",
     "text": [
      "TRAIN: [   0    1    2 ... 7623 7624 7625] TEST: [3782 3783 3784 ... 5804 5815 5820]\n",
      "Before Sampling:  Counter({0: 5176, 1: 544})\n",
      "After oversampling(ADASYN):  Counter({0: 5176, 1: 5176})\n",
      "score = 0.8793284365162645\n",
      "coef = [[-0.18373861 -0.42770732  0.01443302 -0.16686584  0.25270293 -0.03244832\n",
      "  -0.02658572  1.20162114 -1.77075526  3.57090594  0.0931407   0.02033316\n",
      "   1.78116942]]\n",
      "x_result = [[6.85992213e-01 3.14007787e-01]\n",
      " [7.85828295e-01 2.14171705e-01]\n",
      " [8.27520671e-01 1.72479329e-01]\n",
      " ...\n",
      " [3.09409878e-01 6.90590122e-01]\n",
      " [4.18802842e-06 9.99995812e-01]\n",
      " [7.85833413e-01 2.14166587e-01]]\n",
      "result\n",
      "---------------------------\n",
      "accuracy: 0.88\n",
      "precision: 0.39\n",
      "recall: 0.50\n",
      "F1: 0.44\n"
     ]
    },
    {
     "data": {
      "image/png": "[encoded data removed]",
      "text/plain": [
       "<Figure size 432x360 with 2 Axes>"
      ]
     },
     "metadata": {
      "needs_background": "light"
     },
     "output_type": "display_data"
    },
    {
     "name": "stdout",
     "output_type": "stream",
     "text": [
      "TRAIN: [   0    1    2 ... 5804 5815 5820] TEST: [5710 5711 5712 ... 7623 7624 7625]\n",
      "Before Sampling:  Counter({0: 5176, 1: 544})\n",
      "After oversampling(ADASYN):  Counter({0: 5176, 1: 5176})\n",
      "score = 0.8856243441762854\n",
      "coef = [[-1.48395357e-01 -5.01603623e-01  1.04631507e-01 -1.83930344e-01\n",
      "   3.71837622e-01 -1.29906567e-01 -1.80153136e-01  6.81387513e-02\n",
      "  -9.89752806e-01  4.46663438e+00  4.15132112e-03 -6.05250534e-02\n",
      "   1.18630480e+00]]\n",
      "x_result = [[0.89528609 0.10471391]\n",
      " [0.92388437 0.07611563]\n",
      " [0.56903654 0.43096346]\n",
      " ...\n",
      " [0.93662561 0.06337439]\n",
      " [0.87783543 0.12216457]\n",
      " [0.20051155 0.79948845]]\n",
      "result\n",
      "---------------------------\n",
      "accuracy: 0.89\n",
      "precision: 0.42\n",
      "recall: 0.54\n",
      "F1: 0.47\n"
     ]
    },
    {
     "data": {
      "image/png": "[encoded data removed]",
      "text/plain": [
       "<Figure size 432x360 with 2 Axes>"
      ]
     },
     "metadata": {
      "needs_background": "light"
     },
     "output_type": "display_data"
    }
   ],
   "source": [
    "from sklearn.preprocessing import StandardScaler\n",
    "from sklearn.model_selection import StratifiedKFold\n",
    "\n",
    "from collections import Counter\n",
    "from imblearn.over_sampling import SVMSMOTE\n",
    "from sklearn.linear_model import LogisticRegression\n",
    "\n",
    "from sklearn.metrics import confusion_matrix, accuracy_score,precision_score,recall_score,f1_score\n",
    "\n",
    "model = LogisticRegression()\n",
    "\n",
    "SK_fold = StratifiedKFold(n_splits=4)\n",
    "print(SK_fold.get_n_splits(df, df['SIU_CUST_YN']))\n",
    "\n",
    "result_data = []\n",
    "answers=[]\n",
    "result_y = []\n",
    "\n",
    "\n",
    "accuracy = []\n",
    "precision = []\n",
    "recall = []\n",
    "fscore = []\n",
    "train_idx = []\n",
    "test_idx = []\n",
    "\n",
    "for train_index, test_index in SK_fold.split(X,y):\n",
    "    print(\"TRAIN:\", train_index, \"TEST:\", test_index)\n",
    "    train_idx.append(train_index)\n",
    "    test_idx.append(test_index)\n",
    "    X_train, X_test = X[train_index], X[test_index]\n",
    "    y_train, y_test = y[train_index], y[test_index]\n",
    "    \n",
    "    #SVMSOMTE -> 오버샘플링 기법\n",
    "    SVMSOMTE = SVMSMOTE()\n",
    "    X_train_SVMSOMTE, y_train_SVMSOMTE = SVMSOMTE.fit_resample(X_train, y_train)\n",
    "    \n",
    "    print(\"Before Sampling: \",Counter(y_train))\n",
    "    print(\"After oversampling(ADASYN): \",Counter(y_train_SVMSOMTE))\n",
    "    \n",
    "    # 해당 변수를 설정해서 Sampling 방식 선택 후 머신러닝 실행\n",
    "    X_train_sampling = X_train_SVMSOMTE\n",
    "    y_train_sampling = y_train_SVMSOMTE\n",
    "    \n",
    "    scaler = StandardScaler()\n",
    "    X_train_sampling = scaler.fit_transform(X_train_sampling)\n",
    "    X_test = scaler.transform(X_test)\n",
    "    \n",
    "    # 학습 알고리즘 예시 (LogisticRegressiong - 로지스틱 회귀분석)\n",
    "    model.fit(X_train_sampling, y_train_sampling)\n",
    "    \n",
    "    # sklearn에서 제공하는 score값\n",
    "    print('score =', model.score(X_test, y_test))\n",
    "    \n",
    "    # 각 속성별 가중치 -> 절대값으로 보면됨.\n",
    "    print('coef =', model.coef_)\n",
    "    \n",
    "    print('x_result =', model.predict_proba(X_test))\n",
    "    \n",
    "    \n",
    "    result_data.append(model.predict_proba(X_test)[:,1:])\n",
    "    answers.append(y_test)\n",
    "    \n",
    "    predict_X = model.predict(X_test)\n",
    "    result_y.append(model.predict(X_test))\n",
    "    \n",
    "    print('result')\n",
    "    print(\"---------------------------\")\n",
    "    print('accuracy: %.2f' % accuracy_score(y_test, predict_X))\n",
    "    print('precision: %.2f' % precision_score(y_test, predict_X))\n",
    "    print('recall: %.2f' % recall_score(y_test, predict_X))\n",
    "    print('F1: %.2f' % f1_score(y_test, predict_X))\n",
    "    \n",
    "    \n",
    "    accuracy.append(accuracy_score(y_test, predict_X))\n",
    "    precision.append(precision_score(y_test, predict_X))\n",
    "    recall.append(recall_score(y_test, predict_X))\n",
    "    fscore.append(f1_score(y_test, predict_X))\n",
    "    \n",
    "    import seaborn as sns\n",
    "    confusion = confusion_matrix(y_true = y_test\n",
    "                             , y_pred = predict_X)\n",
    "\n",
    "    plt.figure(figsize=(6, 5))\n",
    "    sns.heatmap(confusion, annot=True, annot_kws={'size':15}, cmap='OrRd', fmt='.10g')\n",
    "    plt.title('Confusion Matrix')\n",
    "    plt.show()"
   ]
  },
  {
   "cell_type": "markdown",
   "id": "68d58b06",
   "metadata": {},
   "source": [
    "## 교차검증 평균 값"
   ]
  },
  {
   "cell_type": "code",
   "execution_count": 18,
   "id": "28360c6d",
   "metadata": {},
   "outputs": [],
   "source": [
    "import itertools\n",
    "answers = list(itertools.chain.from_iterable(answers))\n",
    "result_y = list(itertools.chain.from_iterable(result_y))"
   ]
  },
  {
   "cell_type": "code",
   "execution_count": 19,
   "id": "e9199f6c",
   "metadata": {},
   "outputs": [],
   "source": [
    "confusion = confusion_matrix(y_true = result_y\n",
    "                             , y_pred = answers)"
   ]
  },
  {
   "cell_type": "code",
   "execution_count": 20,
   "id": "27a6b10f",
   "metadata": {
    "scrolled": false
   },
   "outputs": [
    {
     "data": {
      "image/png": "[encoded data removed]",
      "text/plain": [
       "<Figure size 432x360 with 2 Axes>"
      ]
     },
     "metadata": {
      "needs_background": "light"
     },
     "output_type": "display_data"
    }
   ],
   "source": [
    "plt.figure(figsize=(6, 5))\n",
    "sns.heatmap(confusion, annot=True, annot_kws={'size':15}, cmap='OrRd', fmt='.10g')\n",
    "plt.title('Confusion Matrix')\n",
    "plt.show()"
   ]
  },
  {
   "cell_type": "code",
   "execution_count": 21,
   "id": "48dcda9d",
   "metadata": {
    "scrolled": false
   },
   "outputs": [
    {
     "name": "stdout",
     "output_type": "stream",
     "text": [
      "mean\n",
      "---------------------------\n",
      "accuracy: 0.89\n",
      "precision: 0.42\n",
      "recall: 0.55\n",
      "F1: 0.48\n"
     ]
    }
   ],
   "source": [
    "print('mean')\n",
    "print(\"---------------------------\")\n",
    "print('accuracy: %.2f' % (sum(accuracy)/len(accuracy)))\n",
    "print('precision: %.2f' % (sum(precision)/len(precision)))\n",
    "print('recall: %.2f' % (sum(recall)/len(recall)))\n",
    "print('F1: %.2f' % (sum(fscore)/len(fscore)))"
   ]
  },
  {
   "cell_type": "markdown",
   "id": "62be5c36",
   "metadata": {},
   "source": [
    "## 데이터 확인 및 정제"
   ]
  },
  {
   "cell_type": "code",
   "execution_count": 22,
   "id": "17cda78f",
   "metadata": {},
   "outputs": [],
   "source": [
    "result_data = list(itertools.chain.from_iterable(result_data))\n",
    "result_data = list(map(float, result_data))"
   ]
  },
  {
   "cell_type": "code",
   "execution_count": 23,
   "id": "6d7b5c0f",
   "metadata": {},
   "outputs": [],
   "source": [
    "# datas => 정답여부 \n",
    "# test_idx => test_index의 index number\n",
    "# answers => y_test(정답)\n",
    "# result_data => train 후 test_X를 활용해 예측된 결과값\n",
    "\n",
    "datas = []\n",
    "for i in range(len(answers)):\n",
    "    if answers[i] == 1:\n",
    "        if result_data[i] >=0.5:\n",
    "            datas.append(1)\n",
    "        else :\n",
    "            datas.append(0)\n",
    "            \n",
    "    elif answers[i] == 0:\n",
    "        if result_data[i] <0.5:\n",
    "            datas.append(1)\n",
    "        else :\n",
    "            datas.append(0)\n",
    "        "
   ]
  },
  {
   "cell_type": "code",
   "execution_count": 24,
   "id": "4e7fe1a7",
   "metadata": {},
   "outputs": [],
   "source": [
    "status = []\n",
    "for i in range(len(answers)):\n",
    "    if result_data[i] <0.5:\n",
    "        status.append('주의')\n",
    "    elif result_data[i] <0.7:\n",
    "        status.append('경계')\n",
    "    else:\n",
    "        status.append('위험')\n",
    "            "
   ]
  },
  {
   "cell_type": "code",
   "execution_count": 25,
   "id": "a4f99413",
   "metadata": {},
   "outputs": [
    {
     "name": "stdout",
     "output_type": "stream",
     "text": [
      "7626 7626 7626 7626\n"
     ]
    }
   ],
   "source": [
    "print(len(answers), len(result_data), len(datas), len(status))"
   ]
  },
  {
   "cell_type": "code",
   "execution_count": 26,
   "id": "da024af1",
   "metadata": {},
   "outputs": [
    {
     "name": "stdout",
     "output_type": "stream",
     "text": [
      "<class 'list'> <class 'int'>\n",
      "<class 'list'> <class 'float'>\n",
      "<class 'list'> <class 'int'>\n",
      "<class 'list'> <class 'str'>\n"
     ]
    }
   ],
   "source": [
    "print(type(answers), type(answers[0]))\n",
    "print(type(result_data), type(result_data[0]))\n",
    "print(type(datas), type(datas[0]))\n",
    "print(type(status), type(status[0]))"
   ]
  },
  {
   "cell_type": "code",
   "execution_count": 27,
   "id": "f69172cb",
   "metadata": {},
   "outputs": [],
   "source": [
    "df_result = pd.DataFrame({'answers':answers,'result_data':result_data,'datas':datas, 'status':status})"
   ]
  },
  {
   "cell_type": "code",
   "execution_count": 28,
   "id": "4c681f0c",
   "metadata": {
    "scrolled": false
   },
   "outputs": [
    {
     "data": {
      "text/html": [
       "<div>\n",
       "<style scoped>\n",
       "    .dataframe tbody tr th:only-of-type {\n",
       "        vertical-align: middle;\n",
       "    }\n",
       "\n",
       "    .dataframe tbody tr th {\n",
       "        vertical-align: top;\n",
       "    }\n",
       "\n",
       "    .dataframe thead th {\n",
       "        text-align: right;\n",
       "    }\n",
       "</style>\n",
       "<table border=\"1\" class=\"dataframe\">\n",
       "  <thead>\n",
       "    <tr style=\"text-align: right;\">\n",
       "      <th></th>\n",
       "      <th>answers</th>\n",
       "      <th>result_data</th>\n",
       "      <th>datas</th>\n",
       "      <th>status</th>\n",
       "    </tr>\n",
       "  </thead>\n",
       "  <tbody>\n",
       "    <tr>\n",
       "      <th>0</th>\n",
       "      <td>0</td>\n",
       "      <td>0.096456</td>\n",
       "      <td>1</td>\n",
       "      <td>주의</td>\n",
       "    </tr>\n",
       "    <tr>\n",
       "      <th>1</th>\n",
       "      <td>0</td>\n",
       "      <td>0.052371</td>\n",
       "      <td>1</td>\n",
       "      <td>주의</td>\n",
       "    </tr>\n",
       "    <tr>\n",
       "      <th>2</th>\n",
       "      <td>0</td>\n",
       "      <td>0.489156</td>\n",
       "      <td>1</td>\n",
       "      <td>주의</td>\n",
       "    </tr>\n",
       "    <tr>\n",
       "      <th>3</th>\n",
       "      <td>0</td>\n",
       "      <td>0.057276</td>\n",
       "      <td>1</td>\n",
       "      <td>주의</td>\n",
       "    </tr>\n",
       "    <tr>\n",
       "      <th>4</th>\n",
       "      <td>0</td>\n",
       "      <td>0.079976</td>\n",
       "      <td>1</td>\n",
       "      <td>주의</td>\n",
       "    </tr>\n",
       "    <tr>\n",
       "      <th>...</th>\n",
       "      <td>...</td>\n",
       "      <td>...</td>\n",
       "      <td>...</td>\n",
       "      <td>...</td>\n",
       "    </tr>\n",
       "    <tr>\n",
       "      <th>7621</th>\n",
       "      <td>0</td>\n",
       "      <td>0.140898</td>\n",
       "      <td>1</td>\n",
       "      <td>주의</td>\n",
       "    </tr>\n",
       "    <tr>\n",
       "      <th>7622</th>\n",
       "      <td>0</td>\n",
       "      <td>0.127634</td>\n",
       "      <td>1</td>\n",
       "      <td>주의</td>\n",
       "    </tr>\n",
       "    <tr>\n",
       "      <th>7623</th>\n",
       "      <td>0</td>\n",
       "      <td>0.063374</td>\n",
       "      <td>1</td>\n",
       "      <td>주의</td>\n",
       "    </tr>\n",
       "    <tr>\n",
       "      <th>7624</th>\n",
       "      <td>0</td>\n",
       "      <td>0.122165</td>\n",
       "      <td>1</td>\n",
       "      <td>주의</td>\n",
       "    </tr>\n",
       "    <tr>\n",
       "      <th>7625</th>\n",
       "      <td>0</td>\n",
       "      <td>0.799488</td>\n",
       "      <td>0</td>\n",
       "      <td>위험</td>\n",
       "    </tr>\n",
       "  </tbody>\n",
       "</table>\n",
       "<p>7626 rows × 4 columns</p>\n",
       "</div>"
      ],
      "text/plain": [
       "      answers  result_data  datas status\n",
       "0           0     0.096456      1     주의\n",
       "1           0     0.052371      1     주의\n",
       "2           0     0.489156      1     주의\n",
       "3           0     0.057276      1     주의\n",
       "4           0     0.079976      1     주의\n",
       "...       ...          ...    ...    ...\n",
       "7621        0     0.140898      1     주의\n",
       "7622        0     0.127634      1     주의\n",
       "7623        0     0.063374      1     주의\n",
       "7624        0     0.122165      1     주의\n",
       "7625        0     0.799488      0     위험\n",
       "\n",
       "[7626 rows x 4 columns]"
      ]
     },
     "execution_count": 28,
     "metadata": {},
     "output_type": "execute_result"
    }
   ],
   "source": [
    "df_result\n",
    "# column 조치사항 result_data(예측 확률) 기준'주의'(0.0~0.5),'경계'(0.5~0.7),'위험'(0,7~1.0)"
   ]
  },
  {
   "cell_type": "markdown",
   "id": "f47b14f8",
   "metadata": {},
   "source": [
    "실제 데이터에서는 answer(정답), datas(정답유무)를 제외하고    \n",
    "result_data(사기꾼일 확률)과 status(주의정도)를 붙이는 형태로 결과도출"
   ]
  },
  {
   "cell_type": "code",
   "execution_count": 29,
   "id": "951c74f6",
   "metadata": {
    "scrolled": true
   },
   "outputs": [
    {
     "data": {
      "text/html": [
       "<div>\n",
       "<style scoped>\n",
       "    .dataframe tbody tr th:only-of-type {\n",
       "        vertical-align: middle;\n",
       "    }\n",
       "\n",
       "    .dataframe tbody tr th {\n",
       "        vertical-align: top;\n",
       "    }\n",
       "\n",
       "    .dataframe thead th {\n",
       "        text-align: right;\n",
       "    }\n",
       "</style>\n",
       "<table border=\"1\" class=\"dataframe\">\n",
       "  <thead>\n",
       "    <tr style=\"text-align: right;\">\n",
       "      <th></th>\n",
       "      <th>SIU_CUST_YN</th>\n",
       "      <th>SEX</th>\n",
       "      <th>AGE</th>\n",
       "      <th>FP_CAREER</th>\n",
       "      <th>OCCP_GRP</th>\n",
       "      <th>MAIN_INSR_AMT_SUM</th>\n",
       "      <th>WORK_YEARS_MIN</th>\n",
       "      <th>EXPR_COUNT</th>\n",
       "      <th>DMND_AMT_SUM</th>\n",
       "      <th>CLAIM_CNT</th>\n",
       "      <th>TOTAL_VLID_HOSP_OTDA</th>\n",
       "      <th>HOSP_VARIES</th>\n",
       "      <th>HOSP_DVSN_VARIES</th>\n",
       "      <th>CHME_LICE_COUNT</th>\n",
       "      <th>answers</th>\n",
       "      <th>result_data</th>\n",
       "      <th>datas</th>\n",
       "      <th>status</th>\n",
       "    </tr>\n",
       "  </thead>\n",
       "  <tbody>\n",
       "    <tr>\n",
       "      <th>0</th>\n",
       "      <td>0</td>\n",
       "      <td>2</td>\n",
       "      <td>4</td>\n",
       "      <td>0</td>\n",
       "      <td>1</td>\n",
       "      <td>120266433</td>\n",
       "      <td>0</td>\n",
       "      <td>8</td>\n",
       "      <td>141450</td>\n",
       "      <td>4</td>\n",
       "      <td>5</td>\n",
       "      <td>2</td>\n",
       "      <td>2</td>\n",
       "      <td>1</td>\n",
       "      <td>0</td>\n",
       "      <td>0.096456</td>\n",
       "      <td>1</td>\n",
       "      <td>주의</td>\n",
       "    </tr>\n",
       "    <tr>\n",
       "      <th>1</th>\n",
       "      <td>0</td>\n",
       "      <td>1</td>\n",
       "      <td>6</td>\n",
       "      <td>0</td>\n",
       "      <td>11</td>\n",
       "      <td>5000000</td>\n",
       "      <td>1</td>\n",
       "      <td>1</td>\n",
       "      <td>1390000</td>\n",
       "      <td>3</td>\n",
       "      <td>6</td>\n",
       "      <td>3</td>\n",
       "      <td>2</td>\n",
       "      <td>3</td>\n",
       "      <td>0</td>\n",
       "      <td>0.052371</td>\n",
       "      <td>1</td>\n",
       "      <td>주의</td>\n",
       "    </tr>\n",
       "    <tr>\n",
       "      <th>2</th>\n",
       "      <td>0</td>\n",
       "      <td>1</td>\n",
       "      <td>5</td>\n",
       "      <td>1</td>\n",
       "      <td>2</td>\n",
       "      <td>1797991770</td>\n",
       "      <td>1</td>\n",
       "      <td>24</td>\n",
       "      <td>2480000</td>\n",
       "      <td>10</td>\n",
       "      <td>21</td>\n",
       "      <td>4</td>\n",
       "      <td>3</td>\n",
       "      <td>4</td>\n",
       "      <td>0</td>\n",
       "      <td>0.489156</td>\n",
       "      <td>1</td>\n",
       "      <td>주의</td>\n",
       "    </tr>\n",
       "    <tr>\n",
       "      <th>3</th>\n",
       "      <td>0</td>\n",
       "      <td>1</td>\n",
       "      <td>5</td>\n",
       "      <td>0</td>\n",
       "      <td>17</td>\n",
       "      <td>212274240</td>\n",
       "      <td>1</td>\n",
       "      <td>6</td>\n",
       "      <td>72320</td>\n",
       "      <td>1</td>\n",
       "      <td>5</td>\n",
       "      <td>1</td>\n",
       "      <td>1</td>\n",
       "      <td>1</td>\n",
       "      <td>0</td>\n",
       "      <td>0.057276</td>\n",
       "      <td>1</td>\n",
       "      <td>주의</td>\n",
       "    </tr>\n",
       "    <tr>\n",
       "      <th>4</th>\n",
       "      <td>0</td>\n",
       "      <td>1</td>\n",
       "      <td>5</td>\n",
       "      <td>0</td>\n",
       "      <td>1</td>\n",
       "      <td>75256800</td>\n",
       "      <td>13</td>\n",
       "      <td>4</td>\n",
       "      <td>1300000</td>\n",
       "      <td>4</td>\n",
       "      <td>26</td>\n",
       "      <td>2</td>\n",
       "      <td>2</td>\n",
       "      <td>2</td>\n",
       "      <td>0</td>\n",
       "      <td>0.079976</td>\n",
       "      <td>1</td>\n",
       "      <td>주의</td>\n",
       "    </tr>\n",
       "    <tr>\n",
       "      <th>...</th>\n",
       "      <td>...</td>\n",
       "      <td>...</td>\n",
       "      <td>...</td>\n",
       "      <td>...</td>\n",
       "      <td>...</td>\n",
       "      <td>...</td>\n",
       "      <td>...</td>\n",
       "      <td>...</td>\n",
       "      <td>...</td>\n",
       "      <td>...</td>\n",
       "      <td>...</td>\n",
       "      <td>...</td>\n",
       "      <td>...</td>\n",
       "      <td>...</td>\n",
       "      <td>...</td>\n",
       "      <td>...</td>\n",
       "      <td>...</td>\n",
       "      <td>...</td>\n",
       "    </tr>\n",
       "    <tr>\n",
       "      <th>7621</th>\n",
       "      <td>0</td>\n",
       "      <td>2</td>\n",
       "      <td>4</td>\n",
       "      <td>0</td>\n",
       "      <td>3</td>\n",
       "      <td>120000000</td>\n",
       "      <td>0</td>\n",
       "      <td>3</td>\n",
       "      <td>519989</td>\n",
       "      <td>5</td>\n",
       "      <td>13</td>\n",
       "      <td>2</td>\n",
       "      <td>2</td>\n",
       "      <td>2</td>\n",
       "      <td>0</td>\n",
       "      <td>0.140898</td>\n",
       "      <td>1</td>\n",
       "      <td>주의</td>\n",
       "    </tr>\n",
       "    <tr>\n",
       "      <th>7622</th>\n",
       "      <td>0</td>\n",
       "      <td>2</td>\n",
       "      <td>5</td>\n",
       "      <td>0</td>\n",
       "      <td>2</td>\n",
       "      <td>981195605</td>\n",
       "      <td>6</td>\n",
       "      <td>15</td>\n",
       "      <td>100000</td>\n",
       "      <td>1</td>\n",
       "      <td>0</td>\n",
       "      <td>1</td>\n",
       "      <td>1</td>\n",
       "      <td>1</td>\n",
       "      <td>0</td>\n",
       "      <td>0.127634</td>\n",
       "      <td>1</td>\n",
       "      <td>주의</td>\n",
       "    </tr>\n",
       "    <tr>\n",
       "      <th>7623</th>\n",
       "      <td>0</td>\n",
       "      <td>2</td>\n",
       "      <td>5</td>\n",
       "      <td>0</td>\n",
       "      <td>8</td>\n",
       "      <td>50000000</td>\n",
       "      <td>5</td>\n",
       "      <td>1</td>\n",
       "      <td>73300</td>\n",
       "      <td>1</td>\n",
       "      <td>2</td>\n",
       "      <td>1</td>\n",
       "      <td>1</td>\n",
       "      <td>1</td>\n",
       "      <td>0</td>\n",
       "      <td>0.063374</td>\n",
       "      <td>1</td>\n",
       "      <td>주의</td>\n",
       "    </tr>\n",
       "    <tr>\n",
       "      <th>7624</th>\n",
       "      <td>0</td>\n",
       "      <td>2</td>\n",
       "      <td>4</td>\n",
       "      <td>0</td>\n",
       "      <td>3</td>\n",
       "      <td>65000000</td>\n",
       "      <td>2</td>\n",
       "      <td>2</td>\n",
       "      <td>1081494</td>\n",
       "      <td>1</td>\n",
       "      <td>3</td>\n",
       "      <td>1</td>\n",
       "      <td>1</td>\n",
       "      <td>1</td>\n",
       "      <td>0</td>\n",
       "      <td>0.122165</td>\n",
       "      <td>1</td>\n",
       "      <td>주의</td>\n",
       "    </tr>\n",
       "    <tr>\n",
       "      <th>7625</th>\n",
       "      <td>0</td>\n",
       "      <td>1</td>\n",
       "      <td>3</td>\n",
       "      <td>0</td>\n",
       "      <td>8</td>\n",
       "      <td>144754839</td>\n",
       "      <td>3</td>\n",
       "      <td>2</td>\n",
       "      <td>12680000</td>\n",
       "      <td>16</td>\n",
       "      <td>92</td>\n",
       "      <td>4</td>\n",
       "      <td>3</td>\n",
       "      <td>9</td>\n",
       "      <td>0</td>\n",
       "      <td>0.799488</td>\n",
       "      <td>0</td>\n",
       "      <td>위험</td>\n",
       "    </tr>\n",
       "  </tbody>\n",
       "</table>\n",
       "<p>7626 rows × 18 columns</p>\n",
       "</div>"
      ],
      "text/plain": [
       "      SIU_CUST_YN  SEX  AGE  FP_CAREER  OCCP_GRP  MAIN_INSR_AMT_SUM  \\\n",
       "0               0    2    4          0         1          120266433   \n",
       "1               0    1    6          0        11            5000000   \n",
       "2               0    1    5          1         2         1797991770   \n",
       "3               0    1    5          0        17          212274240   \n",
       "4               0    1    5          0         1           75256800   \n",
       "...           ...  ...  ...        ...       ...                ...   \n",
       "7621            0    2    4          0         3          120000000   \n",
       "7622            0    2    5          0         2          981195605   \n",
       "7623            0    2    5          0         8           50000000   \n",
       "7624            0    2    4          0         3           65000000   \n",
       "7625            0    1    3          0         8          144754839   \n",
       "\n",
       "      WORK_YEARS_MIN  EXPR_COUNT  DMND_AMT_SUM  CLAIM_CNT  \\\n",
       "0                  0           8        141450          4   \n",
       "1                  1           1       1390000          3   \n",
       "2                  1          24       2480000         10   \n",
       "3                  1           6         72320          1   \n",
       "4                 13           4       1300000          4   \n",
       "...              ...         ...           ...        ...   \n",
       "7621               0           3        519989          5   \n",
       "7622               6          15        100000          1   \n",
       "7623               5           1         73300          1   \n",
       "7624               2           2       1081494          1   \n",
       "7625               3           2      12680000         16   \n",
       "\n",
       "      TOTAL_VLID_HOSP_OTDA  HOSP_VARIES  HOSP_DVSN_VARIES  CHME_LICE_COUNT  \\\n",
       "0                        5            2                 2                1   \n",
       "1                        6            3                 2                3   \n",
       "2                       21            4                 3                4   \n",
       "3                        5            1                 1                1   \n",
       "4                       26            2                 2                2   \n",
       "...                    ...          ...               ...              ...   \n",
       "7621                    13            2                 2                2   \n",
       "7622                     0            1                 1                1   \n",
       "7623                     2            1                 1                1   \n",
       "7624                     3            1                 1                1   \n",
       "7625                    92            4                 3                9   \n",
       "\n",
       "      answers  result_data  datas status  \n",
       "0           0     0.096456      1     주의  \n",
       "1           0     0.052371      1     주의  \n",
       "2           0     0.489156      1     주의  \n",
       "3           0     0.057276      1     주의  \n",
       "4           0     0.079976      1     주의  \n",
       "...       ...          ...    ...    ...  \n",
       "7621        0     0.140898      1     주의  \n",
       "7622        0     0.127634      1     주의  \n",
       "7623        0     0.063374      1     주의  \n",
       "7624        0     0.122165      1     주의  \n",
       "7625        0     0.799488      0     위험  \n",
       "\n",
       "[7626 rows x 18 columns]"
      ]
     },
     "execution_count": 29,
     "metadata": {},
     "output_type": "execute_result"
    }
   ],
   "source": [
    "result_csv = df.join(df_result)\n",
    "result_csv"
   ]
  },
  {
   "cell_type": "code",
   "execution_count": 30,
   "id": "ab801854",
   "metadata": {},
   "outputs": [],
   "source": [
    "result_csv.to_csv('result.csv')"
   ]
  },
  {
   "cell_type": "markdown",
   "id": "f6d3a8b6",
   "metadata": {},
   "source": [
    "## 결과 데이터 정제"
   ]
  },
  {
   "cell_type": "code",
   "execution_count": 31,
   "id": "0c7c6b1a",
   "metadata": {},
   "outputs": [],
   "source": [
    "y1 = np.array([0 for i in range(10)])\n",
    "# result_data(예측된 확률값)을 기준으로 0~0.1/0.1~0.2/0.2~0.3/.../0.9~1.0으로 총 10가지로 분류\n",
    "# datas(정답여부)를 기준으로 정답인 데이터들만 추가함. \n",
    "count = 0\n",
    "for i in df_result['datas']:\n",
    "    if i==1 and df_result['result_data'][count] < 0.1 :\n",
    "        y1[0] +=1\n",
    "    elif i==1 and df_result['result_data'][count] < 0.2 :\n",
    "        y1[1] +=1\n",
    "    elif i==1 and df_result['result_data'][count] < 0.3 :\n",
    "        y1[2] +=1\n",
    "    elif i==1 and df_result['result_data'][count] < 0.4 :\n",
    "        y1[3] +=1\n",
    "    elif i==1 and df_result['result_data'][count] < 0.5 :\n",
    "        y1[4] +=1\n",
    "    elif i==1 and df_result['result_data'][count] < 0.6 :\n",
    "        y1[5] +=1\n",
    "    elif i==1 and df_result['result_data'][count] < 0.7 :\n",
    "        y1[6] +=1\n",
    "    elif i==1 and df_result['result_data'][count] < 0.8 :\n",
    "        y1[7] +=1\n",
    "    elif i==1 and df_result['result_data'][count] < 0.9 :\n",
    "        y1[8] +=1\n",
    "    elif i==1 and df_result['result_data'][count] <= 1 :\n",
    "        y1[9] +=1\n",
    "    count+=1"
   ]
  },
  {
   "cell_type": "code",
   "execution_count": 32,
   "id": "c4713904",
   "metadata": {},
   "outputs": [],
   "source": [
    "y3 = np.array([0 for i in range(10)])\n",
    "# result_data(예측된 확률값)을 기준으로 0~0.1/0.1~0.2/0.2~0.3/.../0.9~1.0으로 총 10가지로 분류\n",
    "# datas(정답여부)를 기준으로 오답인 데이터들만 추가함. \n",
    "count = 0\n",
    "for i in df_result['datas']:\n",
    "    if i==0 and df_result['result_data'][count] < 0.1 :\n",
    "        y3[0] +=1\n",
    "    elif i==0 and df_result['result_data'][count] < 0.2 :\n",
    "        y3[1] +=1\n",
    "    elif i==0 and df_result['result_data'][count] < 0.3 :\n",
    "        y3[2] +=1\n",
    "    elif i==0 and df_result['result_data'][count] < 0.4 :\n",
    "        y3[3] +=1\n",
    "    elif i==0 and df_result['result_data'][count] < 0.5 :\n",
    "        y3[4] +=1\n",
    "    elif i==0 and df_result['result_data'][count] < 0.6 :\n",
    "        y3[5] +=1\n",
    "    elif i==0 and df_result['result_data'][count] < 0.7 :\n",
    "        y3[6] +=1\n",
    "    elif i==0 and df_result['result_data'][count] < 0.8 :\n",
    "        y3[7] +=1\n",
    "    elif i==0 and df_result['result_data'][count] < 0.9 :\n",
    "        y3[8] +=1\n",
    "    elif i==0 and df_result['result_data'][count] <= 1 :\n",
    "        y3[9] +=1\n",
    "    count+=1"
   ]
  },
  {
   "cell_type": "code",
   "execution_count": 33,
   "id": "ac275ff7",
   "metadata": {},
   "outputs": [],
   "source": [
    "y2 =  np.array([0 for i in range(10)])\n",
    "# result_data(예측된 확률값)을 기준으로 0~0.1/0.1~0.2/0.2~0.3/.../0.9~1.0으로 총 10가지로 분류\n",
    "# datas(정답여부)와 상관없이 모든 데이터를 추가함 \n",
    "for count in range(len(df_result['result_data'])):\n",
    "    if df_result['result_data'][count] < 0.1 :\n",
    "        y2[0] +=1\n",
    "    elif df_result['result_data'][count] < 0.2 :\n",
    "        y2[1] +=1\n",
    "    elif df_result['result_data'][count] < 0.3 :\n",
    "        y2[2] +=1\n",
    "    elif df_result['result_data'][count] < 0.4 :\n",
    "        y2[3]+=1\n",
    "    elif df_result['result_data'][count] < 0.5 :\n",
    "        y2[4] +=1\n",
    "    elif df_result['result_data'][count] < 0.6 :\n",
    "        y2[5] +=1\n",
    "    elif df_result['result_data'][count] < 0.7 :\n",
    "        y2[6] +=1\n",
    "    elif df_result['result_data'][count] < 0.8 :\n",
    "        y2[7] +=1\n",
    "    elif df_result['result_data'][count] < 0.9 :\n",
    "        y2[8] +=1\n",
    "    elif df_result['result_data'][count] <= 1:\n",
    "        y2[9] +=1"
   ]
  },
  {
   "cell_type": "code",
   "execution_count": 34,
   "id": "5e257193",
   "metadata": {},
   "outputs": [],
   "source": [
    "df = pd.DataFrame({'correct':y1,'all':y2,'wrong':y3})\n",
    "# 정답, 전체, 오답 순"
   ]
  },
  {
   "cell_type": "code",
   "execution_count": 35,
   "id": "90df32f6",
   "metadata": {},
   "outputs": [
    {
     "name": "stdout",
     "output_type": "stream",
     "text": [
      "   correct   all  wrong\n",
      "0     2361  2423     62\n",
      "1     2686  2789    103\n",
      "2      796   868     72\n",
      "3      337   381     44\n",
      "4      179   225     46\n",
      "5       35   169    134\n",
      "6       39   150    111\n",
      "7       45   123     78\n",
      "8       43   116     73\n",
      "9      236   382    146\n"
     ]
    }
   ],
   "source": [
    "print(df)"
   ]
  },
  {
   "cell_type": "markdown",
   "id": "b0dc285f",
   "metadata": {},
   "source": [
    "## 데이터 시각화"
   ]
  },
  {
   "cell_type": "code",
   "execution_count": 36,
   "id": "a086326a",
   "metadata": {},
   "outputs": [],
   "source": [
    "x =  np.array([i for i in range(10)])"
   ]
  },
  {
   "cell_type": "code",
   "execution_count": 37,
   "id": "83316a3d",
   "metadata": {},
   "outputs": [
    {
     "data": {
      "image/png": "[encoded data removed]",
      "text/plain": [
       "<Figure size 720x720 with 1 Axes>"
      ]
     },
     "metadata": {
      "needs_background": "light"
     },
     "output_type": "display_data"
    }
   ],
   "source": [
    "# 예측한 전체 데이터 갯수\n",
    "\n",
    "tick_size = 13 ## 눈금 폰트 사이즈\n",
    "axis_label_size = 15 ## x축, y축 폰트 사이즈\n",
    "\n",
    "fig = plt.figure(figsize=(10,10)) ## Figure 생성 사이즈는 10 by 10\n",
    "ax = fig.add_subplot() ## Axes 추가\n",
    "bars = plt.bar(x,y2, width=0.5, color = 'orange')\n",
    "plt.xlabel('result')\n",
    "plt.ylabel('count')\n",
    "\n",
    "for i, b in enumerate(bars):\n",
    "    ax.text(b.get_x()+b.get_width()*(1/2),b.get_height()+0.1, \\\n",
    "                y2[i],ha='center',fontsize=13)\n",
    "xtick_label_position = list(range(len(x)))\n",
    "plt.xticks(xtick_label_position, x, fontsize=tick_size)\n",
    "\n",
    "plt.show()"
   ]
  },
  {
   "cell_type": "code",
   "execution_count": 38,
   "id": "a7478523",
   "metadata": {},
   "outputs": [
    {
     "data": {
      "image/png": "[encoded data removed]",
      "text/plain": [
       "<Figure size 720x720 with 1 Axes>"
      ]
     },
     "metadata": {
      "needs_background": "light"
     },
     "output_type": "display_data"
    }
   ],
   "source": [
    "# 정답 갯수\n",
    "\n",
    "tick_size = 13 ## 눈금 폰트 사이즈\n",
    "axis_label_size = 15 ## x축, y축 폰트 사이즈\n",
    "\n",
    "fig = plt.figure(figsize=(10,10)) ## Figure 생성 사이즈는 10 by 10\n",
    "ax = fig.add_subplot() ## Axes 추가\n",
    "bars = plt.bar(x,y1, width=0.5, color ='green')\n",
    "plt.xlabel('result')\n",
    "plt.ylabel('count')\n",
    "\n",
    "for i, b in enumerate(bars):\n",
    "    ax.text(b.get_x()+b.get_width()*(1/2),b.get_height()+0.1, \\\n",
    "                y1[i],ha='center',fontsize=13)\n",
    "xtick_label_position = list(range(len(x)))\n",
    "plt.xticks(xtick_label_position, x, fontsize=tick_size)\n",
    "\n",
    "plt.show()"
   ]
  },
  {
   "cell_type": "code",
   "execution_count": 39,
   "id": "2c94f8a2",
   "metadata": {},
   "outputs": [
    {
     "data": {
      "image/png": "[encoded data removed]",
      "text/plain": [
       "<Figure size 720x720 with 1 Axes>"
      ]
     },
     "metadata": {
      "needs_background": "light"
     },
     "output_type": "display_data"
    }
   ],
   "source": [
    "# 오답 갯수\n",
    "\n",
    "tick_size = 13 ## 눈금 폰트 사이즈\n",
    "axis_label_size = 15 ## x축, y축 폰트 사이즈\n",
    "\n",
    "fig = plt.figure(figsize=(10,10)) ## Figure 생성 사이즈는 10 by 10\n",
    "ax = fig.add_subplot() ## Axes 추가\n",
    "bars = plt.bar(x,y3, width=0.5, color ='blue')\n",
    "plt.xlabel('result')\n",
    "plt.ylabel('count')\n",
    "\n",
    "for i, b in enumerate(bars):\n",
    "    ax.text(b.get_x()+b.get_width()*(1/2),b.get_height()+0.1, \\\n",
    "                y3[i],ha='center',fontsize=13)\n",
    "xtick_label_position = list(range(len(x)))\n",
    "plt.xticks(xtick_label_position, x, fontsize=tick_size)\n",
    "\n",
    "plt.show()"
   ]
  },
  {
   "cell_type": "code",
   "execution_count": 40,
   "id": "fce19779",
   "metadata": {},
   "outputs": [
    {
     "data": {
      "image/png": "[encoded data removed]",
      "text/plain": [
       "<Figure size 720x720 with 1 Axes>"
      ]
     },
     "metadata": {
      "needs_background": "light"
     },
     "output_type": "display_data"
    }
   ],
   "source": [
    "import matplotlib.pyplot as plt\n",
    "# 주황으로 보이는 부분(+숫자)이 오답이라고 생각하면 됨.\n",
    "\n",
    "tick_size = 13 ## 눈금 폰트 사이즈\n",
    "axis_label_size = 15 ## x축, y축 폰트 사이즈\n",
    "\n",
    "fig = plt.figure(figsize=(10,10)) ## Figure 생성 사이즈는 10 by 10\n",
    "ax = fig.add_subplot() ## Axes 추가\n",
    "bars = plt.bar(x,y2, width=0.5, color = 'orange')\n",
    "bars2 = plt.bar(x,y1, width=0.5, color ='green')\n",
    "plt.xlabel('result')\n",
    "plt.ylabel('count')\n",
    "\n",
    "for i, b in enumerate(bars2):\n",
    "    ax.text(b.get_x()+b.get_width()*(1/2),b.get_height()+0.1, \\\n",
    "                y2[i]-y1[i],ha='center',fontsize=13)\n",
    "    \n",
    "xtick_label_position = list(range(len(x)))\n",
    "plt.xticks(xtick_label_position, x, fontsize=tick_size)\n",
    "\n",
    "plt.show()"
   ]
  },
  {
   "cell_type": "code",
   "execution_count": 41,
   "id": "6e949892",
   "metadata": {},
   "outputs": [
    {
     "data": {
      "image/png": "[encoded data removed]",
      "text/plain": [
       "<Figure size 432x288 with 1 Axes>"
      ]
     },
     "metadata": {
      "needs_background": "light"
     },
     "output_type": "display_data"
    }
   ],
   "source": [
    "import matplotlib.pyplot as plt\n",
    "from matplotlib import rc\n",
    "%matplotlib inline\n",
    "rc('font', family='AppleGothic')\n",
    "\n",
    "# 주황으로 보이는 부분이 오답이라고 생각하면 됨.\n",
    "bins = np.arange(4) - 0.5\n",
    "ys, xs, patches = plt.hist(df_result['status'], color = 'black',bins=bins, rwidth=0.4,)\n",
    "for i in range(0, len(ys)):\n",
    "    ## 앞에서 plt.hist 가 리턴하는 값이 bar의 x, y좌표이기 때문에 \n",
    "    ## 이 값을 이용해서 글자를 어디에 넣을지 결정해줌. \n",
    "    plt.text(x=xs[i]+0.35, y=ys[i]+0.015, \n",
    "             s='{:0>4.1f}%'.format(ys[i]/len(df_result)*100), ## 넣을 스트링\n",
    "             fontsize=10,## 크기 \n",
    "             color='black',)\n",
    "plt.xlabel('result')\n",
    "plt.xticks(['주의','경계','위험'])\n",
    "plt.ylabel('count')\n",
    "plt.show()\n"
   ]
  },
  {
   "cell_type": "code",
   "execution_count": null,
   "id": "3ecdf236",
   "metadata": {},
   "outputs": [],
   "source": []
  }
 ],
 "metadata": {
  "kernelspec": {
   "display_name": "dataCampus",
   "language": "python",
   "name": "datacampus"
  },
  "language_info": {
   "codemirror_mode": {
    "name": "ipython",
    "version": 3
   },
   "file_extension": ".py",
   "mimetype": "text/x-python",
   "name": "python",
   "nbconvert_exporter": "python",
   "pygments_lexer": "ipython3",
   "version": "3.9.4"
  }
 },
 "nbformat": 4,
 "nbformat_minor": 5
}
