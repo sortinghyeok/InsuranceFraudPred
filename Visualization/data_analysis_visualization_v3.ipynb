{
  "nbformat": 4,
  "nbformat_minor": 5,
  "metadata": {
    "kernelspec": {
      "display_name": "dataCampus",
      "language": "python",
      "name": "datacampus"
    },
    "language_info": {
      "codemirror_mode": {
        "name": "ipython",
        "version": 3
      },
      "file_extension": ".py",
      "mimetype": "text/x-python",
      "name": "python",
      "nbconvert_exporter": "python",
      "pygments_lexer": "ipython3",
      "version": "3.9.4"
    },
    "colab": {
      "name": "data_analysis_visualization_v3.ipynb",
      "provenance": []
    }
  },
  "cells": [
    {
      "cell_type": "markdown",
      "metadata": {
        "id": "1229a824"
      },
      "source": [
        "## 시각화 및 데이터 분석\n",
        "\n",
        "2021.08.25(수)"
      ],
      "id": "1229a824"
    },
    {
      "cell_type": "markdown",
      "metadata": {
        "id": "0be7b58a"
      },
      "source": [
        "#### 모듈 설치 (이미 설치 되어있는 경우 생략)"
      ],
      "id": "0be7b58a"
    },
    {
      "cell_type": "code",
      "metadata": {
        "id": "2771885c"
      },
      "source": [
        "pip install scikit-learn"
      ],
      "id": "2771885c",
      "execution_count": null,
      "outputs": []
    },
    {
      "cell_type": "code",
      "metadata": {
        "id": "33bc5f83"
      },
      "source": [
        "pip install scipy"
      ],
      "id": "33bc5f83",
      "execution_count": null,
      "outputs": []
    },
    {
      "cell_type": "code",
      "metadata": {
        "id": "7d07b27f"
      },
      "source": [
        "pip install numpy"
      ],
      "id": "7d07b27f",
      "execution_count": null,
      "outputs": []
    },
    {
      "cell_type": "code",
      "metadata": {
        "id": "c911083d"
      },
      "source": [
        "pip install pandas"
      ],
      "id": "c911083d",
      "execution_count": null,
      "outputs": []
    },
    {
      "cell_type": "code",
      "metadata": {
        "id": "e2f56a49"
      },
      "source": [
        "pip install matplotlib"
      ],
      "id": "e2f56a49",
      "execution_count": null,
      "outputs": []
    },
    {
      "cell_type": "markdown",
      "metadata": {
        "id": "574b3ab7"
      },
      "source": [
        "#### 샘플링 모듈 (일반)"
      ],
      "id": "574b3ab7"
    },
    {
      "cell_type": "code",
      "metadata": {
        "id": "5bffb51c"
      },
      "source": [
        "pip install -U imbalanced-learn"
      ],
      "id": "5bffb51c",
      "execution_count": null,
      "outputs": []
    },
    {
      "cell_type": "markdown",
      "metadata": {
        "id": "17e6154f"
      },
      "source": [
        "#### 샘플링 모듈 (anaconda)"
      ],
      "id": "17e6154f"
    },
    {
      "cell_type": "code",
      "metadata": {
        "id": "310c1fff"
      },
      "source": [
        "conda install -c conda-forge imbalanced-learn"
      ],
      "id": "310c1fff",
      "execution_count": null,
      "outputs": []
    },
    {
      "cell_type": "code",
      "metadata": {
        "id": "32d9762b"
      },
      "source": [
        ""
      ],
      "id": "32d9762b",
      "execution_count": null,
      "outputs": []
    },
    {
      "cell_type": "markdown",
      "metadata": {
        "id": "d7edd3a3"
      },
      "source": [
        " "
      ],
      "id": "d7edd3a3"
    },
    {
      "cell_type": "code",
      "metadata": {
        "id": "5e43738b"
      },
      "source": [
        "from sklearn.linear_model import LogisticRegression\n",
        "import matplotlib.pyplot as plt"
      ],
      "id": "5e43738b",
      "execution_count": null,
      "outputs": []
    },
    {
      "cell_type": "code",
      "metadata": {
        "id": "a2d8efc7"
      },
      "source": [
        "# import random undersampling and other necessary libraries \n",
        "import numpy as np\n",
        "import warnings\n",
        "warnings.simplefilter(action='ignore', category=FutureWarning)"
      ],
      "id": "a2d8efc7",
      "execution_count": null,
      "outputs": []
    },
    {
      "cell_type": "code",
      "metadata": {
        "scrolled": true,
        "id": "661cdee9",
        "outputId": "c0ac2e7d-972b-4400-9afd-8d86cae9621a"
      },
      "source": [
        "import pandas as pd\n",
        "df = pd.read_csv(\"insurancedata.csv\")\n",
        "print(df.shape)\n",
        "print(df.head())"
      ],
      "id": "661cdee9",
      "execution_count": null,
      "outputs": [
        {
          "name": "stdout",
          "output_type": "stream",
          "text": [
            "(7626, 17)\n",
            "   Unnamed: 0 SIU_CUST_YN  SEX  AGE FP_CAREER  OCCP_GRP  TOTALPREM  \\\n",
            "0           0           N    2    4         N         1         14   \n",
            "1           1           N    1    6         N        11          2   \n",
            "2           2           N    1    5         Y         2         15   \n",
            "3           3           N    1    5         N        17         13   \n",
            "4           4           N    1    5         N         1          3   \n",
            "\n",
            "   MAIN_INSR_AMT_SUM  EXPR_SUM  WORK_YEARS_MIN  EXPR_COUNT  DMND_AMT_SUM  \\\n",
            "0          120266433         0               0           8        141450   \n",
            "1            5000000         0               1           1       1390000   \n",
            "2         1797991770        22               1          24       2480000   \n",
            "3          212274240         3               1           6         72320   \n",
            "4           75256800         3              13           4       1300000   \n",
            "\n",
            "   CLAIM_CNT  TOTAL_VLID_HOSP_OTDA  HOSP_VARIES  HOSP_DVSN_VARIES  \\\n",
            "0          4                     5            2                 2   \n",
            "1          3                     6            3                 2   \n",
            "2         10                    21            4                 3   \n",
            "3          1                     5            1                 1   \n",
            "4          4                    26            2                 2   \n",
            "\n",
            "   CHME_LICE_COUNT  \n",
            "0                1  \n",
            "1                3  \n",
            "2                4  \n",
            "3                1  \n",
            "4                2  \n"
          ]
        }
      ]
    },
    {
      "cell_type": "markdown",
      "metadata": {
        "id": "cce52f2b"
      },
      "source": [
        "## N : 0 / Y : 1 의 각각 비율 확인"
      ],
      "id": "cce52f2b"
    },
    {
      "cell_type": "code",
      "metadata": {
        "scrolled": false,
        "id": "c0ee4c66",
        "outputId": "02d20faa-7a92-4631-952f-4e0f24476af5"
      },
      "source": [
        "df.SIU_CUST_YN.value_counts()"
      ],
      "id": "c0ee4c66",
      "execution_count": null,
      "outputs": [
        {
          "data": {
            "text/plain": [
              "N    6901\n",
              "Y     725\n",
              "Name: SIU_CUST_YN, dtype: int64"
            ]
          },
          "execution_count": 4,
          "metadata": {},
          "output_type": "execute_result"
        }
      ]
    },
    {
      "cell_type": "code",
      "metadata": {
        "scrolled": false,
        "id": "37778ece",
        "outputId": "3c78db4f-7345-4399-a2d7-e7fd768c66f6"
      },
      "source": [
        "df.SIU_CUST_YN.value_counts(normalize=True).plot(kind='bar', color = \"black\")\n",
        "print(df.SIU_CUST_YN.value_counts(normalize=True)*100)"
      ],
      "id": "37778ece",
      "execution_count": null,
      "outputs": [
        {
          "name": "stdout",
          "output_type": "stream",
          "text": [
            "N    90.49305\n",
            "Y     9.50695\n",
            "Name: SIU_CUST_YN, dtype: float64\n"
          ]
        },
        {
          "data": {
            "image/png": "[encoded data removed]",
            "text/plain": [
              "<Figure size 432x288 with 1 Axes>"
            ]
          },
          "metadata": {
            "needs_background": "light"
          },
          "output_type": "display_data"
        }
      ]
    },
    {
      "cell_type": "markdown",
      "metadata": {
        "id": "a106c69c"
      },
      "source": [
        "## 데이터 추가정제\n",
        "\n",
        "데이터에 맞춰서 하나만 실행"
      ],
      "id": "a106c69c"
    },
    {
      "cell_type": "code",
      "metadata": {
        "id": "cee662b4"
      },
      "source": [
        "#insurance data\n",
        "\n",
        "df['SIU_CUST_YN'].replace('N', 0, inplace = True)\n",
        "df['SIU_CUST_YN'].replace('Y', 1, inplace = True)\n",
        "df['FP_CAREER'].replace('N', 0, inplace = True)\n",
        "df['FP_CAREER'].replace('Y', 1, inplace = True)\n",
        "df.drop(['Unnamed: 0'], axis=1, inplace = True)\n",
        "df.drop(['EXPR_SUM'], axis=1, inplace = True)\n",
        "df.drop(['TOTALPREM'], axis=1, inplace = True)"
      ],
      "id": "cee662b4",
      "execution_count": null,
      "outputs": []
    },
    {
      "cell_type": "code",
      "metadata": {
        "scrolled": true,
        "id": "a6f6bc4e",
        "outputId": "ca4510c4-00ee-4fd0-8b7f-cf326a49e279"
      },
      "source": [
        "df.head()"
      ],
      "id": "a6f6bc4e",
      "execution_count": null,
      "outputs": [
        {
          "data": {
            "text/html": [
              "<div>\n",
              "<style scoped>\n",
              "    .dataframe tbody tr th:only-of-type {\n",
              "        vertical-align: middle;\n",
              "    }\n",
              "\n",
              "    .dataframe tbody tr th {\n",
              "        vertical-align: top;\n",
              "    }\n",
              "\n",
              "    .dataframe thead th {\n",
              "        text-align: right;\n",
              "    }\n",
              "</style>\n",
              "<table border=\"1\" class=\"dataframe\">\n",
              "  <thead>\n",
              "    <tr style=\"text-align: right;\">\n",
              "      <th></th>\n",
              "      <th>SIU_CUST_YN</th>\n",
              "      <th>SEX</th>\n",
              "      <th>AGE</th>\n",
              "      <th>FP_CAREER</th>\n",
              "      <th>OCCP_GRP</th>\n",
              "      <th>MAIN_INSR_AMT_SUM</th>\n",
              "      <th>WORK_YEARS_MIN</th>\n",
              "      <th>EXPR_COUNT</th>\n",
              "      <th>DMND_AMT_SUM</th>\n",
              "      <th>CLAIM_CNT</th>\n",
              "      <th>TOTAL_VLID_HOSP_OTDA</th>\n",
              "      <th>HOSP_VARIES</th>\n",
              "      <th>HOSP_DVSN_VARIES</th>\n",
              "      <th>CHME_LICE_COUNT</th>\n",
              "    </tr>\n",
              "  </thead>\n",
              "  <tbody>\n",
              "    <tr>\n",
              "      <th>0</th>\n",
              "      <td>0</td>\n",
              "      <td>2</td>\n",
              "      <td>4</td>\n",
              "      <td>0</td>\n",
              "      <td>1</td>\n",
              "      <td>120266433</td>\n",
              "      <td>0</td>\n",
              "      <td>8</td>\n",
              "      <td>141450</td>\n",
              "      <td>4</td>\n",
              "      <td>5</td>\n",
              "      <td>2</td>\n",
              "      <td>2</td>\n",
              "      <td>1</td>\n",
              "    </tr>\n",
              "    <tr>\n",
              "      <th>1</th>\n",
              "      <td>0</td>\n",
              "      <td>1</td>\n",
              "      <td>6</td>\n",
              "      <td>0</td>\n",
              "      <td>11</td>\n",
              "      <td>5000000</td>\n",
              "      <td>1</td>\n",
              "      <td>1</td>\n",
              "      <td>1390000</td>\n",
              "      <td>3</td>\n",
              "      <td>6</td>\n",
              "      <td>3</td>\n",
              "      <td>2</td>\n",
              "      <td>3</td>\n",
              "    </tr>\n",
              "    <tr>\n",
              "      <th>2</th>\n",
              "      <td>0</td>\n",
              "      <td>1</td>\n",
              "      <td>5</td>\n",
              "      <td>1</td>\n",
              "      <td>2</td>\n",
              "      <td>1797991770</td>\n",
              "      <td>1</td>\n",
              "      <td>24</td>\n",
              "      <td>2480000</td>\n",
              "      <td>10</td>\n",
              "      <td>21</td>\n",
              "      <td>4</td>\n",
              "      <td>3</td>\n",
              "      <td>4</td>\n",
              "    </tr>\n",
              "    <tr>\n",
              "      <th>3</th>\n",
              "      <td>0</td>\n",
              "      <td>1</td>\n",
              "      <td>5</td>\n",
              "      <td>0</td>\n",
              "      <td>17</td>\n",
              "      <td>212274240</td>\n",
              "      <td>1</td>\n",
              "      <td>6</td>\n",
              "      <td>72320</td>\n",
              "      <td>1</td>\n",
              "      <td>5</td>\n",
              "      <td>1</td>\n",
              "      <td>1</td>\n",
              "      <td>1</td>\n",
              "    </tr>\n",
              "    <tr>\n",
              "      <th>4</th>\n",
              "      <td>0</td>\n",
              "      <td>1</td>\n",
              "      <td>5</td>\n",
              "      <td>0</td>\n",
              "      <td>1</td>\n",
              "      <td>75256800</td>\n",
              "      <td>13</td>\n",
              "      <td>4</td>\n",
              "      <td>1300000</td>\n",
              "      <td>4</td>\n",
              "      <td>26</td>\n",
              "      <td>2</td>\n",
              "      <td>2</td>\n",
              "      <td>2</td>\n",
              "    </tr>\n",
              "  </tbody>\n",
              "</table>\n",
              "</div>"
            ],
            "text/plain": [
              "   SIU_CUST_YN  SEX  AGE  FP_CAREER  OCCP_GRP  MAIN_INSR_AMT_SUM  \\\n",
              "0            0    2    4          0         1          120266433   \n",
              "1            0    1    6          0        11            5000000   \n",
              "2            0    1    5          1         2         1797991770   \n",
              "3            0    1    5          0        17          212274240   \n",
              "4            0    1    5          0         1           75256800   \n",
              "\n",
              "   WORK_YEARS_MIN  EXPR_COUNT  DMND_AMT_SUM  CLAIM_CNT  TOTAL_VLID_HOSP_OTDA  \\\n",
              "0               0           8        141450          4                     5   \n",
              "1               1           1       1390000          3                     6   \n",
              "2               1          24       2480000         10                    21   \n",
              "3               1           6         72320          1                     5   \n",
              "4              13           4       1300000          4                    26   \n",
              "\n",
              "   HOSP_VARIES  HOSP_DVSN_VARIES  CHME_LICE_COUNT  \n",
              "0            2                 2                1  \n",
              "1            3                 2                3  \n",
              "2            4                 3                4  \n",
              "3            1                 1                1  \n",
              "4            2                 2                2  "
            ]
          },
          "execution_count": 7,
          "metadata": {},
          "output_type": "execute_result"
        }
      ]
    },
    {
      "cell_type": "code",
      "metadata": {
        "id": "e00590ca"
      },
      "source": [
        "X = df.iloc[:,1:] # SIU_CUST_YN을 제외한 모든 cloumn\n",
        "y = df.iloc[:,0] # SIU_CUST_YN"
      ],
      "id": "e00590ca",
      "execution_count": null,
      "outputs": []
    },
    {
      "cell_type": "code",
      "metadata": {
        "scrolled": true,
        "id": "dcd02b7c",
        "outputId": "7c5cf1fe-acc8-4447-9faa-4f1adcc9055e"
      },
      "source": [
        "# 데이터에 StartifiedKFold를 적용하기 위해서 nd.array형태로 데이터 변환\n",
        "X = X.to_numpy()\n",
        "print(type(X))"
      ],
      "id": "dcd02b7c",
      "execution_count": null,
      "outputs": [
        {
          "name": "stdout",
          "output_type": "stream",
          "text": [
            "<class 'numpy.ndarray'>\n"
          ]
        }
      ]
    },
    {
      "cell_type": "code",
      "metadata": {
        "scrolled": false,
        "id": "870935bc",
        "outputId": "9d2c0fb3-5118-4283-b97a-4d3734e8d7c4"
      },
      "source": [
        "from sklearn.preprocessing import StandardScaler\n",
        "from sklearn.model_selection import StratifiedKFold\n",
        "\n",
        "from collections import Counter\n",
        "from imblearn.over_sampling import SVMSMOTE\n",
        "from sklearn.linear_model import LogisticRegression\n",
        "\n",
        "from sklearn.metrics import confusion_matrix, accuracy_score,precision_score,recall_score,f1_score\n",
        "\n",
        "model = LogisticRegression()\n",
        "\n",
        "SK_fold = StratifiedKFold(n_splits=4)\n",
        "print(SK_fold.get_n_splits(df, df['SIU_CUST_YN']))\n",
        "\n",
        "result_data = []\n",
        "answers=[]\n",
        "result_y = []\n",
        "\n",
        "\n",
        "accuracy = []\n",
        "precision = []\n",
        "recall = []\n",
        "fscore = []\n",
        "train_idx = []\n",
        "test_idx = []\n",
        "\n",
        "for train_index, test_index in SK_fold.split(X,y):\n",
        "    print(\"TRAIN:\", train_index, \"TEST:\", test_index)\n",
        "    train_idx.append(train_index)\n",
        "    test_idx.append(test_index)\n",
        "    X_train, X_test = X[train_index], X[test_index]\n",
        "    y_train, y_test = y[train_index], y[test_index]\n",
        "    \n",
        "    #SVMSOMTE -> 오버샘플링 기법\n",
        "    SVMSOMTE = SVMSMOTE()\n",
        "    X_train_SVMSOMTE, y_train_SVMSOMTE = SVMSOMTE.fit_resample(X_train, y_train)\n",
        "    \n",
        "    print(\"Before Sampling: \",Counter(y_train))\n",
        "    print(\"After oversampling(ADASYN): \",Counter(y_train_SVMSOMTE))\n",
        "    \n",
        "    # 해당 변수를 설정해서 Sampling 방식 선택 후 머신러닝 실행\n",
        "    X_train_sampling = X_train_SVMSOMTE\n",
        "    y_train_sampling = y_train_SVMSOMTE\n",
        "    \n",
        "    scaler = StandardScaler()\n",
        "    X_train_sampling = scaler.fit_transform(X_train_sampling)\n",
        "    X_test = scaler.transform(X_test)\n",
        "    \n",
        "    # 학습 알고리즘 예시 (LogisticRegressiong - 로지스틱 회귀분석)\n",
        "    model.fit(X_train_sampling, y_train_sampling)\n",
        "    \n",
        "    # sklearn에서 제공하는 score값\n",
        "    print('score =', model.score(X_test, y_test))\n",
        "    \n",
        "    # 각 속성별 가중치 -> 절대값으로 보면됨.\n",
        "    print('coef =', model.coef_)\n",
        "    \n",
        "    print('x_result =', model.predict_proba(X_test))\n",
        "    \n",
        "    \n",
        "    result_data.append(model.predict_proba(X_test)[:,1:])\n",
        "    answers.append(y_test)\n",
        "    \n",
        "    predict_X = model.predict(X_test)\n",
        "    result_y.append(model.predict(X_test))\n",
        "    \n",
        "    print('result')\n",
        "    print(\"---------------------------\")\n",
        "    print('accuracy: %.2f' % accuracy_score(y_test, predict_X))\n",
        "    print('precision: %.2f' % precision_score(y_test, predict_X))\n",
        "    print('recall: %.2f' % recall_score(y_test, predict_X))\n",
        "    print('F1: %.2f' % f1_score(y_test, predict_X))\n",
        "    \n",
        "    \n",
        "    accuracy.append(accuracy_score(y_test, predict_X))\n",
        "    precision.append(precision_score(y_test, predict_X))\n",
        "    recall.append(recall_score(y_test, predict_X))\n",
        "    fscore.append(f1_score(y_test, predict_X))\n",
        "    \n",
        "    import seaborn as sns\n",
        "    confusion = confusion_matrix(y_true = y_test\n",
        "                             , y_pred = predict_X)\n",
        "\n",
        "    plt.figure(figsize=(6, 5))\n",
        "    sns.heatmap(confusion, annot=True, annot_kws={'size':15}, cmap='OrRd', fmt='.10g')\n",
        "    plt.title('Confusion Matrix')\n",
        "    plt.show()"
      ],
      "id": "870935bc",
      "execution_count": null,
      "outputs": [
        {
          "name": "stdout",
          "output_type": "stream",
          "text": [
            "4\n",
            "TRAIN: [1899 1900 1901 ... 7623 7624 7625] TEST: [   0    1    2 ... 1940 1942 1943]\n",
            "Before Sampling:  Counter({0: 5175, 1: 544})\n",
            "After oversampling(ADASYN):  Counter({0: 5175, 1: 5175})\n",
            "score = 0.8741478762454117\n",
            "coef = [[-0.02939438 -0.38887669 -0.13391417 -0.09005704  0.49476018 -0.16098568\n",
            "  -0.26586585  0.64562589 -0.64109966  3.54700253 -0.26506637  0.09928419\n",
            "   0.75501098]]\n",
            "x_result = [[0.88958553 0.11041447]\n",
            " [0.92668368 0.07331632]\n",
            " [0.48327677 0.51672323]\n",
            " ...\n",
            " [0.19848679 0.80151321]\n",
            " [0.71609715 0.28390285]\n",
            " [0.04941628 0.95058372]]\n",
            "result\n",
            "---------------------------\n",
            "accuracy: 0.87\n",
            "precision: 0.39\n",
            "recall: 0.55\n",
            "F1: 0.45\n"
          ]
        },
        {
          "data": {
            "image/png": "[encoded data removed]",
            "text/plain": [
              "<Figure size 432x360 with 2 Axes>"
            ]
          },
          "metadata": {
            "needs_background": "light"
          },
          "output_type": "display_data"
        },
        {
          "name": "stdout",
          "output_type": "stream",
          "text": [
            "TRAIN: [   0    1    2 ... 7623 7624 7625] TEST: [1899 1900 1901 ... 4041 4054 4058]\n",
            "Before Sampling:  Counter({0: 5176, 1: 543})\n",
            "After oversampling(ADASYN):  Counter({0: 5176, 1: 5176})\n",
            "score = 0.8930256948086\n",
            "coef = [[-0.05058924 -0.40897363 -0.25578541 -0.21666294  0.3681414  -0.20934791\n",
            "  -0.20783035  0.16306678 -0.98286192  3.07840601  2.17112284 -0.71412663\n",
            "   0.22004846]]\n",
            "x_result = [[0.89419094 0.10580906]\n",
            " [0.54749529 0.45250471]\n",
            " [0.85446874 0.14553126]\n",
            " ...\n",
            " [0.34318005 0.65681995]\n",
            " [0.28333424 0.71666576]\n",
            " [0.35864584 0.64135416]]\n",
            "result\n",
            "---------------------------\n",
            "accuracy: 0.89\n",
            "precision: 0.46\n",
            "recall: 0.63\n",
            "F1: 0.53\n"
          ]
        },
        {
          "data": {
            "image/png": "[encoded data removed]",
            "text/plain": [
              "<Figure size 432x360 with 2 Axes>"
            ]
          },
          "metadata": {
            "needs_background": "light"
          },
          "output_type": "display_data"
        },
        {
          "name": "stdout",
          "output_type": "stream",
          "text": [
            "TRAIN: [   0    1    2 ... 7623 7624 7625] TEST: [3782 3783 3784 ... 5804 5815 5820]\n",
            "Before Sampling:  Counter({0: 5176, 1: 544})\n",
            "After oversampling(ADASYN):  Counter({0: 5176, 1: 5176})\n",
            "score = 0.881427072402938\n",
            "coef = [[-0.16273393 -0.39794326  0.03115112 -0.18616351  0.40474157 -0.03701032\n",
            "  -0.17160866  1.22665635 -1.83675576  3.53332836 -0.21883602  0.09903424\n",
            "   2.20095284]]\n",
            "x_result = [[6.73086845e-01 3.26913155e-01]\n",
            " [8.07758405e-01 1.92241595e-01]\n",
            " [8.21960817e-01 1.78039183e-01]\n",
            " ...\n",
            " [3.48015426e-01 6.51984574e-01]\n",
            " [3.40152289e-06 9.99996598e-01]\n",
            " [7.86315075e-01 2.13684925e-01]]\n",
            "result\n",
            "---------------------------\n",
            "accuracy: 0.88\n",
            "precision: 0.40\n",
            "recall: 0.49\n",
            "F1: 0.44\n"
          ]
        },
        {
          "data": {
            "image/png": "[encoded data removed]",
            "text/plain": [
              "<Figure size 432x360 with 2 Axes>"
            ]
          },
          "metadata": {
            "needs_background": "light"
          },
          "output_type": "display_data"
        },
        {
          "name": "stdout",
          "output_type": "stream",
          "text": [
            "TRAIN: [   0    1    2 ... 5804 5815 5820] TEST: [5710 5711 5712 ... 7623 7624 7625]\n",
            "Before Sampling:  Counter({0: 5176, 1: 544})\n",
            "After oversampling(ADASYN):  Counter({0: 5176, 1: 5176})\n",
            "score = 0.8835257082896117\n",
            "coef = [[-0.16311453 -0.47226858  0.07496877 -0.19959817  0.39088006 -0.13072152\n",
            "  -0.18871365  0.02498206 -0.91753607  4.46699177 -0.11779059 -0.01918906\n",
            "   1.28720685]]\n",
            "x_result = [[0.89132682 0.10867318]\n",
            " [0.92145786 0.07854214]\n",
            " [0.58924107 0.41075893]\n",
            " ...\n",
            " [0.93541785 0.06458215]\n",
            " [0.87706987 0.12293013]\n",
            " [0.18932744 0.81067256]]\n",
            "result\n",
            "---------------------------\n",
            "accuracy: 0.88\n",
            "precision: 0.41\n",
            "recall: 0.53\n",
            "F1: 0.46\n"
          ]
        },
        {
          "data": {
            "image/png": "[encoded data removed]",
            "text/plain": [
              "<Figure size 432x360 with 2 Axes>"
            ]
          },
          "metadata": {
            "needs_background": "light"
          },
          "output_type": "display_data"
        }
      ]
    },
    {
      "cell_type": "markdown",
      "metadata": {
        "id": "68d58b06"
      },
      "source": [
        "## 교차검증 평균 값"
      ],
      "id": "68d58b06"
    },
    {
      "cell_type": "code",
      "metadata": {
        "id": "28360c6d"
      },
      "source": [
        "import itertools\n",
        "answers = list(itertools.chain.from_iterable(answers))\n",
        "result_y = list(itertools.chain.from_iterable(result_y))"
      ],
      "id": "28360c6d",
      "execution_count": null,
      "outputs": []
    },
    {
      "cell_type": "code",
      "metadata": {
        "id": "e9199f6c"
      },
      "source": [
        "confusion = confusion_matrix(y_true = result_y\n",
        "                             , y_pred = answers)"
      ],
      "id": "e9199f6c",
      "execution_count": null,
      "outputs": []
    },
    {
      "cell_type": "code",
      "metadata": {
        "scrolled": false,
        "id": "27a6b10f",
        "outputId": "f13ae231-fa6f-449c-aeaf-48bed3e40972"
      },
      "source": [
        "plt.figure(figsize=(6, 5))\n",
        "sns.heatmap(confusion, annot=True, annot_kws={'size':15}, cmap='OrRd', fmt='.10g')\n",
        "plt.title('Confusion Matrix')\n",
        "plt.show()"
      ],
      "id": "27a6b10f",
      "execution_count": null,
      "outputs": [
        {
          "data": {
            "image/png": "[encoded data removed]",
            "text/plain": [
              "<Figure size 432x360 with 2 Axes>"
            ]
          },
          "metadata": {
            "needs_background": "light"
          },
          "output_type": "display_data"
        }
      ]
    },
    {
      "cell_type": "code",
      "metadata": {
        "scrolled": false,
        "id": "48dcda9d",
        "outputId": "1009e23f-a415-4b7f-caba-f32ec44a32c2"
      },
      "source": [
        "print('mean')\n",
        "print(\"---------------------------\")\n",
        "print('accuracy: %.2f' % (sum(accuracy)/len(accuracy)))\n",
        "print('precision: %.2f' % (sum(precision)/len(precision)))\n",
        "print('recall: %.2f' % (sum(recall)/len(recall)))\n",
        "print('F1: %.2f' % (sum(fscore)/len(fscore)))"
      ],
      "id": "48dcda9d",
      "execution_count": null,
      "outputs": [
        {
          "name": "stdout",
          "output_type": "stream",
          "text": [
            "mean\n",
            "---------------------------\n",
            "accuracy: 0.88\n",
            "precision: 0.41\n",
            "recall: 0.55\n",
            "F1: 0.47\n"
          ]
        }
      ]
    },
    {
      "cell_type": "markdown",
      "metadata": {
        "id": "62be5c36"
      },
      "source": [
        "## 데이터 확인 및 정제"
      ],
      "id": "62be5c36"
    },
    {
      "cell_type": "code",
      "metadata": {
        "id": "17cda78f"
      },
      "source": [
        "result_data = list(itertools.chain.from_iterable(result_data))\n",
        "result_data = list(map(float, result_data))"
      ],
      "id": "17cda78f",
      "execution_count": null,
      "outputs": []
    },
    {
      "cell_type": "code",
      "metadata": {
        "id": "6d7b5c0f"
      },
      "source": [
        "# datas => 정답여부 \n",
        "# test_idx => test_index의 index number\n",
        "# answers => y_test(정답)\n",
        "# result_data => train 후 test_X를 활용해 예측된 결과값\n",
        "\n",
        "datas = []\n",
        "for i in range(len(answers)):\n",
        "    if answers[i] == 1:\n",
        "        if result_data[i] >=0.5:\n",
        "            datas.append(1)\n",
        "        else :\n",
        "            datas.append(0)\n",
        "            \n",
        "    elif answers[i] == 0:\n",
        "        if result_data[i] <0.5:\n",
        "            datas.append(1)\n",
        "        else :\n",
        "            datas.append(0)\n",
        "        "
      ],
      "id": "6d7b5c0f",
      "execution_count": null,
      "outputs": []
    },
    {
      "cell_type": "code",
      "metadata": {
        "id": "4e7fe1a7"
      },
      "source": [
        "status = []\n",
        "for i in range(len(answers)):\n",
        "    if result_data[i] <0.5:\n",
        "        status.append('주의')\n",
        "    elif result_data[i] <0.7:\n",
        "        status.append('경계')\n",
        "    else:\n",
        "        status.append('위험')\n",
        "            "
      ],
      "id": "4e7fe1a7",
      "execution_count": null,
      "outputs": []
    },
    {
      "cell_type": "code",
      "metadata": {
        "id": "a4f99413",
        "outputId": "0f732909-04c3-451a-c3df-e3bf1f47700b"
      },
      "source": [
        "print(len(answers), len(result_data), len(datas), len(status))"
      ],
      "id": "a4f99413",
      "execution_count": null,
      "outputs": [
        {
          "name": "stdout",
          "output_type": "stream",
          "text": [
            "7626 7626 7626 7626\n"
          ]
        }
      ]
    },
    {
      "cell_type": "code",
      "metadata": {
        "id": "da024af1",
        "outputId": "d6fd208c-c655-4ff6-e569-0296f5bb0e2b"
      },
      "source": [
        "print(type(answers), type(answers[0]))\n",
        "print(type(result_data), type(result_data[0]))\n",
        "print(type(datas), type(datas[0]))\n",
        "print(type(status), type(status[0]))"
      ],
      "id": "da024af1",
      "execution_count": null,
      "outputs": [
        {
          "name": "stdout",
          "output_type": "stream",
          "text": [
            "<class 'list'> <class 'int'>\n",
            "<class 'list'> <class 'float'>\n",
            "<class 'list'> <class 'int'>\n",
            "<class 'list'> <class 'str'>\n"
          ]
        }
      ]
    },
    {
      "cell_type": "code",
      "metadata": {
        "id": "f69172cb"
      },
      "source": [
        "df_result = pd.DataFrame({'answers':answers,'result_data':result_data,'datas':datas, 'status':status})"
      ],
      "id": "f69172cb",
      "execution_count": null,
      "outputs": []
    },
    {
      "cell_type": "code",
      "metadata": {
        "scrolled": true,
        "id": "4c681f0c",
        "outputId": "57820981-94f8-4b8c-cf8a-f981f64e7ac2"
      },
      "source": [
        "df_result\n",
        "# column 조치사항 result_data(예측 확률) 기준'주의'(0.0~0.5),'경계'(0.5~0.7),'위험'(0,7~1.0)"
      ],
      "id": "4c681f0c",
      "execution_count": null,
      "outputs": [
        {
          "data": {
            "text/html": [
              "<div>\n",
              "<style scoped>\n",
              "    .dataframe tbody tr th:only-of-type {\n",
              "        vertical-align: middle;\n",
              "    }\n",
              "\n",
              "    .dataframe tbody tr th {\n",
              "        vertical-align: top;\n",
              "    }\n",
              "\n",
              "    .dataframe thead th {\n",
              "        text-align: right;\n",
              "    }\n",
              "</style>\n",
              "<table border=\"1\" class=\"dataframe\">\n",
              "  <thead>\n",
              "    <tr style=\"text-align: right;\">\n",
              "      <th></th>\n",
              "      <th>answers</th>\n",
              "      <th>result_data</th>\n",
              "      <th>datas</th>\n",
              "      <th>status</th>\n",
              "    </tr>\n",
              "  </thead>\n",
              "  <tbody>\n",
              "    <tr>\n",
              "      <th>0</th>\n",
              "      <td>0</td>\n",
              "      <td>0.110414</td>\n",
              "      <td>1</td>\n",
              "      <td>주의</td>\n",
              "    </tr>\n",
              "    <tr>\n",
              "      <th>1</th>\n",
              "      <td>0</td>\n",
              "      <td>0.073316</td>\n",
              "      <td>1</td>\n",
              "      <td>주의</td>\n",
              "    </tr>\n",
              "    <tr>\n",
              "      <th>2</th>\n",
              "      <td>0</td>\n",
              "      <td>0.516723</td>\n",
              "      <td>0</td>\n",
              "      <td>경계</td>\n",
              "    </tr>\n",
              "    <tr>\n",
              "      <th>3</th>\n",
              "      <td>0</td>\n",
              "      <td>0.091033</td>\n",
              "      <td>1</td>\n",
              "      <td>주의</td>\n",
              "    </tr>\n",
              "    <tr>\n",
              "      <th>4</th>\n",
              "      <td>0</td>\n",
              "      <td>0.111435</td>\n",
              "      <td>1</td>\n",
              "      <td>주의</td>\n",
              "    </tr>\n",
              "    <tr>\n",
              "      <th>...</th>\n",
              "      <td>...</td>\n",
              "      <td>...</td>\n",
              "      <td>...</td>\n",
              "      <td>...</td>\n",
              "    </tr>\n",
              "    <tr>\n",
              "      <th>7621</th>\n",
              "      <td>0</td>\n",
              "      <td>0.146864</td>\n",
              "      <td>1</td>\n",
              "      <td>주의</td>\n",
              "    </tr>\n",
              "    <tr>\n",
              "      <th>7622</th>\n",
              "      <td>0</td>\n",
              "      <td>0.133251</td>\n",
              "      <td>1</td>\n",
              "      <td>주의</td>\n",
              "    </tr>\n",
              "    <tr>\n",
              "      <th>7623</th>\n",
              "      <td>0</td>\n",
              "      <td>0.064582</td>\n",
              "      <td>1</td>\n",
              "      <td>주의</td>\n",
              "    </tr>\n",
              "    <tr>\n",
              "      <th>7624</th>\n",
              "      <td>0</td>\n",
              "      <td>0.122930</td>\n",
              "      <td>1</td>\n",
              "      <td>주의</td>\n",
              "    </tr>\n",
              "    <tr>\n",
              "      <th>7625</th>\n",
              "      <td>0</td>\n",
              "      <td>0.810673</td>\n",
              "      <td>0</td>\n",
              "      <td>위험</td>\n",
              "    </tr>\n",
              "  </tbody>\n",
              "</table>\n",
              "<p>7626 rows × 4 columns</p>\n",
              "</div>"
            ],
            "text/plain": [
              "      answers  result_data  datas status\n",
              "0           0     0.110414      1     주의\n",
              "1           0     0.073316      1     주의\n",
              "2           0     0.516723      0     경계\n",
              "3           0     0.091033      1     주의\n",
              "4           0     0.111435      1     주의\n",
              "...       ...          ...    ...    ...\n",
              "7621        0     0.146864      1     주의\n",
              "7622        0     0.133251      1     주의\n",
              "7623        0     0.064582      1     주의\n",
              "7624        0     0.122930      1     주의\n",
              "7625        0     0.810673      0     위험\n",
              "\n",
              "[7626 rows x 4 columns]"
            ]
          },
          "execution_count": 21,
          "metadata": {},
          "output_type": "execute_result"
        }
      ]
    },
    {
      "cell_type": "code",
      "metadata": {
        "id": "ab801854"
      },
      "source": [
        "df_result.to_csv('result.csv')"
      ],
      "id": "ab801854",
      "execution_count": null,
      "outputs": []
    },
    {
      "cell_type": "markdown",
      "metadata": {
        "id": "f6d3a8b6"
      },
      "source": [
        "## 결과 데이터 정제"
      ],
      "id": "f6d3a8b6"
    },
    {
      "cell_type": "code",
      "metadata": {
        "id": "0c7c6b1a"
      },
      "source": [
        "y1 = np.array([0 for i in range(10)])\n",
        "# result_data(예측된 확률값)을 기준으로 0~0.1/0.1~0.2/0.2~0.3/.../0.9~1.0으로 총 10가지로 분류\n",
        "# datas(정답여부)를 기준으로 정답인 데이터들만 추가함. \n",
        "count = 0\n",
        "for i in df_result['datas']:\n",
        "    if i==1 and df_result['result_data'][count] < 0.1 :\n",
        "        y1[0] +=1\n",
        "    elif i==1 and df_result['result_data'][count] < 0.2 :\n",
        "        y1[1] +=1\n",
        "    elif i==1 and df_result['result_data'][count] < 0.3 :\n",
        "        y1[2] +=1\n",
        "    elif i==1 and df_result['result_data'][count] < 0.4 :\n",
        "        y1[3] +=1\n",
        "    elif i==1 and df_result['result_data'][count] < 0.5 :\n",
        "        y1[4] +=1\n",
        "    elif i==1 and df_result['result_data'][count] < 0.6 :\n",
        "        y1[5] +=1\n",
        "    elif i==1 and df_result['result_data'][count] < 0.7 :\n",
        "        y1[6] +=1\n",
        "    elif i==1 and df_result['result_data'][count] < 0.8 :\n",
        "        y1[7] +=1\n",
        "    elif i==1 and df_result['result_data'][count] < 0.9 :\n",
        "        y1[8] +=1\n",
        "    elif i==1 and df_result['result_data'][count] <= 1 :\n",
        "        y1[9] +=1\n",
        "    count+=1"
      ],
      "id": "0c7c6b1a",
      "execution_count": null,
      "outputs": []
    },
    {
      "cell_type": "code",
      "metadata": {
        "id": "c4713904"
      },
      "source": [
        "y3 = np.array([0 for i in range(10)])\n",
        "# result_data(예측된 확률값)을 기준으로 0~0.1/0.1~0.2/0.2~0.3/.../0.9~1.0으로 총 10가지로 분류\n",
        "# datas(정답여부)를 기준으로 오답인 데이터들만 추가함. \n",
        "count = 0\n",
        "for i in df_result['datas']:\n",
        "    if i==0 and df_result['result_data'][count] < 0.1 :\n",
        "        y3[0] +=1\n",
        "    elif i==0 and df_result['result_data'][count] < 0.2 :\n",
        "        y3[1] +=1\n",
        "    elif i==0 and df_result['result_data'][count] < 0.3 :\n",
        "        y3[2] +=1\n",
        "    elif i==0 and df_result['result_data'][count] < 0.4 :\n",
        "        y3[3] +=1\n",
        "    elif i==0 and df_result['result_data'][count] < 0.5 :\n",
        "        y3[4] +=1\n",
        "    elif i==0 and df_result['result_data'][count] < 0.6 :\n",
        "        y3[5] +=1\n",
        "    elif i==0 and df_result['result_data'][count] < 0.7 :\n",
        "        y3[6] +=1\n",
        "    elif i==0 and df_result['result_data'][count] < 0.8 :\n",
        "        y3[7] +=1\n",
        "    elif i==0 and df_result['result_data'][count] < 0.9 :\n",
        "        y3[8] +=1\n",
        "    elif i==0 and df_result['result_data'][count] <= 1 :\n",
        "        y3[9] +=1\n",
        "    count+=1"
      ],
      "id": "c4713904",
      "execution_count": null,
      "outputs": []
    },
    {
      "cell_type": "code",
      "metadata": {
        "id": "ac275ff7"
      },
      "source": [
        "y2 =  np.array([0 for i in range(10)])\n",
        "# result_data(예측된 확률값)을 기준으로 0~0.1/0.1~0.2/0.2~0.3/.../0.9~1.0으로 총 10가지로 분류\n",
        "# datas(정답여부)와 상관없이 모든 데이터를 추가함 \n",
        "for count in range(len(df_result['result_data'])):\n",
        "    if df_result['result_data'][count] < 0.1 :\n",
        "        y2[0] +=1\n",
        "    elif df_result['result_data'][count] < 0.2 :\n",
        "        y2[1] +=1\n",
        "    elif df_result['result_data'][count] < 0.3 :\n",
        "        y2[2] +=1\n",
        "    elif df_result['result_data'][count] < 0.4 :\n",
        "        y2[3]+=1\n",
        "    elif df_result['result_data'][count] < 0.5 :\n",
        "        y2[4] +=1\n",
        "    elif df_result['result_data'][count] < 0.6 :\n",
        "        y2[5] +=1\n",
        "    elif df_result['result_data'][count] < 0.7 :\n",
        "        y2[6] +=1\n",
        "    elif df_result['result_data'][count] < 0.8 :\n",
        "        y2[7] +=1\n",
        "    elif df_result['result_data'][count] < 0.9 :\n",
        "        y2[8] +=1\n",
        "    elif df_result['result_data'][count] <= 1:\n",
        "        y2[9] +=1"
      ],
      "id": "ac275ff7",
      "execution_count": null,
      "outputs": []
    },
    {
      "cell_type": "code",
      "metadata": {
        "id": "5e257193"
      },
      "source": [
        "df = pd.DataFrame({'correct':y1,'all':y2,'wrong':y3})\n",
        "# 정답, 전체, 오답 순"
      ],
      "id": "5e257193",
      "execution_count": null,
      "outputs": []
    },
    {
      "cell_type": "code",
      "metadata": {
        "id": "90df32f6",
        "outputId": "b52ce45b-174f-400c-f865-a4163c3fafd3"
      },
      "source": [
        "print(df)"
      ],
      "id": "90df32f6",
      "execution_count": null,
      "outputs": [
        {
          "name": "stdout",
          "output_type": "stream",
          "text": [
            "   correct   all  wrong\n",
            "0     2128  2186     58\n",
            "1     2817  2923    106\n",
            "2      866   934     68\n",
            "3      352   399     47\n",
            "4      174   223     49\n",
            "5       33   181    148\n",
            "6       37   148    111\n",
            "7       41   130     89\n",
            "8       47   119     72\n",
            "9      239   383    144\n"
          ]
        }
      ]
    },
    {
      "cell_type": "markdown",
      "metadata": {
        "id": "b0dc285f"
      },
      "source": [
        "## 데이터 시각화"
      ],
      "id": "b0dc285f"
    },
    {
      "cell_type": "code",
      "metadata": {
        "id": "a086326a"
      },
      "source": [
        "x =  np.array([i for i in range(10)])"
      ],
      "id": "a086326a",
      "execution_count": null,
      "outputs": []
    },
    {
      "cell_type": "code",
      "metadata": {
        "id": "83316a3d",
        "outputId": "42bd6514-d942-4489-c0e3-ddc7915ec1c5"
      },
      "source": [
        "# 예측한 전체 데이터 갯수\n",
        "\n",
        "tick_size = 13 ## 눈금 폰트 사이즈\n",
        "axis_label_size = 15 ## x축, y축 폰트 사이즈\n",
        "\n",
        "fig = plt.figure(figsize=(10,10)) ## Figure 생성 사이즈는 10 by 10\n",
        "ax = fig.add_subplot() ## Axes 추가\n",
        "bars = plt.bar(x,y2, width=0.5, color = 'orange')\n",
        "plt.xlabel('result')\n",
        "plt.ylabel('count')\n",
        "\n",
        "for i, b in enumerate(bars):\n",
        "    ax.text(b.get_x()+b.get_width()*(1/2),b.get_height()+0.1, \\\n",
        "                y2[i],ha='center',fontsize=13)\n",
        "xtick_label_position = list(range(len(x)))\n",
        "plt.xticks(xtick_label_position, x, fontsize=tick_size)\n",
        "\n",
        "plt.show()"
      ],
      "id": "83316a3d",
      "execution_count": null,
      "outputs": [
        {
          "data": {
            "image/png": "[encoded data removed]",
            "text/plain": [
              "<Figure size 720x720 with 1 Axes>"
            ]
          },
          "metadata": {
            "needs_background": "light"
          },
          "output_type": "display_data"
        }
      ]
    },
    {
      "cell_type": "code",
      "metadata": {
        "id": "a7478523",
        "outputId": "83a08d16-0a50-4e91-c0ec-c3af1f4b27ad"
      },
      "source": [
        "# 정답 갯수\n",
        "\n",
        "tick_size = 13 ## 눈금 폰트 사이즈\n",
        "axis_label_size = 15 ## x축, y축 폰트 사이즈\n",
        "\n",
        "fig = plt.figure(figsize=(10,10)) ## Figure 생성 사이즈는 10 by 10\n",
        "ax = fig.add_subplot() ## Axes 추가\n",
        "bars = plt.bar(x,y1, width=0.5, color ='green')\n",
        "plt.xlabel('result')\n",
        "plt.ylabel('count')\n",
        "\n",
        "for i, b in enumerate(bars):\n",
        "    ax.text(b.get_x()+b.get_width()*(1/2),b.get_height()+0.1, \\\n",
        "                y1[i],ha='center',fontsize=13)\n",
        "xtick_label_position = list(range(len(x)))\n",
        "plt.xticks(xtick_label_position, x, fontsize=tick_size)\n",
        "\n",
        "plt.show()"
      ],
      "id": "a7478523",
      "execution_count": null,
      "outputs": [
        {
          "data": {
            "image/png": "[encoded data removed]",
            "text/plain": [
              "<Figure size 720x720 with 1 Axes>"
            ]
          },
          "metadata": {
            "needs_background": "light"
          },
          "output_type": "display_data"
        }
      ]
    },
    {
      "cell_type": "code",
      "metadata": {
        "id": "2c94f8a2",
        "outputId": "42074eaa-bbac-4d62-ffd7-bedacbd037ae"
      },
      "source": [
        "# 오답 갯수\n",
        "\n",
        "tick_size = 13 ## 눈금 폰트 사이즈\n",
        "axis_label_size = 15 ## x축, y축 폰트 사이즈\n",
        "\n",
        "fig = plt.figure(figsize=(10,10)) ## Figure 생성 사이즈는 10 by 10\n",
        "ax = fig.add_subplot() ## Axes 추가\n",
        "bars = plt.bar(x,y3, width=0.5, color ='blue')\n",
        "plt.xlabel('result')\n",
        "plt.ylabel('count')\n",
        "\n",
        "for i, b in enumerate(bars):\n",
        "    ax.text(b.get_x()+b.get_width()*(1/2),b.get_height()+0.1, \\\n",
        "                y3[i],ha='center',fontsize=13)\n",
        "xtick_label_position = list(range(len(x)))\n",
        "plt.xticks(xtick_label_position, x, fontsize=tick_size)\n",
        "\n",
        "plt.show()"
      ],
      "id": "2c94f8a2",
      "execution_count": null,
      "outputs": [
        {
          "data": {
            "image/png": "[encoded data removed]",
            "text/plain": [
              "<Figure size 720x720 with 1 Axes>"
            ]
          },
          "metadata": {
            "needs_background": "light"
          },
          "output_type": "display_data"
        }
      ]
    },
    {
      "cell_type": "code",
      "metadata": {
        "id": "fce19779",
        "outputId": "c4e6b732-60fe-4cc1-def9-e0680caa9c9d"
      },
      "source": [
        "import matplotlib.pyplot as plt\n",
        "# 주황으로 보이는 부분(+숫자)이 오답이라고 생각하면 됨.\n",
        "\n",
        "tick_size = 13 ## 눈금 폰트 사이즈\n",
        "axis_label_size = 15 ## x축, y축 폰트 사이즈\n",
        "\n",
        "fig = plt.figure(figsize=(10,10)) ## Figure 생성 사이즈는 10 by 10\n",
        "ax = fig.add_subplot() ## Axes 추가\n",
        "bars = plt.bar(x,y2, width=0.5, color = 'orange')\n",
        "bars2 = plt.bar(x,y1, width=0.5, color ='green')\n",
        "plt.xlabel('result')\n",
        "plt.ylabel('count')\n",
        "\n",
        "for i, b in enumerate(bars2):\n",
        "    ax.text(b.get_x()+b.get_width()*(1/2),b.get_height()+0.1, \\\n",
        "                y2[i]-y1[i],ha='center',fontsize=13)\n",
        "    \n",
        "xtick_label_position = list(range(len(x)))\n",
        "plt.xticks(xtick_label_position, x, fontsize=tick_size)\n",
        "\n",
        "plt.show()"
      ],
      "id": "fce19779",
      "execution_count": null,
      "outputs": [
        {
          "data": {
            "image/png": "[encoded data removed]",
            "text/plain": [
              "<Figure size 720x720 with 1 Axes>"
            ]
          },
          "metadata": {
            "needs_background": "light"
          },
          "output_type": "display_data"
        }
      ]
    },
    {
      "cell_type": "code",
      "metadata": {
        "id": "6e949892",
        "outputId": "f08d918f-0f00-4e6e-a8c3-6941b956eefb"
      },
      "source": [
        "import matplotlib.pyplot as plt\n",
        "from matplotlib import rc\n",
        "%matplotlib inline\n",
        "rc('font', family='AppleGothic')\n",
        "\n",
        "# 주황으로 보이는 부분이 오답이라고 생각하면 됨.\n",
        "bins = np.arange(4) - 0.5\n",
        "ys, xs, patches = plt.hist(df_result['status'], color = 'black',bins=bins, rwidth=0.4,)\n",
        "for i in range(0, len(ys)):\n",
        "    ## 앞에서 plt.hist 가 리턴하는 값이 bar의 x, y좌표이기 때문에 \n",
        "    ## 이 값을 이용해서 글자를 어디에 넣을지 결정해줌. \n",
        "    plt.text(x=xs[i]+0.35, y=ys[i]+0.015, \n",
        "             s='{:0>4.1f}%'.format(ys[i]/len(df_result)*100), ## 넣을 스트링\n",
        "             fontsize=10,## 크기 \n",
        "             color='black',)\n",
        "plt.xlabel('result')\n",
        "plt.xticks(['주의','경계','위험'])\n",
        "plt.ylabel('count')\n",
        "plt.show()\n"
      ],
      "id": "6e949892",
      "execution_count": null,
      "outputs": [
        {
          "data": {
            "image/png": "[encoded data removed]",
            "text/plain": [
              "<Figure size 432x288 with 1 Axes>"
            ]
          },
          "metadata": {
            "needs_background": "light"
          },
          "output_type": "display_data"
        }
      ]
    },
    {
      "cell_type": "code",
      "metadata": {
        "id": "3ecdf236"
      },
      "source": [
        ""
      ],
      "id": "3ecdf236",
      "execution_count": null,
      "outputs": []
    }
  ]
}