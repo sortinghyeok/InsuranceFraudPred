{
 "cells": [
  {
   "cell_type": "code",
   "execution_count": 64,
   "id": "b889da62",
   "metadata": {},
   "outputs": [],
   "source": [
    "#모듈import\n",
    "import numpy as np\n",
    "import pandas as pd\n",
    "import seaborn as sns\n",
    "import matplotlib.pyplot as plt\n",
    "\n",
    "from sklearn.model_selection import train_test_split\n",
    "from sklearn.metrics import confusion_matrix, accuracy_score\n",
    "from sklearn.metrics import confusion_matrix\n",
    "from sklearn.metrics import accuracy_score, precision_score, recall_score, f1_score\n",
    "from sklearn.svm import SVC\n",
    "from imblearn.over_sampling import SMOTE\n",
    "from sklearn.metrics import classification_report, roc_auc_score"
   ]
  },
  {
   "cell_type": "code",
   "execution_count": 68,
   "id": "c826668b",
   "metadata": {
    "scrolled": true
   },
   "outputs": [
    {
     "data": {
      "text/html": [
       "<div>\n",
       "<style scoped>\n",
       "    .dataframe tbody tr th:only-of-type {\n",
       "        vertical-align: middle;\n",
       "    }\n",
       "\n",
       "    .dataframe tbody tr th {\n",
       "        vertical-align: top;\n",
       "    }\n",
       "\n",
       "    .dataframe thead th {\n",
       "        text-align: right;\n",
       "    }\n",
       "</style>\n",
       "<table border=\"1\" class=\"dataframe\">\n",
       "  <thead>\n",
       "    <tr style=\"text-align: right;\">\n",
       "      <th></th>\n",
       "      <th>Unnamed: 0</th>\n",
       "      <th>SIU_CUST_YN</th>\n",
       "      <th>SEX</th>\n",
       "      <th>AGE</th>\n",
       "      <th>FP_CAREER</th>\n",
       "      <th>OCCP_GRP</th>\n",
       "      <th>TOTALPREM</th>\n",
       "      <th>MAIN_INSR_AMT_SUM</th>\n",
       "      <th>WORK_YEARS_MIN</th>\n",
       "      <th>EXPR_COUNT</th>\n",
       "      <th>DMND_AMT_SUM</th>\n",
       "      <th>CLAIM_CNT</th>\n",
       "      <th>TOTAL_VLID_HOSP_OTDA</th>\n",
       "      <th>HOSP_VARIES</th>\n",
       "      <th>HOSP_DVSN_VARIES</th>\n",
       "      <th>CHME_LICE_COUNT</th>\n",
       "    </tr>\n",
       "  </thead>\n",
       "  <tbody>\n",
       "    <tr>\n",
       "      <th>0</th>\n",
       "      <td>0</td>\n",
       "      <td>N</td>\n",
       "      <td>2</td>\n",
       "      <td>4</td>\n",
       "      <td>N</td>\n",
       "      <td>1</td>\n",
       "      <td>14</td>\n",
       "      <td>120266433</td>\n",
       "      <td>0</td>\n",
       "      <td>8</td>\n",
       "      <td>141450</td>\n",
       "      <td>4</td>\n",
       "      <td>5</td>\n",
       "      <td>2</td>\n",
       "      <td>2</td>\n",
       "      <td>1</td>\n",
       "    </tr>\n",
       "    <tr>\n",
       "      <th>1</th>\n",
       "      <td>1</td>\n",
       "      <td>N</td>\n",
       "      <td>1</td>\n",
       "      <td>6</td>\n",
       "      <td>N</td>\n",
       "      <td>11</td>\n",
       "      <td>2</td>\n",
       "      <td>5000000</td>\n",
       "      <td>1</td>\n",
       "      <td>1</td>\n",
       "      <td>1390000</td>\n",
       "      <td>3</td>\n",
       "      <td>6</td>\n",
       "      <td>3</td>\n",
       "      <td>2</td>\n",
       "      <td>3</td>\n",
       "    </tr>\n",
       "    <tr>\n",
       "      <th>2</th>\n",
       "      <td>2</td>\n",
       "      <td>N</td>\n",
       "      <td>1</td>\n",
       "      <td>5</td>\n",
       "      <td>Y</td>\n",
       "      <td>2</td>\n",
       "      <td>15</td>\n",
       "      <td>1797991770</td>\n",
       "      <td>1</td>\n",
       "      <td>24</td>\n",
       "      <td>2480000</td>\n",
       "      <td>10</td>\n",
       "      <td>21</td>\n",
       "      <td>4</td>\n",
       "      <td>3</td>\n",
       "      <td>4</td>\n",
       "    </tr>\n",
       "    <tr>\n",
       "      <th>3</th>\n",
       "      <td>3</td>\n",
       "      <td>N</td>\n",
       "      <td>1</td>\n",
       "      <td>5</td>\n",
       "      <td>N</td>\n",
       "      <td>17</td>\n",
       "      <td>13</td>\n",
       "      <td>212274240</td>\n",
       "      <td>1</td>\n",
       "      <td>6</td>\n",
       "      <td>72320</td>\n",
       "      <td>1</td>\n",
       "      <td>5</td>\n",
       "      <td>1</td>\n",
       "      <td>1</td>\n",
       "      <td>1</td>\n",
       "    </tr>\n",
       "    <tr>\n",
       "      <th>4</th>\n",
       "      <td>4</td>\n",
       "      <td>N</td>\n",
       "      <td>1</td>\n",
       "      <td>5</td>\n",
       "      <td>N</td>\n",
       "      <td>1</td>\n",
       "      <td>3</td>\n",
       "      <td>75256800</td>\n",
       "      <td>13</td>\n",
       "      <td>4</td>\n",
       "      <td>1300000</td>\n",
       "      <td>4</td>\n",
       "      <td>26</td>\n",
       "      <td>2</td>\n",
       "      <td>2</td>\n",
       "      <td>2</td>\n",
       "    </tr>\n",
       "    <tr>\n",
       "      <th>...</th>\n",
       "      <td>...</td>\n",
       "      <td>...</td>\n",
       "      <td>...</td>\n",
       "      <td>...</td>\n",
       "      <td>...</td>\n",
       "      <td>...</td>\n",
       "      <td>...</td>\n",
       "      <td>...</td>\n",
       "      <td>...</td>\n",
       "      <td>...</td>\n",
       "      <td>...</td>\n",
       "      <td>...</td>\n",
       "      <td>...</td>\n",
       "      <td>...</td>\n",
       "      <td>...</td>\n",
       "      <td>...</td>\n",
       "    </tr>\n",
       "    <tr>\n",
       "      <th>7621</th>\n",
       "      <td>7621</td>\n",
       "      <td>N</td>\n",
       "      <td>2</td>\n",
       "      <td>4</td>\n",
       "      <td>N</td>\n",
       "      <td>3</td>\n",
       "      <td>0</td>\n",
       "      <td>120000000</td>\n",
       "      <td>0</td>\n",
       "      <td>3</td>\n",
       "      <td>519989</td>\n",
       "      <td>5</td>\n",
       "      <td>13</td>\n",
       "      <td>2</td>\n",
       "      <td>2</td>\n",
       "      <td>2</td>\n",
       "    </tr>\n",
       "    <tr>\n",
       "      <th>7622</th>\n",
       "      <td>7622</td>\n",
       "      <td>N</td>\n",
       "      <td>2</td>\n",
       "      <td>5</td>\n",
       "      <td>N</td>\n",
       "      <td>2</td>\n",
       "      <td>22</td>\n",
       "      <td>981195605</td>\n",
       "      <td>6</td>\n",
       "      <td>15</td>\n",
       "      <td>100000</td>\n",
       "      <td>1</td>\n",
       "      <td>0</td>\n",
       "      <td>1</td>\n",
       "      <td>1</td>\n",
       "      <td>1</td>\n",
       "    </tr>\n",
       "    <tr>\n",
       "      <th>7623</th>\n",
       "      <td>7623</td>\n",
       "      <td>N</td>\n",
       "      <td>2</td>\n",
       "      <td>5</td>\n",
       "      <td>N</td>\n",
       "      <td>8</td>\n",
       "      <td>0</td>\n",
       "      <td>50000000</td>\n",
       "      <td>5</td>\n",
       "      <td>1</td>\n",
       "      <td>73300</td>\n",
       "      <td>1</td>\n",
       "      <td>2</td>\n",
       "      <td>1</td>\n",
       "      <td>1</td>\n",
       "      <td>1</td>\n",
       "    </tr>\n",
       "    <tr>\n",
       "      <th>7624</th>\n",
       "      <td>7624</td>\n",
       "      <td>N</td>\n",
       "      <td>2</td>\n",
       "      <td>4</td>\n",
       "      <td>N</td>\n",
       "      <td>3</td>\n",
       "      <td>0</td>\n",
       "      <td>65000000</td>\n",
       "      <td>2</td>\n",
       "      <td>2</td>\n",
       "      <td>1081494</td>\n",
       "      <td>1</td>\n",
       "      <td>3</td>\n",
       "      <td>1</td>\n",
       "      <td>1</td>\n",
       "      <td>1</td>\n",
       "    </tr>\n",
       "    <tr>\n",
       "      <th>7625</th>\n",
       "      <td>7625</td>\n",
       "      <td>N</td>\n",
       "      <td>1</td>\n",
       "      <td>3</td>\n",
       "      <td>N</td>\n",
       "      <td>8</td>\n",
       "      <td>0</td>\n",
       "      <td>144754839</td>\n",
       "      <td>3</td>\n",
       "      <td>2</td>\n",
       "      <td>12680000</td>\n",
       "      <td>16</td>\n",
       "      <td>92</td>\n",
       "      <td>4</td>\n",
       "      <td>3</td>\n",
       "      <td>9</td>\n",
       "    </tr>\n",
       "  </tbody>\n",
       "</table>\n",
       "<p>7626 rows × 16 columns</p>\n",
       "</div>"
      ],
      "text/plain": [
       "      Unnamed: 0 SIU_CUST_YN  SEX  AGE FP_CAREER  OCCP_GRP  TOTALPREM  \\\n",
       "0              0           N    2    4         N         1         14   \n",
       "1              1           N    1    6         N        11          2   \n",
       "2              2           N    1    5         Y         2         15   \n",
       "3              3           N    1    5         N        17         13   \n",
       "4              4           N    1    5         N         1          3   \n",
       "...          ...         ...  ...  ...       ...       ...        ...   \n",
       "7621        7621           N    2    4         N         3          0   \n",
       "7622        7622           N    2    5         N         2         22   \n",
       "7623        7623           N    2    5         N         8          0   \n",
       "7624        7624           N    2    4         N         3          0   \n",
       "7625        7625           N    1    3         N         8          0   \n",
       "\n",
       "      MAIN_INSR_AMT_SUM  WORK_YEARS_MIN  EXPR_COUNT  DMND_AMT_SUM  CLAIM_CNT  \\\n",
       "0             120266433               0           8        141450          4   \n",
       "1               5000000               1           1       1390000          3   \n",
       "2            1797991770               1          24       2480000         10   \n",
       "3             212274240               1           6         72320          1   \n",
       "4              75256800              13           4       1300000          4   \n",
       "...                 ...             ...         ...           ...        ...   \n",
       "7621          120000000               0           3        519989          5   \n",
       "7622          981195605               6          15        100000          1   \n",
       "7623           50000000               5           1         73300          1   \n",
       "7624           65000000               2           2       1081494          1   \n",
       "7625          144754839               3           2      12680000         16   \n",
       "\n",
       "      TOTAL_VLID_HOSP_OTDA  HOSP_VARIES  HOSP_DVSN_VARIES  CHME_LICE_COUNT  \n",
       "0                        5            2                 2                1  \n",
       "1                        6            3                 2                3  \n",
       "2                       21            4                 3                4  \n",
       "3                        5            1                 1                1  \n",
       "4                       26            2                 2                2  \n",
       "...                    ...          ...               ...              ...  \n",
       "7621                    13            2                 2                2  \n",
       "7622                     0            1                 1                1  \n",
       "7623                     2            1                 1                1  \n",
       "7624                     3            1                 1                1  \n",
       "7625                    92            4                 3                9  \n",
       "\n",
       "[7626 rows x 16 columns]"
      ]
     },
     "execution_count": 68,
     "metadata": {},
     "output_type": "execute_result"
    }
   ],
   "source": [
    "df=pd.read_csv('InsuranceData.csv')\n",
    "df"
   ]
  },
  {
   "cell_type": "code",
   "execution_count": 69,
   "id": "a1518531",
   "metadata": {},
   "outputs": [],
   "source": [
    "df.drop(['Unnamed: 0'], axis=1, inplace = True)"
   ]
  },
  {
   "cell_type": "code",
   "execution_count": 70,
   "id": "c76f03ac",
   "metadata": {},
   "outputs": [],
   "source": [
    "df['SIU_CUST_YN'].replace('N', 0, inplace = True)\n",
    "df['SIU_CUST_YN'].replace('Y', 1, inplace = True)\n",
    "df['FP_CAREER'].replace('N', 0, inplace = True)\n",
    "df['FP_CAREER'].replace('Y', 1, inplace = True)"
   ]
  },
  {
   "cell_type": "code",
   "execution_count": 71,
   "id": "65f6c85a",
   "metadata": {},
   "outputs": [
    {
     "name": "stdout",
     "output_type": "stream",
     "text": [
      "<class 'pandas.core.frame.DataFrame'>\n",
      "RangeIndex: 7626 entries, 0 to 7625\n",
      "Data columns (total 15 columns):\n",
      " #   Column                Non-Null Count  Dtype\n",
      "---  ------                --------------  -----\n",
      " 0   SIU_CUST_YN           7626 non-null   int64\n",
      " 1   SEX                   7626 non-null   int64\n",
      " 2   AGE                   7626 non-null   int64\n",
      " 3   FP_CAREER             7626 non-null   int64\n",
      " 4   OCCP_GRP              7626 non-null   int64\n",
      " 5   TOTALPREM             7626 non-null   int64\n",
      " 6   MAIN_INSR_AMT_SUM     7626 non-null   int64\n",
      " 7   WORK_YEARS_MIN        7626 non-null   int64\n",
      " 8   EXPR_COUNT            7626 non-null   int64\n",
      " 9   DMND_AMT_SUM          7626 non-null   int64\n",
      " 10  CLAIM_CNT             7626 non-null   int64\n",
      " 11  TOTAL_VLID_HOSP_OTDA  7626 non-null   int64\n",
      " 12  HOSP_VARIES           7626 non-null   int64\n",
      " 13  HOSP_DVSN_VARIES      7626 non-null   int64\n",
      " 14  CHME_LICE_COUNT       7626 non-null   int64\n",
      "dtypes: int64(15)\n",
      "memory usage: 893.8 KB\n"
     ]
    }
   ],
   "source": [
    "df.info()"
   ]
  },
  {
   "cell_type": "code",
   "execution_count": 72,
   "id": "73150a10",
   "metadata": {},
   "outputs": [
    {
     "name": "stdout",
     "output_type": "stream",
     "text": [
      "(5338, 14) (2288, 14) (5338,) (2288,)\n"
     ]
    }
   ],
   "source": [
    "#특성 변수 분류\n",
    "X= df.iloc[:,1:]\n",
    "y= df.iloc[:,0]\n",
    "\n",
    "#train과 test데이터로 분류\n",
    "X_train, X_test, y_train, y_test = train_test_split(X,y,test_size=0.3)\n",
    "print(X_train.shape, X_test.shape, y_train.shape, y_test.shape)"
   ]
  },
  {
   "cell_type": "code",
   "execution_count": 73,
   "id": "be632824",
   "metadata": {},
   "outputs": [],
   "source": [
    "#smote를 활용한 데이터 불균형 처리\n",
    "SMOTE=SMOTE()\n",
    "X_train_SMOTE, y_train_SMOTE = SMOTE.fit_resample(X_train, y_train)"
   ]
  },
  {
   "cell_type": "code",
   "execution_count": 101,
   "id": "97f89aeb",
   "metadata": {
    "scrolled": true
   },
   "outputs": [
    {
     "name": "stdout",
     "output_type": "stream",
     "text": [
      "ROC AUC score for oversampled SMOTE data:  0.6019879065280068\n"
     ]
    }
   ],
   "source": [
    "model=SVC()\n",
    "clf_SMOTE = model.fit(X_train_SMOTE, y_train_SMOTE)\n",
    "pred_SMOTE = clf_SMOTE.predict(X_test)\n",
    "\n",
    "print(\"ROC AUC score for oversampled SMOTE data: \", roc_auc_score(y_test, pred_SMOTE))"
   ]
  },
  {
   "cell_type": "code",
   "execution_count": 102,
   "id": "d39217e0",
   "metadata": {},
   "outputs": [
    {
     "name": "stdout",
     "output_type": "stream",
     "text": [
      "accuracy: 0.76\n",
      "precision: 0.17\n",
      "recall: 0.40\n",
      "F1: 0.24\n"
     ]
    }
   ],
   "source": [
    "\n",
    "print('accuracy: %.2f' % accuracy_score(y_test, pred_SMOTE))\n",
    "print('precision: %.2f' % precision_score(y_test, pred_SMOTE))\n",
    "print('recall: %.2f' % recall_score(y_test, pred_SMOTE))\n",
    "print('F1: %.2f' % f1_score(y_test, pred_SMOTE))"
   ]
  },
  {
   "cell_type": "code",
   "execution_count": 103,
   "id": "6be5bc20",
   "metadata": {},
   "outputs": [
    {
     "data": {
      "image/png": "[encoded data removed]",
      "text/plain": [
       "<Figure size 288x216 with 2 Axes>"
      ]
     },
     "metadata": {
      "needs_background": "light"
     },
     "output_type": "display_data"
    }
   ],
   "source": [
    "confusion = confusion_matrix(y_true = y_test, y_pred = pred_SMOTE)\n",
    "\n",
    "plt.figure(figsize=(4, 3))\n",
    "sns.heatmap(confusion, annot=True, annot_kws={'size':15}, cmap='OrRd', fmt='.10g')\n",
    "plt.title('Confusion Matrix')\n",
    "plt.show()"
   ]
  },
  {
   "cell_type": "code",
   "execution_count": null,
   "id": "4a72eb71",
   "metadata": {},
   "outputs": [],
   "source": []
  },
  {
   "cell_type": "markdown",
   "id": "b077d66a",
   "metadata": {},
   "source": [
    "LinearSVC함수 활용 => 실행할때마다 값이 달라짐"
   ]
  },
  {
   "cell_type": "code",
   "execution_count": 104,
   "id": "0bf3c21a",
   "metadata": {},
   "outputs": [
    {
     "name": "stdout",
     "output_type": "stream",
     "text": [
      "ROC AUC score for oversampled SMOTE data:  0.595705583414667\n"
     ]
    },
    {
     "name": "stderr",
     "output_type": "stream",
     "text": [
      "C:\\Users\\gorde\\anaconda3\\lib\\site-packages\\sklearn\\svm\\_base.py:985: ConvergenceWarning: Liblinear failed to converge, increase the number of iterations.\n",
      "  warnings.warn(\"Liblinear failed to converge, increase \"\n"
     ]
    }
   ],
   "source": [
    "#linear\n",
    "from sklearn import svm\n",
    "model=svm.LinearSVC()\n",
    "clf_SMOTE = model.fit(X_train_SMOTE, y_train_SMOTE)\n",
    "pred_SMOTE = clf_SMOTE.predict(X_test)\n",
    "\n",
    "print(\"ROC AUC score for oversampled SMOTE data: \", roc_auc_score(y_test, pred_SMOTE))\n"
   ]
  },
  {
   "cell_type": "code",
   "execution_count": 105,
   "id": "564dcee5",
   "metadata": {},
   "outputs": [
    {
     "name": "stdout",
     "output_type": "stream",
     "text": [
      "accuracy: 0.85\n",
      "precision: 0.24\n",
      "recall: 0.29\n",
      "F1: 0.26\n"
     ]
    }
   ],
   "source": [
    "print('accuracy: %.2f' % accuracy_score(y_test, pred_SMOTE))\n",
    "print('precision: %.2f' % precision_score(y_test, pred_SMOTE))\n",
    "print('recall: %.2f' % recall_score(y_test, pred_SMOTE))\n",
    "print('F1: %.2f' % f1_score(y_test, pred_SMOTE))"
   ]
  },
  {
   "cell_type": "code",
   "execution_count": 106,
   "id": "ec9dbad7",
   "metadata": {},
   "outputs": [
    {
     "data": {
      "image/png": "[encoded data removed]",
      "text/plain": [
       "<Figure size 288x216 with 2 Axes>"
      ]
     },
     "metadata": {
      "needs_background": "light"
     },
     "output_type": "display_data"
    }
   ],
   "source": [
    "confusion = confusion_matrix(y_true = y_test, y_pred = pred_SMOTE)\n",
    "\n",
    "plt.figure(figsize=(4, 3))\n",
    "sns.heatmap(confusion, annot=True, annot_kws={'size':15}, cmap='OrRd', fmt='.10g')\n",
    "plt.title('Confusion Matrix')\n",
    "plt.show()"
   ]
  },
  {
   "cell_type": "code",
   "execution_count": null,
   "id": "9a0b5dff",
   "metadata": {},
   "outputs": [],
   "source": []
  },
  {
   "cell_type": "markdown",
   "id": "a7dabc48",
   "metadata": {},
   "source": [
    "rbf kernel로 실행 "
   ]
  },
  {
   "cell_type": "code",
   "execution_count": 107,
   "id": "807ce4cb",
   "metadata": {},
   "outputs": [
    {
     "name": "stdout",
     "output_type": "stream",
     "text": [
      "ROC AUC score for oversampled SMOTE data:  0.5002411963338158\n"
     ]
    }
   ],
   "source": [
    "#gamma값이 커지면 분산이 작아져 종모양이 얇아짐. (gamma를 10, 100,1000으로 시행했을때 결과 모두 동일)\n",
    "model=svm.SVC(kernel='rbf',gamma=100)\n",
    "clf_SMOTE = model.fit(X_train_SMOTE, y_train_SMOTE)\n",
    "pred_SMOTE = clf_SMOTE.predict(X_test)\n",
    "\n",
    "print(\"ROC AUC score for oversampled SMOTE data: \", roc_auc_score(y_test, pred_SMOTE))\n"
   ]
  },
  {
   "cell_type": "code",
   "execution_count": 108,
   "id": "42de7a8e",
   "metadata": {},
   "outputs": [
    {
     "name": "stdout",
     "output_type": "stream",
     "text": [
      "accuracy: 0.09\n",
      "precision: 0.09\n",
      "recall: 1.00\n",
      "F1: 0.17\n"
     ]
    }
   ],
   "source": [
    "print('accuracy: %.2f' % accuracy_score(y_test, pred_SMOTE))\n",
    "print('precision: %.2f' % precision_score(y_test, pred_SMOTE))\n",
    "print('recall: %.2f' % recall_score(y_test, pred_SMOTE))\n",
    "print('F1: %.2f' % f1_score(y_test, pred_SMOTE))"
   ]
  },
  {
   "cell_type": "code",
   "execution_count": 109,
   "id": "f7b91f24",
   "metadata": {},
   "outputs": [
    {
     "data": {
      "image/png": "[encoded data removed]",
      "text/plain": [
       "<Figure size 288x216 with 2 Axes>"
      ]
     },
     "metadata": {
      "needs_background": "light"
     },
     "output_type": "display_data"
    }
   ],
   "source": [
    "confusion = confusion_matrix(y_true = y_test, y_pred = pred_SMOTE)\n",
    "\n",
    "plt.figure(figsize=(4, 3))\n",
    "sns.heatmap(confusion, annot=True, annot_kws={'size':15}, cmap='OrRd', fmt='.10g')\n",
    "plt.title('Confusion Matrix')\n",
    "plt.show()"
   ]
  },
  {
   "cell_type": "code",
   "execution_count": null,
   "id": "8fc1b2ea",
   "metadata": {},
   "outputs": [],
   "source": []
  },
  {
   "cell_type": "markdown",
   "id": "ac2839ee",
   "metadata": {},
   "source": [
    "poly kernel 사용(degree=5부터는 결과가 나오지x.)\n",
    "차원값이 높아질 수록 0일때 0으로 예측하는 수가 높음"
   ]
  },
  {
   "cell_type": "code",
   "execution_count": 110,
   "id": "a0ab9242",
   "metadata": {},
   "outputs": [
    {
     "name": "stdout",
     "output_type": "stream",
     "text": [
      "ROC AUC score for oversampled SMOTE data:  0.525322249520412\n"
     ]
    }
   ],
   "source": [
    "model=svm.SVC(kernel='poly',degree=2) #degree는 차원수\n",
    "clf_SMOTE = model.fit(X_train_SMOTE, y_train_SMOTE)\n",
    "pred_SMOTE = clf_SMOTE.predict(X_test)\n",
    "\n",
    "print(\"ROC AUC score for oversampled SMOTE data: \", roc_auc_score(y_test, pred_SMOTE))\n"
   ]
  },
  {
   "cell_type": "code",
   "execution_count": 111,
   "id": "5d891857",
   "metadata": {},
   "outputs": [
    {
     "name": "stdout",
     "output_type": "stream",
     "text": [
      "accuracy: 0.90\n",
      "precision: 0.32\n",
      "recall: 0.07\n",
      "F1: 0.11\n"
     ]
    }
   ],
   "source": [
    "print('accuracy: %.2f' % accuracy_score(y_test, pred_SMOTE))\n",
    "print('precision: %.2f' % precision_score(y_test, pred_SMOTE))\n",
    "print('recall: %.2f' % recall_score(y_test, pred_SMOTE))\n",
    "print('F1: %.2f' % f1_score(y_test, pred_SMOTE))"
   ]
  },
  {
   "cell_type": "code",
   "execution_count": 112,
   "id": "4aac9394",
   "metadata": {},
   "outputs": [
    {
     "data": {
      "image/png": "[encoded data removed]",
      "text/plain": [
       "<Figure size 288x216 with 2 Axes>"
      ]
     },
     "metadata": {
      "needs_background": "light"
     },
     "output_type": "display_data"
    }
   ],
   "source": [
    "confusion = confusion_matrix(y_true = y_test, y_pred = pred_SMOTE)\n",
    "\n",
    "plt.figure(figsize=(4, 3))\n",
    "sns.heatmap(confusion, annot=True, annot_kws={'size':15}, cmap='OrRd', fmt='.10g')\n",
    "plt.title('Confusion Matrix')\n",
    "plt.show()"
   ]
  },
  {
   "cell_type": "code",
   "execution_count": null,
   "id": "bcfbbde6",
   "metadata": {},
   "outputs": [],
   "source": []
  }
 ],
 "metadata": {
  "kernelspec": {
   "display_name": "Python 3",
   "language": "python",
   "name": "python3"
  },
  "language_info": {
   "codemirror_mode": {
    "name": "ipython",
    "version": 3
   },
   "file_extension": ".py",
   "mimetype": "text/x-python",
   "name": "python",
   "nbconvert_exporter": "python",
   "pygments_lexer": "ipython3",
   "version": "3.8.8"
  }
 },
 "nbformat": 4,
 "nbformat_minor": 5
}
