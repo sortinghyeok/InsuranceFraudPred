{
 "cells": [
  {
   "cell_type": "code",
   "execution_count": 4,
   "metadata": {
    "executionInfo": {
     "elapsed": 378,
     "status": "ok",
     "timestamp": 1628841330040,
     "user": {
      "displayName": "이종혁",
      "photoUrl": "",
      "userId": "15679079817207258777"
     },
     "user_tz": -540
    },
    "id": "tRe8F6cet_wt"
   },
   "outputs": [],
   "source": [
    "import pandas as pd\n",
    "import numpy as np\n",
    "\n",
    "import matplotlib.pyplot as plt\n",
    "import seaborn as sns\n",
    "\n",
    "from sklearn import metrics\n",
    "\n",
    "from sklearn.ensemble import RandomForestRegressor\n",
    "from sklearn.ensemble import RandomForestClassifier\n",
    "from sklearn.metrics import accuracy_score\n",
    "from sklearn.model_selection import train_test_split"
   ]
  },
  {
   "cell_type": "code",
   "execution_count": 5,
   "metadata": {
    "executionInfo": {
     "elapsed": 3,
     "status": "ok",
     "timestamp": 1628841330040,
     "user": {
      "displayName": "이종혁",
      "photoUrl": "",
      "userId": "15679079817207258777"
     },
     "user_tz": -540
    },
    "id": "5f1WexGju-75"
   },
   "outputs": [],
   "source": [
    "#Bagging : 동일한 알고리즘으로 여러 분류기를 만들고, voting을 통해 최종 결정, Bootstrapping 방식의 샘플 데이터 학습\n",
    "#RandomForest : Bagging method의 응용, 여러 개의 Decision Tree를 활용함"
   ]
  },
  {
   "cell_type": "code",
   "execution_count": 6,
   "metadata": {
    "executionInfo": {
     "elapsed": 497,
     "status": "ok",
     "timestamp": 1628841599307,
     "user": {
      "displayName": "이종혁",
      "photoUrl": "",
      "userId": "15679079817207258777"
     },
     "user_tz": -540
    },
    "id": "1bMKBk8SPq3l"
   },
   "outputs": [],
   "source": [
    "features = pd.read_csv('train_dataset.csv', sep = ',', encoding = 'utf-8', error_bad_lines=False, engine = 'python', header = None)\n",
    "features = features.rename(columns=features.iloc[0])\n",
    "features = features.drop(features.index[0])#첫 row는 컬럼명이 들어간 더미데이터이므로 삭제\n",
    "features = features.astype('float')\n",
    "\n",
    "#학습 및 테스트용 데이터를 데이터 프레임으로 로딩\n",
    "x = features[['INCB_DVSN','SEX','AGE','FP_CAREER','OCCP_GRP','TOTALPREM','WEDD_YN','MAX_PRM','RGST_YEAR','RGST_MONTH','MNTH_INCM_AMT_AVG','MAIN_INSR_AMT_SUM','SUM_ORIG_PREM_SUM','EXPR_SUM','CNTT_TERM_AVG','WORK_YEARS_MAX','WORK_YEARS_MIN','EXPR_COUNT']]\n",
    "y = features['SIU_CUST_YN']\n",
    "\n",
    "y = y.astype(np.uint8)\n",
    "#train_test_split의 stratify 옵션은 target data가 train/test에서 비율을 유지할 수 있게 해주므로, 어느 한 쪽에 과중되는 것을 방지한다.\n",
    "x_train, x_test, y_train, y_test = train_test_split(x, y, test_size=0.2, stratify=y, random_state=42,  shuffle = True)\n"
   ]
  },
  {
   "cell_type": "code",
   "execution_count": 7,
   "metadata": {
    "executionInfo": {
     "elapsed": 2342,
     "status": "ok",
     "timestamp": 1628841612694,
     "user": {
      "displayName": "이종혁",
      "photoUrl": "",
      "userId": "15679079817207258777"
     },
     "user_tz": -540
    },
    "id": "AHJRxCcSQPZe"
   },
   "outputs": [],
   "source": [
    "# 학습 진행\n",
    "rf = RandomForestClassifier(n_estimators=100, random_state = 42)#생성할 트리 갯수, 서로 다른 방향으로 트리를 만들어 overfitting 양을 줄일 수 있음\n",
    "rf.fit(x_train, y_train)\n",
    "\n",
    "importances = rf.feature_importances_"
   ]
  },
  {
   "cell_type": "code",
   "execution_count": 8,
   "metadata": {
    "colab": {
     "base_uri": "https://localhost:8080/",
     "height": 279
    },
    "executionInfo": {
     "elapsed": 389,
     "status": "ok",
     "timestamp": 1628841613080,
     "user": {
      "displayName": "이종혁",
      "photoUrl": "",
      "userId": "15679079817207258777"
     },
     "user_tz": -540
    },
    "id": "3IrHO4H9dHQO",
    "outputId": "a6ba7f6f-d02c-4305-8812-99ba64ac49c2"
   },
   "outputs": [
    {
     "data": {
      "image/png": "[encoded data removed]",
      "text/plain": [
       "<Figure size 432x288 with 1 Axes>"
      ]
     },
     "metadata": {
      "needs_background": "light"
     },
     "output_type": "display_data"
    }
   ],
   "source": [
    "def plot_feature_importance(model):\n",
    "    n_features = x_train.shape[1]\n",
    "    plt.barh(np.arange(n_features), sorted(model.feature_importances_), align=\"center\")\n",
    "    plt.yticks(np.arange(n_features), x_train.columns)\n",
    "    plt.xlabel(\"Random Forest Feature Importance\")\n",
    "    plt.ylabel(\"Feature\")\n",
    "    plt.ylim(-1, n_features)\n",
    "    \n",
    "plot_feature_importance(rf)"
   ]
  },
  {
   "cell_type": "code",
   "execution_count": 9,
   "metadata": {
    "colab": {
     "base_uri": "https://localhost:8080/"
    },
    "executionInfo": {
     "elapsed": 3,
     "status": "ok",
     "timestamp": 1628841613081,
     "user": {
      "displayName": "이종혁",
      "photoUrl": "",
      "userId": "15679079817207258777"
     },
     "user_tz": -540
    },
    "id": "y9V-wLKxYGUI",
    "outputId": "f95fd936-1cd6-4477-c0f2-f21076a685d7"
   },
   "outputs": [
    {
     "name": "stdout",
     "output_type": "stream",
     "text": [
      "[0 0 0 ... 0 0 0]\n",
      "정확도 : 0.9051889814221653\n"
     ]
    }
   ],
   "source": [
    "y_pred = rf.predict(x_test)\n",
    "print(y_pred)\n",
    "  \n",
    "# 정확도 확인\n",
    "print('정확도 :', metrics.accuracy_score(y_test, y_pred))"
   ]
  },
  {
   "cell_type": "code",
   "execution_count": 10,
   "metadata": {
    "colab": {
     "base_uri": "https://localhost:8080/"
    },
    "executionInfo": {
     "elapsed": 344,
     "status": "ok",
     "timestamp": 1628841614566,
     "user": {
      "displayName": "이종혁",
      "photoUrl": "",
      "userId": "15679079817207258777"
     },
     "user_tz": -540
    },
    "id": "aOcLiB-LO1lJ",
    "outputId": "434df4c1-73d5-4e29-dbfe-59fdc885e8fe"
   },
   "outputs": [
    {
     "name": "stdout",
     "output_type": "stream",
     "text": [
      "훈련 세트 정확도: 1.000\n",
      "테스트 세트 정확도: 0.905\n"
     ]
    }
   ],
   "source": [
    "predicted = rf.predict(x_test)\n",
    "accuracy = accuracy_score(y_test, predicted)\n",
    "\n",
    "print(\"훈련 세트 정확도: {:.3f}\".format(rf.score(x_train, y_train)))\n",
    "print(\"테스트 세트 정확도: {:.3f}\".format(rf.score(x_test, y_test)))\n",
    "#임시 정확도 측정\n",
    "\n",
    "#print(f'Mean accuracy score: {accuracy:.3}')"
   ]
  },
  {
   "cell_type": "code",
   "execution_count": null,
   "metadata": {},
   "outputs": [],
   "source": []
  }
 ],
 "metadata": {
  "colab": {
   "authorship_tag": "ABX9TyPl+o0S+7pfJCWx5LMUFPSH",
   "collapsed_sections": [],
   "name": "cust/claim_randomforest.ipynb",
   "provenance": []
  },
  "kernelspec": {
   "display_name": "Python 3",
   "language": "python",
   "name": "python3"
  },
  "language_info": {
   "codemirror_mode": {
    "name": "ipython",
    "version": 3
   },
   "file_extension": ".py",
   "mimetype": "text/x-python",
   "name": "python",
   "nbconvert_exporter": "python",
   "pygments_lexer": "ipython3",
   "version": "3.8.8"
  }
 },
 "nbformat": 4,
 "nbformat_minor": 1
}
