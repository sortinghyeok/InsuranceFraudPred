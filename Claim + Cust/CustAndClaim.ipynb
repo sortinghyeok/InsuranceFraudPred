{
  "nbformat": 4,
  "nbformat_minor": 0,
  "metadata": {
    "colab": {
      "name": "CustAndClaim.ipynb",
      "provenance": [],
      "collapsed_sections": []
    },
    "kernelspec": {
      "name": "python3",
      "display_name": "Python 3"
    },
    "language_info": {
      "name": "python"
    }
  },
  "cells": [
    {
      "cell_type": "code",
      "metadata": {
        "id": "UCpbV_ACIfmH"
      },
      "source": [
        "from google.colab import files\n",
        "import pandas as pd"
      ],
      "execution_count": 80,
      "outputs": []
    },
    {
      "cell_type": "code",
      "metadata": {
        "colab": {
          "resources": {
            "http://localhost:8080/nbextensions/google.colab/files.js": {
              "data": "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",
              "ok": true,
              "headers": [
                [
                  "content-type",
                  "application/javascript"
                ]
              ],
              "status": 200,
              "status_text": ""
            }
          },
          "base_uri": "https://localhost:8080/",
          "height": 76
        },
        "id": "HGzzIuMKIu_r",
        "outputId": "9c7f6d1a-1a11-424a-9d04-90146351ce8f"
      },
      "source": [
        "cust = files.upload() #google colab에서 사용하는 파일 업로드 방식임. 타 에디터 이용시 아래 주석과 같은 경로 지정 필요\n",
        "#claim = pd.read_csv(\"../data/CLAIM.csv\", encoding = \"UTF-8\", sep = \",\")"
      ],
      "execution_count": null,
      "outputs": [
        {
          "output_type": "display_data",
          "data": {
            "text/html": [
              "\n",
              "     <input type=\"file\" id=\"files-bb104288-23ee-424f-a1b8-8318a8786d15\" name=\"files[]\" multiple disabled\n",
              "        style=\"border:none\" />\n",
              "     <output id=\"result-bb104288-23ee-424f-a1b8-8318a8786d15\">\n",
              "      Upload widget is only available when the cell has been executed in the\n",
              "      current browser session. Please rerun this cell to enable.\n",
              "      </output>\n",
              "      <script src=\"/nbextensions/google.colab/files.js\"></script> "
            ],
            "text/plain": [
              "<IPython.core.display.HTML object>"
            ]
          },
          "metadata": {
            "tags": []
          }
        },
        {
          "output_type": "stream",
          "text": [
            "Saving extracted_cust.csv to extracted_cust.csv\n"
          ],
          "name": "stdout"
        }
      ]
    },
    {
      "cell_type": "code",
      "metadata": {
        "id": "_jlQ9akPI2yL"
      },
      "source": [
        "custdf = pd.read_csv('extracted_cust.csv', sep = ',', encoding = 'utf-8', error_bad_lines=False, engine = 'python', header = None, names = ['CUST_ID', 'DIVIDED_SET', 'SIU_CUST_YN', 'TOTALPREM', 'MINCRDT', 'JPBASE_HSHD_INCM'])#각 컬럼별 네이밍"
      ],
      "execution_count": 81,
      "outputs": []
    },
    {
      "cell_type": "code",
      "metadata": {
        "id": "JRG2q8qPJ45u"
      },
      "source": [
        "custdf = custdf.drop(custdf.index[0])#첫 row는 컬럼명이 들어간 더미데이터이므로 삭제"
      ],
      "execution_count": 82,
      "outputs": []
    },
    {
      "cell_type": "code",
      "metadata": {
        "colab": {
          "base_uri": "https://localhost:8080/"
        },
        "id": "0EmY6fJRSia-",
        "outputId": "a03fb56f-13e0-43a8-d0f2-bb89bc478013"
      },
      "source": [
        "custdf.isnull().sum()#결측치 확인"
      ],
      "execution_count": 83,
      "outputs": [
        {
          "output_type": "execute_result",
          "data": {
            "text/plain": [
              "CUST_ID                0\n",
              "DIVIDED_SET            0\n",
              "SIU_CUST_YN         1793\n",
              "TOTALPREM           5791\n",
              "MINCRDT             9476\n",
              "JPBASE_HSHD_INCM     680\n",
              "dtype: int64"
            ]
          },
          "metadata": {
            "tags": []
          },
          "execution_count": 83
        }
      ]
    },
    {
      "cell_type": "code",
      "metadata": {
        "id": "n0C71Fr0SksQ"
      },
      "source": [
        "#신용도 미확인 값은 6으로 대체(데이터 정의에 따름)\n",
        "custdf['MINCRDT'].fillna(value = 6, inplace = True)"
      ],
      "execution_count": 84,
      "outputs": []
    },
    {
      "cell_type": "code",
      "metadata": {
        "colab": {
          "base_uri": "https://localhost:8080/"
        },
        "id": "LGH0kDk4SzmP",
        "outputId": "fd665ba3-b70e-4787-8d7a-c2ea1f4c51c8"
      },
      "source": [
        "custdf.isnull().sum()"
      ],
      "execution_count": 85,
      "outputs": [
        {
          "output_type": "execute_result",
          "data": {
            "text/plain": [
              "CUST_ID                0\n",
              "DIVIDED_SET            0\n",
              "SIU_CUST_YN         1793\n",
              "TOTALPREM           5791\n",
              "MINCRDT                0\n",
              "JPBASE_HSHD_INCM     680\n",
              "dtype: int64"
            ]
          },
          "metadata": {
            "tags": []
          },
          "execution_count": 85
        }
      ]
    },
    {
      "cell_type": "code",
      "metadata": {
        "id": "ovwx18jGT7XY"
      },
      "source": [
        "#신용도가 10보다 높으면 이상치이므로 행 삭제, 그러나 min값을 뽑아왔으므로 사례 없을 것으로 추정\n",
        "custdf = custdf[custdf.MINCRDT <= 10]"
      ],
      "execution_count": 86,
      "outputs": []
    },
    {
      "cell_type": "code",
      "metadata": {
        "id": "yYLX0L-VVTEj"
      },
      "source": [
        "#Total PREM 1000만단위 라벨링 (ex)176만 -> 0, 1700만 -> 1, 3억 -> 30 ...), 분석시 상관관계 낮게 나오면 범위 더 크게 할 것\n",
        "custdf.dropna(subset = ['TOTALPREM'], inplace = True)\n",
        "custdf['TOTALPREM'] = (custdf['TOTALPREM']/10000000).astype(int)"
      ],
      "execution_count": 87,
      "outputs": []
    },
    {
      "cell_type": "code",
      "metadata": {
        "colab": {
          "base_uri": "https://localhost:8080/"
        },
        "id": "hp636XEnUxcd",
        "outputId": "13c08efe-0c71-4222-e749-9c92e7367e6c"
      },
      "source": [
        "custdf.isnull().sum()#결측치 확인 2"
      ],
      "execution_count": 88,
      "outputs": [
        {
          "output_type": "execute_result",
          "data": {
            "text/plain": [
              "CUST_ID                0\n",
              "DIVIDED_SET            0\n",
              "SIU_CUST_YN         1323\n",
              "TOTALPREM              0\n",
              "MINCRDT                0\n",
              "JPBASE_HSHD_INCM     506\n",
              "dtype: int64"
            ]
          },
          "metadata": {
            "tags": []
          },
          "execution_count": 88
        }
      ]
    },
    {
      "cell_type": "code",
      "metadata": {
        "id": "gSmpJym7Vtj_"
      },
      "source": [
        "custdf.dropna(subset = ['JPBASE_HSHD_INCM'], inplace = True)#결측치 삭제"
      ],
      "execution_count": 89,
      "outputs": []
    },
    {
      "cell_type": "code",
      "metadata": {
        "colab": {
          "base_uri": "https://localhost:8080/"
        },
        "id": "lVfFVlE1WLKA",
        "outputId": "54e263e1-1f7e-4250-89f1-61745960fb34"
      },
      "source": [
        "#결측치 제거 완료\n",
        "custdf.isnull().sum()"
      ],
      "execution_count": 90,
      "outputs": [
        {
          "output_type": "execute_result",
          "data": {
            "text/plain": [
              "CUST_ID                0\n",
              "DIVIDED_SET            0\n",
              "SIU_CUST_YN         1275\n",
              "TOTALPREM              0\n",
              "MINCRDT                0\n",
              "JPBASE_HSHD_INCM       0\n",
              "dtype: int64"
            ]
          },
          "metadata": {
            "tags": []
          },
          "execution_count": 90
        }
      ]
    },
    {
      "cell_type": "code",
      "metadata": {
        "colab": {
          "resources": {
            "http://localhost:8080/nbextensions/google.colab/files.js": {
              "data": "Ly8gQ29weXJpZ2h0IDIwMTcgR29vZ2xlIExMQwovLwovLyBMaWNlbnNlZCB1bmRlciB0aGUgQXBhY2hlIExpY2Vuc2UsIFZlcnNpb24gMi4wICh0aGUgIkxpY2Vuc2UiKTsKLy8geW91IG1heSBub3QgdXNlIHRoaXMgZmlsZSBleGNlcHQgaW4gY29tcGxpYW5jZSB3aXRoIHRoZSBMaWNlbnNlLgovLyBZb3UgbWF5IG9idGFpbiBhIGNvcHkgb2YgdGhlIExpY2Vuc2UgYXQKLy8KLy8gICAgICBodHRwOi8vd3d3LmFwYWNoZS5vcmcvbGljZW5zZXMvTElDRU5TRS0yLjAKLy8KLy8gVW5sZXNzIHJlcXVpcmVkIGJ5IGFwcGxpY2FibGUgbGF3IG9yIGFncmVlZCB0byBpbiB3cml0aW5nLCBzb2Z0d2FyZQovLyBkaXN0cmlidXRlZCB1bmRlciB0aGUgTGljZW5zZSBpcyBkaXN0cmlidXRlZCBvbiBhbiAiQVMgSVMiIEJBU0lTLAovLyBXSVRIT1VUIFdBUlJBTlRJRVMgT1IgQ09ORElUSU9OUyBPRiBBTlkgS0lORCwgZWl0aGVyIGV4cHJlc3Mgb3IgaW1wbGllZC4KLy8gU2VlIHRoZSBMaWNlbnNlIGZvciB0aGUgc3BlY2lmaWMgbGFuZ3VhZ2UgZ292ZXJuaW5nIHBlcm1pc3Npb25zIGFuZAovLyBsaW1pdGF0aW9ucyB1bmRlciB0aGUgTGljZW5zZS4KCi8qKgogKiBAZmlsZW92ZXJ2aWV3IEhlbHBlcnMgZm9yIGdvb2dsZS5jb2xhYiBQeXRob24gbW9kdWxlLgogKi8KKGZ1bmN0aW9uKHNjb3BlKSB7CmZ1bmN0aW9uIHNwYW4odGV4dCwgc3R5bGVBdHRyaWJ1dGVzID0ge30pIHsKICBjb25zdCBlbGVtZW50ID0gZG9jdW1lbnQuY3JlYXRlRWxlbWVudCgnc3BhbicpOwogIGVsZW1lbnQudGV4dENvbnRlbnQgPSB0ZXh0OwogIGZvciAoY29uc3Qga2V5IG9mIE9iamVjdC5rZXlzKHN0eWxlQXR0cmlidXRlcykpIHsKICAgIGVsZW1lbnQuc3R5bGVba2V5XSA9IHN0eWxlQXR0cmlidXRlc1trZXldOwogIH0KICByZXR1cm4gZWxlbWVudDsKfQoKLy8gTWF4IG51bWJlciBvZiBieXRlcyB3aGljaCB3aWxsIGJlIHVwbG9hZGVkIGF0IGEgdGltZS4KY29uc3QgTUFYX1BBWUxPQURfU0laRSA9IDEwMCAqIDEwMjQ7CgpmdW5jdGlvbiBfdXBsb2FkRmlsZXMoaW5wdXRJZCwgb3V0cHV0SWQpIHsKICBjb25zdCBzdGVwcyA9IHVwbG9hZEZpbGVzU3RlcChpbnB1dElkLCBvdXRwdXRJZCk7CiAgY29uc3Qgb3V0cHV0RWxlbWVudCA9IGRvY3VtZW50LmdldEVsZW1lbnRCeUlkKG91dHB1dElkKTsKICAvLyBDYWNoZSBzdGVwcyBvbiB0aGUgb3V0cHV0RWxlbWVudCB0byBtYWtlIGl0IGF2YWlsYWJsZSBmb3IgdGhlIG5leHQgY2FsbAogIC8vIHRvIHVwbG9hZEZpbGVzQ29udGludWUgZnJvbSBQeXRob24uCiAgb3V0cHV0RWxlbWVudC5zdGVwcyA9IHN0ZXBzOwoKICByZXR1cm4gX3VwbG9hZEZpbGVzQ29udGludWUob3V0cHV0SWQpOwp9CgovLyBUaGlzIGlzIHJvdWdobHkgYW4gYXN5bmMgZ2VuZXJhdG9yIChub3Qgc3VwcG9ydGVkIGluIHRoZSBicm93c2VyIHlldCksCi8vIHdoZXJlIHRoZXJlIGFyZSBtdWx0aXBsZSBhc3luY2hyb25vdXMgc3RlcHMgYW5kIHRoZSBQeXRob24gc2lkZSBpcyBnb2luZwovLyB0byBwb2xsIGZvciBjb21wbGV0aW9uIG9mIGVhY2ggc3RlcC4KLy8gVGhpcyB1c2VzIGEgUHJvbWlzZSB0byBibG9jayB0aGUgcHl0aG9uIHNpZGUgb24gY29tcGxldGlvbiBvZiBlYWNoIHN0ZXAsCi8vIHRoZW4gcGFzc2VzIHRoZSByZXN1bHQgb2YgdGhlIHByZXZpb3VzIHN0ZXAgYXMgdGhlIGlucHV0IHRvIHRoZSBuZXh0IHN0ZXAuCmZ1bmN0aW9uIF91cGxvYWRGaWxlc0NvbnRpbnVlKG91dHB1dElkKSB7CiAgY29uc3Qgb3V0cHV0RWxlbWVudCA9IGRvY3VtZW50LmdldEVsZW1lbnRCeUlkKG91dHB1dElkKTsKICBjb25zdCBzdGVwcyA9IG91dHB1dEVsZW1lbnQuc3RlcHM7CgogIGNvbnN0IG5leHQgPSBzdGVwcy5uZXh0KG91dHB1dEVsZW1lbnQubGFzdFByb21pc2VWYWx1ZSk7CiAgcmV0dXJuIFByb21pc2UucmVzb2x2ZShuZXh0LnZhbHVlLnByb21pc2UpLnRoZW4oKHZhbHVlKSA9PiB7CiAgICAvLyBDYWNoZSB0aGUgbGFzdCBwcm9taXNlIHZhbHVlIHRvIG1ha2UgaXQgYXZhaWxhYmxlIHRvIHRoZSBuZXh0CiAgICAvLyBzdGVwIG9mIHRoZSBnZW5lcmF0b3IuCiAgICBvdXRwdXRFbGVtZW50Lmxhc3RQcm9taXNlVmFsdWUgPSB2YWx1ZTsKICAgIHJldHVybiBuZXh0LnZhbHVlLnJlc3BvbnNlOwogIH0pOwp9CgovKioKICogR2VuZXJhdG9yIGZ1bmN0aW9uIHdoaWNoIGlzIGNhbGxlZCBiZXR3ZWVuIGVhY2ggYXN5bmMgc3RlcCBvZiB0aGUgdXBsb2FkCiAqIHByb2Nlc3MuCiAqIEBwYXJhbSB7c3RyaW5nfSBpbnB1dElkIEVsZW1lbnQgSUQgb2YgdGhlIGlucHV0IGZpbGUgcGlja2VyIGVsZW1lbnQuCiAqIEBwYXJhbSB7c3RyaW5nfSBvdXRwdXRJZCBFbGVtZW50IElEIG9mIHRoZSBvdXRwdXQgZGlzcGxheS4KICogQHJldHVybiB7IUl0ZXJhYmxlPCFPYmplY3Q+fSBJdGVyYWJsZSBvZiBuZXh0IHN0ZXBzLgogKi8KZnVuY3Rpb24qIHVwbG9hZEZpbGVzU3RlcChpbnB1dElkLCBvdXRwdXRJZCkgewogIGNvbnN0IGlucHV0RWxlbWVudCA9IGRvY3VtZW50LmdldEVsZW1lbnRCeUlkKGlucHV0SWQpOwogIGlucHV0RWxlbWVudC5kaXNhYmxlZCA9IGZhbHNlOwoKICBjb25zdCBvdXRwdXRFbGVtZW50ID0gZG9jdW1lbnQuZ2V0RWxlbWVudEJ5SWQob3V0cHV0SWQpOwogIG91dHB1dEVsZW1lbnQuaW5uZXJIVE1MID0gJyc7CgogIGNvbnN0IHBpY2tlZFByb21pc2UgPSBuZXcgUHJvbWlzZSgocmVzb2x2ZSkgPT4gewogICAgaW5wdXRFbGVtZW50LmFkZEV2ZW50TGlzdGVuZXIoJ2NoYW5nZScsIChlKSA9PiB7CiAgICAgIHJlc29sdmUoZS50YXJnZXQuZmlsZXMpOwogICAgfSk7CiAgfSk7CgogIGNvbnN0IGNhbmNlbCA9IGRvY3VtZW50LmNyZWF0ZUVsZW1lbnQoJ2J1dHRvbicpOwogIGlucHV0RWxlbWVudC5wYXJlbnRFbGVtZW50LmFwcGVuZENoaWxkKGNhbmNlbCk7CiAgY2FuY2VsLnRleHRDb250ZW50ID0gJ0NhbmNlbCB1cGxvYWQnOwogIGNvbnN0IGNhbmNlbFByb21pc2UgPSBuZXcgUHJvbWlzZSgocmVzb2x2ZSkgPT4gewogICAgY2FuY2VsLm9uY2xpY2sgPSAoKSA9PiB7CiAgICAgIHJlc29sdmUobnVsbCk7CiAgICB9OwogIH0pOwoKICAvLyBXYWl0IGZvciB0aGUgdXNlciB0byBwaWNrIHRoZSBmaWxlcy4KICBjb25zdCBmaWxlcyA9IHlpZWxkIHsKICAgIHByb21pc2U6IFByb21pc2UucmFjZShbcGlja2VkUHJvbWlzZSwgY2FuY2VsUHJvbWlzZV0pLAogICAgcmVzcG9uc2U6IHsKICAgICAgYWN0aW9uOiAnc3RhcnRpbmcnLAogICAgfQogIH07CgogIGNhbmNlbC5yZW1vdmUoKTsKCiAgLy8gRGlzYWJsZSB0aGUgaW5wdXQgZWxlbWVudCBzaW5jZSBmdXJ0aGVyIHBpY2tzIGFyZSBub3QgYWxsb3dlZC4KICBpbnB1dEVsZW1lbnQuZGlzYWJsZWQgPSB0cnVlOwoKICBpZiAoIWZpbGVzKSB7CiAgICByZXR1cm4gewogICAgICByZXNwb25zZTogewogICAgICAgIGFjdGlvbjogJ2NvbXBsZXRlJywKICAgICAgfQogICAgfTsKICB9CgogIGZvciAoY29uc3QgZmlsZSBvZiBmaWxlcykgewogICAgY29uc3QgbGkgPSBkb2N1bWVudC5jcmVhdGVFbGVtZW50KCdsaScpOwogICAgbGkuYXBwZW5kKHNwYW4oZmlsZS5uYW1lLCB7Zm9udFdlaWdodDogJ2JvbGQnfSkpOwogICAgbGkuYXBwZW5kKHNwYW4oCiAgICAgICAgYCgke2ZpbGUudHlwZSB8fCAnbi9hJ30pIC0gJHtmaWxlLnNpemV9IGJ5dGVzLCBgICsKICAgICAgICBgbGFzdCBtb2RpZmllZDogJHsKICAgICAgICAgICAgZmlsZS5sYXN0TW9kaWZpZWREYXRlID8gZmlsZS5sYXN0TW9kaWZpZWREYXRlLnRvTG9jYWxlRGF0ZVN0cmluZygpIDoKICAgICAgICAgICAgICAgICAgICAgICAgICAgICAgICAgICAgJ24vYSd9IC0gYCkpOwogICAgY29uc3QgcGVyY2VudCA9IHNwYW4oJzAlIGRvbmUnKTsKICAgIGxpLmFwcGVuZENoaWxkKHBlcmNlbnQpOwoKICAgIG91dHB1dEVsZW1lbnQuYXBwZW5kQ2hpbGQobGkpOwoKICAgIGNvbnN0IGZpbGVEYXRhUHJvbWlzZSA9IG5ldyBQcm9taXNlKChyZXNvbHZlKSA9PiB7CiAgICAgIGNvbnN0IHJlYWRlciA9IG5ldyBGaWxlUmVhZGVyKCk7CiAgICAgIHJlYWRlci5vbmxvYWQgPSAoZSkgPT4gewogICAgICAgIHJlc29sdmUoZS50YXJnZXQucmVzdWx0KTsKICAgICAgfTsKICAgICAgcmVhZGVyLnJlYWRBc0FycmF5QnVmZmVyKGZpbGUpOwogICAgfSk7CiAgICAvLyBXYWl0IGZvciB0aGUgZGF0YSB0byBiZSByZWFkeS4KICAgIGxldCBmaWxlRGF0YSA9IHlpZWxkIHsKICAgICAgcHJvbWlzZTogZmlsZURhdGFQcm9taXNlLAogICAgICByZXNwb25zZTogewogICAgICAgIGFjdGlvbjogJ2NvbnRpbnVlJywKICAgICAgfQogICAgfTsKCiAgICAvLyBVc2UgYSBjaHVua2VkIHNlbmRpbmcgdG8gYXZvaWQgbWVzc2FnZSBzaXplIGxpbWl0cy4gU2VlIGIvNjIxMTU2NjAuCiAgICBsZXQgcG9zaXRpb24gPSAwOwogICAgZG8gewogICAgICBjb25zdCBsZW5ndGggPSBNYXRoLm1pbihmaWxlRGF0YS5ieXRlTGVuZ3RoIC0gcG9zaXRpb24sIE1BWF9QQVlMT0FEX1NJWkUpOwogICAgICBjb25zdCBjaHVuayA9IG5ldyBVaW50OEFycmF5KGZpbGVEYXRhLCBwb3NpdGlvbiwgbGVuZ3RoKTsKICAgICAgcG9zaXRpb24gKz0gbGVuZ3RoOwoKICAgICAgY29uc3QgYmFzZTY0ID0gYnRvYShTdHJpbmcuZnJvbUNoYXJDb2RlLmFwcGx5KG51bGwsIGNodW5rKSk7CiAgICAgIHlpZWxkIHsKICAgICAgICByZXNwb25zZTogewogICAgICAgICAgYWN0aW9uOiAnYXBwZW5kJywKICAgICAgICAgIGZpbGU6IGZpbGUubmFtZSwKICAgICAgICAgIGRhdGE6IGJhc2U2NCwKICAgICAgICB9LAogICAgICB9OwoKICAgICAgbGV0IHBlcmNlbnREb25lID0gZmlsZURhdGEuYnl0ZUxlbmd0aCA9PT0gMCA/CiAgICAgICAgICAxMDAgOgogICAgICAgICAgTWF0aC5yb3VuZCgocG9zaXRpb24gLyBmaWxlRGF0YS5ieXRlTGVuZ3RoKSAqIDEwMCk7CiAgICAgIHBlcmNlbnQudGV4dENvbnRlbnQgPSBgJHtwZXJjZW50RG9uZX0lIGRvbmVgOwoKICAgIH0gd2hpbGUgKHBvc2l0aW9uIDwgZmlsZURhdGEuYnl0ZUxlbmd0aCk7CiAgfQoKICAvLyBBbGwgZG9uZS4KICB5aWVsZCB7CiAgICByZXNwb25zZTogewogICAgICBhY3Rpb246ICdjb21wbGV0ZScsCiAgICB9CiAgfTsKfQoKc2NvcGUuZ29vZ2xlID0gc2NvcGUuZ29vZ2xlIHx8IHt9OwpzY29wZS5nb29nbGUuY29sYWIgPSBzY29wZS5nb29nbGUuY29sYWIgfHwge307CnNjb3BlLmdvb2dsZS5jb2xhYi5fZmlsZXMgPSB7CiAgX3VwbG9hZEZpbGVzLAogIF91cGxvYWRGaWxlc0NvbnRpbnVlLAp9Owp9KShzZWxmKTsK",
              "ok": true,
              "headers": [
                [
                  "content-type",
                  "application/javascript"
                ]
              ],
              "status": 200,
              "status_text": ""
            }
          },
          "base_uri": "https://localhost:8080/",
          "height": 76
        },
        "id": "Cud9yaAIZXAF",
        "outputId": "bb6c04d5-dae9-421a-8c8e-526d5e7f4d68"
      },
      "source": [
        "claim = files.upload()#구글 코랩 파일 업로드 방식"
      ],
      "execution_count": null,
      "outputs": [
        {
          "output_type": "display_data",
          "data": {
            "text/html": [
              "\n",
              "     <input type=\"file\" id=\"files-21aed222-41b2-4490-a267-c69e7e990456\" name=\"files[]\" multiple disabled\n",
              "        style=\"border:none\" />\n",
              "     <output id=\"result-21aed222-41b2-4490-a267-c69e7e990456\">\n",
              "      Upload widget is only available when the cell has been executed in the\n",
              "      current browser session. Please rerun this cell to enable.\n",
              "      </output>\n",
              "      <script src=\"/nbextensions/google.colab/files.js\"></script> "
            ],
            "text/plain": [
              "<IPython.core.display.HTML object>"
            ]
          },
          "metadata": {
            "tags": []
          }
        },
        {
          "output_type": "stream",
          "text": [
            "Saving extracted_claim.csv to extracted_claim.csv\n"
          ],
          "name": "stdout"
        }
      ]
    },
    {
      "cell_type": "code",
      "metadata": {
        "id": "CY64C-idKdqf"
      },
      "source": [
        "claimdf = pd.read_csv('extracted_claim.csv', sep = ',', encoding = 'utf-8', error_bad_lines=False, engine = 'python', header = None, names = ['CUST_ID', 'RESL_CD1', 'ACCI_OCCP_GRP', 'CAUS_CODE',  'DMND_RESN_CODE', 'VLID_HOSP_OTDA', 'HOSP_CODE', 'HOSP_SPEC_DVSN', 'CHME_LICE_NO', 'DMND_AMT', 'PAYM_AMT', 'NON_PAY_RATIO', 'HEED_HOSP_YN'])#13개 컬럼에 대한 네이밍"
      ],
      "execution_count": 305,
      "outputs": []
    },
    {
      "cell_type": "code",
      "metadata": {
        "id": "ODg8Kxa3LUxZ"
      },
      "source": [
        "claimdf = claimdf.drop(claimdf.index[0])#역시 컬럼명으로 적혀있는 첫번째 row에 대한 삭제"
      ],
      "execution_count": 306,
      "outputs": []
    },
    {
      "cell_type": "code",
      "metadata": {
        "colab": {
          "base_uri": "https://localhost:8080/"
        },
        "id": "1-ZpHJukYO5V",
        "outputId": "0085f1f7-3c0c-4a0b-97be-a22019604dbf"
      },
      "source": [
        "claimdf.isnull().sum()#결측치에 대한 확인"
      ],
      "execution_count": 307,
      "outputs": [
        {
          "output_type": "execute_result",
          "data": {
            "text/plain": [
              "CUST_ID              0\n",
              "RESL_CD1             0\n",
              "ACCI_OCCP_GRP     1417\n",
              "CAUS_CODE            0\n",
              "DMND_RESN_CODE       0\n",
              "VLID_HOSP_OTDA       0\n",
              "HOSP_CODE            9\n",
              "HOSP_SPEC_DVSN       9\n",
              "CHME_LICE_NO         0\n",
              "DMND_AMT             0\n",
              "PAYM_AMT             0\n",
              "NON_PAY_RATIO        0\n",
              "HEED_HOSP_YN         0\n",
              "dtype: int64"
            ]
          },
          "metadata": {
            "tags": []
          },
          "execution_count": 307
        }
      ]
    },
    {
      "cell_type": "code",
      "metadata": {
        "id": "D327SIXGZ9qp"
      },
      "source": [
        "#-------------- 직업별 정수형 라벨링 ---------------------------\n",
        "# 결측치 포함 행 삭제\n",
        "#사무직 1\n",
        "#자영업 2\n",
        "#주부 3\n",
        "#교사 4\n",
        "#예체능계 종사자 5\n",
        "#운전직 6\n",
        "#1차산업 종사자 7\n",
        "#2차산업 종사자 8\n",
        "#3차산업 종사자 9\n",
        "#공무원 10\n",
        "#고위 공무원 11\n",
        "#단순 노무직 12\n",
        "#기업/단체 임원 13\n",
        "#고소득의료직 14\n",
        "#전문직 15\n",
        "#종교인/역술인 16\n",
        "#대학교수/강사 17\n",
        "#단순 사무직 18\n",
        "#교육관련직 19\n",
        "#학자/연구직 20\n",
        "#학생 21\n",
        "#법무직 종사자 22\n",
        "#고소득 전문직 23\n",
        "#의료직 종사자 24\n",
        "#기타 25\n",
        "\n",
        "#직업 추출에 사용된 출력문\n",
        "#개선된 변수 확인 알고리즘 아이디어 있으신 분은 알려주시길(혹은 액셀 함수라도)\n",
        "#for i in custDF['OCCP_GRP']: \n",
        "  #if i != '의료직 종사자' and i != '고소득 전문직' and i != '사무직' and i != None and i!='자영업' and i!='주부' and i!='교사' and i!='예체능계 종사자' and i!='운전직' and i!='1차산업 종사자' and i!='2차산업 종사자' and i!='3차산업 종사자' and i!='공무원' and i!='고위 공무원' and i!='단순 노무직' and i!='기업/단체 임원' and i!='고소득의료직' and i!='전문직' and i!='종교인/역술인' and i!='대학교수/강사' and i!='단순 사무직' and i!='교육관련직' and i!='학자/연구직' and i!='학생' and i!='법무직 종사자' and i!='기타' :\n",
        "    #print(i)\n",
        "\n",
        "#위 주석과 대응하는 정수형 라벨링(이 단계에서는 type casting 아직 안함)\n",
        "claimdf['ACCI_OCCP_GRP'].replace('사무직', 1, inplace = True)\n",
        "\n",
        "claimdf['ACCI_OCCP_GRP'].replace('자영업', 2, inplace = True)\n",
        "\n",
        "claimdf['ACCI_OCCP_GRP'].replace('주부', 3, inplace = True)\n",
        "\n",
        "claimdf['ACCI_OCCP_GRP'].replace('교사', 4, inplace = True)\n",
        "\n",
        "claimdf['ACCI_OCCP_GRP'].replace('예체능계 종사자', 5, inplace = True)\n",
        "\n",
        "claimdf['ACCI_OCCP_GRP'].replace('운전직', 6, inplace = True)\n",
        "\n",
        "claimdf['ACCI_OCCP_GRP'].replace('1차산업 종사자', 7, inplace = True)\n",
        "\n",
        "claimdf['ACCI_OCCP_GRP'].replace('2차산업 종사자', 8, inplace = True)\n",
        "\n",
        "claimdf['ACCI_OCCP_GRP'].replace('3차산업 종사자', 9, inplace = True)\n",
        "\n",
        "claimdf['ACCI_OCCP_GRP'].replace('공무원', 10, inplace = True)\n",
        "\n",
        "claimdf['ACCI_OCCP_GRP'].replace('고위 공무원', 11, inplace = True)\n",
        "\n",
        "claimdf['ACCI_OCCP_GRP'].replace('단순 노무직', 12, inplace = True)\n",
        "\n",
        "claimdf['ACCI_OCCP_GRP'].replace('기업/단체 임원', 13, inplace = True)\n",
        "\n",
        "claimdf['ACCI_OCCP_GRP'].replace('고소득의료직', 14, inplace = True)\n",
        "\n",
        "claimdf['ACCI_OCCP_GRP'].replace('전문직', 15, inplace = True)\n",
        "\n",
        "claimdf['ACCI_OCCP_GRP'].replace('종교인/역술인', 16, inplace = True)\n",
        "\n",
        "claimdf['ACCI_OCCP_GRP'].replace('대학교수/강사', 17, inplace = True)\n",
        "\n",
        "claimdf['ACCI_OCCP_GRP'].replace('단순 사무직', 18, inplace = True)\n",
        "\n",
        "claimdf['ACCI_OCCP_GRP'].replace('교육관련직', 19, inplace = True)\n",
        "\n",
        "claimdf['ACCI_OCCP_GRP'].replace('학자/연구직', 20, inplace = True)\n",
        "\n",
        "claimdf['ACCI_OCCP_GRP'].replace('학생', 21, inplace = True)\n",
        "\n",
        "claimdf['ACCI_OCCP_GRP'].replace('법무직 종사자', 22, inplace = True)\n",
        "\n",
        "claimdf['ACCI_OCCP_GRP'].replace('고소득 전문직', 23, inplace = True)\n",
        "\n",
        "claimdf['ACCI_OCCP_GRP'].replace('의료직 종사자', 24, inplace = True)\n",
        "\n",
        "claimdf['ACCI_OCCP_GRP'].replace('기타', 25, inplace = True)\n",
        "\n"
      ],
      "execution_count": 308,
      "outputs": []
    },
    {
      "cell_type": "code",
      "metadata": {
        "id": "Q1gNrPAhYQJj"
      },
      "source": [
        "#병명 코드 각 첫번째 철자로 그룹화하기 위해 숫자 잘라낼 것\n",
        "#정규표현식 이용 숫자 제거\n",
        "claimdf['CAUS_CODE'] = claimdf['CAUS_CODE'].str.replace('\\d+', '')\n"
      ],
      "execution_count": 309,
      "outputs": []
    },
    {
      "cell_type": "code",
      "metadata": {
        "id": "ABzHFC3FcyET"
      },
      "source": [
        "claimdf.dropna(subset = ['ACCI_OCCP_GRP'], inplace = True)#라벨링 후 직업 코드에 대한 결측치 삭제"
      ],
      "execution_count": 310,
      "outputs": []
    },
    {
      "cell_type": "code",
      "metadata": {
        "id": "uKvy6BSrcuJn"
      },
      "source": [
        "claimdf.dropna(inplace = True)#클레임 데이터 내부 모든 결측치 제거"
      ],
      "execution_count": 311,
      "outputs": []
    },
    {
      "cell_type": "code",
      "metadata": {
        "colab": {
          "base_uri": "https://localhost:8080/"
        },
        "id": "sGR8stFjdC7e",
        "outputId": "f47aba2c-a7ff-4309-dbf5-a88b7f84e321"
      },
      "source": [
        "claimdf.isnull().sum()"
      ],
      "execution_count": 312,
      "outputs": [
        {
          "output_type": "execute_result",
          "data": {
            "text/plain": [
              "CUST_ID           0\n",
              "RESL_CD1          0\n",
              "ACCI_OCCP_GRP     0\n",
              "CAUS_CODE         0\n",
              "DMND_RESN_CODE    0\n",
              "VLID_HOSP_OTDA    0\n",
              "HOSP_CODE         0\n",
              "HOSP_SPEC_DVSN    0\n",
              "CHME_LICE_NO      0\n",
              "DMND_AMT          0\n",
              "PAYM_AMT          0\n",
              "NON_PAY_RATIO     0\n",
              "HEED_HOSP_YN      0\n",
              "dtype: int64"
            ]
          },
          "metadata": {
            "tags": []
          },
          "execution_count": 312
        }
      ]
    },
    {
      "cell_type": "code",
      "metadata": {
        "id": "GhKjREAhn5Z4"
      },
      "source": [
        "claimdf['CAUS_CODE_COUNT'] = claimdf.groupby(claimdf['CUST_ID'])[\"CAUS_CODE\"].transform('nunique')#위와 동일\n",
        "\n",
        "claimdf.drop(['CAUS_CODE'], axis=1, inplace = True)"
      ],
      "execution_count": 313,
      "outputs": []
    },
    {
      "cell_type": "code",
      "metadata": {
        "id": "yW3hCt7dnj9P"
      },
      "source": [
        "claimdf['DMND_RESN_CODE_COUNT'] = claimdf.groupby(claimdf['CUST_ID'])[\"DMND_RESN_CODE\"].transform('nunique')#위와 동일\n",
        "\n",
        "claimdf.drop(['DMND_RESN_CODE'], axis=1, inplace = True)"
      ],
      "execution_count": 314,
      "outputs": []
    },
    {
      "cell_type": "code",
      "metadata": {
        "id": "NUWQj_sVopie"
      },
      "source": [
        "claimdf['RESL_CD1_COUNT'] = claimdf.groupby(claimdf['CUST_ID'])[\"RESL_CD1\"].transform('nunique')#위와 동일\n",
        "claimdf.drop(['RESL_CD1'], axis=1, inplace = True)"
      ],
      "execution_count": 315,
      "outputs": []
    },
    {
      "cell_type": "code",
      "metadata": {
        "id": "pFcGF8T2zg1B"
      },
      "source": [
        "# 라벨링\n",
        "claimdf['HEED_HOSP_YN'] = claimdf['HEED_HOSP_YN'].replace([\"N\"],0)\n",
        "\n",
        "claimdf['HEED_HOSP_YN'] = claimdf['HEED_HOSP_YN'].replace([\"Y\"],1)\n",
        "\n",
        "HEED_HOSP_YN = claimdf.groupby('CUST_ID')['HEED_HOSP_YN'].count()\n",
        "Y = claimdf.groupby(\"CUST_ID\")[\"HEED_HOSP_YN\"].sum()\n",
        "HEED_HOSP_YN_rate = Y / HEED_HOSP_YN\n",
        "HEED_HOSP_YN_rate\n",
        "\n",
        "claim_DF= pd.DataFrame()\n",
        "claim_DF[\"HEED_HOSP_YN_RATE\"] = HEED_HOSP_YN_rate"
      ],
      "execution_count": 316,
      "outputs": []
    },
    {
      "cell_type": "code",
      "metadata": {
        "colab": {
          "base_uri": "https://localhost:8080/"
        },
        "id": "QzB_e-L4zkq1",
        "outputId": "397d6f37-54dd-46c6-976c-53532dc9dc75"
      },
      "source": [
        "claimdf.dtypes"
      ],
      "execution_count": 317,
      "outputs": [
        {
          "output_type": "execute_result",
          "data": {
            "text/plain": [
              "CUST_ID                  object\n",
              "ACCI_OCCP_GRP           float64\n",
              "VLID_HOSP_OTDA          float64\n",
              "HOSP_CODE               float64\n",
              "HOSP_SPEC_DVSN          float64\n",
              "CHME_LICE_NO            float64\n",
              "DMND_AMT                float64\n",
              "PAYM_AMT                float64\n",
              "NON_PAY_RATIO           float64\n",
              "HEED_HOSP_YN              int64\n",
              "CAUS_CODE_COUNT           int64\n",
              "DMND_RESN_CODE_COUNT      int64\n",
              "RESL_CD1_COUNT            int64\n",
              "dtype: object"
            ]
          },
          "metadata": {
            "tags": []
          },
          "execution_count": 317
        }
      ]
    },
    {
      "cell_type": "code",
      "metadata": {
        "id": "NJbPAfaSotGx"
      },
      "source": [
        "claimdf[\"DMND_AMT_SUM\"] = claimdf.groupby('CUST_ID')['DMND_AMT'].transform('sum')\n",
        "claimdf[\"PAYM_AMT_SUM\"] = claimdf.groupby('CUST_ID')['PAYM_AMT'].transform('sum')\n",
        "claimdf[\"NON_PAY_RATIO_SUM\"] = claimdf.groupby('CUST_ID')['NON_PAY_RATIO'].transform('sum')\n",
        "\n"
      ],
      "execution_count": 318,
      "outputs": []
    },
    {
      "cell_type": "code",
      "metadata": {
        "colab": {
          "base_uri": "https://localhost:8080/",
          "height": 439
        },
        "id": "KZPHdH2sc8S-",
        "outputId": "bbb4b4f3-7164-4ae6-abb9-90212fc26199"
      },
      "source": [
        "claimdf"
      ],
      "execution_count": 319,
      "outputs": [
        {
          "output_type": "execute_result",
          "data": {
            "text/html": [
              "<div>\n",
              "<style scoped>\n",
              "    .dataframe tbody tr th:only-of-type {\n",
              "        vertical-align: middle;\n",
              "    }\n",
              "\n",
              "    .dataframe tbody tr th {\n",
              "        vertical-align: top;\n",
              "    }\n",
              "\n",
              "    .dataframe thead th {\n",
              "        text-align: right;\n",
              "    }\n",
              "</style>\n",
              "<table border=\"1\" class=\"dataframe\">\n",
              "  <thead>\n",
              "    <tr style=\"text-align: right;\">\n",
              "      <th></th>\n",
              "      <th>CUST_ID</th>\n",
              "      <th>ACCI_OCCP_GRP</th>\n",
              "      <th>VLID_HOSP_OTDA</th>\n",
              "      <th>HOSP_CODE</th>\n",
              "      <th>HOSP_SPEC_DVSN</th>\n",
              "      <th>CHME_LICE_NO</th>\n",
              "      <th>DMND_AMT</th>\n",
              "      <th>PAYM_AMT</th>\n",
              "      <th>NON_PAY_RATIO</th>\n",
              "      <th>HEED_HOSP_YN</th>\n",
              "      <th>CAUS_CODE_COUNT</th>\n",
              "      <th>DMND_RESN_CODE_COUNT</th>\n",
              "      <th>RESL_CD1_COUNT</th>\n",
              "      <th>DMND_AMT_SUM</th>\n",
              "      <th>PAYM_AMT_SUM</th>\n",
              "      <th>NON_PAY_RATIO_SUM</th>\n",
              "    </tr>\n",
              "  </thead>\n",
              "  <tbody>\n",
              "    <tr>\n",
              "      <th>1</th>\n",
              "      <td>5936</td>\n",
              "      <td>21.0</td>\n",
              "      <td>2.0</td>\n",
              "      <td>12537.0</td>\n",
              "      <td>95.0</td>\n",
              "      <td>11606.0</td>\n",
              "      <td>20000.0</td>\n",
              "      <td>20000.0</td>\n",
              "      <td>0.0</td>\n",
              "      <td>0</td>\n",
              "      <td>1</td>\n",
              "      <td>1</td>\n",
              "      <td>2</td>\n",
              "      <td>180000.0</td>\n",
              "      <td>180000.0</td>\n",
              "      <td>0.0</td>\n",
              "    </tr>\n",
              "    <tr>\n",
              "      <th>2</th>\n",
              "      <td>5936</td>\n",
              "      <td>21.0</td>\n",
              "      <td>2.0</td>\n",
              "      <td>12537.0</td>\n",
              "      <td>95.0</td>\n",
              "      <td>11606.0</td>\n",
              "      <td>30000.0</td>\n",
              "      <td>30000.0</td>\n",
              "      <td>0.0</td>\n",
              "      <td>0</td>\n",
              "      <td>1</td>\n",
              "      <td>1</td>\n",
              "      <td>2</td>\n",
              "      <td>180000.0</td>\n",
              "      <td>180000.0</td>\n",
              "      <td>0.0</td>\n",
              "    </tr>\n",
              "    <tr>\n",
              "      <th>3</th>\n",
              "      <td>5936</td>\n",
              "      <td>21.0</td>\n",
              "      <td>2.0</td>\n",
              "      <td>12537.0</td>\n",
              "      <td>95.0</td>\n",
              "      <td>11606.0</td>\n",
              "      <td>40000.0</td>\n",
              "      <td>40000.0</td>\n",
              "      <td>0.0</td>\n",
              "      <td>0</td>\n",
              "      <td>1</td>\n",
              "      <td>1</td>\n",
              "      <td>2</td>\n",
              "      <td>180000.0</td>\n",
              "      <td>180000.0</td>\n",
              "      <td>0.0</td>\n",
              "    </tr>\n",
              "    <tr>\n",
              "      <th>4</th>\n",
              "      <td>1043</td>\n",
              "      <td>3.0</td>\n",
              "      <td>6.0</td>\n",
              "      <td>12537.0</td>\n",
              "      <td>95.0</td>\n",
              "      <td>17647.0</td>\n",
              "      <td>60000.0</td>\n",
              "      <td>60000.0</td>\n",
              "      <td>0.0</td>\n",
              "      <td>0</td>\n",
              "      <td>4</td>\n",
              "      <td>1</td>\n",
              "      <td>6</td>\n",
              "      <td>3460000.0</td>\n",
              "      <td>3460000.0</td>\n",
              "      <td>0.0</td>\n",
              "    </tr>\n",
              "    <tr>\n",
              "      <th>5</th>\n",
              "      <td>8545</td>\n",
              "      <td>3.0</td>\n",
              "      <td>0.0</td>\n",
              "      <td>2305.0</td>\n",
              "      <td>30.0</td>\n",
              "      <td>25697.0</td>\n",
              "      <td>200000.0</td>\n",
              "      <td>200000.0</td>\n",
              "      <td>0.0</td>\n",
              "      <td>0</td>\n",
              "      <td>2</td>\n",
              "      <td>1</td>\n",
              "      <td>2</td>\n",
              "      <td>400000.0</td>\n",
              "      <td>400000.0</td>\n",
              "      <td>0.0</td>\n",
              "    </tr>\n",
              "    <tr>\n",
              "      <th>...</th>\n",
              "      <td>...</td>\n",
              "      <td>...</td>\n",
              "      <td>...</td>\n",
              "      <td>...</td>\n",
              "      <td>...</td>\n",
              "      <td>...</td>\n",
              "      <td>...</td>\n",
              "      <td>...</td>\n",
              "      <td>...</td>\n",
              "      <td>...</td>\n",
              "      <td>...</td>\n",
              "      <td>...</td>\n",
              "      <td>...</td>\n",
              "      <td>...</td>\n",
              "      <td>...</td>\n",
              "      <td>...</td>\n",
              "    </tr>\n",
              "    <tr>\n",
              "      <th>119011</th>\n",
              "      <td>4355</td>\n",
              "      <td>21.0</td>\n",
              "      <td>1.0</td>\n",
              "      <td>10361.0</td>\n",
              "      <td>20.0</td>\n",
              "      <td>18691.0</td>\n",
              "      <td>7923.0</td>\n",
              "      <td>7500.0</td>\n",
              "      <td>1.0</td>\n",
              "      <td>0</td>\n",
              "      <td>1</td>\n",
              "      <td>1</td>\n",
              "      <td>1</td>\n",
              "      <td>61373.0</td>\n",
              "      <td>60950.0</td>\n",
              "      <td>2.0</td>\n",
              "    </tr>\n",
              "    <tr>\n",
              "      <th>119015</th>\n",
              "      <td>14068</td>\n",
              "      <td>10.0</td>\n",
              "      <td>4.0</td>\n",
              "      <td>10387.0</td>\n",
              "      <td>30.0</td>\n",
              "      <td>15727.0</td>\n",
              "      <td>6777.0</td>\n",
              "      <td>6455.0</td>\n",
              "      <td>1.0</td>\n",
              "      <td>0</td>\n",
              "      <td>3</td>\n",
              "      <td>3</td>\n",
              "      <td>6</td>\n",
              "      <td>1781297.0</td>\n",
              "      <td>1780975.0</td>\n",
              "      <td>6.0</td>\n",
              "    </tr>\n",
              "    <tr>\n",
              "      <th>119016</th>\n",
              "      <td>15545</td>\n",
              "      <td>1.0</td>\n",
              "      <td>4.0</td>\n",
              "      <td>7577.0</td>\n",
              "      <td>20.0</td>\n",
              "      <td>6903.0</td>\n",
              "      <td>23666.0</td>\n",
              "      <td>22500.0</td>\n",
              "      <td>1.0</td>\n",
              "      <td>0</td>\n",
              "      <td>2</td>\n",
              "      <td>1</td>\n",
              "      <td>2</td>\n",
              "      <td>305472.0</td>\n",
              "      <td>303525.0</td>\n",
              "      <td>7.0</td>\n",
              "    </tr>\n",
              "    <tr>\n",
              "      <th>119019</th>\n",
              "      <td>15545</td>\n",
              "      <td>1.0</td>\n",
              "      <td>1.0</td>\n",
              "      <td>7577.0</td>\n",
              "      <td>20.0</td>\n",
              "      <td>6903.0</td>\n",
              "      <td>7743.0</td>\n",
              "      <td>7500.0</td>\n",
              "      <td>1.0</td>\n",
              "      <td>0</td>\n",
              "      <td>2</td>\n",
              "      <td>1</td>\n",
              "      <td>2</td>\n",
              "      <td>305472.0</td>\n",
              "      <td>303525.0</td>\n",
              "      <td>7.0</td>\n",
              "    </tr>\n",
              "    <tr>\n",
              "      <th>119020</th>\n",
              "      <td>21542</td>\n",
              "      <td>21.0</td>\n",
              "      <td>2.0</td>\n",
              "      <td>7418.0</td>\n",
              "      <td>20.0</td>\n",
              "      <td>15634.0</td>\n",
              "      <td>56181.0</td>\n",
              "      <td>54762.0</td>\n",
              "      <td>1.0</td>\n",
              "      <td>0</td>\n",
              "      <td>1</td>\n",
              "      <td>1</td>\n",
              "      <td>1</td>\n",
              "      <td>609856.0</td>\n",
              "      <td>607620.0</td>\n",
              "      <td>2.0</td>\n",
              "    </tr>\n",
              "  </tbody>\n",
              "</table>\n",
              "<p>117595 rows × 16 columns</p>\n",
              "</div>"
            ],
            "text/plain": [
              "       CUST_ID  ACCI_OCCP_GRP  ...  PAYM_AMT_SUM  NON_PAY_RATIO_SUM\n",
              "1         5936           21.0  ...      180000.0                0.0\n",
              "2         5936           21.0  ...      180000.0                0.0\n",
              "3         5936           21.0  ...      180000.0                0.0\n",
              "4         1043            3.0  ...     3460000.0                0.0\n",
              "5         8545            3.0  ...      400000.0                0.0\n",
              "...        ...            ...  ...           ...                ...\n",
              "119011    4355           21.0  ...       60950.0                2.0\n",
              "119015   14068           10.0  ...     1780975.0                6.0\n",
              "119016   15545            1.0  ...      303525.0                7.0\n",
              "119019   15545            1.0  ...      303525.0                7.0\n",
              "119020   21542           21.0  ...      607620.0                2.0\n",
              "\n",
              "[117595 rows x 16 columns]"
            ]
          },
          "metadata": {
            "tags": []
          },
          "execution_count": 319
        }
      ]
    },
    {
      "cell_type": "code",
      "metadata": {
        "colab": {
          "base_uri": "https://localhost:8080/"
        },
        "id": "L4-wltRswHkO",
        "outputId": "36503193-eade-4548-c929-270a6d360ae9"
      },
      "source": [
        "claimdf.isnull().sum()#결측치 완전 제거 확인"
      ],
      "execution_count": 320,
      "outputs": [
        {
          "output_type": "execute_result",
          "data": {
            "text/plain": [
              "CUST_ID                 0\n",
              "ACCI_OCCP_GRP           0\n",
              "VLID_HOSP_OTDA          0\n",
              "HOSP_CODE               0\n",
              "HOSP_SPEC_DVSN          0\n",
              "CHME_LICE_NO            0\n",
              "DMND_AMT                0\n",
              "PAYM_AMT                0\n",
              "NON_PAY_RATIO           0\n",
              "HEED_HOSP_YN            0\n",
              "CAUS_CODE_COUNT         0\n",
              "DMND_RESN_CODE_COUNT    0\n",
              "RESL_CD1_COUNT          0\n",
              "DMND_AMT_SUM            0\n",
              "PAYM_AMT_SUM            0\n",
              "NON_PAY_RATIO_SUM       0\n",
              "dtype: int64"
            ]
          },
          "metadata": {
            "tags": []
          },
          "execution_count": 320
        }
      ]
    },
    {
      "cell_type": "code",
      "metadata": {
        "id": "SG1c0dEJva_u"
      },
      "source": [
        "claimdf = claimdf[(claimdf.VLID_HOSP_OTDA).astype(int) < 300]#유효 통원, 입원 일자가 10000이 넘어가는 이상치를 발견함. 유효입원일자가 높은 경우 실제로 아프거나 오류 데이터일 것이라고 생각하고 배제(이상치 제거 코드)"
      ],
      "execution_count": 321,
      "outputs": []
    },
    {
      "cell_type": "code",
      "metadata": {
        "colab": {
          "base_uri": "https://localhost:8080/"
        },
        "id": "iIW9cgrii-kr",
        "outputId": "e8cd26e6-784d-48b9-a496-50073105aee0"
      },
      "source": [
        "claimdf['CLAIM_CNT'] = claimdf['CUST_ID'].groupby(claimdf['CUST_ID']).transform('count')#group화하여 row수를 세주고, 그에 따른 카운트를 새 컬럼으로 만들어 추가, cust_id는 병합을 위해 남겨놓아야함을 인지"
      ],
      "execution_count": 322,
      "outputs": [
        {
          "output_type": "stream",
          "text": [
            "/usr/local/lib/python3.7/dist-packages/ipykernel_launcher.py:1: SettingWithCopyWarning: \n",
            "A value is trying to be set on a copy of a slice from a DataFrame.\n",
            "Try using .loc[row_indexer,col_indexer] = value instead\n",
            "\n",
            "See the caveats in the documentation: https://pandas.pydata.org/pandas-docs/stable/user_guide/indexing.html#returning-a-view-versus-a-copy\n",
            "  \"\"\"Entry point for launching an IPython kernel.\n"
          ],
          "name": "stderr"
        }
      ]
    },
    {
      "cell_type": "code",
      "metadata": {
        "id": "rHd2LKJizYRY"
      },
      "source": [
        "claimdf = claimdf.astype({'VLID_HOSP_OTDA': 'int'})#첫 row가 컬럼명으로 들어갔었기에 오브젝트형 타입으로 선언되어있었음. integer형으로 먼저 바꿔주는 작업 필요"
      ],
      "execution_count": 323,
      "outputs": []
    },
    {
      "cell_type": "code",
      "metadata": {
        "colab": {
          "base_uri": "https://localhost:8080/"
        },
        "id": "9qQCq8WAziRk",
        "outputId": "927c7387-4022-4d7e-f5e6-c7769ec06e6f"
      },
      "source": [
        "claimdf.dtypes#타입 확인"
      ],
      "execution_count": 324,
      "outputs": [
        {
          "output_type": "execute_result",
          "data": {
            "text/plain": [
              "CUST_ID                  object\n",
              "ACCI_OCCP_GRP           float64\n",
              "VLID_HOSP_OTDA            int64\n",
              "HOSP_CODE               float64\n",
              "HOSP_SPEC_DVSN          float64\n",
              "CHME_LICE_NO            float64\n",
              "DMND_AMT                float64\n",
              "PAYM_AMT                float64\n",
              "NON_PAY_RATIO           float64\n",
              "HEED_HOSP_YN              int64\n",
              "CAUS_CODE_COUNT           int64\n",
              "DMND_RESN_CODE_COUNT      int64\n",
              "RESL_CD1_COUNT            int64\n",
              "DMND_AMT_SUM            float64\n",
              "PAYM_AMT_SUM            float64\n",
              "NON_PAY_RATIO_SUM       float64\n",
              "CLAIM_CNT                 int64\n",
              "dtype: object"
            ]
          },
          "metadata": {
            "tags": []
          },
          "execution_count": 324
        }
      ]
    },
    {
      "cell_type": "code",
      "metadata": {
        "id": "LkLrO5eNnFNU"
      },
      "source": [
        "claimdf['TOTAL_VLID_HOSP_OTDA'] = claimdf.groupby(claimdf['CUST_ID'])['VLID_HOSP_OTDA'].transform('sum')#cust_id 기준 vlid_hosp_otda의 합을 새 컬럼으로 만들고, 기존 컬럼 삭제\n",
        "claimdf.drop(['VLID_HOSP_OTDA'], axis=1, inplace = True)"
      ],
      "execution_count": 325,
      "outputs": []
    },
    {
      "cell_type": "code",
      "metadata": {
        "colab": {
          "base_uri": "https://localhost:8080/"
        },
        "id": "Pqg5hVsd6hWO",
        "outputId": "7ddc600b-c1ea-4ca2-966d-72f78b7396bc"
      },
      "source": [
        "claimdf.isnull().sum()"
      ],
      "execution_count": 326,
      "outputs": [
        {
          "output_type": "execute_result",
          "data": {
            "text/plain": [
              "CUST_ID                 0\n",
              "ACCI_OCCP_GRP           0\n",
              "HOSP_CODE               0\n",
              "HOSP_SPEC_DVSN          0\n",
              "CHME_LICE_NO            0\n",
              "DMND_AMT                0\n",
              "PAYM_AMT                0\n",
              "NON_PAY_RATIO           0\n",
              "HEED_HOSP_YN            0\n",
              "CAUS_CODE_COUNT         0\n",
              "DMND_RESN_CODE_COUNT    0\n",
              "RESL_CD1_COUNT          0\n",
              "DMND_AMT_SUM            0\n",
              "PAYM_AMT_SUM            0\n",
              "NON_PAY_RATIO_SUM       0\n",
              "CLAIM_CNT               0\n",
              "TOTAL_VLID_HOSP_OTDA    0\n",
              "dtype: int64"
            ]
          },
          "metadata": {
            "tags": []
          },
          "execution_count": 326
        }
      ]
    },
    {
      "cell_type": "code",
      "metadata": {
        "id": "ivybQ6L5znYk"
      },
      "source": [
        "claimdf['HOSP_VARIES'] = claimdf.groupby(claimdf['CUST_ID'])[\"HOSP_CODE\"].transform('nunique')#nunique는 고유값을 세주는 카운트함수임. 즉 중복값을 제외하고 각자 다른 값들의 수를 세어 병원의 가짓수를 세서 컬럼화, 기존 컬럼 삭제\n",
        "claimdf.drop(['HOSP_CODE'], axis=1, inplace = True)"
      ],
      "execution_count": 327,
      "outputs": []
    },
    {
      "cell_type": "code",
      "metadata": {
        "id": "2WS9P5RsmY4b"
      },
      "source": [
        "claimdf['HOSP_DVSN_VARIES'] = claimdf.groupby(claimdf['CUST_ID'])[\"HOSP_SPEC_DVSN\"].transform('nunique')#위와 동일\n",
        "claimdf.drop(['HOSP_SPEC_DVSN'], axis=1, inplace = True)"
      ],
      "execution_count": 328,
      "outputs": []
    },
    {
      "cell_type": "code",
      "metadata": {
        "id": "Ra7dNvOXJYoV"
      },
      "source": [
        "claimdf['CHME_LICE_COUNT'] = claimdf.groupby(claimdf['CUST_ID'])[\"CHME_LICE_NO\"].transform('nunique')#위와 동일\n",
        "claimdf.drop_duplicates(['CUST_ID'], inplace = True)"
      ],
      "execution_count": 329,
      "outputs": []
    },
    {
      "cell_type": "code",
      "metadata": {
        "colab": {
          "base_uri": "https://localhost:8080/",
          "height": 439
        },
        "id": "Tu_KVwL5C1Lp",
        "outputId": "710deb2f-f0c9-4699-dec2-ba02116484bd"
      },
      "source": [
        "claimdf"
      ],
      "execution_count": 330,
      "outputs": [
        {
          "output_type": "execute_result",
          "data": {
            "text/html": [
              "<div>\n",
              "<style scoped>\n",
              "    .dataframe tbody tr th:only-of-type {\n",
              "        vertical-align: middle;\n",
              "    }\n",
              "\n",
              "    .dataframe tbody tr th {\n",
              "        vertical-align: top;\n",
              "    }\n",
              "\n",
              "    .dataframe thead th {\n",
              "        text-align: right;\n",
              "    }\n",
              "</style>\n",
              "<table border=\"1\" class=\"dataframe\">\n",
              "  <thead>\n",
              "    <tr style=\"text-align: right;\">\n",
              "      <th></th>\n",
              "      <th>CUST_ID</th>\n",
              "      <th>ACCI_OCCP_GRP</th>\n",
              "      <th>CHME_LICE_NO</th>\n",
              "      <th>DMND_AMT</th>\n",
              "      <th>PAYM_AMT</th>\n",
              "      <th>NON_PAY_RATIO</th>\n",
              "      <th>HEED_HOSP_YN</th>\n",
              "      <th>CAUS_CODE_COUNT</th>\n",
              "      <th>DMND_RESN_CODE_COUNT</th>\n",
              "      <th>RESL_CD1_COUNT</th>\n",
              "      <th>DMND_AMT_SUM</th>\n",
              "      <th>PAYM_AMT_SUM</th>\n",
              "      <th>NON_PAY_RATIO_SUM</th>\n",
              "      <th>CLAIM_CNT</th>\n",
              "      <th>TOTAL_VLID_HOSP_OTDA</th>\n",
              "      <th>HOSP_VARIES</th>\n",
              "      <th>HOSP_DVSN_VARIES</th>\n",
              "      <th>CHME_LICE_COUNT</th>\n",
              "    </tr>\n",
              "  </thead>\n",
              "  <tbody>\n",
              "    <tr>\n",
              "      <th>1</th>\n",
              "      <td>5936</td>\n",
              "      <td>21.0</td>\n",
              "      <td>11606.0</td>\n",
              "      <td>20000.0</td>\n",
              "      <td>20000.0</td>\n",
              "      <td>0.0</td>\n",
              "      <td>0</td>\n",
              "      <td>1</td>\n",
              "      <td>1</td>\n",
              "      <td>2</td>\n",
              "      <td>180000.0</td>\n",
              "      <td>180000.0</td>\n",
              "      <td>0.0</td>\n",
              "      <td>6</td>\n",
              "      <td>12</td>\n",
              "      <td>1</td>\n",
              "      <td>1</td>\n",
              "      <td>2</td>\n",
              "    </tr>\n",
              "    <tr>\n",
              "      <th>4</th>\n",
              "      <td>1043</td>\n",
              "      <td>3.0</td>\n",
              "      <td>17647.0</td>\n",
              "      <td>60000.0</td>\n",
              "      <td>60000.0</td>\n",
              "      <td>0.0</td>\n",
              "      <td>0</td>\n",
              "      <td>4</td>\n",
              "      <td>1</td>\n",
              "      <td>6</td>\n",
              "      <td>3460000.0</td>\n",
              "      <td>3460000.0</td>\n",
              "      <td>0.0</td>\n",
              "      <td>10</td>\n",
              "      <td>111</td>\n",
              "      <td>5</td>\n",
              "      <td>5</td>\n",
              "      <td>7</td>\n",
              "    </tr>\n",
              "    <tr>\n",
              "      <th>5</th>\n",
              "      <td>8545</td>\n",
              "      <td>3.0</td>\n",
              "      <td>25697.0</td>\n",
              "      <td>200000.0</td>\n",
              "      <td>200000.0</td>\n",
              "      <td>0.0</td>\n",
              "      <td>0</td>\n",
              "      <td>2</td>\n",
              "      <td>1</td>\n",
              "      <td>2</td>\n",
              "      <td>400000.0</td>\n",
              "      <td>400000.0</td>\n",
              "      <td>0.0</td>\n",
              "      <td>2</td>\n",
              "      <td>0</td>\n",
              "      <td>2</td>\n",
              "      <td>2</td>\n",
              "      <td>2</td>\n",
              "    </tr>\n",
              "    <tr>\n",
              "      <th>6</th>\n",
              "      <td>4734</td>\n",
              "      <td>21.0</td>\n",
              "      <td>5503.0</td>\n",
              "      <td>30000.0</td>\n",
              "      <td>30000.0</td>\n",
              "      <td>0.0</td>\n",
              "      <td>0</td>\n",
              "      <td>3</td>\n",
              "      <td>3</td>\n",
              "      <td>4</td>\n",
              "      <td>410000.0</td>\n",
              "      <td>410000.0</td>\n",
              "      <td>0.0</td>\n",
              "      <td>6</td>\n",
              "      <td>21</td>\n",
              "      <td>2</td>\n",
              "      <td>1</td>\n",
              "      <td>3</td>\n",
              "    </tr>\n",
              "    <tr>\n",
              "      <th>7</th>\n",
              "      <td>9416</td>\n",
              "      <td>2.0</td>\n",
              "      <td>12126.0</td>\n",
              "      <td>300000.0</td>\n",
              "      <td>300000.0</td>\n",
              "      <td>0.0</td>\n",
              "      <td>0</td>\n",
              "      <td>5</td>\n",
              "      <td>3</td>\n",
              "      <td>10</td>\n",
              "      <td>10693767.0</td>\n",
              "      <td>10690000.0</td>\n",
              "      <td>0.0</td>\n",
              "      <td>18</td>\n",
              "      <td>259</td>\n",
              "      <td>6</td>\n",
              "      <td>4</td>\n",
              "      <td>13</td>\n",
              "    </tr>\n",
              "    <tr>\n",
              "      <th>...</th>\n",
              "      <td>...</td>\n",
              "      <td>...</td>\n",
              "      <td>...</td>\n",
              "      <td>...</td>\n",
              "      <td>...</td>\n",
              "      <td>...</td>\n",
              "      <td>...</td>\n",
              "      <td>...</td>\n",
              "      <td>...</td>\n",
              "      <td>...</td>\n",
              "      <td>...</td>\n",
              "      <td>...</td>\n",
              "      <td>...</td>\n",
              "      <td>...</td>\n",
              "      <td>...</td>\n",
              "      <td>...</td>\n",
              "      <td>...</td>\n",
              "      <td>...</td>\n",
              "    </tr>\n",
              "    <tr>\n",
              "      <th>118903</th>\n",
              "      <td>15203</td>\n",
              "      <td>3.0</td>\n",
              "      <td>9182.0</td>\n",
              "      <td>125613.0</td>\n",
              "      <td>125613.0</td>\n",
              "      <td>0.0</td>\n",
              "      <td>0</td>\n",
              "      <td>1</td>\n",
              "      <td>2</td>\n",
              "      <td>1</td>\n",
              "      <td>159513.0</td>\n",
              "      <td>159513.0</td>\n",
              "      <td>0.0</td>\n",
              "      <td>2</td>\n",
              "      <td>4</td>\n",
              "      <td>1</td>\n",
              "      <td>1</td>\n",
              "      <td>1</td>\n",
              "    </tr>\n",
              "    <tr>\n",
              "      <th>118906</th>\n",
              "      <td>16048</td>\n",
              "      <td>1.0</td>\n",
              "      <td>14029.0</td>\n",
              "      <td>80000.0</td>\n",
              "      <td>80000.0</td>\n",
              "      <td>0.0</td>\n",
              "      <td>0</td>\n",
              "      <td>1</td>\n",
              "      <td>2</td>\n",
              "      <td>1</td>\n",
              "      <td>300000.0</td>\n",
              "      <td>300000.0</td>\n",
              "      <td>0.0</td>\n",
              "      <td>2</td>\n",
              "      <td>8</td>\n",
              "      <td>1</td>\n",
              "      <td>1</td>\n",
              "      <td>1</td>\n",
              "    </tr>\n",
              "    <tr>\n",
              "      <th>118916</th>\n",
              "      <td>2924</td>\n",
              "      <td>2.0</td>\n",
              "      <td>8671.0</td>\n",
              "      <td>90000.0</td>\n",
              "      <td>90000.0</td>\n",
              "      <td>0.0</td>\n",
              "      <td>0</td>\n",
              "      <td>1</td>\n",
              "      <td>1</td>\n",
              "      <td>1</td>\n",
              "      <td>90000.0</td>\n",
              "      <td>90000.0</td>\n",
              "      <td>0.0</td>\n",
              "      <td>1</td>\n",
              "      <td>12</td>\n",
              "      <td>1</td>\n",
              "      <td>1</td>\n",
              "      <td>1</td>\n",
              "    </tr>\n",
              "    <tr>\n",
              "      <th>118930</th>\n",
              "      <td>6451</td>\n",
              "      <td>9.0</td>\n",
              "      <td>14317.0</td>\n",
              "      <td>80000.0</td>\n",
              "      <td>80000.0</td>\n",
              "      <td>0.0</td>\n",
              "      <td>0</td>\n",
              "      <td>1</td>\n",
              "      <td>3</td>\n",
              "      <td>1</td>\n",
              "      <td>420000.0</td>\n",
              "      <td>420000.0</td>\n",
              "      <td>0.0</td>\n",
              "      <td>3</td>\n",
              "      <td>6</td>\n",
              "      <td>1</td>\n",
              "      <td>1</td>\n",
              "      <td>1</td>\n",
              "    </tr>\n",
              "    <tr>\n",
              "      <th>118955</th>\n",
              "      <td>11689</td>\n",
              "      <td>8.0</td>\n",
              "      <td>20380.0</td>\n",
              "      <td>0.0</td>\n",
              "      <td>0.0</td>\n",
              "      <td>0.0</td>\n",
              "      <td>0</td>\n",
              "      <td>1</td>\n",
              "      <td>2</td>\n",
              "      <td>1</td>\n",
              "      <td>280000.0</td>\n",
              "      <td>280000.0</td>\n",
              "      <td>0.0</td>\n",
              "      <td>3</td>\n",
              "      <td>11</td>\n",
              "      <td>2</td>\n",
              "      <td>2</td>\n",
              "      <td>2</td>\n",
              "    </tr>\n",
              "  </tbody>\n",
              "</table>\n",
              "<p>21943 rows × 18 columns</p>\n",
              "</div>"
            ],
            "text/plain": [
              "       CUST_ID  ACCI_OCCP_GRP  ...  HOSP_DVSN_VARIES  CHME_LICE_COUNT\n",
              "1         5936           21.0  ...                 1                2\n",
              "4         1043            3.0  ...                 5                7\n",
              "5         8545            3.0  ...                 2                2\n",
              "6         4734           21.0  ...                 1                3\n",
              "7         9416            2.0  ...                 4               13\n",
              "...        ...            ...  ...               ...              ...\n",
              "118903   15203            3.0  ...                 1                1\n",
              "118906   16048            1.0  ...                 1                1\n",
              "118916    2924            2.0  ...                 1                1\n",
              "118930    6451            9.0  ...                 1                1\n",
              "118955   11689            8.0  ...                 2                2\n",
              "\n",
              "[21943 rows x 18 columns]"
            ]
          },
          "metadata": {
            "tags": []
          },
          "execution_count": 330
        }
      ]
    },
    {
      "cell_type": "code",
      "metadata": {
        "id": "iSnoHNmfJvp1"
      },
      "source": [
        "merged_claim_data = pd.merge(custdf, claimdf, how='right')#cust_id를 기준으로 병합될 것임"
      ],
      "execution_count": 331,
      "outputs": []
    },
    {
      "cell_type": "code",
      "metadata": {
        "id": "JqlZIBuzLRbB"
      },
      "source": [
        "merged_claim_data.dropna(inplace= True)#병합된 데이터에서 결측치를 제거해줌"
      ],
      "execution_count": 332,
      "outputs": []
    },
    {
      "cell_type": "code",
      "metadata": {
        "colab": {
          "base_uri": "https://localhost:8080/"
        },
        "id": "UyZR71eVMi-E",
        "outputId": "16567d24-267b-4919-bc2d-9a22f5711dfe"
      },
      "source": [
        "merged_claim_data.isnull().sum()#최종 데이터 결측치 확인"
      ],
      "execution_count": 333,
      "outputs": [
        {
          "output_type": "execute_result",
          "data": {
            "text/plain": [
              "CUST_ID                 0\n",
              "DIVIDED_SET             0\n",
              "SIU_CUST_YN             0\n",
              "TOTALPREM               0\n",
              "MINCRDT                 0\n",
              "JPBASE_HSHD_INCM        0\n",
              "ACCI_OCCP_GRP           0\n",
              "CHME_LICE_NO            0\n",
              "DMND_AMT                0\n",
              "PAYM_AMT                0\n",
              "NON_PAY_RATIO           0\n",
              "HEED_HOSP_YN            0\n",
              "CAUS_CODE_COUNT         0\n",
              "DMND_RESN_CODE_COUNT    0\n",
              "RESL_CD1_COUNT          0\n",
              "DMND_AMT_SUM            0\n",
              "PAYM_AMT_SUM            0\n",
              "NON_PAY_RATIO_SUM       0\n",
              "CLAIM_CNT               0\n",
              "TOTAL_VLID_HOSP_OTDA    0\n",
              "HOSP_VARIES             0\n",
              "HOSP_DVSN_VARIES        0\n",
              "CHME_LICE_COUNT         0\n",
              "dtype: int64"
            ]
          },
          "metadata": {
            "tags": []
          },
          "execution_count": 333
        }
      ]
    },
    {
      "cell_type": "code",
      "metadata": {
        "id": "3LuhZslY5lhS"
      },
      "source": [
        "#merged_data = merged_claim_data.join(claim_DF, how ='natural')\n",
        "merged_data = pd.merge(left = merged_claim_data , right = claim_DF, how = \"inner\", on = \"CUST_ID\")"
      ],
      "execution_count": 334,
      "outputs": []
    },
    {
      "cell_type": "code",
      "metadata": {
        "colab": {
          "base_uri": "https://localhost:8080/",
          "height": 439
        },
        "id": "pYFgn0buFSOu",
        "outputId": "139f2e45-ac4c-42c1-b6cd-511fd06d99ed"
      },
      "source": [
        "merged_data"
      ],
      "execution_count": 335,
      "outputs": [
        {
          "output_type": "execute_result",
          "data": {
            "text/html": [
              "<div>\n",
              "<style scoped>\n",
              "    .dataframe tbody tr th:only-of-type {\n",
              "        vertical-align: middle;\n",
              "    }\n",
              "\n",
              "    .dataframe tbody tr th {\n",
              "        vertical-align: top;\n",
              "    }\n",
              "\n",
              "    .dataframe thead th {\n",
              "        text-align: right;\n",
              "    }\n",
              "</style>\n",
              "<table border=\"1\" class=\"dataframe\">\n",
              "  <thead>\n",
              "    <tr style=\"text-align: right;\">\n",
              "      <th></th>\n",
              "      <th>CUST_ID</th>\n",
              "      <th>DIVIDED_SET</th>\n",
              "      <th>SIU_CUST_YN</th>\n",
              "      <th>TOTALPREM</th>\n",
              "      <th>MINCRDT</th>\n",
              "      <th>JPBASE_HSHD_INCM</th>\n",
              "      <th>ACCI_OCCP_GRP</th>\n",
              "      <th>CHME_LICE_NO</th>\n",
              "      <th>DMND_AMT</th>\n",
              "      <th>PAYM_AMT</th>\n",
              "      <th>NON_PAY_RATIO</th>\n",
              "      <th>HEED_HOSP_YN</th>\n",
              "      <th>CAUS_CODE_COUNT</th>\n",
              "      <th>DMND_RESN_CODE_COUNT</th>\n",
              "      <th>RESL_CD1_COUNT</th>\n",
              "      <th>DMND_AMT_SUM</th>\n",
              "      <th>PAYM_AMT_SUM</th>\n",
              "      <th>NON_PAY_RATIO_SUM</th>\n",
              "      <th>CLAIM_CNT</th>\n",
              "      <th>TOTAL_VLID_HOSP_OTDA</th>\n",
              "      <th>HOSP_VARIES</th>\n",
              "      <th>HOSP_DVSN_VARIES</th>\n",
              "      <th>CHME_LICE_COUNT</th>\n",
              "      <th>HEED_HOSP_YN_RATE</th>\n",
              "    </tr>\n",
              "  </thead>\n",
              "  <tbody>\n",
              "    <tr>\n",
              "      <th>0</th>\n",
              "      <td>5936</td>\n",
              "      <td>1.0</td>\n",
              "      <td>N</td>\n",
              "      <td>0.0</td>\n",
              "      <td>6.0</td>\n",
              "      <td>9872.0</td>\n",
              "      <td>21.0</td>\n",
              "      <td>11606.0</td>\n",
              "      <td>20000.0</td>\n",
              "      <td>20000.0</td>\n",
              "      <td>0.0</td>\n",
              "      <td>0</td>\n",
              "      <td>1</td>\n",
              "      <td>1</td>\n",
              "      <td>2</td>\n",
              "      <td>180000.0</td>\n",
              "      <td>180000.0</td>\n",
              "      <td>0.0</td>\n",
              "      <td>6</td>\n",
              "      <td>12</td>\n",
              "      <td>1</td>\n",
              "      <td>1</td>\n",
              "      <td>2</td>\n",
              "      <td>0.0</td>\n",
              "    </tr>\n",
              "    <tr>\n",
              "      <th>1</th>\n",
              "      <td>1043</td>\n",
              "      <td>1.0</td>\n",
              "      <td>N</td>\n",
              "      <td>2.0</td>\n",
              "      <td>6.0</td>\n",
              "      <td>4760.0</td>\n",
              "      <td>3.0</td>\n",
              "      <td>17647.0</td>\n",
              "      <td>60000.0</td>\n",
              "      <td>60000.0</td>\n",
              "      <td>0.0</td>\n",
              "      <td>0</td>\n",
              "      <td>4</td>\n",
              "      <td>1</td>\n",
              "      <td>6</td>\n",
              "      <td>3460000.0</td>\n",
              "      <td>3460000.0</td>\n",
              "      <td>0.0</td>\n",
              "      <td>10</td>\n",
              "      <td>111</td>\n",
              "      <td>5</td>\n",
              "      <td>5</td>\n",
              "      <td>7</td>\n",
              "      <td>0.0</td>\n",
              "    </tr>\n",
              "    <tr>\n",
              "      <th>2</th>\n",
              "      <td>8545</td>\n",
              "      <td>1.0</td>\n",
              "      <td>N</td>\n",
              "      <td>2.0</td>\n",
              "      <td>6.0</td>\n",
              "      <td>5070.0</td>\n",
              "      <td>3.0</td>\n",
              "      <td>25697.0</td>\n",
              "      <td>200000.0</td>\n",
              "      <td>200000.0</td>\n",
              "      <td>0.0</td>\n",
              "      <td>0</td>\n",
              "      <td>2</td>\n",
              "      <td>1</td>\n",
              "      <td>2</td>\n",
              "      <td>400000.0</td>\n",
              "      <td>400000.0</td>\n",
              "      <td>0.0</td>\n",
              "      <td>2</td>\n",
              "      <td>0</td>\n",
              "      <td>2</td>\n",
              "      <td>2</td>\n",
              "      <td>2</td>\n",
              "      <td>0.0</td>\n",
              "    </tr>\n",
              "    <tr>\n",
              "      <th>3</th>\n",
              "      <td>20267</td>\n",
              "      <td>1.0</td>\n",
              "      <td>Y</td>\n",
              "      <td>7.0</td>\n",
              "      <td>6.0</td>\n",
              "      <td>8951.0</td>\n",
              "      <td>3.0</td>\n",
              "      <td>25700.0</td>\n",
              "      <td>1600000.0</td>\n",
              "      <td>1600000.0</td>\n",
              "      <td>0.0</td>\n",
              "      <td>0</td>\n",
              "      <td>5</td>\n",
              "      <td>2</td>\n",
              "      <td>10</td>\n",
              "      <td>74755070.0</td>\n",
              "      <td>74734000.0</td>\n",
              "      <td>0.0</td>\n",
              "      <td>43</td>\n",
              "      <td>805</td>\n",
              "      <td>15</td>\n",
              "      <td>5</td>\n",
              "      <td>23</td>\n",
              "      <td>0.0</td>\n",
              "    </tr>\n",
              "    <tr>\n",
              "      <th>4</th>\n",
              "      <td>2778</td>\n",
              "      <td>1.0</td>\n",
              "      <td>N</td>\n",
              "      <td>0.0</td>\n",
              "      <td>6.0</td>\n",
              "      <td>4680.0</td>\n",
              "      <td>8.0</td>\n",
              "      <td>12423.0</td>\n",
              "      <td>260000.0</td>\n",
              "      <td>260000.0</td>\n",
              "      <td>0.0</td>\n",
              "      <td>0</td>\n",
              "      <td>4</td>\n",
              "      <td>3</td>\n",
              "      <td>7</td>\n",
              "      <td>6070000.0</td>\n",
              "      <td>6070000.0</td>\n",
              "      <td>0.0</td>\n",
              "      <td>10</td>\n",
              "      <td>144</td>\n",
              "      <td>6</td>\n",
              "      <td>2</td>\n",
              "      <td>6</td>\n",
              "      <td>0.2</td>\n",
              "    </tr>\n",
              "    <tr>\n",
              "      <th>...</th>\n",
              "      <td>...</td>\n",
              "      <td>...</td>\n",
              "      <td>...</td>\n",
              "      <td>...</td>\n",
              "      <td>...</td>\n",
              "      <td>...</td>\n",
              "      <td>...</td>\n",
              "      <td>...</td>\n",
              "      <td>...</td>\n",
              "      <td>...</td>\n",
              "      <td>...</td>\n",
              "      <td>...</td>\n",
              "      <td>...</td>\n",
              "      <td>...</td>\n",
              "      <td>...</td>\n",
              "      <td>...</td>\n",
              "      <td>...</td>\n",
              "      <td>...</td>\n",
              "      <td>...</td>\n",
              "      <td>...</td>\n",
              "      <td>...</td>\n",
              "      <td>...</td>\n",
              "      <td>...</td>\n",
              "      <td>...</td>\n",
              "    </tr>\n",
              "    <tr>\n",
              "      <th>14672</th>\n",
              "      <td>14012</td>\n",
              "      <td>1.0</td>\n",
              "      <td>N</td>\n",
              "      <td>1.0</td>\n",
              "      <td>6.0</td>\n",
              "      <td>4284.0</td>\n",
              "      <td>6.0</td>\n",
              "      <td>12696.0</td>\n",
              "      <td>330000.0</td>\n",
              "      <td>330000.0</td>\n",
              "      <td>0.0</td>\n",
              "      <td>0</td>\n",
              "      <td>1</td>\n",
              "      <td>2</td>\n",
              "      <td>1</td>\n",
              "      <td>15330000.0</td>\n",
              "      <td>15330000.0</td>\n",
              "      <td>0.0</td>\n",
              "      <td>2</td>\n",
              "      <td>9</td>\n",
              "      <td>1</td>\n",
              "      <td>1</td>\n",
              "      <td>1</td>\n",
              "      <td>0.0</td>\n",
              "    </tr>\n",
              "    <tr>\n",
              "      <th>14673</th>\n",
              "      <td>15203</td>\n",
              "      <td>1.0</td>\n",
              "      <td>N</td>\n",
              "      <td>5.0</td>\n",
              "      <td>6.0</td>\n",
              "      <td>8510.0</td>\n",
              "      <td>3.0</td>\n",
              "      <td>9182.0</td>\n",
              "      <td>125613.0</td>\n",
              "      <td>125613.0</td>\n",
              "      <td>0.0</td>\n",
              "      <td>0</td>\n",
              "      <td>1</td>\n",
              "      <td>2</td>\n",
              "      <td>1</td>\n",
              "      <td>159513.0</td>\n",
              "      <td>159513.0</td>\n",
              "      <td>0.0</td>\n",
              "      <td>2</td>\n",
              "      <td>4</td>\n",
              "      <td>1</td>\n",
              "      <td>1</td>\n",
              "      <td>1</td>\n",
              "      <td>0.0</td>\n",
              "    </tr>\n",
              "    <tr>\n",
              "      <th>14674</th>\n",
              "      <td>16048</td>\n",
              "      <td>1.0</td>\n",
              "      <td>N</td>\n",
              "      <td>1.0</td>\n",
              "      <td>1.0</td>\n",
              "      <td>4016.0</td>\n",
              "      <td>1.0</td>\n",
              "      <td>14029.0</td>\n",
              "      <td>80000.0</td>\n",
              "      <td>80000.0</td>\n",
              "      <td>0.0</td>\n",
              "      <td>0</td>\n",
              "      <td>1</td>\n",
              "      <td>2</td>\n",
              "      <td>1</td>\n",
              "      <td>300000.0</td>\n",
              "      <td>300000.0</td>\n",
              "      <td>0.0</td>\n",
              "      <td>2</td>\n",
              "      <td>8</td>\n",
              "      <td>1</td>\n",
              "      <td>1</td>\n",
              "      <td>1</td>\n",
              "      <td>0.0</td>\n",
              "    </tr>\n",
              "    <tr>\n",
              "      <th>14675</th>\n",
              "      <td>2924</td>\n",
              "      <td>1.0</td>\n",
              "      <td>N</td>\n",
              "      <td>14.0</td>\n",
              "      <td>6.0</td>\n",
              "      <td>7228.0</td>\n",
              "      <td>2.0</td>\n",
              "      <td>8671.0</td>\n",
              "      <td>90000.0</td>\n",
              "      <td>90000.0</td>\n",
              "      <td>0.0</td>\n",
              "      <td>0</td>\n",
              "      <td>1</td>\n",
              "      <td>1</td>\n",
              "      <td>1</td>\n",
              "      <td>90000.0</td>\n",
              "      <td>90000.0</td>\n",
              "      <td>0.0</td>\n",
              "      <td>1</td>\n",
              "      <td>12</td>\n",
              "      <td>1</td>\n",
              "      <td>1</td>\n",
              "      <td>1</td>\n",
              "      <td>0.0</td>\n",
              "    </tr>\n",
              "    <tr>\n",
              "      <th>14676</th>\n",
              "      <td>6451</td>\n",
              "      <td>1.0</td>\n",
              "      <td>N</td>\n",
              "      <td>2.0</td>\n",
              "      <td>6.0</td>\n",
              "      <td>9412.0</td>\n",
              "      <td>9.0</td>\n",
              "      <td>14317.0</td>\n",
              "      <td>80000.0</td>\n",
              "      <td>80000.0</td>\n",
              "      <td>0.0</td>\n",
              "      <td>0</td>\n",
              "      <td>1</td>\n",
              "      <td>3</td>\n",
              "      <td>1</td>\n",
              "      <td>420000.0</td>\n",
              "      <td>420000.0</td>\n",
              "      <td>0.0</td>\n",
              "      <td>3</td>\n",
              "      <td>6</td>\n",
              "      <td>1</td>\n",
              "      <td>1</td>\n",
              "      <td>1</td>\n",
              "      <td>0.0</td>\n",
              "    </tr>\n",
              "  </tbody>\n",
              "</table>\n",
              "<p>14677 rows × 24 columns</p>\n",
              "</div>"
            ],
            "text/plain": [
              "      CUST_ID  DIVIDED_SET  ... CHME_LICE_COUNT  HEED_HOSP_YN_RATE\n",
              "0        5936          1.0  ...               2                0.0\n",
              "1        1043          1.0  ...               7                0.0\n",
              "2        8545          1.0  ...               2                0.0\n",
              "3       20267          1.0  ...              23                0.0\n",
              "4        2778          1.0  ...               6                0.2\n",
              "...       ...          ...  ...             ...                ...\n",
              "14672   14012          1.0  ...               1                0.0\n",
              "14673   15203          1.0  ...               1                0.0\n",
              "14674   16048          1.0  ...               1                0.0\n",
              "14675    2924          1.0  ...               1                0.0\n",
              "14676    6451          1.0  ...               1                0.0\n",
              "\n",
              "[14677 rows x 24 columns]"
            ]
          },
          "metadata": {
            "tags": []
          },
          "execution_count": 335
        }
      ]
    },
    {
      "cell_type": "code",
      "metadata": {
        "id": "Byg05drW6Ssx"
      },
      "source": [
        "merged_data.dropna(inplace= True)#병합된 데이터에서 결측치를 제거해줌\n",
        "merged_data.drop_duplicates(['CUST_ID'], inplace = True)#w중복값 제거"
      ],
      "execution_count": 336,
      "outputs": []
    },
    {
      "cell_type": "code",
      "metadata": {
        "colab": {
          "base_uri": "https://localhost:8080/",
          "height": 439
        },
        "id": "h6r6VJBs6Udy",
        "outputId": "4bcade9d-136e-46a6-f7e7-e24d3e36fd0f"
      },
      "source": [
        "merged_data"
      ],
      "execution_count": 337,
      "outputs": [
        {
          "output_type": "execute_result",
          "data": {
            "text/html": [
              "<div>\n",
              "<style scoped>\n",
              "    .dataframe tbody tr th:only-of-type {\n",
              "        vertical-align: middle;\n",
              "    }\n",
              "\n",
              "    .dataframe tbody tr th {\n",
              "        vertical-align: top;\n",
              "    }\n",
              "\n",
              "    .dataframe thead th {\n",
              "        text-align: right;\n",
              "    }\n",
              "</style>\n",
              "<table border=\"1\" class=\"dataframe\">\n",
              "  <thead>\n",
              "    <tr style=\"text-align: right;\">\n",
              "      <th></th>\n",
              "      <th>CUST_ID</th>\n",
              "      <th>DIVIDED_SET</th>\n",
              "      <th>SIU_CUST_YN</th>\n",
              "      <th>TOTALPREM</th>\n",
              "      <th>MINCRDT</th>\n",
              "      <th>JPBASE_HSHD_INCM</th>\n",
              "      <th>ACCI_OCCP_GRP</th>\n",
              "      <th>CHME_LICE_NO</th>\n",
              "      <th>DMND_AMT</th>\n",
              "      <th>PAYM_AMT</th>\n",
              "      <th>NON_PAY_RATIO</th>\n",
              "      <th>HEED_HOSP_YN</th>\n",
              "      <th>CAUS_CODE_COUNT</th>\n",
              "      <th>DMND_RESN_CODE_COUNT</th>\n",
              "      <th>RESL_CD1_COUNT</th>\n",
              "      <th>DMND_AMT_SUM</th>\n",
              "      <th>PAYM_AMT_SUM</th>\n",
              "      <th>NON_PAY_RATIO_SUM</th>\n",
              "      <th>CLAIM_CNT</th>\n",
              "      <th>TOTAL_VLID_HOSP_OTDA</th>\n",
              "      <th>HOSP_VARIES</th>\n",
              "      <th>HOSP_DVSN_VARIES</th>\n",
              "      <th>CHME_LICE_COUNT</th>\n",
              "      <th>HEED_HOSP_YN_RATE</th>\n",
              "    </tr>\n",
              "  </thead>\n",
              "  <tbody>\n",
              "    <tr>\n",
              "      <th>0</th>\n",
              "      <td>5936</td>\n",
              "      <td>1.0</td>\n",
              "      <td>N</td>\n",
              "      <td>0.0</td>\n",
              "      <td>6.0</td>\n",
              "      <td>9872.0</td>\n",
              "      <td>21.0</td>\n",
              "      <td>11606.0</td>\n",
              "      <td>20000.0</td>\n",
              "      <td>20000.0</td>\n",
              "      <td>0.0</td>\n",
              "      <td>0</td>\n",
              "      <td>1</td>\n",
              "      <td>1</td>\n",
              "      <td>2</td>\n",
              "      <td>180000.0</td>\n",
              "      <td>180000.0</td>\n",
              "      <td>0.0</td>\n",
              "      <td>6</td>\n",
              "      <td>12</td>\n",
              "      <td>1</td>\n",
              "      <td>1</td>\n",
              "      <td>2</td>\n",
              "      <td>0.0</td>\n",
              "    </tr>\n",
              "    <tr>\n",
              "      <th>1</th>\n",
              "      <td>1043</td>\n",
              "      <td>1.0</td>\n",
              "      <td>N</td>\n",
              "      <td>2.0</td>\n",
              "      <td>6.0</td>\n",
              "      <td>4760.0</td>\n",
              "      <td>3.0</td>\n",
              "      <td>17647.0</td>\n",
              "      <td>60000.0</td>\n",
              "      <td>60000.0</td>\n",
              "      <td>0.0</td>\n",
              "      <td>0</td>\n",
              "      <td>4</td>\n",
              "      <td>1</td>\n",
              "      <td>6</td>\n",
              "      <td>3460000.0</td>\n",
              "      <td>3460000.0</td>\n",
              "      <td>0.0</td>\n",
              "      <td>10</td>\n",
              "      <td>111</td>\n",
              "      <td>5</td>\n",
              "      <td>5</td>\n",
              "      <td>7</td>\n",
              "      <td>0.0</td>\n",
              "    </tr>\n",
              "    <tr>\n",
              "      <th>2</th>\n",
              "      <td>8545</td>\n",
              "      <td>1.0</td>\n",
              "      <td>N</td>\n",
              "      <td>2.0</td>\n",
              "      <td>6.0</td>\n",
              "      <td>5070.0</td>\n",
              "      <td>3.0</td>\n",
              "      <td>25697.0</td>\n",
              "      <td>200000.0</td>\n",
              "      <td>200000.0</td>\n",
              "      <td>0.0</td>\n",
              "      <td>0</td>\n",
              "      <td>2</td>\n",
              "      <td>1</td>\n",
              "      <td>2</td>\n",
              "      <td>400000.0</td>\n",
              "      <td>400000.0</td>\n",
              "      <td>0.0</td>\n",
              "      <td>2</td>\n",
              "      <td>0</td>\n",
              "      <td>2</td>\n",
              "      <td>2</td>\n",
              "      <td>2</td>\n",
              "      <td>0.0</td>\n",
              "    </tr>\n",
              "    <tr>\n",
              "      <th>3</th>\n",
              "      <td>20267</td>\n",
              "      <td>1.0</td>\n",
              "      <td>Y</td>\n",
              "      <td>7.0</td>\n",
              "      <td>6.0</td>\n",
              "      <td>8951.0</td>\n",
              "      <td>3.0</td>\n",
              "      <td>25700.0</td>\n",
              "      <td>1600000.0</td>\n",
              "      <td>1600000.0</td>\n",
              "      <td>0.0</td>\n",
              "      <td>0</td>\n",
              "      <td>5</td>\n",
              "      <td>2</td>\n",
              "      <td>10</td>\n",
              "      <td>74755070.0</td>\n",
              "      <td>74734000.0</td>\n",
              "      <td>0.0</td>\n",
              "      <td>43</td>\n",
              "      <td>805</td>\n",
              "      <td>15</td>\n",
              "      <td>5</td>\n",
              "      <td>23</td>\n",
              "      <td>0.0</td>\n",
              "    </tr>\n",
              "    <tr>\n",
              "      <th>4</th>\n",
              "      <td>2778</td>\n",
              "      <td>1.0</td>\n",
              "      <td>N</td>\n",
              "      <td>0.0</td>\n",
              "      <td>6.0</td>\n",
              "      <td>4680.0</td>\n",
              "      <td>8.0</td>\n",
              "      <td>12423.0</td>\n",
              "      <td>260000.0</td>\n",
              "      <td>260000.0</td>\n",
              "      <td>0.0</td>\n",
              "      <td>0</td>\n",
              "      <td>4</td>\n",
              "      <td>3</td>\n",
              "      <td>7</td>\n",
              "      <td>6070000.0</td>\n",
              "      <td>6070000.0</td>\n",
              "      <td>0.0</td>\n",
              "      <td>10</td>\n",
              "      <td>144</td>\n",
              "      <td>6</td>\n",
              "      <td>2</td>\n",
              "      <td>6</td>\n",
              "      <td>0.2</td>\n",
              "    </tr>\n",
              "    <tr>\n",
              "      <th>...</th>\n",
              "      <td>...</td>\n",
              "      <td>...</td>\n",
              "      <td>...</td>\n",
              "      <td>...</td>\n",
              "      <td>...</td>\n",
              "      <td>...</td>\n",
              "      <td>...</td>\n",
              "      <td>...</td>\n",
              "      <td>...</td>\n",
              "      <td>...</td>\n",
              "      <td>...</td>\n",
              "      <td>...</td>\n",
              "      <td>...</td>\n",
              "      <td>...</td>\n",
              "      <td>...</td>\n",
              "      <td>...</td>\n",
              "      <td>...</td>\n",
              "      <td>...</td>\n",
              "      <td>...</td>\n",
              "      <td>...</td>\n",
              "      <td>...</td>\n",
              "      <td>...</td>\n",
              "      <td>...</td>\n",
              "      <td>...</td>\n",
              "    </tr>\n",
              "    <tr>\n",
              "      <th>14672</th>\n",
              "      <td>14012</td>\n",
              "      <td>1.0</td>\n",
              "      <td>N</td>\n",
              "      <td>1.0</td>\n",
              "      <td>6.0</td>\n",
              "      <td>4284.0</td>\n",
              "      <td>6.0</td>\n",
              "      <td>12696.0</td>\n",
              "      <td>330000.0</td>\n",
              "      <td>330000.0</td>\n",
              "      <td>0.0</td>\n",
              "      <td>0</td>\n",
              "      <td>1</td>\n",
              "      <td>2</td>\n",
              "      <td>1</td>\n",
              "      <td>15330000.0</td>\n",
              "      <td>15330000.0</td>\n",
              "      <td>0.0</td>\n",
              "      <td>2</td>\n",
              "      <td>9</td>\n",
              "      <td>1</td>\n",
              "      <td>1</td>\n",
              "      <td>1</td>\n",
              "      <td>0.0</td>\n",
              "    </tr>\n",
              "    <tr>\n",
              "      <th>14673</th>\n",
              "      <td>15203</td>\n",
              "      <td>1.0</td>\n",
              "      <td>N</td>\n",
              "      <td>5.0</td>\n",
              "      <td>6.0</td>\n",
              "      <td>8510.0</td>\n",
              "      <td>3.0</td>\n",
              "      <td>9182.0</td>\n",
              "      <td>125613.0</td>\n",
              "      <td>125613.0</td>\n",
              "      <td>0.0</td>\n",
              "      <td>0</td>\n",
              "      <td>1</td>\n",
              "      <td>2</td>\n",
              "      <td>1</td>\n",
              "      <td>159513.0</td>\n",
              "      <td>159513.0</td>\n",
              "      <td>0.0</td>\n",
              "      <td>2</td>\n",
              "      <td>4</td>\n",
              "      <td>1</td>\n",
              "      <td>1</td>\n",
              "      <td>1</td>\n",
              "      <td>0.0</td>\n",
              "    </tr>\n",
              "    <tr>\n",
              "      <th>14674</th>\n",
              "      <td>16048</td>\n",
              "      <td>1.0</td>\n",
              "      <td>N</td>\n",
              "      <td>1.0</td>\n",
              "      <td>1.0</td>\n",
              "      <td>4016.0</td>\n",
              "      <td>1.0</td>\n",
              "      <td>14029.0</td>\n",
              "      <td>80000.0</td>\n",
              "      <td>80000.0</td>\n",
              "      <td>0.0</td>\n",
              "      <td>0</td>\n",
              "      <td>1</td>\n",
              "      <td>2</td>\n",
              "      <td>1</td>\n",
              "      <td>300000.0</td>\n",
              "      <td>300000.0</td>\n",
              "      <td>0.0</td>\n",
              "      <td>2</td>\n",
              "      <td>8</td>\n",
              "      <td>1</td>\n",
              "      <td>1</td>\n",
              "      <td>1</td>\n",
              "      <td>0.0</td>\n",
              "    </tr>\n",
              "    <tr>\n",
              "      <th>14675</th>\n",
              "      <td>2924</td>\n",
              "      <td>1.0</td>\n",
              "      <td>N</td>\n",
              "      <td>14.0</td>\n",
              "      <td>6.0</td>\n",
              "      <td>7228.0</td>\n",
              "      <td>2.0</td>\n",
              "      <td>8671.0</td>\n",
              "      <td>90000.0</td>\n",
              "      <td>90000.0</td>\n",
              "      <td>0.0</td>\n",
              "      <td>0</td>\n",
              "      <td>1</td>\n",
              "      <td>1</td>\n",
              "      <td>1</td>\n",
              "      <td>90000.0</td>\n",
              "      <td>90000.0</td>\n",
              "      <td>0.0</td>\n",
              "      <td>1</td>\n",
              "      <td>12</td>\n",
              "      <td>1</td>\n",
              "      <td>1</td>\n",
              "      <td>1</td>\n",
              "      <td>0.0</td>\n",
              "    </tr>\n",
              "    <tr>\n",
              "      <th>14676</th>\n",
              "      <td>6451</td>\n",
              "      <td>1.0</td>\n",
              "      <td>N</td>\n",
              "      <td>2.0</td>\n",
              "      <td>6.0</td>\n",
              "      <td>9412.0</td>\n",
              "      <td>9.0</td>\n",
              "      <td>14317.0</td>\n",
              "      <td>80000.0</td>\n",
              "      <td>80000.0</td>\n",
              "      <td>0.0</td>\n",
              "      <td>0</td>\n",
              "      <td>1</td>\n",
              "      <td>3</td>\n",
              "      <td>1</td>\n",
              "      <td>420000.0</td>\n",
              "      <td>420000.0</td>\n",
              "      <td>0.0</td>\n",
              "      <td>3</td>\n",
              "      <td>6</td>\n",
              "      <td>1</td>\n",
              "      <td>1</td>\n",
              "      <td>1</td>\n",
              "      <td>0.0</td>\n",
              "    </tr>\n",
              "  </tbody>\n",
              "</table>\n",
              "<p>14677 rows × 24 columns</p>\n",
              "</div>"
            ],
            "text/plain": [
              "      CUST_ID  DIVIDED_SET  ... CHME_LICE_COUNT  HEED_HOSP_YN_RATE\n",
              "0        5936          1.0  ...               2                0.0\n",
              "1        1043          1.0  ...               7                0.0\n",
              "2        8545          1.0  ...               2                0.0\n",
              "3       20267          1.0  ...              23                0.0\n",
              "4        2778          1.0  ...               6                0.2\n",
              "...       ...          ...  ...             ...                ...\n",
              "14672   14012          1.0  ...               1                0.0\n",
              "14673   15203          1.0  ...               1                0.0\n",
              "14674   16048          1.0  ...               1                0.0\n",
              "14675    2924          1.0  ...               1                0.0\n",
              "14676    6451          1.0  ...               1                0.0\n",
              "\n",
              "[14677 rows x 24 columns]"
            ]
          },
          "metadata": {
            "tags": []
          },
          "execution_count": 337
        }
      ]
    },
    {
      "cell_type": "code",
      "metadata": {
        "id": "irjxdjdfKHhP"
      },
      "source": [
        "merged_data.to_csv('merged_data.csv', encoding = 'utf-8')#utf-8방식 csv파일 전환"
      ],
      "execution_count": 338,
      "outputs": []
    },
    {
      "cell_type": "code",
      "metadata": {
        "colab": {
          "base_uri": "https://localhost:8080/",
          "height": 17
        },
        "id": "-gDPk6Q7K1_Z",
        "outputId": "e78f6793-5d91-475a-a3f3-e08eb976a3e7"
      },
      "source": [
        "files.download('merged_data.csv')#구글 코랩 내장 다운로드 함수"
      ],
      "execution_count": 339,
      "outputs": [
        {
          "output_type": "display_data",
          "data": {
            "application/javascript": [
              "\n",
              "    async function download(id, filename, size) {\n",
              "      if (!google.colab.kernel.accessAllowed) {\n",
              "        return;\n",
              "      }\n",
              "      const div = document.createElement('div');\n",
              "      const label = document.createElement('label');\n",
              "      label.textContent = `Downloading \"${filename}\": `;\n",
              "      div.appendChild(label);\n",
              "      const progress = document.createElement('progress');\n",
              "      progress.max = size;\n",
              "      div.appendChild(progress);\n",
              "      document.body.appendChild(div);\n",
              "\n",
              "      const buffers = [];\n",
              "      let downloaded = 0;\n",
              "\n",
              "      const channel = await google.colab.kernel.comms.open(id);\n",
              "      // Send a message to notify the kernel that we're ready.\n",
              "      channel.send({})\n",
              "\n",
              "      for await (const message of channel.messages) {\n",
              "        // Send a message to notify the kernel that we're ready.\n",
              "        channel.send({})\n",
              "        if (message.buffers) {\n",
              "          for (const buffer of message.buffers) {\n",
              "            buffers.push(buffer);\n",
              "            downloaded += buffer.byteLength;\n",
              "            progress.value = downloaded;\n",
              "          }\n",
              "        }\n",
              "      }\n",
              "      const blob = new Blob(buffers, {type: 'application/binary'});\n",
              "      const a = document.createElement('a');\n",
              "      a.href = window.URL.createObjectURL(blob);\n",
              "      a.download = filename;\n",
              "      div.appendChild(a);\n",
              "      a.click();\n",
              "      div.remove();\n",
              "    }\n",
              "  "
            ],
            "text/plain": [
              "<IPython.core.display.Javascript object>"
            ]
          },
          "metadata": {
            "tags": []
          }
        },
        {
          "output_type": "display_data",
          "data": {
            "application/javascript": [
              "download(\"download_6dee45a3-63fc-4ced-bdd2-d5cbfa1dca0d\", \"merged_data.csv\", 1635206)"
            ],
            "text/plain": [
              "<IPython.core.display.Javascript object>"
            ]
          },
          "metadata": {
            "tags": []
          }
        }
      ]
    }
  ]
}