{
  "nbformat": 4,
  "nbformat_minor": 5,
  "metadata": {
    "colab": {
      "name": "cust_claim_multireg2.ipynb",
      "provenance": [],
      "collapsed_sections": []
    },
    "kernelspec": {
      "display_name": "Python 3",
      "language": "python",
      "name": "python3"
    },
    "language_info": {
      "codemirror_mode": {
        "name": "ipython",
        "version": 3
      },
      "file_extension": ".py",
      "mimetype": "text/x-python",
      "name": "python",
      "nbconvert_exporter": "python",
      "pygments_lexer": "ipython3",
      "version": "3.8.8"
    }
  },
  "cells": [
    {
      "cell_type": "code",
      "metadata": {
        "id": "SQb6IENCb9CI"
      },
      "source": [
        "!pip install numpy\n",
        "!pip install pandas\n",
        "!pip install sklearn\n",
        "!pip install statsmodels\n",
        "!pip install matplotlib\n",
        "!pip install seaborn\n"
      ],
      "id": "SQb6IENCb9CI",
      "execution_count": null,
      "outputs": []
    },
    {
      "cell_type": "code",
      "metadata": {
        "id": "b782e3c2",
        "colab": {
          "base_uri": "https://localhost:8080/"
        },
        "outputId": "96630fc2-3ea8-4999-86c1-faf775b39921"
      },
      "source": [
        "import pandas as pd\n",
        "import numpy as np\n",
        "from sklearn.metrics import accuracy_score\n",
        "from sklearn.model_selection import train_test_split\n",
        "import statsmodels.api as sm\n",
        "\n",
        "import matplotlib.pyplot as plt\n",
        "import seaborn as sns"
      ],
      "id": "b782e3c2",
      "execution_count": 1,
      "outputs": [
        {
          "output_type": "stream",
          "text": [
            "/usr/local/lib/python3.7/dist-packages/statsmodels/tools/_testing.py:19: FutureWarning: pandas.util.testing is deprecated. Use the functions in the public API at pandas.testing instead.\n",
            "  import pandas.util.testing as tm\n"
          ],
          "name": "stderr"
        }
      ]
    },
    {
      "cell_type": "code",
      "metadata": {
        "colab": {
          "base_uri": "https://localhost:8080/",
          "height": 814
        },
        "id": "bc77e0e2",
        "outputId": "f697c0ff-6d06-4ca9-9c6f-5aa1d310c896"
      },
      "source": [
        "#타 에디터 이용시 아래 코드로 대체\n",
        "#uploaded = pd.read_csv('human_activity/features.txt', sep='\\s+', header=None, names=['column_index', 'column_name'])\n",
        "features = pd.read_csv('merged_claim_data.csv', sep = ',', encoding = 'utf-8', error_bad_lines=False, engine = 'python', header = None)\n",
        "features = features.rename(columns=features.iloc[0])\n",
        "\n",
        "features = features.drop(features.index[0])#첫 row는 컬럼명이 들어간 더미데이터이므로 삭제\n",
        "features = features.astype('float')\n",
        "\n",
        "#학습 및 테스트용 데이터를 데이터 프레임으로 로딩\n",
        "x = features[['SIU_CUST_YN','SEX','AGE','FP_CAREER','MAX_PRM','RESL_CD1','ACCI_OCCP_GRP','CHME_LICE_NO','DMND_AMT','PAYM_AMT','NON_PAY_RATIO','HEED_HOSP_YN','CLAIM_CNT','TOTAL_VLID_HOSP_OTDA','HOSP_VARIES','HOSP_DVSN_VARIES','CHME_LICE_COUNT']]\n",
        "y = features['SIU_CUST_YN']\n",
        "\n",
        "x = sm.add_constant(x, has_constant = 'add')\n",
        "\n",
        "#다중 회귀모델 작성\n",
        "mm = sm.OLS(y, x)\n",
        "fitted_mm = mm.fit()\n",
        "\n",
        "#분석 요약본\n",
        "fitted_mm.summary()"
      ],
      "id": "bc77e0e2",
      "execution_count": 3,
      "outputs": [
        {
          "output_type": "execute_result",
          "data": {
            "text/html": [
              "<table class=\"simpletable\">\n",
              "<caption>OLS Regression Results</caption>\n",
              "<tr>\n",
              "  <th>Dep. Variable:</th>       <td>SIU_CUST_YN</td>   <th>  R-squared:         </th>  <td>   1.000</td> \n",
              "</tr>\n",
              "<tr>\n",
              "  <th>Model:</th>                   <td>OLS</td>       <th>  Adj. R-squared:    </th>  <td>   1.000</td> \n",
              "</tr>\n",
              "<tr>\n",
              "  <th>Method:</th>             <td>Least Squares</td>  <th>  F-statistic:       </th>  <td>1.152e+28</td>\n",
              "</tr>\n",
              "<tr>\n",
              "  <th>Date:</th>             <td>Tue, 24 Aug 2021</td> <th>  Prob (F-statistic):</th>   <td>  0.00</td>  \n",
              "</tr>\n",
              "<tr>\n",
              "  <th>Time:</th>                 <td>04:36:28</td>     <th>  Log-Likelihood:    </th> <td>4.1750e+05</td>\n",
              "</tr>\n",
              "<tr>\n",
              "  <th>No. Observations:</th>      <td> 14536</td>      <th>  AIC:               </th> <td>-8.350e+05</td>\n",
              "</tr>\n",
              "<tr>\n",
              "  <th>Df Residuals:</th>          <td> 14518</td>      <th>  BIC:               </th> <td>-8.348e+05</td>\n",
              "</tr>\n",
              "<tr>\n",
              "  <th>Df Model:</th>              <td>    17</td>      <th>                     </th>      <td> </td>    \n",
              "</tr>\n",
              "<tr>\n",
              "  <th>Covariance Type:</th>      <td>nonrobust</td>    <th>                     </th>      <td> </td>    \n",
              "</tr>\n",
              "</table>\n",
              "<table class=\"simpletable\">\n",
              "<tr>\n",
              "            <td></td>              <th>coef</th>     <th>std err</th>      <th>t</th>      <th>P>|t|</th>  <th>[0.025</th>    <th>0.975]</th>  \n",
              "</tr>\n",
              "<tr>\n",
              "  <th>const</th>                <td>-7.741e-14</td> <td> 1.13e-14</td> <td>   -6.862</td> <td> 0.000</td> <td>-9.95e-14</td> <td>-5.53e-14</td>\n",
              "</tr>\n",
              "<tr>\n",
              "  <th>SIU_CUST_YN</th>          <td>    1.0000</td> <td> 2.58e-15</td> <td> 3.88e+14</td> <td> 0.000</td> <td>    1.000</td> <td>    1.000</td>\n",
              "</tr>\n",
              "<tr>\n",
              "  <th>SEX</th>                  <td>-4.778e-15</td> <td> 1.46e-15</td> <td>   -3.267</td> <td> 0.001</td> <td>-7.64e-15</td> <td>-1.91e-15</td>\n",
              "</tr>\n",
              "<tr>\n",
              "  <th>AGE</th>                  <td> 1.937e-16</td> <td>  6.3e-17</td> <td>    3.077</td> <td> 0.002</td> <td> 7.03e-17</td> <td> 3.17e-16</td>\n",
              "</tr>\n",
              "<tr>\n",
              "  <th>FP_CAREER</th>            <td> 2.863e-15</td> <td> 2.63e-15</td> <td>    1.088</td> <td> 0.276</td> <td>-2.29e-15</td> <td> 8.02e-15</td>\n",
              "</tr>\n",
              "<tr>\n",
              "  <th>MAX_PRM</th>              <td>-8.525e-17</td> <td> 4.98e-17</td> <td>   -1.713</td> <td> 0.087</td> <td>-1.83e-16</td> <td> 1.23e-17</td>\n",
              "</tr>\n",
              "<tr>\n",
              "  <th>RESL_CD1</th>             <td> 6.822e-16</td> <td> 1.28e-16</td> <td>    5.324</td> <td> 0.000</td> <td> 4.31e-16</td> <td> 9.33e-16</td>\n",
              "</tr>\n",
              "<tr>\n",
              "  <th>ACCI_OCCP_GRP</th>        <td> 1.478e-16</td> <td> 1.15e-16</td> <td>    1.280</td> <td> 0.200</td> <td>-7.85e-17</td> <td> 3.74e-16</td>\n",
              "</tr>\n",
              "<tr>\n",
              "  <th>CHME_LICE_NO</th>         <td>-4.164e-17</td> <td> 6.11e-19</td> <td>  -68.138</td> <td> 0.000</td> <td>-4.28e-17</td> <td>-4.04e-17</td>\n",
              "</tr>\n",
              "<tr>\n",
              "  <th>DMND_AMT</th>             <td>  1.74e-17</td> <td> 1.73e-16</td> <td>    0.101</td> <td> 0.920</td> <td>-3.21e-16</td> <td> 3.56e-16</td>\n",
              "</tr>\n",
              "<tr>\n",
              "  <th>PAYM_AMT</th>             <td> 1.698e-17</td> <td> 1.75e-16</td> <td>    0.097</td> <td> 0.923</td> <td>-3.25e-16</td> <td> 3.59e-16</td>\n",
              "</tr>\n",
              "<tr>\n",
              "  <th>NON_PAY_RATIO</th>        <td> 3.754e-16</td> <td> 2.35e-15</td> <td>    0.160</td> <td> 0.873</td> <td>-4.23e-15</td> <td> 4.98e-15</td>\n",
              "</tr>\n",
              "<tr>\n",
              "  <th>HEED_HOSP_YN</th>         <td>-1.807e-16</td> <td> 4.71e-15</td> <td>   -0.038</td> <td> 0.969</td> <td>-9.41e-15</td> <td> 9.05e-15</td>\n",
              "</tr>\n",
              "<tr>\n",
              "  <th>CLAIM_CNT</th>            <td> 6.773e-17</td> <td> 2.48e-16</td> <td>    0.274</td> <td> 0.784</td> <td>-4.18e-16</td> <td> 5.53e-16</td>\n",
              "</tr>\n",
              "<tr>\n",
              "  <th>TOTAL_VLID_HOSP_OTDA</th> <td> 1.612e-16</td> <td> 1.21e-17</td> <td>   13.296</td> <td> 0.000</td> <td> 1.37e-16</td> <td> 1.85e-16</td>\n",
              "</tr>\n",
              "<tr>\n",
              "  <th>HOSP_VARIES</th>          <td> 1.046e-16</td> <td> 9.83e-16</td> <td>    0.106</td> <td> 0.915</td> <td>-1.82e-15</td> <td> 2.03e-15</td>\n",
              "</tr>\n",
              "<tr>\n",
              "  <th>HOSP_DVSN_VARIES</th>     <td>-1.458e-16</td> <td> 1.22e-15</td> <td>   -0.119</td> <td> 0.905</td> <td>-2.55e-15</td> <td> 2.25e-15</td>\n",
              "</tr>\n",
              "<tr>\n",
              "  <th>CHME_LICE_COUNT</th>      <td>-4.649e-18</td> <td> 8.43e-16</td> <td>   -0.006</td> <td> 0.996</td> <td>-1.66e-15</td> <td> 1.65e-15</td>\n",
              "</tr>\n",
              "</table>\n",
              "<table class=\"simpletable\">\n",
              "<tr>\n",
              "  <th>Omnibus:</th>       <td>10311.318</td> <th>  Durbin-Watson:     </th>  <td>   1.514</td> \n",
              "</tr>\n",
              "<tr>\n",
              "  <th>Prob(Omnibus):</th>  <td> 0.000</td>   <th>  Jarque-Bera (JB):  </th> <td>140135.848</td>\n",
              "</tr>\n",
              "<tr>\n",
              "  <th>Skew:</th>           <td> 3.381</td>   <th>  Prob(JB):          </th>  <td>    0.00</td> \n",
              "</tr>\n",
              "<tr>\n",
              "  <th>Kurtosis:</th>       <td>16.626</td>   <th>  Cond. No.          </th>  <td>1.87e+04</td> \n",
              "</tr>\n",
              "</table><br/><br/>Warnings:<br/>[1] Standard Errors assume that the covariance matrix of the errors is correctly specified.<br/>[2] The condition number is large, 1.87e+04. This might indicate that there are<br/>strong multicollinearity or other numerical problems."
            ],
            "text/plain": [
              "<class 'statsmodels.iolib.summary.Summary'>\n",
              "\"\"\"\n",
              "                            OLS Regression Results                            \n",
              "==============================================================================\n",
              "Dep. Variable:            SIU_CUST_YN   R-squared:                       1.000\n",
              "Model:                            OLS   Adj. R-squared:                  1.000\n",
              "Method:                 Least Squares   F-statistic:                 1.152e+28\n",
              "Date:                Tue, 24 Aug 2021   Prob (F-statistic):               0.00\n",
              "Time:                        04:36:28   Log-Likelihood:             4.1750e+05\n",
              "No. Observations:               14536   AIC:                        -8.350e+05\n",
              "Df Residuals:                   14518   BIC:                        -8.348e+05\n",
              "Df Model:                          17                                         \n",
              "Covariance Type:            nonrobust                                         \n",
              "========================================================================================\n",
              "                           coef    std err          t      P>|t|      [0.025      0.975]\n",
              "----------------------------------------------------------------------------------------\n",
              "const                -7.741e-14   1.13e-14     -6.862      0.000   -9.95e-14   -5.53e-14\n",
              "SIU_CUST_YN              1.0000   2.58e-15   3.88e+14      0.000       1.000       1.000\n",
              "SEX                  -4.778e-15   1.46e-15     -3.267      0.001   -7.64e-15   -1.91e-15\n",
              "AGE                   1.937e-16    6.3e-17      3.077      0.002    7.03e-17    3.17e-16\n",
              "FP_CAREER             2.863e-15   2.63e-15      1.088      0.276   -2.29e-15    8.02e-15\n",
              "MAX_PRM              -8.525e-17   4.98e-17     -1.713      0.087   -1.83e-16    1.23e-17\n",
              "RESL_CD1              6.822e-16   1.28e-16      5.324      0.000    4.31e-16    9.33e-16\n",
              "ACCI_OCCP_GRP         1.478e-16   1.15e-16      1.280      0.200   -7.85e-17    3.74e-16\n",
              "CHME_LICE_NO         -4.164e-17   6.11e-19    -68.138      0.000   -4.28e-17   -4.04e-17\n",
              "DMND_AMT               1.74e-17   1.73e-16      0.101      0.920   -3.21e-16    3.56e-16\n",
              "PAYM_AMT              1.698e-17   1.75e-16      0.097      0.923   -3.25e-16    3.59e-16\n",
              "NON_PAY_RATIO         3.754e-16   2.35e-15      0.160      0.873   -4.23e-15    4.98e-15\n",
              "HEED_HOSP_YN         -1.807e-16   4.71e-15     -0.038      0.969   -9.41e-15    9.05e-15\n",
              "CLAIM_CNT             6.773e-17   2.48e-16      0.274      0.784   -4.18e-16    5.53e-16\n",
              "TOTAL_VLID_HOSP_OTDA  1.612e-16   1.21e-17     13.296      0.000    1.37e-16    1.85e-16\n",
              "HOSP_VARIES           1.046e-16   9.83e-16      0.106      0.915   -1.82e-15    2.03e-15\n",
              "HOSP_DVSN_VARIES     -1.458e-16   1.22e-15     -0.119      0.905   -2.55e-15    2.25e-15\n",
              "CHME_LICE_COUNT      -4.649e-18   8.43e-16     -0.006      0.996   -1.66e-15    1.65e-15\n",
              "==============================================================================\n",
              "Omnibus:                    10311.318   Durbin-Watson:                   1.514\n",
              "Prob(Omnibus):                  0.000   Jarque-Bera (JB):           140135.848\n",
              "Skew:                           3.381   Prob(JB):                         0.00\n",
              "Kurtosis:                      16.626   Cond. No.                     1.87e+04\n",
              "==============================================================================\n",
              "\n",
              "Warnings:\n",
              "[1] Standard Errors assume that the covariance matrix of the errors is correctly specified.\n",
              "[2] The condition number is large, 1.87e+04. This might indicate that there are\n",
              "strong multicollinearity or other numerical problems.\n",
              "\"\"\""
            ]
          },
          "metadata": {},
          "execution_count": 3
        }
      ]
    },
    {
      "cell_type": "code",
      "metadata": {
        "id": "-COPO6GFprwW"
      },
      "source": [
        ""
      ],
      "id": "-COPO6GFprwW",
      "execution_count": null,
      "outputs": []
    },
    {
      "cell_type": "code",
      "metadata": {
        "id": "fWEte15gk51G"
      },
      "source": [
        "#p value는 귀무가설을 기각할 지에 대한 기준이 되는 수치이다. \n",
        "#그 값이 작을수록 그 정도가 약하다고 보며, 특정 값 (대개 0.05나 0.01 등) 보다 작을 경우 귀무가설을 기각한다."
      ],
      "id": "fWEte15gk51G",
      "execution_count": null,
      "outputs": []
    }
  ]
}