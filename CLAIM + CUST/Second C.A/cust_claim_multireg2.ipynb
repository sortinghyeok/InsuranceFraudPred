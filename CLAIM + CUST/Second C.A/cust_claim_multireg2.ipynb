{
 "cells": [
  {
   "cell_type": "code",
   "execution_count": 2,
   "id": "b782e3c2",
   "metadata": {
    "id": "b782e3c2"
   },
   "outputs": [],
   "source": [
    "import pandas as pd\n",
    "import numpy as np\n",
    "from sklearn.metrics import accuracy_score\n",
    "from sklearn.model_selection import train_test_split\n",
    "import statsmodels.api as sm\n",
    "\n",
    "import matplotlib.pyplot as plt\n",
    "import seaborn as sns"
   ]
  },
  {
   "cell_type": "code",
   "execution_count": null,
   "id": "78eedbed",
   "metadata": {
    "colab": {
     "base_uri": "https://localhost:8080/",
     "height": 41,
     "resources": {
      "http://localhost:8080/nbextensions/google.colab/files.js": {
       "data": "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",
       "headers": [
        [
         "content-type",
         "application/javascript"
        ]
       ],
       "ok": true,
       "status": 200,
       "status_text": ""
      }
     }
    },
    "executionInfo": {
     "elapsed": 3067,
     "status": "ok",
     "timestamp": 1628844564508,
     "user": {
      "displayName": "이종혁",
      "photoUrl": "",
      "userId": "15679079817207258777"
     },
     "user_tz": -540
    },
    "id": "78eedbed",
    "outputId": "1b1ae7cf-0ae7-4d62-9c45-dc2d9f1f799f"
   },
   "outputs": [],
   "source": []
  },
  {
   "cell_type": "code",
   "execution_count": 3,
   "id": "bc77e0e2",
   "metadata": {
    "colab": {
     "base_uri": "https://localhost:8080/",
     "height": 793
    },
    "executionInfo": {
     "elapsed": 738,
     "status": "ok",
     "timestamp": 1628844565244,
     "user": {
      "displayName": "이종혁",
      "photoUrl": "",
      "userId": "15679079817207258777"
     },
     "user_tz": -540
    },
    "id": "bc77e0e2",
    "outputId": "ccebfe97-f4e1-45ea-d231-9d325cdde377"
   },
   "outputs": [
    {
     "data": {
      "text/html": [
       "<table class=\"simpletable\">\n",
       "<caption>OLS Regression Results</caption>\n",
       "<tr>\n",
       "  <th>Dep. Variable:</th>       <td>SIU_CUST_YN</td>   <th>  R-squared:         </th>  <td>   1.000</td> \n",
       "</tr>\n",
       "<tr>\n",
       "  <th>Model:</th>                   <td>OLS</td>       <th>  Adj. R-squared:    </th>  <td>   1.000</td> \n",
       "</tr>\n",
       "<tr>\n",
       "  <th>Method:</th>             <td>Least Squares</td>  <th>  F-statistic:       </th>  <td>6.609e+27</td>\n",
       "</tr>\n",
       "<tr>\n",
       "  <th>Date:</th>             <td>Mon, 16 Aug 2021</td> <th>  Prob (F-statistic):</th>   <td>  0.00</td>  \n",
       "</tr>\n",
       "<tr>\n",
       "  <th>Time:</th>                 <td>16:03:59</td>     <th>  Log-Likelihood:    </th> <td>4.1346e+05</td>\n",
       "</tr>\n",
       "<tr>\n",
       "  <th>No. Observations:</th>      <td> 14536</td>      <th>  AIC:               </th> <td>-8.269e+05</td>\n",
       "</tr>\n",
       "<tr>\n",
       "  <th>Df Residuals:</th>          <td> 14518</td>      <th>  BIC:               </th> <td>-8.268e+05</td>\n",
       "</tr>\n",
       "<tr>\n",
       "  <th>Df Model:</th>              <td>    17</td>      <th>                     </th>      <td> </td>    \n",
       "</tr>\n",
       "<tr>\n",
       "  <th>Covariance Type:</th>      <td>nonrobust</td>    <th>                     </th>      <td> </td>    \n",
       "</tr>\n",
       "</table>\n",
       "<table class=\"simpletable\">\n",
       "<tr>\n",
       "            <td></td>              <th>coef</th>     <th>std err</th>      <th>t</th>      <th>P>|t|</th>  <th>[0.025</th>    <th>0.975]</th>  \n",
       "</tr>\n",
       "<tr>\n",
       "  <th>const</th>                <td> 5.134e-14</td> <td> 1.49e-14</td> <td>    3.447</td> <td> 0.001</td> <td> 2.21e-14</td> <td> 8.05e-14</td>\n",
       "</tr>\n",
       "<tr>\n",
       "  <th>SIU_CUST_YN</th>          <td>    1.0000</td> <td> 3.41e-15</td> <td> 2.94e+14</td> <td> 0.000</td> <td>    1.000</td> <td>    1.000</td>\n",
       "</tr>\n",
       "<tr>\n",
       "  <th>SEX</th>                  <td>-5.656e-16</td> <td> 1.93e-15</td> <td>   -0.293</td> <td> 0.770</td> <td>-4.35e-15</td> <td> 3.22e-15</td>\n",
       "</tr>\n",
       "<tr>\n",
       "  <th>AGE</th>                  <td>-1.908e-17</td> <td> 8.31e-17</td> <td>   -0.230</td> <td> 0.818</td> <td>-1.82e-16</td> <td> 1.44e-16</td>\n",
       "</tr>\n",
       "<tr>\n",
       "  <th>FP_CAREER</th>            <td> 5.823e-15</td> <td> 3.47e-15</td> <td>    1.677</td> <td> 0.094</td> <td>-9.83e-16</td> <td> 1.26e-14</td>\n",
       "</tr>\n",
       "<tr>\n",
       "  <th>MAX_PRM</th>              <td>-1.971e-16</td> <td> 6.57e-17</td> <td>   -3.001</td> <td> 0.003</td> <td>-3.26e-16</td> <td>-6.83e-17</td>\n",
       "</tr>\n",
       "<tr>\n",
       "  <th>RESL_CD1</th>             <td>-3.904e-16</td> <td> 1.69e-16</td> <td>   -2.308</td> <td> 0.021</td> <td>-7.22e-16</td> <td>-5.89e-17</td>\n",
       "</tr>\n",
       "<tr>\n",
       "  <th>ACCI_OCCP_GRP</th>        <td> 1.177e-16</td> <td> 1.52e-16</td> <td>    0.772</td> <td> 0.440</td> <td>-1.81e-16</td> <td> 4.16e-16</td>\n",
       "</tr>\n",
       "<tr>\n",
       "  <th>CHME_LICE_NO</th>         <td> 9.133e-17</td> <td> 8.07e-19</td> <td>  113.209</td> <td> 0.000</td> <td> 8.97e-17</td> <td> 9.29e-17</td>\n",
       "</tr>\n",
       "<tr>\n",
       "  <th>DMND_AMT</th>             <td> 2.821e-17</td> <td> 2.28e-16</td> <td>    0.124</td> <td> 0.901</td> <td>-4.19e-16</td> <td> 4.75e-16</td>\n",
       "</tr>\n",
       "<tr>\n",
       "  <th>PAYM_AMT</th>             <td>-2.277e-17</td> <td> 2.31e-16</td> <td>   -0.099</td> <td> 0.921</td> <td>-4.75e-16</td> <td> 4.29e-16</td>\n",
       "</tr>\n",
       "<tr>\n",
       "  <th>NON_PAY_RATIO</th>        <td>-1.604e-15</td> <td>  3.1e-15</td> <td>   -0.517</td> <td> 0.605</td> <td>-7.68e-15</td> <td> 4.47e-15</td>\n",
       "</tr>\n",
       "<tr>\n",
       "  <th>HEED_HOSP_YN</th>         <td>-6.904e-16</td> <td> 6.21e-15</td> <td>   -0.111</td> <td> 0.912</td> <td>-1.29e-14</td> <td> 1.15e-14</td>\n",
       "</tr>\n",
       "<tr>\n",
       "  <th>CLAIM_CNT</th>            <td>-9.932e-16</td> <td> 3.27e-16</td> <td>   -3.039</td> <td> 0.002</td> <td>-1.63e-15</td> <td>-3.53e-16</td>\n",
       "</tr>\n",
       "<tr>\n",
       "  <th>TOTAL_VLID_HOSP_OTDA</th> <td>-1.718e-16</td> <td>  1.6e-17</td> <td>  -10.729</td> <td> 0.000</td> <td>-2.03e-16</td> <td> -1.4e-16</td>\n",
       "</tr>\n",
       "<tr>\n",
       "  <th>HOSP_VARIES</th>          <td>-1.197e-16</td> <td>  1.3e-15</td> <td>   -0.092</td> <td> 0.927</td> <td>-2.66e-15</td> <td> 2.43e-15</td>\n",
       "</tr>\n",
       "<tr>\n",
       "  <th>HOSP_DVSN_VARIES</th>     <td> 1.683e-16</td> <td> 1.62e-15</td> <td>    0.104</td> <td> 0.917</td> <td>   -3e-15</td> <td> 3.34e-15</td>\n",
       "</tr>\n",
       "<tr>\n",
       "  <th>CHME_LICE_COUNT</th>      <td>-4.424e-17</td> <td> 1.11e-15</td> <td>   -0.040</td> <td> 0.968</td> <td>-2.23e-15</td> <td> 2.14e-15</td>\n",
       "</tr>\n",
       "</table>\n",
       "<table class=\"simpletable\">\n",
       "<tr>\n",
       "  <th>Omnibus:</th>       <td>19057.291</td> <th>  Durbin-Watson:     </th>  <td>   1.893</td>  \n",
       "</tr>\n",
       "<tr>\n",
       "  <th>Prob(Omnibus):</th>  <td> 0.000</td>   <th>  Jarque-Bera (JB):  </th> <td>2583425.805</td>\n",
       "</tr>\n",
       "<tr>\n",
       "  <th>Skew:</th>           <td>-7.647</td>   <th>  Prob(JB):          </th>  <td>    0.00</td>  \n",
       "</tr>\n",
       "<tr>\n",
       "  <th>Kurtosis:</th>       <td>66.494</td>   <th>  Cond. No.          </th>  <td>1.87e+04</td>  \n",
       "</tr>\n",
       "</table><br/><br/>Notes:<br/>[1] Standard Errors assume that the covariance matrix of the errors is correctly specified.<br/>[2] The condition number is large, 1.87e+04. This might indicate that there are<br/>strong multicollinearity or other numerical problems."
      ],
      "text/plain": [
       "<class 'statsmodels.iolib.summary.Summary'>\n",
       "\"\"\"\n",
       "                            OLS Regression Results                            \n",
       "==============================================================================\n",
       "Dep. Variable:            SIU_CUST_YN   R-squared:                       1.000\n",
       "Model:                            OLS   Adj. R-squared:                  1.000\n",
       "Method:                 Least Squares   F-statistic:                 6.609e+27\n",
       "Date:                Mon, 16 Aug 2021   Prob (F-statistic):               0.00\n",
       "Time:                        16:03:59   Log-Likelihood:             4.1346e+05\n",
       "No. Observations:               14536   AIC:                        -8.269e+05\n",
       "Df Residuals:                   14518   BIC:                        -8.268e+05\n",
       "Df Model:                          17                                         \n",
       "Covariance Type:            nonrobust                                         \n",
       "========================================================================================\n",
       "                           coef    std err          t      P>|t|      [0.025      0.975]\n",
       "----------------------------------------------------------------------------------------\n",
       "const                 5.134e-14   1.49e-14      3.447      0.001    2.21e-14    8.05e-14\n",
       "SIU_CUST_YN              1.0000   3.41e-15   2.94e+14      0.000       1.000       1.000\n",
       "SEX                  -5.656e-16   1.93e-15     -0.293      0.770   -4.35e-15    3.22e-15\n",
       "AGE                  -1.908e-17   8.31e-17     -0.230      0.818   -1.82e-16    1.44e-16\n",
       "FP_CAREER             5.823e-15   3.47e-15      1.677      0.094   -9.83e-16    1.26e-14\n",
       "MAX_PRM              -1.971e-16   6.57e-17     -3.001      0.003   -3.26e-16   -6.83e-17\n",
       "RESL_CD1             -3.904e-16   1.69e-16     -2.308      0.021   -7.22e-16   -5.89e-17\n",
       "ACCI_OCCP_GRP         1.177e-16   1.52e-16      0.772      0.440   -1.81e-16    4.16e-16\n",
       "CHME_LICE_NO          9.133e-17   8.07e-19    113.209      0.000    8.97e-17    9.29e-17\n",
       "DMND_AMT              2.821e-17   2.28e-16      0.124      0.901   -4.19e-16    4.75e-16\n",
       "PAYM_AMT             -2.277e-17   2.31e-16     -0.099      0.921   -4.75e-16    4.29e-16\n",
       "NON_PAY_RATIO        -1.604e-15    3.1e-15     -0.517      0.605   -7.68e-15    4.47e-15\n",
       "HEED_HOSP_YN         -6.904e-16   6.21e-15     -0.111      0.912   -1.29e-14    1.15e-14\n",
       "CLAIM_CNT            -9.932e-16   3.27e-16     -3.039      0.002   -1.63e-15   -3.53e-16\n",
       "TOTAL_VLID_HOSP_OTDA -1.718e-16    1.6e-17    -10.729      0.000   -2.03e-16    -1.4e-16\n",
       "HOSP_VARIES          -1.197e-16    1.3e-15     -0.092      0.927   -2.66e-15    2.43e-15\n",
       "HOSP_DVSN_VARIES      1.683e-16   1.62e-15      0.104      0.917      -3e-15    3.34e-15\n",
       "CHME_LICE_COUNT      -4.424e-17   1.11e-15     -0.040      0.968   -2.23e-15    2.14e-15\n",
       "==============================================================================\n",
       "Omnibus:                    19057.291   Durbin-Watson:                   1.893\n",
       "Prob(Omnibus):                  0.000   Jarque-Bera (JB):          2583425.805\n",
       "Skew:                          -7.647   Prob(JB):                         0.00\n",
       "Kurtosis:                      66.494   Cond. No.                     1.87e+04\n",
       "==============================================================================\n",
       "\n",
       "Notes:\n",
       "[1] Standard Errors assume that the covariance matrix of the errors is correctly specified.\n",
       "[2] The condition number is large, 1.87e+04. This might indicate that there are\n",
       "strong multicollinearity or other numerical problems.\n",
       "\"\"\""
      ]
     },
     "execution_count": 3,
     "metadata": {},
     "output_type": "execute_result"
    }
   ],
   "source": [
    "#타 에디터 이용시 아래 코드로 대체\n",
    "#uploaded = pd.read_csv('human_activity/features.txt', sep='\\s+', header=None, names=['column_index', 'column_name'])\n",
    "features = pd.read_csv('merged_claim_data.csv', sep = ',', encoding = 'utf-8', error_bad_lines=False, engine = 'python', header = None)\n",
    "features = features.rename(columns=features.iloc[0])\n",
    "\n",
    "features = features.drop(features.index[0])#첫 row는 컬럼명이 들어간 더미데이터이므로 삭제\n",
    "features = features.astype('float')\n",
    "\n",
    "#학습 및 테스트용 데이터를 데이터 프레임으로 로딩\n",
    "x = features[['SIU_CUST_YN','SEX','AGE','FP_CAREER','MAX_PRM','RESL_CD1','ACCI_OCCP_GRP','CHME_LICE_NO','DMND_AMT','PAYM_AMT','NON_PAY_RATIO','HEED_HOSP_YN','CLAIM_CNT','TOTAL_VLID_HOSP_OTDA','HOSP_VARIES','HOSP_DVSN_VARIES','CHME_LICE_COUNT']]\n",
    "y = features['SIU_CUST_YN']\n",
    "\n",
    "x = sm.add_constant(x, has_constant = 'add')\n",
    "\n",
    "#다중 회귀모델 작성\n",
    "mm = sm.OLS(y, x)\n",
    "fitted_mm = mm.fit()\n",
    "\n",
    "#분석 요약본\n",
    "fitted_mm.summary()"
   ]
  },
  {
   "cell_type": "code",
   "execution_count": null,
   "id": "-COPO6GFprwW",
   "metadata": {
    "colab": {
     "base_uri": "https://localhost:8080/",
     "height": 283
    },
    "executionInfo": {
     "elapsed": 6,
     "status": "ok",
     "timestamp": 1628844565244,
     "user": {
      "displayName": "이종혁",
      "photoUrl": "",
      "userId": "15679079817207258777"
     },
     "user_tz": -540
    },
    "id": "-COPO6GFprwW",
    "outputId": "48cd1463-f75f-4303-cfc3-f9ce4e1ea22e"
   },
   "outputs": [],
   "source": []
  },
  {
   "cell_type": "code",
   "execution_count": null,
   "id": "fWEte15gk51G",
   "metadata": {
    "id": "fWEte15gk51G"
   },
   "outputs": [],
   "source": [
    "#p value는 귀무가설을 기각할 지에 대한 기준이 되는 수치이다. \n",
    "#그 값이 작을수록 그 정도가 약하다고 보며, 특정 값 (대개 0.05나 0.01 등) 보다 작을 경우 귀무가설을 기각한다."
   ]
  }
 ],
 "metadata": {
  "colab": {
   "collapsed_sections": [],
   "name": "cust/claim_multireg.ipynb",
   "provenance": []
  },
  "kernelspec": {
   "display_name": "Python 3",
   "language": "python",
   "name": "python3"
  },
  "language_info": {
   "codemirror_mode": {
    "name": "ipython",
    "version": 3
   },
   "file_extension": ".py",
   "mimetype": "text/x-python",
   "name": "python",
   "nbconvert_exporter": "python",
   "pygments_lexer": "ipython3",
   "version": "3.8.8"
  }
 },
 "nbformat": 4,
 "nbformat_minor": 5
}
