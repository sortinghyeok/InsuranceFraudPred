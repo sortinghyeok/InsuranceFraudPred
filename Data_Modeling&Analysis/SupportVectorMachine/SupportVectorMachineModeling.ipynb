{
  "nbformat": 4,
  "nbformat_minor": 5,
  "metadata": {
    "kernelspec": {
      "display_name": "Python 3",
      "language": "python",
      "name": "python3"
    },
    "language_info": {
      "codemirror_mode": {
        "name": "ipython",
        "version": 3
      },
      "file_extension": ".py",
      "mimetype": "text/x-python",
      "name": "python",
      "nbconvert_exporter": "python",
      "pygments_lexer": "ipython3",
      "version": "3.8.8"
    },
    "colab": {
      "name": "SupportVectorMachineModeling.ipynb",
      "provenance": []
    }
  },
  "cells": [
    {
      "cell_type": "markdown",
      "metadata": {
        "id": "903730be"
      },
      "source": [
        "## Support Vector Machine Modeling"
      ],
      "id": "903730be"
    },
    {
      "cell_type": "code",
      "metadata": {
        "id": "OQAj7iI3hbbY"
      },
      "source": [
        "!pip install numpy\n",
        "!pip install pandas\n",
        "!pip install sklearn\n",
        "!pip install statsmodels\n",
        "!pip install matplotlib\n",
        "!pip install seaborn\n"
      ],
      "id": "OQAj7iI3hbbY",
      "execution_count": null,
      "outputs": []
    },
    {
      "cell_type": "code",
      "metadata": {
        "id": "5e43738b"
      },
      "source": [
        "import matplotlib.pyplot as plt"
      ],
      "id": "5e43738b",
      "execution_count": null,
      "outputs": []
    },
    {
      "cell_type": "code",
      "metadata": {
        "id": "a2d8efc7"
      },
      "source": [
        "# import random undersampling and other necessary libraries \n",
        "import pandas as pd\n",
        "import numpy as np\n",
        "import warnings\n",
        "warnings.simplefilter(action='ignore', category=FutureWarning)"
      ],
      "id": "a2d8efc7",
      "execution_count": null,
      "outputs": []
    },
    {
      "cell_type": "code",
      "metadata": {
        "scrolled": true,
        "id": "661cdee9",
        "outputId": "5f3fd01e-520d-4f92-bc87-a20d85738262"
      },
      "source": [
        "import pandas as pd\n",
        "df = pd.read_csv(\"insurancedata.csv\")\n",
        "print(df.shape)\n",
        "print(df.head())"
      ],
      "id": "661cdee9",
      "execution_count": null,
      "outputs": [
        {
          "name": "stdout",
          "output_type": "stream",
          "text": [
            "(7626, 16)\n",
            "   Unnamed: 0 SIU_CUST_YN  SEX  AGE FP_CAREER  OCCP_GRP  TOTALPREM  \\\n",
            "0           0           N    2    4         N         1         14   \n",
            "1           1           N    1    6         N        11          2   \n",
            "2           2           N    1    5         Y         2         15   \n",
            "3           3           N    1    5         N        17         13   \n",
            "4           4           N    1    5         N         1          3   \n",
            "\n",
            "   MAIN_INSR_AMT_SUM  WORK_YEARS_MIN  EXPR_COUNT  DMND_AMT_SUM  CLAIM_CNT  \\\n",
            "0          120266433               0           8        141450          4   \n",
            "1            5000000               1           1       1390000          3   \n",
            "2         1797991770               1          24       2480000         10   \n",
            "3          212274240               1           6         72320          1   \n",
            "4           75256800              13           4       1300000          4   \n",
            "\n",
            "   TOTAL_VLID_HOSP_OTDA  HOSP_VARIES  HOSP_DVSN_VARIES  CHME_LICE_COUNT  \n",
            "0                     5            2                 2                1  \n",
            "1                     6            3                 2                3  \n",
            "2                    21            4                 3                4  \n",
            "3                     5            1                 1                1  \n",
            "4                    26            2                 2                2  \n"
          ]
        }
      ]
    },
    {
      "cell_type": "markdown",
      "metadata": {
        "id": "cce52f2b"
      },
      "source": [
        "## N : 0 / Y : 1 의 각각 비율 확인"
      ],
      "id": "cce52f2b"
    },
    {
      "cell_type": "code",
      "metadata": {
        "id": "c0ee4c66",
        "outputId": "1530481f-ef4a-4c2e-b2b3-14ef206a7c7e"
      },
      "source": [
        "df.SIU_CUST_YN.value_counts()"
      ],
      "id": "c0ee4c66",
      "execution_count": null,
      "outputs": [
        {
          "data": {
            "text/plain": [
              "N    6901\n",
              "Y     725\n",
              "Name: SIU_CUST_YN, dtype: int64"
            ]
          },
          "execution_count": 4,
          "metadata": {},
          "output_type": "execute_result"
        }
      ]
    },
    {
      "cell_type": "code",
      "metadata": {
        "scrolled": true,
        "id": "37778ece",
        "outputId": "47f06f54-26a4-48a2-ee0d-4f50679f2a81"
      },
      "source": [
        "df.SIU_CUST_YN.value_counts(normalize=True).plot(kind='bar', color = \"black\")\n",
        "print(df.SIU_CUST_YN.value_counts(normalize=True)*100)"
      ],
      "id": "37778ece",
      "execution_count": null,
      "outputs": [
        {
          "name": "stdout",
          "output_type": "stream",
          "text": [
            "N    90.49305\n",
            "Y     9.50695\n",
            "Name: SIU_CUST_YN, dtype: float64\n"
          ]
        },
        {
          "data": {
            "image/png": "[encoded data removed]",
            "text/plain": [
              "<Figure size 432x288 with 1 Axes>"
            ]
          },
          "metadata": {
            "needs_background": "light"
          },
          "output_type": "display_data"
        }
      ]
    },
    {
      "cell_type": "markdown",
      "metadata": {
        "id": "a106c69c"
      },
      "source": [
        "## 데이터 추가정제\n",
        "\n",
        "데이터에 맞춰서 하나만 실행"
      ],
      "id": "a106c69c"
    },
    {
      "cell_type": "code",
      "metadata": {
        "id": "cee662b4"
      },
      "source": [
        "#insurance data\n",
        "\n",
        "df['SIU_CUST_YN'].replace('N', 0, inplace = True)\n",
        "df['SIU_CUST_YN'].replace('Y', 1, inplace = True)\n",
        "df['FP_CAREER'].replace('N', 0, inplace = True)\n",
        "df['FP_CAREER'].replace('Y', 1, inplace = True)\n",
        "df.drop(['Unnamed: 0'], axis=1, inplace = True)\n",
        "df.drop(['TOTALPREM'], axis=1, inplace = True)"
      ],
      "id": "cee662b4",
      "execution_count": null,
      "outputs": []
    },
    {
      "cell_type": "code",
      "metadata": {
        "id": "6eeb6951"
      },
      "source": [
        "X = df.iloc[:,1:] # SIU_CUST_YN을 제외한 모든 cloumn\n",
        "y = df.iloc[:,0] # SIU_CUST_YN"
      ],
      "id": "6eeb6951",
      "execution_count": null,
      "outputs": []
    },
    {
      "cell_type": "code",
      "metadata": {
        "scrolled": true,
        "id": "82d0eeb8",
        "outputId": "57d68d0b-c998-44c3-c3f1-271d47eb892a"
      },
      "source": [
        "from collections import Counter\n",
        "from sklearn.model_selection import train_test_split\n",
        "# 트레이닝 데이터, 테스트 데이터 설정\n",
        "X_train, X_test, y_train, y_test = train_test_split(X, y, test_size=0.3)\n",
        "# 현재 트레이닝 데이터 확인\n",
        "print(\"Before Sampling: \",Counter(y_train))"
      ],
      "id": "82d0eeb8",
      "execution_count": null,
      "outputs": [
        {
          "name": "stdout",
          "output_type": "stream",
          "text": [
            "Before Sampling:  Counter({0: 4826, 1: 512})\n"
          ]
        }
      ]
    },
    {
      "cell_type": "markdown",
      "metadata": {
        "id": "9652451f"
      },
      "source": [
        "## OverSampling Test Module"
      ],
      "id": "9652451f"
    },
    {
      "cell_type": "code",
      "metadata": {
        "id": "bda0b891",
        "outputId": "cddede7f-cf5e-40f4-fb2e-8832c73befdc"
      },
      "source": [
        "from imblearn.over_sampling import SMOTE\n",
        "# OverSampling 방법(SMOTE)\n",
        "SMOTE = SMOTE()\n",
        "# OverSampling 실행\n",
        "X_train_SMOTE, y_train_SMOTE = SMOTE.fit_resample(X_train, y_train)\n",
        "# OverSampling 결과 데이터 확인\n",
        "print(\"Before Sampling: \",Counter(y_train))\n",
        "print(\"After oversampling(SMOTE): \",Counter(y_train_SMOTE))"
      ],
      "id": "bda0b891",
      "execution_count": null,
      "outputs": [
        {
          "name": "stdout",
          "output_type": "stream",
          "text": [
            "Before Sampling:  Counter({0: 4826, 1: 512})\n",
            "After oversampling(SMOTE):  Counter({0: 4826, 1: 4826})\n"
          ]
        }
      ]
    },
    {
      "cell_type": "code",
      "metadata": {
        "id": "81364693",
        "outputId": "90ed9582-a534-4a19-e63f-541d60a00f3d"
      },
      "source": [
        "from imblearn.over_sampling import BorderlineSMOTE\n",
        "# OverSampling 방법(BSMOTE)\n",
        "BSMOTE = BorderlineSMOTE()\n",
        "# OverSampling 실행\n",
        "X_train_BSMOTE, y_train_BSMOTE = BSMOTE.fit_resample(X_train, y_train)\n",
        "# OverSampling 결과 데이터 확인\n",
        "print(\"Before Sampling: \",Counter(y_train))\n",
        "print(\"After oversampling(BSMOTE)): \",Counter(y_train_BSMOTE))"
      ],
      "id": "81364693",
      "execution_count": null,
      "outputs": [
        {
          "name": "stdout",
          "output_type": "stream",
          "text": [
            "Before Sampling:  Counter({0: 4826, 1: 512})\n",
            "After oversampling(BSMOTE)):  Counter({0: 4826, 1: 4826})\n"
          ]
        }
      ]
    },
    {
      "cell_type": "code",
      "metadata": {
        "id": "bb4f6059",
        "outputId": "e81f93c5-b3bb-4db9-a968-03bb4729ff9b"
      },
      "source": [
        "from imblearn.over_sampling import ADASYN\n",
        "# OverSampling 방법(ADASYN)\n",
        "ADASYN = ADASYN()\n",
        "# OverSampling 실행\n",
        "X_train_ADASYN, y_train_ADASYN = ADASYN.fit_resample(X_train, y_train)\n",
        "# OverSampling 결과 데이터 확인\n",
        "print(\"Before Sampling: \",Counter(y_train))\n",
        "print(\"After oversampling(ADASYN): \",Counter(y_train_ADASYN))"
      ],
      "id": "bb4f6059",
      "execution_count": null,
      "outputs": [
        {
          "name": "stdout",
          "output_type": "stream",
          "text": [
            "Before Sampling:  Counter({0: 4826, 1: 512})\n",
            "After oversampling(ADASYN):  Counter({0: 4826, 1: 4704})\n"
          ]
        }
      ]
    },
    {
      "cell_type": "code",
      "metadata": {
        "id": "4dea368c",
        "outputId": "eea32162-4fb5-4a68-b259-0f84045ca5c7"
      },
      "source": [
        "from imblearn.over_sampling import SVMSMOTE\n",
        "# OverSampling 방법(SVMSMOTE)\n",
        "SVMSMOTE = SVMSMOTE()\n",
        "X_train_SVMSMOTE, y_train_SVMSMOTE = SVMSMOTE.fit_resample(X_train, y_train)\n",
        "print(\"Before Sampling: \",Counter(y_train))\n",
        "print(\"After oversampling(ADASYN): \",Counter(y_train_SVMSMOTE))"
      ],
      "id": "4dea368c",
      "execution_count": null,
      "outputs": [
        {
          "name": "stdout",
          "output_type": "stream",
          "text": [
            "Before Sampling:  Counter({0: 4826, 1: 512})\n",
            "After oversampling(ADASYN):  Counter({0: 4826, 1: 4826})\n"
          ]
        }
      ]
    },
    {
      "cell_type": "markdown",
      "metadata": {
        "id": "0250d132"
      },
      "source": [
        "## Sampling 방식 선택"
      ],
      "id": "0250d132"
    },
    {
      "cell_type": "code",
      "metadata": {
        "id": "f502fd50"
      },
      "source": [
        "# 해당 변수를 설정해서 Sampling 방식 선택 후 머신러닝 실행\n",
        "X_train_sampling = X_train_SVMSMOTE\n",
        "y_train_sampling = y_train_SVMSMOTE"
      ],
      "id": "f502fd50",
      "execution_count": null,
      "outputs": []
    },
    {
      "cell_type": "markdown",
      "metadata": {
        "id": "8aa73e37"
      },
      "source": [
        "## 결과 확인"
      ],
      "id": "8aa73e37"
    },
    {
      "cell_type": "code",
      "metadata": {
        "id": "6b8c1f40"
      },
      "source": [
        "from sklearn.preprocessing import StandardScaler\n",
        "scaler = StandardScaler()\n",
        "X_train_sampling = scaler.fit_transform(X_train_sampling)\n",
        "X_test = scaler.transform(X_test)"
      ],
      "id": "6b8c1f40",
      "execution_count": null,
      "outputs": []
    },
    {
      "cell_type": "code",
      "metadata": {
        "scrolled": true,
        "id": "760795cf",
        "outputId": "bf3759b8-d6ed-4951-bd1d-8a0425df654a"
      },
      "source": [
        "# 기본svm\n",
        "from sklearn.svm import SVC\n",
        "model = SVC()\n",
        "model.fit(X_train_sampling, y_train_sampling)"
      ],
      "id": "760795cf",
      "execution_count": null,
      "outputs": [
        {
          "data": {
            "text/plain": [
              "SVC()"
            ]
          },
          "execution_count": 15,
          "metadata": {},
          "output_type": "execute_result"
        }
      ]
    },
    {
      "cell_type": "code",
      "metadata": {
        "id": "54f8dd97",
        "outputId": "46369456-1255-412e-af00-b558fe07b554"
      },
      "source": [
        "# sklearn에서 제공하는 score값\n",
        "print(model.score(X_test, y_test))"
      ],
      "id": "54f8dd97",
      "execution_count": null,
      "outputs": [
        {
          "name": "stdout",
          "output_type": "stream",
          "text": [
            "0.8920454545454546\n"
          ]
        }
      ]
    },
    {
      "cell_type": "code",
      "metadata": {
        "id": "225cad89",
        "outputId": "34bfcf2a-dd11-40e6-f7e2-76b939ad6ee1"
      },
      "source": [
        "print(model.predict(X_test))"
      ],
      "id": "225cad89",
      "execution_count": null,
      "outputs": [
        {
          "name": "stdout",
          "output_type": "stream",
          "text": [
            "[0 0 0 ... 0 1 0]\n"
          ]
        }
      ]
    },
    {
      "cell_type": "code",
      "metadata": {
        "id": "d772dd15"
      },
      "source": [
        "predict_X = model.predict(X_test)"
      ],
      "id": "d772dd15",
      "execution_count": null,
      "outputs": []
    },
    {
      "cell_type": "code",
      "metadata": {
        "id": "ffc3cf3c"
      },
      "source": [
        "# 비중.\n",
        "persentage = 0.5"
      ],
      "id": "ffc3cf3c",
      "execution_count": null,
      "outputs": []
    },
    {
      "cell_type": "code",
      "metadata": {
        "scrolled": true,
        "id": "c72f55bd",
        "outputId": "c5b48a14-46f8-488d-c516-fb9596fd18d9"
      },
      "source": [
        "from sklearn.metrics import confusion_matrix, accuracy_score,precision_score,recall_score,f1_score\n",
        "\n",
        "\n",
        "print('Persentage : 0.5')\n",
        "print('Just result')\n",
        "print(\"---------------------------\")\n",
        "print('accuracy: %.2f' % accuracy_score(y_test, predict_X))\n",
        "print('precision: %.2f' % precision_score(y_test, predict_X))\n",
        "print('recall: %.2f' % recall_score(y_test, predict_X))\n",
        "print('F1: %.2f' % f1_score(y_test, predict_X))"
      ],
      "id": "c72f55bd",
      "execution_count": null,
      "outputs": [
        {
          "name": "stdout",
          "output_type": "stream",
          "text": [
            "Persentage : 0.5\n",
            "Just result\n",
            "---------------------------\n",
            "accuracy: 0.89\n",
            "precision: 0.43\n",
            "recall: 0.53\n",
            "F1: 0.48\n"
          ]
        }
      ]
    },
    {
      "cell_type": "code",
      "metadata": {
        "id": "adc0f06c",
        "outputId": "f53fa648-4c91-4abb-d32c-3c1a5551d8fc"
      },
      "source": [
        "import seaborn as sns\n",
        "confusion = confusion_matrix(y_true = y_test\n",
        "                             , y_pred = predict_X)\n",
        "\n",
        "plt.figure(figsize=(4, 3))\n",
        "sns.heatmap(confusion, annot=True, annot_kws={'size':15}, cmap='OrRd', fmt='.10g')\n",
        "plt.title('Confusion Matrix')\n",
        "plt.show()"
      ],
      "id": "adc0f06c",
      "execution_count": null,
      "outputs": [
        {
          "data": {
            "image/png": "[encoded data removed]",
            "text/plain": [
              "<Figure size 288x216 with 2 Axes>"
            ]
          },
          "metadata": {
            "needs_background": "light"
          },
          "output_type": "display_data"
        }
      ]
    },
    {
      "cell_type": "code",
      "metadata": {
        "id": "9dfdaa63"
      },
      "source": [
        "# rbf kernel 활용\n",
        "from sklearn import svm\n",
        "model = svm.SVC(kernel='rbf',gamma=10)\n",
        "model.fit(X_train_sampling, y_train_sampling)"
      ],
      "id": "9dfdaa63",
      "execution_count": null,
      "outputs": []
    },
    {
      "cell_type": "code",
      "metadata": {
        "id": "6520ff48"
      },
      "source": [
        "# sklearn에서 제공하는 score값\n",
        "print(model.score(X_test, y_test))"
      ],
      "id": "6520ff48",
      "execution_count": null,
      "outputs": []
    },
    {
      "cell_type": "code",
      "metadata": {
        "id": "97d76c47"
      },
      "source": [
        "print(model.predict(X_test))"
      ],
      "id": "97d76c47",
      "execution_count": null,
      "outputs": []
    },
    {
      "cell_type": "code",
      "metadata": {
        "id": "eaa5bc28"
      },
      "source": [
        "predict_X = model.predict(X_test)"
      ],
      "id": "eaa5bc28",
      "execution_count": null,
      "outputs": []
    },
    {
      "cell_type": "code",
      "metadata": {
        "id": "98e00e92"
      },
      "source": [
        "# 비중.\n",
        "persentage = 0.5"
      ],
      "id": "98e00e92",
      "execution_count": null,
      "outputs": []
    },
    {
      "cell_type": "code",
      "metadata": {
        "id": "93427a66"
      },
      "source": [
        "from sklearn.metrics import confusion_matrix, accuracy_score,precision_score,recall_score,f1_score\n",
        "\n",
        "\n",
        "print('Persentage : 0.5')\n",
        "print('Just result')\n",
        "print(\"---------------------------\")\n",
        "print('accuracy: %.2f' % accuracy_score(y_test, predict_X))\n",
        "print('precision: %.2f' % precision_score(y_test, predict_X))\n",
        "print('recall: %.2f' % recall_score(y_test, predict_X))\n",
        "print('F1: %.2f' % f1_score(y_test, predict_X))"
      ],
      "id": "93427a66",
      "execution_count": null,
      "outputs": []
    },
    {
      "cell_type": "code",
      "metadata": {
        "id": "607f4a13"
      },
      "source": [
        "import seaborn as sns\n",
        "confusion = confusion_matrix(y_true = y_test\n",
        "                             , y_pred = predict_X)\n",
        "\n",
        "plt.figure(figsize=(4, 3))\n",
        "sns.heatmap(confusion, annot=True, annot_kws={'size':15}, cmap='OrRd', fmt='.10g')\n",
        "plt.title('Confusion Matrix')\n",
        "plt.show()"
      ],
      "id": "607f4a13",
      "execution_count": null,
      "outputs": []
    },
    {
      "cell_type": "code",
      "metadata": {
        "id": "53197f36"
      },
      "source": [
        "# poly kernel 활용\n",
        "from sklearn import svm\n",
        "model = svm.SVC(kernel='poly',degree=2) #degree는 차원수\n",
        "model.fit(X_train_sampling, y_train_sampling)"
      ],
      "id": "53197f36",
      "execution_count": null,
      "outputs": []
    },
    {
      "cell_type": "code",
      "metadata": {
        "scrolled": true,
        "id": "bde64228"
      },
      "source": [
        "# sklearn에서 제공하는 score값\n",
        "print(model.score(X_test, y_test))"
      ],
      "id": "bde64228",
      "execution_count": null,
      "outputs": []
    },
    {
      "cell_type": "code",
      "metadata": {
        "id": "60bca9d3"
      },
      "source": [
        "print(model.predict(X_test))"
      ],
      "id": "60bca9d3",
      "execution_count": null,
      "outputs": []
    },
    {
      "cell_type": "code",
      "metadata": {
        "id": "2118e9e9"
      },
      "source": [
        "predict_X = model.predict(X_test)"
      ],
      "id": "2118e9e9",
      "execution_count": null,
      "outputs": []
    },
    {
      "cell_type": "code",
      "metadata": {
        "id": "538babd3"
      },
      "source": [
        "# 비중.\n",
        "persentage = 0.5"
      ],
      "id": "538babd3",
      "execution_count": null,
      "outputs": []
    },
    {
      "cell_type": "code",
      "metadata": {
        "scrolled": true,
        "id": "95779272"
      },
      "source": [
        "from sklearn.metrics import confusion_matrix, accuracy_score,precision_score,recall_score,f1_score\n",
        "\n",
        "\n",
        "print('Persentage : 0.5')\n",
        "print('Just result')\n",
        "print(\"---------------------------\")\n",
        "print('accuracy: %.2f' % accuracy_score(y_test, predict_X))\n",
        "print('precision: %.2f' % precision_score(y_test, predict_X))\n",
        "print('recall: %.2f' % recall_score(y_test, predict_X))\n",
        "print('F1: %.2f' % f1_score(y_test, predict_X))"
      ],
      "id": "95779272",
      "execution_count": null,
      "outputs": []
    },
    {
      "cell_type": "code",
      "metadata": {
        "id": "d0a42ffd"
      },
      "source": [
        "import seaborn as sns\n",
        "confusion = confusion_matrix(y_true = y_test\n",
        "                             , y_pred = predict_X)\n",
        "\n",
        "plt.figure(figsize=(4, 3))\n",
        "sns.heatmap(confusion, annot=True, annot_kws={'size':15}, cmap='OrRd', fmt='.10g')\n",
        "plt.title('Confusion Matrix')\n",
        "plt.show()"
      ],
      "id": "d0a42ffd",
      "execution_count": null,
      "outputs": []
    },
    {
      "cell_type": "code",
      "metadata": {
        "id": "8e81129f"
      },
      "source": [
        ""
      ],
      "id": "8e81129f",
      "execution_count": null,
      "outputs": []
    }
  ]
}