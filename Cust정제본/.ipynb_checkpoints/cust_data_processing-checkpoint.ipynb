{
 "cells": [
  {
   "cell_type": "code",
   "execution_count": 3,
   "metadata": {
    "colab": {
     "base_uri": "https://localhost:8080/",
     "height": 76,
     "resources": {
      "http://localhost:8080/nbextensions/google.colab/files.js": {
       "data": "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",
       "headers": [
        [
         "content-type",
         "application/javascript"
        ]
       ],
       "ok": true,
       "status": 200,
       "status_text": ""
      }
     }
    },
    "executionInfo": {
     "elapsed": 26985,
     "status": "ok",
     "timestamp": 1627999044096,
     "user": {
      "displayName": "이종혁",
      "photoUrl": "",
      "userId": "15679079817207258777"
     },
     "user_tz": -540
    },
    "id": "wqGuQNpTP4Xk",
    "outputId": "1e64e5e0-6455-41e2-f8a7-72b04444432e",
    "scrolled": true
   },
   "outputs": [],
   "source": [
    "import pandas as pd"
   ]
  },
  {
   "cell_type": "code",
   "execution_count": null,
   "metadata": {},
   "outputs": [],
   "source": [
    "from google.colab import files\n",
    "#google colab사용\n",
    "cust_data = files.upload()\n",
    "#google colab에서 파일 업로드. 로컬 환경에서 할 시 csv파일을 main.py의 경로로 이동해줄 것"
   ]
  },
  {
   "cell_type": "code",
   "execution_count": 4,
   "metadata": {
    "executionInfo": {
     "elapsed": 279,
     "status": "ok",
     "timestamp": 1628004519552,
     "user": {
      "displayName": "이종혁",
      "photoUrl": "",
      "userId": "15679079817207258777"
     },
     "user_tz": -540
    },
    "id": "wjpfwy-LQD10"
   },
   "outputs": [
    {
     "name": "stderr",
     "output_type": "stream",
     "text": [
      "/Users/gimjiseob/miniforge3/lib/python3.9/site-packages/IPython/core/interactiveshell.py:3441: FutureWarning: The error_bad_lines argument has been deprecated and will be removed in a future version.\n",
      "\n",
      "\n",
      "  exec(code_obj, self.user_global_ns, self.user_ns)\n"
     ]
    },
    {
     "ename": "FileNotFoundError",
     "evalue": "[Errno 2] No such file or directory: 'cust.22400.csv'",
     "output_type": "error",
     "traceback": [
      "\u001b[0;31m---------------------------------------------------------------------------\u001b[0m",
      "\u001b[0;31mFileNotFoundError\u001b[0m                         Traceback (most recent call last)",
      "\u001b[0;32m<ipython-input-4-161b1e3a82a5>\u001b[0m in \u001b[0;36m<module>\u001b[0;34m\u001b[0m\n\u001b[0;32m----> 1\u001b[0;31m \u001b[0mcustDF\u001b[0m \u001b[0;34m=\u001b[0m \u001b[0mpd\u001b[0m\u001b[0;34m.\u001b[0m\u001b[0mread_csv\u001b[0m\u001b[0;34m(\u001b[0m\u001b[0;34m\"cust.22400.csv\"\u001b[0m\u001b[0;34m,\u001b[0m  \u001b[0msep\u001b[0m\u001b[0;34m=\u001b[0m\u001b[0;34m','\u001b[0m\u001b[0;34m,\u001b[0m \u001b[0mencoding\u001b[0m \u001b[0;34m=\u001b[0m \u001b[0;34m'utf-8'\u001b[0m\u001b[0;34m,\u001b[0m \u001b[0merror_bad_lines\u001b[0m\u001b[0;34m=\u001b[0m\u001b[0;32mFalse\u001b[0m\u001b[0;34m,\u001b[0m \u001b[0mengine\u001b[0m \u001b[0;34m=\u001b[0m \u001b[0;34m'python'\u001b[0m\u001b[0;34m,\u001b[0m \u001b[0mheader\u001b[0m \u001b[0;34m=\u001b[0m \u001b[0;32mNone\u001b[0m\u001b[0;34m,\u001b[0m \u001b[0mnames\u001b[0m\u001b[0;34m=\u001b[0m\u001b[0;34m[\u001b[0m\u001b[0;34m'CUST_ID'\u001b[0m\u001b[0;34m,\u001b[0m \u001b[0;34m'DIVIDED_SET'\u001b[0m\u001b[0;34m,\u001b[0m \u001b[0;34m'SIU_CUST_YN'\u001b[0m\u001b[0;34m,\u001b[0m \u001b[0;34m'SEX'\u001b[0m\u001b[0;34m,\u001b[0m \u001b[0;34m'AGE'\u001b[0m\u001b[0;34m,\u001b[0m \u001b[0;34m'RESI_COST'\u001b[0m\u001b[0;34m,\u001b[0m \u001b[0;34m'RESI_TYPE_CODE'\u001b[0m\u001b[0;34m,\u001b[0m \u001b[0;34m'FP_CAREER'\u001b[0m\u001b[0;34m,\u001b[0m \u001b[0;34m'CUST_RGST'\u001b[0m\u001b[0;34m,\u001b[0m \u001b[0;34m'OCCP_GRP'\u001b[0m\u001b[0;34m,\u001b[0m \u001b[0;34m'TOTALPREM'\u001b[0m\u001b[0;34m,\u001b[0m \u001b[0;34m'WEDD_YN'\u001b[0m\u001b[0;34m,\u001b[0m \u001b[0;34m'MATE_OCCP_GRP'\u001b[0m\u001b[0;34m,\u001b[0m \u001b[0;34m'CHLD_CNT'\u001b[0m\u001b[0;34m,\u001b[0m \u001b[0;34m'LTBN_CHLD_AGE'\u001b[0m\u001b[0;34m,\u001b[0m \u001b[0;34m'MAX_PAYM_YM'\u001b[0m\u001b[0;34m,\u001b[0m \u001b[0;34m'MAX_PRM'\u001b[0m\u001b[0;34m]\u001b[0m\u001b[0;34m)\u001b[0m\u001b[0;34m\u001b[0m\u001b[0;34m\u001b[0m\u001b[0m\n\u001b[0m\u001b[1;32m      2\u001b[0m \u001b[0;31m#쉼표 구분이므로 구분자 ',', encoding방식 utf-8 고정, 라인 에러시 무시, 파이썬 엔진 사용으로 파싱, 헤더 미지정(컬럼명 별도 입력)\u001b[0m\u001b[0;34m\u001b[0m\u001b[0;34m\u001b[0m\u001b[0;34m\u001b[0m\u001b[0m\n\u001b[1;32m      3\u001b[0m \u001b[0;31m#csv파일 로딩시 별 문제 없으면 columns명 지정 필요 없이 첫 행을 columns로 바꾸면 됨 ex)df2 = df1.rename(columns=df1.iloc[0])\u001b[0m\u001b[0;34m\u001b[0m\u001b[0;34m\u001b[0m\u001b[0;34m\u001b[0m\u001b[0m\n\u001b[1;32m      4\u001b[0m \u001b[0;31m#알 수 없는 이유로 인해 첫 행이 단 하나의 value로 고정되고 나머지 17개의 데이터가 1개의 컬럼에 의해 종속되는 상황이 발생하여 개별 컬럼명 입력으로 컬럼 분할\u001b[0m\u001b[0;34m\u001b[0m\u001b[0;34m\u001b[0m\u001b[0;34m\u001b[0m\u001b[0m\n",
      "\u001b[0;32m~/miniforge3/lib/python3.9/site-packages/pandas/util/_decorators.py\u001b[0m in \u001b[0;36mwrapper\u001b[0;34m(*args, **kwargs)\u001b[0m\n\u001b[1;32m    309\u001b[0m                     \u001b[0mstacklevel\u001b[0m\u001b[0;34m=\u001b[0m\u001b[0mstacklevel\u001b[0m\u001b[0;34m,\u001b[0m\u001b[0;34m\u001b[0m\u001b[0;34m\u001b[0m\u001b[0m\n\u001b[1;32m    310\u001b[0m                 )\n\u001b[0;32m--> 311\u001b[0;31m             \u001b[0;32mreturn\u001b[0m \u001b[0mfunc\u001b[0m\u001b[0;34m(\u001b[0m\u001b[0;34m*\u001b[0m\u001b[0margs\u001b[0m\u001b[0;34m,\u001b[0m \u001b[0;34m**\u001b[0m\u001b[0mkwargs\u001b[0m\u001b[0;34m)\u001b[0m\u001b[0;34m\u001b[0m\u001b[0;34m\u001b[0m\u001b[0m\n\u001b[0m\u001b[1;32m    312\u001b[0m \u001b[0;34m\u001b[0m\u001b[0m\n\u001b[1;32m    313\u001b[0m         \u001b[0;32mreturn\u001b[0m \u001b[0mwrapper\u001b[0m\u001b[0;34m\u001b[0m\u001b[0;34m\u001b[0m\u001b[0m\n",
      "\u001b[0;32m~/miniforge3/lib/python3.9/site-packages/pandas/io/parsers/readers.py\u001b[0m in \u001b[0;36mread_csv\u001b[0;34m(filepath_or_buffer, sep, delimiter, header, names, index_col, usecols, squeeze, prefix, mangle_dupe_cols, dtype, engine, converters, true_values, false_values, skipinitialspace, skiprows, skipfooter, nrows, na_values, keep_default_na, na_filter, verbose, skip_blank_lines, parse_dates, infer_datetime_format, keep_date_col, date_parser, dayfirst, cache_dates, iterator, chunksize, compression, thousands, decimal, lineterminator, quotechar, quoting, doublequote, escapechar, comment, encoding, encoding_errors, dialect, error_bad_lines, warn_bad_lines, on_bad_lines, delim_whitespace, low_memory, memory_map, float_precision, storage_options)\u001b[0m\n\u001b[1;32m    584\u001b[0m     \u001b[0mkwds\u001b[0m\u001b[0;34m.\u001b[0m\u001b[0mupdate\u001b[0m\u001b[0;34m(\u001b[0m\u001b[0mkwds_defaults\u001b[0m\u001b[0;34m)\u001b[0m\u001b[0;34m\u001b[0m\u001b[0;34m\u001b[0m\u001b[0m\n\u001b[1;32m    585\u001b[0m \u001b[0;34m\u001b[0m\u001b[0m\n\u001b[0;32m--> 586\u001b[0;31m     \u001b[0;32mreturn\u001b[0m \u001b[0m_read\u001b[0m\u001b[0;34m(\u001b[0m\u001b[0mfilepath_or_buffer\u001b[0m\u001b[0;34m,\u001b[0m \u001b[0mkwds\u001b[0m\u001b[0;34m)\u001b[0m\u001b[0;34m\u001b[0m\u001b[0;34m\u001b[0m\u001b[0m\n\u001b[0m\u001b[1;32m    587\u001b[0m \u001b[0;34m\u001b[0m\u001b[0m\n\u001b[1;32m    588\u001b[0m \u001b[0;34m\u001b[0m\u001b[0m\n",
      "\u001b[0;32m~/miniforge3/lib/python3.9/site-packages/pandas/io/parsers/readers.py\u001b[0m in \u001b[0;36m_read\u001b[0;34m(filepath_or_buffer, kwds)\u001b[0m\n\u001b[1;32m    480\u001b[0m \u001b[0;34m\u001b[0m\u001b[0m\n\u001b[1;32m    481\u001b[0m     \u001b[0;31m# Create the parser.\u001b[0m\u001b[0;34m\u001b[0m\u001b[0;34m\u001b[0m\u001b[0;34m\u001b[0m\u001b[0m\n\u001b[0;32m--> 482\u001b[0;31m     \u001b[0mparser\u001b[0m \u001b[0;34m=\u001b[0m \u001b[0mTextFileReader\u001b[0m\u001b[0;34m(\u001b[0m\u001b[0mfilepath_or_buffer\u001b[0m\u001b[0;34m,\u001b[0m \u001b[0;34m**\u001b[0m\u001b[0mkwds\u001b[0m\u001b[0;34m)\u001b[0m\u001b[0;34m\u001b[0m\u001b[0;34m\u001b[0m\u001b[0m\n\u001b[0m\u001b[1;32m    483\u001b[0m \u001b[0;34m\u001b[0m\u001b[0m\n\u001b[1;32m    484\u001b[0m     \u001b[0;32mif\u001b[0m \u001b[0mchunksize\u001b[0m \u001b[0;32mor\u001b[0m \u001b[0miterator\u001b[0m\u001b[0;34m:\u001b[0m\u001b[0;34m\u001b[0m\u001b[0;34m\u001b[0m\u001b[0m\n",
      "\u001b[0;32m~/miniforge3/lib/python3.9/site-packages/pandas/io/parsers/readers.py\u001b[0m in \u001b[0;36m__init__\u001b[0;34m(self, f, engine, **kwds)\u001b[0m\n\u001b[1;32m    809\u001b[0m             \u001b[0mself\u001b[0m\u001b[0;34m.\u001b[0m\u001b[0moptions\u001b[0m\u001b[0;34m[\u001b[0m\u001b[0;34m\"has_index_names\"\u001b[0m\u001b[0;34m]\u001b[0m \u001b[0;34m=\u001b[0m \u001b[0mkwds\u001b[0m\u001b[0;34m[\u001b[0m\u001b[0;34m\"has_index_names\"\u001b[0m\u001b[0;34m]\u001b[0m\u001b[0;34m\u001b[0m\u001b[0;34m\u001b[0m\u001b[0m\n\u001b[1;32m    810\u001b[0m \u001b[0;34m\u001b[0m\u001b[0m\n\u001b[0;32m--> 811\u001b[0;31m         \u001b[0mself\u001b[0m\u001b[0;34m.\u001b[0m\u001b[0m_engine\u001b[0m \u001b[0;34m=\u001b[0m \u001b[0mself\u001b[0m\u001b[0;34m.\u001b[0m\u001b[0m_make_engine\u001b[0m\u001b[0;34m(\u001b[0m\u001b[0mself\u001b[0m\u001b[0;34m.\u001b[0m\u001b[0mengine\u001b[0m\u001b[0;34m)\u001b[0m\u001b[0;34m\u001b[0m\u001b[0;34m\u001b[0m\u001b[0m\n\u001b[0m\u001b[1;32m    812\u001b[0m \u001b[0;34m\u001b[0m\u001b[0m\n\u001b[1;32m    813\u001b[0m     \u001b[0;32mdef\u001b[0m \u001b[0mclose\u001b[0m\u001b[0;34m(\u001b[0m\u001b[0mself\u001b[0m\u001b[0;34m)\u001b[0m\u001b[0;34m:\u001b[0m\u001b[0;34m\u001b[0m\u001b[0;34m\u001b[0m\u001b[0m\n",
      "\u001b[0;32m~/miniforge3/lib/python3.9/site-packages/pandas/io/parsers/readers.py\u001b[0m in \u001b[0;36m_make_engine\u001b[0;34m(self, engine)\u001b[0m\n\u001b[1;32m   1038\u001b[0m             )\n\u001b[1;32m   1039\u001b[0m         \u001b[0;31m# error: Too many arguments for \"ParserBase\"\u001b[0m\u001b[0;34m\u001b[0m\u001b[0;34m\u001b[0m\u001b[0;34m\u001b[0m\u001b[0m\n\u001b[0;32m-> 1040\u001b[0;31m         \u001b[0;32mreturn\u001b[0m \u001b[0mmapping\u001b[0m\u001b[0;34m[\u001b[0m\u001b[0mengine\u001b[0m\u001b[0;34m]\u001b[0m\u001b[0;34m(\u001b[0m\u001b[0mself\u001b[0m\u001b[0;34m.\u001b[0m\u001b[0mf\u001b[0m\u001b[0;34m,\u001b[0m \u001b[0;34m**\u001b[0m\u001b[0mself\u001b[0m\u001b[0;34m.\u001b[0m\u001b[0moptions\u001b[0m\u001b[0;34m)\u001b[0m  \u001b[0;31m# type: ignore[call-arg]\u001b[0m\u001b[0;34m\u001b[0m\u001b[0;34m\u001b[0m\u001b[0m\n\u001b[0m\u001b[1;32m   1041\u001b[0m \u001b[0;34m\u001b[0m\u001b[0m\n\u001b[1;32m   1042\u001b[0m     \u001b[0;32mdef\u001b[0m \u001b[0m_failover_to_python\u001b[0m\u001b[0;34m(\u001b[0m\u001b[0mself\u001b[0m\u001b[0;34m)\u001b[0m\u001b[0;34m:\u001b[0m\u001b[0;34m\u001b[0m\u001b[0;34m\u001b[0m\u001b[0m\n",
      "\u001b[0;32m~/miniforge3/lib/python3.9/site-packages/pandas/io/parsers/python_parser.py\u001b[0m in \u001b[0;36m__init__\u001b[0;34m(self, f, **kwds)\u001b[0m\n\u001b[1;32m     93\u001b[0m             \u001b[0mself\u001b[0m\u001b[0;34m.\u001b[0m\u001b[0mdata\u001b[0m \u001b[0;34m=\u001b[0m \u001b[0mcast\u001b[0m\u001b[0;34m(\u001b[0m\u001b[0mIterator\u001b[0m\u001b[0;34m[\u001b[0m\u001b[0mstr\u001b[0m\u001b[0;34m]\u001b[0m\u001b[0;34m,\u001b[0m \u001b[0mf\u001b[0m\u001b[0;34m)\u001b[0m\u001b[0;34m\u001b[0m\u001b[0;34m\u001b[0m\u001b[0m\n\u001b[1;32m     94\u001b[0m         \u001b[0;32melse\u001b[0m\u001b[0;34m:\u001b[0m\u001b[0;34m\u001b[0m\u001b[0;34m\u001b[0m\u001b[0m\n\u001b[0;32m---> 95\u001b[0;31m             \u001b[0mself\u001b[0m\u001b[0;34m.\u001b[0m\u001b[0m_open_handles\u001b[0m\u001b[0;34m(\u001b[0m\u001b[0mf\u001b[0m\u001b[0;34m,\u001b[0m \u001b[0mkwds\u001b[0m\u001b[0;34m)\u001b[0m\u001b[0;34m\u001b[0m\u001b[0;34m\u001b[0m\u001b[0m\n\u001b[0m\u001b[1;32m     96\u001b[0m             \u001b[0;32massert\u001b[0m \u001b[0mself\u001b[0m\u001b[0;34m.\u001b[0m\u001b[0mhandles\u001b[0m \u001b[0;32mis\u001b[0m \u001b[0;32mnot\u001b[0m \u001b[0;32mNone\u001b[0m\u001b[0;34m\u001b[0m\u001b[0;34m\u001b[0m\u001b[0m\n\u001b[1;32m     97\u001b[0m             \u001b[0;32massert\u001b[0m \u001b[0mhasattr\u001b[0m\u001b[0;34m(\u001b[0m\u001b[0mself\u001b[0m\u001b[0;34m.\u001b[0m\u001b[0mhandles\u001b[0m\u001b[0;34m.\u001b[0m\u001b[0mhandle\u001b[0m\u001b[0;34m,\u001b[0m \u001b[0;34m\"readline\"\u001b[0m\u001b[0;34m)\u001b[0m\u001b[0;34m\u001b[0m\u001b[0;34m\u001b[0m\u001b[0m\n",
      "\u001b[0;32m~/miniforge3/lib/python3.9/site-packages/pandas/io/parsers/base_parser.py\u001b[0m in \u001b[0;36m_open_handles\u001b[0;34m(self, src, kwds)\u001b[0m\n\u001b[1;32m    220\u001b[0m         \u001b[0mLet\u001b[0m \u001b[0mthe\u001b[0m \u001b[0mreaders\u001b[0m \u001b[0mopen\u001b[0m \u001b[0mIOHandles\u001b[0m \u001b[0mafter\u001b[0m \u001b[0mthey\u001b[0m \u001b[0mare\u001b[0m \u001b[0mdone\u001b[0m \u001b[0;32mwith\u001b[0m \u001b[0mtheir\u001b[0m \u001b[0mpotential\u001b[0m \u001b[0mraises\u001b[0m\u001b[0;34m.\u001b[0m\u001b[0;34m\u001b[0m\u001b[0;34m\u001b[0m\u001b[0m\n\u001b[1;32m    221\u001b[0m         \"\"\"\n\u001b[0;32m--> 222\u001b[0;31m         self.handles = get_handle(\n\u001b[0m\u001b[1;32m    223\u001b[0m             \u001b[0msrc\u001b[0m\u001b[0;34m,\u001b[0m\u001b[0;34m\u001b[0m\u001b[0;34m\u001b[0m\u001b[0m\n\u001b[1;32m    224\u001b[0m             \u001b[0;34m\"r\"\u001b[0m\u001b[0;34m,\u001b[0m\u001b[0;34m\u001b[0m\u001b[0;34m\u001b[0m\u001b[0m\n",
      "\u001b[0;32m~/miniforge3/lib/python3.9/site-packages/pandas/io/common.py\u001b[0m in \u001b[0;36mget_handle\u001b[0;34m(path_or_buf, mode, encoding, compression, memory_map, is_text, errors, storage_options)\u001b[0m\n\u001b[1;32m    699\u001b[0m         \u001b[0;32mif\u001b[0m \u001b[0mioargs\u001b[0m\u001b[0;34m.\u001b[0m\u001b[0mencoding\u001b[0m \u001b[0;32mand\u001b[0m \u001b[0;34m\"b\"\u001b[0m \u001b[0;32mnot\u001b[0m \u001b[0;32min\u001b[0m \u001b[0mioargs\u001b[0m\u001b[0;34m.\u001b[0m\u001b[0mmode\u001b[0m\u001b[0;34m:\u001b[0m\u001b[0;34m\u001b[0m\u001b[0;34m\u001b[0m\u001b[0m\n\u001b[1;32m    700\u001b[0m             \u001b[0;31m# Encoding\u001b[0m\u001b[0;34m\u001b[0m\u001b[0;34m\u001b[0m\u001b[0;34m\u001b[0m\u001b[0m\n\u001b[0;32m--> 701\u001b[0;31m             handle = open(\n\u001b[0m\u001b[1;32m    702\u001b[0m                 \u001b[0mhandle\u001b[0m\u001b[0;34m,\u001b[0m\u001b[0;34m\u001b[0m\u001b[0;34m\u001b[0m\u001b[0m\n\u001b[1;32m    703\u001b[0m                 \u001b[0mioargs\u001b[0m\u001b[0;34m.\u001b[0m\u001b[0mmode\u001b[0m\u001b[0;34m,\u001b[0m\u001b[0;34m\u001b[0m\u001b[0;34m\u001b[0m\u001b[0m\n",
      "\u001b[0;31mFileNotFoundError\u001b[0m: [Errno 2] No such file or directory: 'cust.22400.csv'"
     ]
    }
   ],
   "source": [
    "custDF = pd.read_csv(\"cust.22400.csv\",  sep=',', encoding = 'utf-8', error_bad_lines=False, engine = 'python', header = None, names=['CUST_ID', 'DIVIDED_SET', 'SIU_CUST_YN', 'SEX', 'AGE', 'RESI_COST', 'RESI_TYPE_CODE', 'FP_CAREER', 'CUST_RGST', 'OCCP_GRP', 'TOTALPREM', 'WEDD_YN', 'MATE_OCCP_GRP', 'CHLD_CNT', 'LTBN_CHLD_AGE', 'MAX_PAYM_YM', 'MAX_PRM'])\n",
    "#쉼표 구분이므로 구분자 ',', encoding방식 utf-8 고정, 라인 에러시 무시, 파이썬 엔진 사용으로 파싱, 헤더 미지정(컬럼명 별도 입력)\n",
    "#csv파일 로딩시 별 문제 없으면 columns명 지정 필요 없이 첫 행을 columns로 바꾸면 됨 ex)df2 = df1.rename(columns=df1.iloc[0])\n",
    "#알 수 없는 이유로 인해 첫 행이 단 하나의 value로 고정되고 나머지 17개의 데이터가 1개의 컬럼에 의해 종속되는 상황이 발생하여 개별 컬럼명 입력으로 컬럼 분할\n"
   ]
  },
  {
   "cell_type": "code",
   "execution_count": 108,
   "metadata": {
    "executionInfo": {
     "elapsed": 1,
     "status": "ok",
     "timestamp": 1628004519852,
     "user": {
      "displayName": "이종혁",
      "photoUrl": "",
      "userId": "15679079817207258777"
     },
     "user_tz": -540
    },
    "id": "55c7vjQ9nQfx"
   },
   "outputs": [],
   "source": [
    "custDF = custDF.drop(custDF.index[0])"
   ]
  },
  {
   "cell_type": "code",
   "execution_count": 109,
   "metadata": {
    "colab": {
     "base_uri": "https://localhost:8080/",
     "height": 490
    },
    "executionInfo": {
     "elapsed": 353,
     "status": "ok",
     "timestamp": 1628004520535,
     "user": {
      "displayName": "이종혁",
      "photoUrl": "",
      "userId": "15679079817207258777"
     },
     "user_tz": -540
    },
    "id": "PyhKbkHGRDcI",
    "outputId": "84a2e50e-064b-433d-d744-bc7b6dea6da4"
   },
   "outputs": [
    {
     "data": {
      "text/html": [
       "<div>\n",
       "<style scoped>\n",
       "    .dataframe tbody tr th:only-of-type {\n",
       "        vertical-align: middle;\n",
       "    }\n",
       "\n",
       "    .dataframe tbody tr th {\n",
       "        vertical-align: top;\n",
       "    }\n",
       "\n",
       "    .dataframe thead th {\n",
       "        text-align: right;\n",
       "    }\n",
       "</style>\n",
       "<table border=\"1\" class=\"dataframe\">\n",
       "  <thead>\n",
       "    <tr style=\"text-align: right;\">\n",
       "      <th></th>\n",
       "      <th>CUST_ID</th>\n",
       "      <th>DIVIDED_SET</th>\n",
       "      <th>SIU_CUST_YN</th>\n",
       "      <th>SEX</th>\n",
       "      <th>AGE</th>\n",
       "      <th>RESI_COST</th>\n",
       "      <th>RESI_TYPE_CODE</th>\n",
       "      <th>FP_CAREER</th>\n",
       "      <th>CUST_RGST</th>\n",
       "      <th>OCCP_GRP</th>\n",
       "      <th>TOTALPREM</th>\n",
       "      <th>WEDD_YN</th>\n",
       "      <th>MATE_OCCP_GRP</th>\n",
       "      <th>CHLD_CNT</th>\n",
       "      <th>LTBN_CHLD_AGE</th>\n",
       "      <th>MAX_PAYM_YM</th>\n",
       "      <th>MAX_PRM</th>\n",
       "    </tr>\n",
       "  </thead>\n",
       "  <tbody>\n",
       "    <tr>\n",
       "      <th>1</th>\n",
       "      <td>1</td>\n",
       "      <td>1.0</td>\n",
       "      <td>N</td>\n",
       "      <td>2.0</td>\n",
       "      <td>47.0</td>\n",
       "      <td>21111.0</td>\n",
       "      <td>20.0</td>\n",
       "      <td>N</td>\n",
       "      <td>199910.0</td>\n",
       "      <td>사무직</td>\n",
       "      <td>146980441.0</td>\n",
       "      <td>Y</td>\n",
       "      <td>2차산업 종사자</td>\n",
       "      <td>2.0</td>\n",
       "      <td>13.0</td>\n",
       "      <td>200811.0</td>\n",
       "      <td>319718.0</td>\n",
       "    </tr>\n",
       "    <tr>\n",
       "      <th>2</th>\n",
       "      <td>2</td>\n",
       "      <td>1.0</td>\n",
       "      <td>N</td>\n",
       "      <td>1.0</td>\n",
       "      <td>53.0</td>\n",
       "      <td>40000.0</td>\n",
       "      <td>20.0</td>\n",
       "      <td>N</td>\n",
       "      <td>199910.0</td>\n",
       "      <td>사무직</td>\n",
       "      <td>94600109.0</td>\n",
       "      <td>Y</td>\n",
       "      <td>주부</td>\n",
       "      <td>2.0</td>\n",
       "      <td>17.0</td>\n",
       "      <td>200012.0</td>\n",
       "      <td>341341.0</td>\n",
       "    </tr>\n",
       "    <tr>\n",
       "      <th>3</th>\n",
       "      <td>3</td>\n",
       "      <td>1.0</td>\n",
       "      <td>N</td>\n",
       "      <td>1.0</td>\n",
       "      <td>60.0</td>\n",
       "      <td>0.0</td>\n",
       "      <td>NaN</td>\n",
       "      <td>N</td>\n",
       "      <td>199910.0</td>\n",
       "      <td>2차산업 종사자</td>\n",
       "      <td>18501269.0</td>\n",
       "      <td>N</td>\n",
       "      <td>NaN</td>\n",
       "      <td>0.0</td>\n",
       "      <td>0.0</td>\n",
       "      <td>200305.0</td>\n",
       "      <td>131300.0</td>\n",
       "    </tr>\n",
       "    <tr>\n",
       "      <th>4</th>\n",
       "      <td>4</td>\n",
       "      <td>1.0</td>\n",
       "      <td>N</td>\n",
       "      <td>2.0</td>\n",
       "      <td>64.0</td>\n",
       "      <td>12861.0</td>\n",
       "      <td>40.0</td>\n",
       "      <td>Y</td>\n",
       "      <td>199910.0</td>\n",
       "      <td>3차산업 종사자</td>\n",
       "      <td>317223657.0</td>\n",
       "      <td>N</td>\n",
       "      <td>NaN</td>\n",
       "      <td>0.0</td>\n",
       "      <td>0.0</td>\n",
       "      <td>201009.0</td>\n",
       "      <td>1493184.0</td>\n",
       "    </tr>\n",
       "    <tr>\n",
       "      <th>5</th>\n",
       "      <td>5</td>\n",
       "      <td>1.0</td>\n",
       "      <td>N</td>\n",
       "      <td>2.0</td>\n",
       "      <td>54.0</td>\n",
       "      <td>0.0</td>\n",
       "      <td>NaN</td>\n",
       "      <td>Y</td>\n",
       "      <td>199910.0</td>\n",
       "      <td>3차산업 종사자</td>\n",
       "      <td>10506072.0</td>\n",
       "      <td>Y</td>\n",
       "      <td>고위 공무원</td>\n",
       "      <td>3.0</td>\n",
       "      <td>19.0</td>\n",
       "      <td>200807.0</td>\n",
       "      <td>166760.0</td>\n",
       "    </tr>\n",
       "    <tr>\n",
       "      <th>...</th>\n",
       "      <td>...</td>\n",
       "      <td>...</td>\n",
       "      <td>...</td>\n",
       "      <td>...</td>\n",
       "      <td>...</td>\n",
       "      <td>...</td>\n",
       "      <td>...</td>\n",
       "      <td>...</td>\n",
       "      <td>...</td>\n",
       "      <td>...</td>\n",
       "      <td>...</td>\n",
       "      <td>...</td>\n",
       "      <td>...</td>\n",
       "      <td>...</td>\n",
       "      <td>...</td>\n",
       "      <td>...</td>\n",
       "      <td>...</td>\n",
       "    </tr>\n",
       "    <tr>\n",
       "      <th>22396</th>\n",
       "      <td>20048</td>\n",
       "      <td>2.0</td>\n",
       "      <td>NaN</td>\n",
       "      <td>1.0</td>\n",
       "      <td>34.0</td>\n",
       "      <td>5652.0</td>\n",
       "      <td>11.0</td>\n",
       "      <td>N</td>\n",
       "      <td>201103.0</td>\n",
       "      <td>자영업</td>\n",
       "      <td>NaN</td>\n",
       "      <td>N</td>\n",
       "      <td>NaN</td>\n",
       "      <td>0.0</td>\n",
       "      <td>0.0</td>\n",
       "      <td>NaN</td>\n",
       "      <td>NaN</td>\n",
       "    </tr>\n",
       "    <tr>\n",
       "      <th>22397</th>\n",
       "      <td>21483</td>\n",
       "      <td>1.0</td>\n",
       "      <td>N</td>\n",
       "      <td>2.0</td>\n",
       "      <td>30.0</td>\n",
       "      <td>31944.0</td>\n",
       "      <td>20.0</td>\n",
       "      <td>N</td>\n",
       "      <td>200306.0</td>\n",
       "      <td>주부</td>\n",
       "      <td>NaN</td>\n",
       "      <td>N</td>\n",
       "      <td>NaN</td>\n",
       "      <td>0.0</td>\n",
       "      <td>0.0</td>\n",
       "      <td>NaN</td>\n",
       "      <td>NaN</td>\n",
       "    </tr>\n",
       "    <tr>\n",
       "      <th>22398</th>\n",
       "      <td>21940</td>\n",
       "      <td>1.0</td>\n",
       "      <td>N</td>\n",
       "      <td>2.0</td>\n",
       "      <td>23.0</td>\n",
       "      <td>45972.0</td>\n",
       "      <td>20.0</td>\n",
       "      <td>N</td>\n",
       "      <td>200501.0</td>\n",
       "      <td>학생</td>\n",
       "      <td>NaN</td>\n",
       "      <td>N</td>\n",
       "      <td>NaN</td>\n",
       "      <td>0.0</td>\n",
       "      <td>0.0</td>\n",
       "      <td>NaN</td>\n",
       "      <td>NaN</td>\n",
       "    </tr>\n",
       "    <tr>\n",
       "      <th>22399</th>\n",
       "      <td>20356</td>\n",
       "      <td>1.0</td>\n",
       "      <td>N</td>\n",
       "      <td>1.0</td>\n",
       "      <td>15.0</td>\n",
       "      <td>27777.0</td>\n",
       "      <td>20.0</td>\n",
       "      <td>N</td>\n",
       "      <td>200306.0</td>\n",
       "      <td>학생</td>\n",
       "      <td>NaN</td>\n",
       "      <td>N</td>\n",
       "      <td>NaN</td>\n",
       "      <td>0.0</td>\n",
       "      <td>0.0</td>\n",
       "      <td>NaN</td>\n",
       "      <td>NaN</td>\n",
       "    </tr>\n",
       "    <tr>\n",
       "      <th>22400</th>\n",
       "      <td>17118</td>\n",
       "      <td>1.0</td>\n",
       "      <td>N</td>\n",
       "      <td>2.0</td>\n",
       "      <td>18.0</td>\n",
       "      <td>21527.0</td>\n",
       "      <td>20.0</td>\n",
       "      <td>N</td>\n",
       "      <td>200306.0</td>\n",
       "      <td>학생</td>\n",
       "      <td>NaN</td>\n",
       "      <td>N</td>\n",
       "      <td>NaN</td>\n",
       "      <td>0.0</td>\n",
       "      <td>0.0</td>\n",
       "      <td>NaN</td>\n",
       "      <td>NaN</td>\n",
       "    </tr>\n",
       "  </tbody>\n",
       "</table>\n",
       "<p>22400 rows × 17 columns</p>\n",
       "</div>"
      ],
      "text/plain": [
       "      CUST_ID  DIVIDED_SET SIU_CUST_YN  ...  LTBN_CHLD_AGE  MAX_PAYM_YM    MAX_PRM\n",
       "1           1          1.0           N  ...           13.0     200811.0   319718.0\n",
       "2           2          1.0           N  ...           17.0     200012.0   341341.0\n",
       "3           3          1.0           N  ...            0.0     200305.0   131300.0\n",
       "4           4          1.0           N  ...            0.0     201009.0  1493184.0\n",
       "5           5          1.0           N  ...           19.0     200807.0   166760.0\n",
       "...       ...          ...         ...  ...            ...          ...        ...\n",
       "22396   20048          2.0         NaN  ...            0.0          NaN        NaN\n",
       "22397   21483          1.0           N  ...            0.0          NaN        NaN\n",
       "22398   21940          1.0           N  ...            0.0          NaN        NaN\n",
       "22399   20356          1.0           N  ...            0.0          NaN        NaN\n",
       "22400   17118          1.0           N  ...            0.0          NaN        NaN\n",
       "\n",
       "[22400 rows x 17 columns]"
      ]
     },
     "execution_count": 109,
     "metadata": {
      "tags": []
     },
     "output_type": "execute_result"
    }
   ],
   "source": [
    "custDF"
   ]
  },
  {
   "cell_type": "code",
   "execution_count": 110,
   "metadata": {
    "colab": {
     "base_uri": "https://localhost:8080/"
    },
    "executionInfo": {
     "elapsed": 307,
     "status": "ok",
     "timestamp": 1628004521890,
     "user": {
      "displayName": "이종혁",
      "photoUrl": "",
      "userId": "15679079817207258777"
     },
     "user_tz": -540
    },
    "id": "UjWHzZUfp7r8",
    "outputId": "e1b58029-9592-4577-86a8-352774cbd878"
   },
   "outputs": [
    {
     "name": "stdout",
     "output_type": "stream",
     "text": [
      "<class 'pandas.core.frame.DataFrame'>\n",
      "Int64Index: 22400 entries, 1 to 22400\n",
      "Data columns (total 17 columns):\n",
      " #   Column          Non-Null Count  Dtype  \n",
      "---  ------          --------------  -----  \n",
      " 0   CUST_ID         22400 non-null  object \n",
      " 1   DIVIDED_SET     22400 non-null  float64\n",
      " 2   SIU_CUST_YN     20607 non-null  object \n",
      " 3   SEX             22400 non-null  float64\n",
      " 4   AGE             22400 non-null  float64\n",
      " 5   RESI_COST       22400 non-null  float64\n",
      " 6   RESI_TYPE_CODE  21146 non-null  float64\n",
      " 7   FP_CAREER       22400 non-null  object \n",
      " 8   CUST_RGST       21944 non-null  float64\n",
      " 9   OCCP_GRP        21805 non-null  object \n",
      " 10  TOTALPREM       16609 non-null  float64\n",
      " 11  WEDD_YN         21927 non-null  object \n",
      " 12  MATE_OCCP_GRP   10573 non-null  object \n",
      " 13  CHLD_CNT        21927 non-null  float64\n",
      " 14  LTBN_CHLD_AGE   21927 non-null  float64\n",
      " 15  MAX_PAYM_YM     15914 non-null  float64\n",
      " 16  MAX_PRM         15914 non-null  float64\n",
      "dtypes: float64(11), object(6)\n",
      "memory usage: 3.1+ MB\n"
     ]
    }
   ],
   "source": [
    "custDF.info()"
   ]
  },
  {
   "cell_type": "code",
   "execution_count": 111,
   "metadata": {
    "colab": {
     "base_uri": "https://localhost:8080/"
    },
    "executionInfo": {
     "elapsed": 1,
     "status": "ok",
     "timestamp": 1628004522600,
     "user": {
      "displayName": "이종혁",
      "photoUrl": "",
      "userId": "15679079817207258777"
     },
     "user_tz": -540
    },
    "id": "sB-VhJsWuIx0",
    "outputId": "4d5b168c-b318-4394-b2b6-c39b1b0fcc4d"
   },
   "outputs": [
    {
     "data": {
      "text/plain": [
       "CUST_ID               0\n",
       "DIVIDED_SET           0\n",
       "SIU_CUST_YN        1793\n",
       "SEX                   0\n",
       "AGE                   0\n",
       "RESI_COST             0\n",
       "RESI_TYPE_CODE     1254\n",
       "FP_CAREER             0\n",
       "CUST_RGST           456\n",
       "OCCP_GRP            595\n",
       "TOTALPREM          5791\n",
       "WEDD_YN             473\n",
       "MATE_OCCP_GRP     11827\n",
       "CHLD_CNT            473\n",
       "LTBN_CHLD_AGE       473\n",
       "MAX_PAYM_YM        6486\n",
       "MAX_PRM            6486\n",
       "dtype: int64"
      ]
     },
     "execution_count": 111,
     "metadata": {
      "tags": []
     },
     "output_type": "execute_result"
    }
   ],
   "source": [
    "#결측치 개수 확인\n",
    "custDF.isnull().sum()"
   ]
  },
  {
   "cell_type": "code",
   "execution_count": 112,
   "metadata": {
    "colab": {
     "base_uri": "https://localhost:8080/"
    },
    "executionInfo": {
     "elapsed": 2,
     "status": "ok",
     "timestamp": 1628004523385,
     "user": {
      "displayName": "이종혁",
      "photoUrl": "",
      "userId": "15679079817207258777"
     },
     "user_tz": -540
    },
    "id": "FK-hPhA9QqF5",
    "outputId": "8e3386c4-3b4e-44d6-e069-2dff30003511"
   },
   "outputs": [
    {
     "data": {
      "text/plain": [
       "1        4\n",
       "2        5\n",
       "3        6\n",
       "4        6\n",
       "5        5\n",
       "        ..\n",
       "22396    3\n",
       "22397    3\n",
       "22398    2\n",
       "22399    1\n",
       "22400    1\n",
       "Name: AGE, Length: 22400, dtype: int64"
      ]
     },
     "execution_count": 112,
     "metadata": {
      "tags": []
     },
     "output_type": "execute_result"
    }
   ],
   "source": [
    "#AGE columns 내부 values를 몇십대인가의 기준으로 정수형 값 변환 함수. ex) 15 -> 10, 26 -> 20\n",
    "custDF['AGE'] = (custDF['AGE']/10).astype(int)\n",
    "#float값에서 10으로 나눈 후 정수형으로 바꿔주어 소숫점 제거\n",
    "custDF['AGE']"
   ]
  },
  {
   "cell_type": "code",
   "execution_count": 113,
   "metadata": {
    "colab": {
     "base_uri": "https://localhost:8080/",
     "height": 490
    },
    "executionInfo": {
     "elapsed": 3,
     "status": "ok",
     "timestamp": 1628004524480,
     "user": {
      "displayName": "이종혁",
      "photoUrl": "",
      "userId": "15679079817207258777"
     },
     "user_tz": -540
    },
    "id": "mtafzqONw4ub",
    "outputId": "2af1d186-0645-4d46-d6d2-4550fdd9074b"
   },
   "outputs": [
    {
     "data": {
      "text/html": [
       "<div>\n",
       "<style scoped>\n",
       "    .dataframe tbody tr th:only-of-type {\n",
       "        vertical-align: middle;\n",
       "    }\n",
       "\n",
       "    .dataframe tbody tr th {\n",
       "        vertical-align: top;\n",
       "    }\n",
       "\n",
       "    .dataframe thead th {\n",
       "        text-align: right;\n",
       "    }\n",
       "</style>\n",
       "<table border=\"1\" class=\"dataframe\">\n",
       "  <thead>\n",
       "    <tr style=\"text-align: right;\">\n",
       "      <th></th>\n",
       "      <th>CUST_ID</th>\n",
       "      <th>DIVIDED_SET</th>\n",
       "      <th>SIU_CUST_YN</th>\n",
       "      <th>SEX</th>\n",
       "      <th>AGE</th>\n",
       "      <th>RESI_COST</th>\n",
       "      <th>RESI_TYPE_CODE</th>\n",
       "      <th>FP_CAREER</th>\n",
       "      <th>CUST_RGST</th>\n",
       "      <th>OCCP_GRP</th>\n",
       "      <th>TOTALPREM</th>\n",
       "      <th>WEDD_YN</th>\n",
       "      <th>MATE_OCCP_GRP</th>\n",
       "      <th>CHLD_CNT</th>\n",
       "      <th>LTBN_CHLD_AGE</th>\n",
       "      <th>MAX_PAYM_YM</th>\n",
       "      <th>MAX_PRM</th>\n",
       "    </tr>\n",
       "  </thead>\n",
       "  <tbody>\n",
       "    <tr>\n",
       "      <th>1</th>\n",
       "      <td>1</td>\n",
       "      <td>1.0</td>\n",
       "      <td>N</td>\n",
       "      <td>2.0</td>\n",
       "      <td>4</td>\n",
       "      <td>21111.0</td>\n",
       "      <td>20.0</td>\n",
       "      <td>N</td>\n",
       "      <td>199910.0</td>\n",
       "      <td>사무직</td>\n",
       "      <td>146980441.0</td>\n",
       "      <td>Y</td>\n",
       "      <td>2차산업 종사자</td>\n",
       "      <td>2.0</td>\n",
       "      <td>13.0</td>\n",
       "      <td>200811.0</td>\n",
       "      <td>319718.0</td>\n",
       "    </tr>\n",
       "    <tr>\n",
       "      <th>2</th>\n",
       "      <td>2</td>\n",
       "      <td>1.0</td>\n",
       "      <td>N</td>\n",
       "      <td>1.0</td>\n",
       "      <td>5</td>\n",
       "      <td>40000.0</td>\n",
       "      <td>20.0</td>\n",
       "      <td>N</td>\n",
       "      <td>199910.0</td>\n",
       "      <td>사무직</td>\n",
       "      <td>94600109.0</td>\n",
       "      <td>Y</td>\n",
       "      <td>주부</td>\n",
       "      <td>2.0</td>\n",
       "      <td>17.0</td>\n",
       "      <td>200012.0</td>\n",
       "      <td>341341.0</td>\n",
       "    </tr>\n",
       "    <tr>\n",
       "      <th>3</th>\n",
       "      <td>3</td>\n",
       "      <td>1.0</td>\n",
       "      <td>N</td>\n",
       "      <td>1.0</td>\n",
       "      <td>6</td>\n",
       "      <td>0.0</td>\n",
       "      <td>NaN</td>\n",
       "      <td>N</td>\n",
       "      <td>199910.0</td>\n",
       "      <td>2차산업 종사자</td>\n",
       "      <td>18501269.0</td>\n",
       "      <td>N</td>\n",
       "      <td>NaN</td>\n",
       "      <td>0.0</td>\n",
       "      <td>0.0</td>\n",
       "      <td>200305.0</td>\n",
       "      <td>131300.0</td>\n",
       "    </tr>\n",
       "    <tr>\n",
       "      <th>4</th>\n",
       "      <td>4</td>\n",
       "      <td>1.0</td>\n",
       "      <td>N</td>\n",
       "      <td>2.0</td>\n",
       "      <td>6</td>\n",
       "      <td>12861.0</td>\n",
       "      <td>40.0</td>\n",
       "      <td>Y</td>\n",
       "      <td>199910.0</td>\n",
       "      <td>3차산업 종사자</td>\n",
       "      <td>317223657.0</td>\n",
       "      <td>N</td>\n",
       "      <td>NaN</td>\n",
       "      <td>0.0</td>\n",
       "      <td>0.0</td>\n",
       "      <td>201009.0</td>\n",
       "      <td>1493184.0</td>\n",
       "    </tr>\n",
       "    <tr>\n",
       "      <th>5</th>\n",
       "      <td>5</td>\n",
       "      <td>1.0</td>\n",
       "      <td>N</td>\n",
       "      <td>2.0</td>\n",
       "      <td>5</td>\n",
       "      <td>0.0</td>\n",
       "      <td>NaN</td>\n",
       "      <td>Y</td>\n",
       "      <td>199910.0</td>\n",
       "      <td>3차산업 종사자</td>\n",
       "      <td>10506072.0</td>\n",
       "      <td>Y</td>\n",
       "      <td>고위 공무원</td>\n",
       "      <td>3.0</td>\n",
       "      <td>19.0</td>\n",
       "      <td>200807.0</td>\n",
       "      <td>166760.0</td>\n",
       "    </tr>\n",
       "    <tr>\n",
       "      <th>...</th>\n",
       "      <td>...</td>\n",
       "      <td>...</td>\n",
       "      <td>...</td>\n",
       "      <td>...</td>\n",
       "      <td>...</td>\n",
       "      <td>...</td>\n",
       "      <td>...</td>\n",
       "      <td>...</td>\n",
       "      <td>...</td>\n",
       "      <td>...</td>\n",
       "      <td>...</td>\n",
       "      <td>...</td>\n",
       "      <td>...</td>\n",
       "      <td>...</td>\n",
       "      <td>...</td>\n",
       "      <td>...</td>\n",
       "      <td>...</td>\n",
       "    </tr>\n",
       "    <tr>\n",
       "      <th>22396</th>\n",
       "      <td>20048</td>\n",
       "      <td>2.0</td>\n",
       "      <td>NaN</td>\n",
       "      <td>1.0</td>\n",
       "      <td>3</td>\n",
       "      <td>5652.0</td>\n",
       "      <td>11.0</td>\n",
       "      <td>N</td>\n",
       "      <td>201103.0</td>\n",
       "      <td>자영업</td>\n",
       "      <td>NaN</td>\n",
       "      <td>N</td>\n",
       "      <td>NaN</td>\n",
       "      <td>0.0</td>\n",
       "      <td>0.0</td>\n",
       "      <td>NaN</td>\n",
       "      <td>NaN</td>\n",
       "    </tr>\n",
       "    <tr>\n",
       "      <th>22397</th>\n",
       "      <td>21483</td>\n",
       "      <td>1.0</td>\n",
       "      <td>N</td>\n",
       "      <td>2.0</td>\n",
       "      <td>3</td>\n",
       "      <td>31944.0</td>\n",
       "      <td>20.0</td>\n",
       "      <td>N</td>\n",
       "      <td>200306.0</td>\n",
       "      <td>주부</td>\n",
       "      <td>NaN</td>\n",
       "      <td>N</td>\n",
       "      <td>NaN</td>\n",
       "      <td>0.0</td>\n",
       "      <td>0.0</td>\n",
       "      <td>NaN</td>\n",
       "      <td>NaN</td>\n",
       "    </tr>\n",
       "    <tr>\n",
       "      <th>22398</th>\n",
       "      <td>21940</td>\n",
       "      <td>1.0</td>\n",
       "      <td>N</td>\n",
       "      <td>2.0</td>\n",
       "      <td>2</td>\n",
       "      <td>45972.0</td>\n",
       "      <td>20.0</td>\n",
       "      <td>N</td>\n",
       "      <td>200501.0</td>\n",
       "      <td>학생</td>\n",
       "      <td>NaN</td>\n",
       "      <td>N</td>\n",
       "      <td>NaN</td>\n",
       "      <td>0.0</td>\n",
       "      <td>0.0</td>\n",
       "      <td>NaN</td>\n",
       "      <td>NaN</td>\n",
       "    </tr>\n",
       "    <tr>\n",
       "      <th>22399</th>\n",
       "      <td>20356</td>\n",
       "      <td>1.0</td>\n",
       "      <td>N</td>\n",
       "      <td>1.0</td>\n",
       "      <td>1</td>\n",
       "      <td>27777.0</td>\n",
       "      <td>20.0</td>\n",
       "      <td>N</td>\n",
       "      <td>200306.0</td>\n",
       "      <td>학생</td>\n",
       "      <td>NaN</td>\n",
       "      <td>N</td>\n",
       "      <td>NaN</td>\n",
       "      <td>0.0</td>\n",
       "      <td>0.0</td>\n",
       "      <td>NaN</td>\n",
       "      <td>NaN</td>\n",
       "    </tr>\n",
       "    <tr>\n",
       "      <th>22400</th>\n",
       "      <td>17118</td>\n",
       "      <td>1.0</td>\n",
       "      <td>N</td>\n",
       "      <td>2.0</td>\n",
       "      <td>1</td>\n",
       "      <td>21527.0</td>\n",
       "      <td>20.0</td>\n",
       "      <td>N</td>\n",
       "      <td>200306.0</td>\n",
       "      <td>학생</td>\n",
       "      <td>NaN</td>\n",
       "      <td>N</td>\n",
       "      <td>NaN</td>\n",
       "      <td>0.0</td>\n",
       "      <td>0.0</td>\n",
       "      <td>NaN</td>\n",
       "      <td>NaN</td>\n",
       "    </tr>\n",
       "  </tbody>\n",
       "</table>\n",
       "<p>22400 rows × 17 columns</p>\n",
       "</div>"
      ],
      "text/plain": [
       "      CUST_ID  DIVIDED_SET SIU_CUST_YN  ...  LTBN_CHLD_AGE  MAX_PAYM_YM    MAX_PRM\n",
       "1           1          1.0           N  ...           13.0     200811.0   319718.0\n",
       "2           2          1.0           N  ...           17.0     200012.0   341341.0\n",
       "3           3          1.0           N  ...            0.0     200305.0   131300.0\n",
       "4           4          1.0           N  ...            0.0     201009.0  1493184.0\n",
       "5           5          1.0           N  ...           19.0     200807.0   166760.0\n",
       "...       ...          ...         ...  ...            ...          ...        ...\n",
       "22396   20048          2.0         NaN  ...            0.0          NaN        NaN\n",
       "22397   21483          1.0           N  ...            0.0          NaN        NaN\n",
       "22398   21940          1.0           N  ...            0.0          NaN        NaN\n",
       "22399   20356          1.0           N  ...            0.0          NaN        NaN\n",
       "22400   17118          1.0           N  ...            0.0          NaN        NaN\n",
       "\n",
       "[22400 rows x 17 columns]"
      ]
     },
     "execution_count": 113,
     "metadata": {
      "tags": []
     },
     "output_type": "execute_result"
    }
   ],
   "source": [
    "custDF"
   ]
  },
  {
   "cell_type": "code",
   "execution_count": 114,
   "metadata": {
    "executionInfo": {
     "elapsed": 2,
     "status": "ok",
     "timestamp": 1628004525673,
     "user": {
      "displayName": "이종혁",
      "photoUrl": "",
      "userId": "15679079817207258777"
     },
     "user_tz": -540
    },
    "id": "kabhhsftxeRC"
   },
   "outputs": [],
   "source": [
    "#중앙값으로 RESI_COST 컬럼 결측치 대체 가능(결측치 없으므로 실행 안함)\n",
    "#custDF['RESI_COST'].fillna(custDF['RESI_COST'].median)\n",
    "\n"
   ]
  },
  {
   "cell_type": "code",
   "execution_count": 115,
   "metadata": {
    "executionInfo": {
     "elapsed": 1,
     "status": "ok",
     "timestamp": 1628004526672,
     "user": {
      "displayName": "이종혁",
      "photoUrl": "",
      "userId": "15679079817207258777"
     },
     "user_tz": -540
    },
    "id": "8y5c0cRwyPhv"
   },
   "outputs": [],
   "source": [
    "#456개의 CUST_RGST 컬럼에 대해 ROW 제거로 결측치 제거\n",
    "custDF.dropna(subset = ['CUST_RGST'], inplace= True)\n",
    "#dropna는 동일 주소를 이용하는 것이 아니므로 초기화 필요\n",
    "#inplace 없으면 특정 데이터프레임 지정하지 않을 시 의미 없어짐\n"
   ]
  },
  {
   "cell_type": "code",
   "execution_count": 116,
   "metadata": {
    "colab": {
     "base_uri": "https://localhost:8080/"
    },
    "executionInfo": {
     "elapsed": 385,
     "status": "ok",
     "timestamp": 1628004527886,
     "user": {
      "displayName": "이종혁",
      "photoUrl": "",
      "userId": "15679079817207258777"
     },
     "user_tz": -540
    },
    "id": "MM6Psjvr1eHD",
    "outputId": "5ddac3f3-6f3d-4385-95a3-0293e73a2e97"
   },
   "outputs": [
    {
     "data": {
      "text/plain": [
       "CUST_ID               0\n",
       "DIVIDED_SET           0\n",
       "SIU_CUST_YN        1756\n",
       "SEX                   0\n",
       "AGE                   0\n",
       "RESI_COST             0\n",
       "RESI_TYPE_CODE     1218\n",
       "FP_CAREER             0\n",
       "CUST_RGST             0\n",
       "OCCP_GRP            139\n",
       "TOTALPREM          5661\n",
       "WEDD_YN              17\n",
       "MATE_OCCP_GRP     11371\n",
       "CHLD_CNT             17\n",
       "LTBN_CHLD_AGE        17\n",
       "MAX_PAYM_YM        6341\n",
       "MAX_PRM            6341\n",
       "dtype: int64"
      ]
     },
     "execution_count": 116,
     "metadata": {
      "tags": []
     },
     "output_type": "execute_result"
    }
   ],
   "source": [
    "#결측치 개수 확인\n",
    "#CUST_RGST 결측치 제거 확인\n",
    "custDF.isnull().sum()"
   ]
  },
  {
   "cell_type": "code",
   "execution_count": 117,
   "metadata": {
    "executionInfo": {
     "elapsed": 2,
     "status": "ok",
     "timestamp": 1628004528440,
     "user": {
      "displayName": "이종혁",
      "photoUrl": "",
      "userId": "15679079817207258777"
     },
     "user_tz": -540
    },
    "id": "Hgel3cLS1XJJ"
   },
   "outputs": [],
   "source": [
    "#Year는 기존 6자리 수에서 100을 나눠 4자리 수 float으로 만든 다음 정수형 형변환으로 소수점 삭제\n",
    "Year = (custDF['CUST_RGST']/100).astype(int)\n",
    "#Month는 적절한 산술 적용으로 달만 분리\n",
    "Month = (custDF['CUST_RGST']-Year*100).astype(int)\n",
    "#String 사용해서 index기준 parsing도 가능할 것"
   ]
  },
  {
   "cell_type": "code",
   "execution_count": 118,
   "metadata": {
    "colab": {
     "base_uri": "https://localhost:8080/"
    },
    "executionInfo": {
     "elapsed": 2,
     "status": "ok",
     "timestamp": 1628004529384,
     "user": {
      "displayName": "이종혁",
      "photoUrl": "",
      "userId": "15679079817207258777"
     },
     "user_tz": -540
    },
    "id": "eUrNwsVZz5iW",
    "outputId": "58683e2f-ab9c-4de9-f9d7-1062a7c0ec58"
   },
   "outputs": [
    {
     "data": {
      "text/plain": [
       "1        1999\n",
       "2        1999\n",
       "3        1999\n",
       "4        1999\n",
       "5        1999\n",
       "         ... \n",
       "22396    2011\n",
       "22397    2003\n",
       "22398    2005\n",
       "22399    2003\n",
       "22400    2003\n",
       "Name: CUST_RGST, Length: 21944, dtype: int64"
      ]
     },
     "execution_count": 118,
     "metadata": {
      "tags": []
     },
     "output_type": "execute_result"
    }
   ],
   "source": [
    "Year"
   ]
  },
  {
   "cell_type": "code",
   "execution_count": 119,
   "metadata": {
    "colab": {
     "base_uri": "https://localhost:8080/"
    },
    "executionInfo": {
     "elapsed": 2,
     "status": "ok",
     "timestamp": 1628004530442,
     "user": {
      "displayName": "이종혁",
      "photoUrl": "",
      "userId": "15679079817207258777"
     },
     "user_tz": -540
    },
    "id": "MXukCe7zz6-l",
    "outputId": "e59f0239-a33c-424e-8ccb-c146b292d704"
   },
   "outputs": [
    {
     "data": {
      "text/plain": [
       "1        10\n",
       "2        10\n",
       "3        10\n",
       "4        10\n",
       "5        10\n",
       "         ..\n",
       "22396     3\n",
       "22397     6\n",
       "22398     1\n",
       "22399     6\n",
       "22400     6\n",
       "Name: CUST_RGST, Length: 21944, dtype: int64"
      ]
     },
     "execution_count": 119,
     "metadata": {
      "tags": []
     },
     "output_type": "execute_result"
    }
   ],
   "source": [
    "Month"
   ]
  },
  {
   "cell_type": "code",
   "execution_count": 120,
   "metadata": {
    "executionInfo": {
     "elapsed": 2,
     "status": "ok",
     "timestamp": 1628004531711,
     "user": {
      "displayName": "이종혁",
      "photoUrl": "",
      "userId": "15679079817207258777"
     },
     "user_tz": -540
    },
    "id": "7wRsVLHim8cW"
   },
   "outputs": [],
   "source": [
    "#새 컬럼 추가, 추출한 연, 월 데이터 입력\n",
    "custDF['RGST_YEAR'] = Year\n",
    "custDF['RGST_MONTH'] = Month"
   ]
  },
  {
   "cell_type": "code",
   "execution_count": 132,
   "metadata": {
    "executionInfo": {
     "elapsed": 304,
     "status": "ok",
     "timestamp": 1628004834216,
     "user": {
      "displayName": "이종혁",
      "photoUrl": "",
      "userId": "15679079817207258777"
     },
     "user_tz": -540
    },
    "id": "I_Z8oAHOpPHN"
   },
   "outputs": [],
   "source": [
    "#456개의 CUST_RGST를 연과 월로 분할 저장 완료 했으므로 CUST_RGST 삭제\n",
    "custDF.drop(['CUST_RGST'], axis=1, inplace = True)"
   ]
  },
  {
   "cell_type": "code",
   "execution_count": 122,
   "metadata": {
    "executionInfo": {
     "elapsed": 264,
     "status": "ok",
     "timestamp": 1628004535271,
     "user": {
      "displayName": "이종혁",
      "photoUrl": "",
      "userId": "15679079817207258777"
     },
     "user_tz": -540
    },
    "id": "Q587-hlIUy2N"
   },
   "outputs": [],
   "source": [
    "#-------------- 직업별 정수형 라벨링 ---------------------------\n",
    "# 결측치 포함 행 삭제\n",
    "#사무직 1\n",
    "#자영업 2\n",
    "#주부 3\n",
    "#교사 4\n",
    "#예체능계 종사자 5\n",
    "#운전직 6\n",
    "#1차산업 종사자 7\n",
    "#2차산업 종사자 8\n",
    "#3차산업 종사자 9\n",
    "#공무원 10\n",
    "#고위 공무원 11\n",
    "#단순 노무직 12\n",
    "#기업/단체 임원 13\n",
    "#고소득의료직 14\n",
    "#전문직 15\n",
    "#종교인/역술인 16\n",
    "#대학교수/강사 17\n",
    "#단순 사무직 18\n",
    "#교육관련직 19\n",
    "#학자/연구직 20\n",
    "#학생 21\n",
    "#법무직 종사자 22\n",
    "#고소득 전문직 23\n",
    "#의료직 종사자 24\n",
    "#기타 25\n",
    "\n",
    "#직업 추출에 사용된 출력문\n",
    "#개선된 변수 확인 알고리즘 아이디어 있으신 분은 알려주시길(혹은 액셀 함수라도)\n",
    "#for i in custDF['OCCP_GRP']: \n",
    "  #if i != '의료직 종사자' and i != '고소득 전문직' and i != '사무직' and i != None and i!='자영업' and i!='주부' and i!='교사' and i!='예체능계 종사자' and i!='운전직' and i!='1차산업 종사자' and i!='2차산업 종사자' and i!='3차산업 종사자' and i!='공무원' and i!='고위 공무원' and i!='단순 노무직' and i!='기업/단체 임원' and i!='고소득의료직' and i!='전문직' and i!='종교인/역술인' and i!='대학교수/강사' and i!='단순 사무직' and i!='교육관련직' and i!='학자/연구직' and i!='학생' and i!='법무직 종사자' and i!='기타' :\n",
    "    #print(i)"
   ]
  },
  {
   "cell_type": "code",
   "execution_count": 123,
   "metadata": {
    "executionInfo": {
     "elapsed": 280,
     "status": "ok",
     "timestamp": 1628004538695,
     "user": {
      "displayName": "이종혁",
      "photoUrl": "",
      "userId": "15679079817207258777"
     },
     "user_tz": -540
    },
    "id": "HyVPFoVPg_71"
   },
   "outputs": [],
   "source": [
    "#위 주석과 대응하는 정수형 라벨링(이 단계에서는 type casting 아직 안함)\n",
    "custDF['OCCP_GRP'].replace('사무직', 1, inplace = True)\n",
    "custDF['MATE_OCCP_GRP'].replace('사무직', 1, inplace = True)\n",
    "\n",
    "custDF['OCCP_GRP'].replace('자영업', 2, inplace = True)\n",
    "custDF['MATE_OCCP_GRP'].replace('자영업', 2, inplace = True)\n",
    "\n",
    "custDF['OCCP_GRP'].replace('주부', 3, inplace = True)\n",
    "custDF['MATE_OCCP_GRP'].replace('주부', 3, inplace = True)\n",
    "\n",
    "custDF['OCCP_GRP'].replace('교사', 4, inplace = True)\n",
    "custDF['MATE_OCCP_GRP'].replace('교사', 4, inplace = True)\n",
    "\n",
    "custDF['OCCP_GRP'].replace('예체능계 종사자', 5, inplace = True)\n",
    "custDF['MATE_OCCP_GRP'].replace('예체능계 종사자', 5, inplace = True)\n",
    "\n",
    "custDF['OCCP_GRP'].replace('운전직', 6, inplace = True)\n",
    "custDF['MATE_OCCP_GRP'].replace('운전직', 6, inplace = True)\n",
    "\n",
    "custDF['OCCP_GRP'].replace('1차산업 종사자', 7, inplace = True)\n",
    "custDF['MATE_OCCP_GRP'].replace('1차산업 종사자', 7, inplace = True)\n",
    "\n",
    "custDF['OCCP_GRP'].replace('2차산업 종사자', 8, inplace = True)\n",
    "custDF['MATE_OCCP_GRP'].replace('2차산업 종사자', 8, inplace = True)\n",
    "\n",
    "custDF['OCCP_GRP'].replace('3차산업 종사자', 9, inplace = True)\n",
    "custDF['MATE_OCCP_GRP'].replace('3차산업 종사자', 9, inplace = True)\n",
    "\n",
    "custDF['OCCP_GRP'].replace('공무원', 10, inplace = True)\n",
    "custDF['MATE_OCCP_GRP'].replace('공무원', 10, inplace = True)\n",
    "\n",
    "custDF['OCCP_GRP'].replace('고위 공무원', 11, inplace = True)\n",
    "custDF['MATE_OCCP_GRP'].replace('고위 공무원', 11, inplace = True)\n",
    "\n",
    "custDF['OCCP_GRP'].replace('단순 노무직', 12, inplace = True)\n",
    "custDF['MATE_OCCP_GRP'].replace('단순 노무직', 12, inplace = True)\n",
    "\n",
    "custDF['OCCP_GRP'].replace('기업/단체 임원', 13, inplace = True)\n",
    "custDF['MATE_OCCP_GRP'].replace('기업/단체 임원', 13, inplace = True)\n",
    "\n",
    "custDF['OCCP_GRP'].replace('고소득의료직', 14, inplace = True)\n",
    "custDF['MATE_OCCP_GRP'].replace('고소득의료직', 14, inplace = True)\n",
    "\n",
    "custDF['OCCP_GRP'].replace('전문직', 15, inplace = True)\n",
    "custDF['MATE_OCCP_GRP'].replace('전문직', 15, inplace = True)\n",
    "\n",
    "custDF['OCCP_GRP'].replace('종교인/역술인', 16, inplace = True)\n",
    "custDF['MATE_OCCP_GRP'].replace('종교인/역술인', 16, inplace = True)\n",
    "\n",
    "custDF['OCCP_GRP'].replace('대학교수/강사', 17, inplace = True)\n",
    "custDF['MATE_OCCP_GRP'].replace('대학교수/강사', 17, inplace = True)\n",
    "\n",
    "custDF['OCCP_GRP'].replace('단순 사무직', 18, inplace = True)\n",
    "custDF['MATE_OCCP_GRP'].replace('단순 사무직', 18, inplace = True)\n",
    "\n",
    "custDF['OCCP_GRP'].replace('교육관련직', 19, inplace = True)\n",
    "custDF['MATE_OCCP_GRP'].replace('교육관련직', 19, inplace = True)\n",
    "\n",
    "custDF['OCCP_GRP'].replace('학자/연구직', 20, inplace = True)\n",
    "custDF['MATE_OCCP_GRP'].replace('학자/연구직', 20, inplace = True)\n",
    "\n",
    "custDF['OCCP_GRP'].replace('학생', 21, inplace = True)\n",
    "custDF['MATE_OCCP_GRP'].replace('학생', 21, inplace = True)\n",
    "\n",
    "custDF['OCCP_GRP'].replace('법무직 종사자', 22, inplace = True)\n",
    "custDF['MATE_OCCP_GRP'].replace('법무직 종사자', 22, inplace = True)\n",
    "\n",
    "custDF['OCCP_GRP'].replace('고소득 전문직', 23, inplace = True)\n",
    "custDF['MATE_OCCP_GRP'].replace('고소득 전문직', 23, inplace = True)\n",
    "\n",
    "custDF['OCCP_GRP'].replace('의료직 종사자', 24, inplace = True)\n",
    "custDF['MATE_OCCP_GRP'].replace('의료직 종사자', 24, inplace = True)\n",
    "\n",
    "custDF['OCCP_GRP'].replace('기타', 25, inplace = True)\n",
    "custDF['MATE_OCCP_GRP'].replace('기타', 25, inplace = True)\n",
    "\n"
   ]
  },
  {
   "cell_type": "code",
   "execution_count": 124,
   "metadata": {
    "executionInfo": {
     "elapsed": 281,
     "status": "ok",
     "timestamp": 1628004540929,
     "user": {
      "displayName": "이종혁",
      "photoUrl": "",
      "userId": "15679079817207258777"
     },
     "user_tz": -540
    },
    "id": "ih7GV0UQkY5w"
   },
   "outputs": [],
   "source": [
    "#직업 관련 2개 컬럼 결측치 제거\n",
    "custDF.dropna(subset = ['OCCP_GRP', 'MATE_OCCP_GRP'], inplace= True)"
   ]
  },
  {
   "cell_type": "code",
   "execution_count": 125,
   "metadata": {
    "executionInfo": {
     "elapsed": 2,
     "status": "ok",
     "timestamp": 1628004541998,
     "user": {
      "displayName": "이종혁",
      "photoUrl": "",
      "userId": "15679079817207258777"
     },
     "user_tz": -540
    },
    "id": "koIKwhsla-3S"
   },
   "outputs": [],
   "source": [
    "#직업 관련 2개 컬럼 type casting\n",
    "custDF['OCCP_GRP'] = custDF['OCCP_GRP'].astype(int)\n",
    "custDF['MATE_OCCP_GRP'] = custDF['MATE_OCCP_GRP'].astype(int)"
   ]
  },
  {
   "cell_type": "code",
   "execution_count": 126,
   "metadata": {
    "colab": {
     "base_uri": "https://localhost:8080/"
    },
    "executionInfo": {
     "elapsed": 3,
     "status": "ok",
     "timestamp": 1628004543412,
     "user": {
      "displayName": "이종혁",
      "photoUrl": "",
      "userId": "15679079817207258777"
     },
     "user_tz": -540
    },
    "id": "bbI-95kBlJw0",
    "outputId": "253c1e4a-e32d-4fdb-f12a-9054aa80cf30"
   },
   "outputs": [
    {
     "data": {
      "text/plain": [
       "CUST_ID              0\n",
       "DIVIDED_SET          0\n",
       "SIU_CUST_YN        850\n",
       "SEX                  0\n",
       "AGE                  0\n",
       "RESI_COST            0\n",
       "RESI_TYPE_CODE     450\n",
       "FP_CAREER            0\n",
       "CUST_RGST            0\n",
       "OCCP_GRP             0\n",
       "TOTALPREM         1225\n",
       "WEDD_YN              0\n",
       "MATE_OCCP_GRP        0\n",
       "CHLD_CNT             0\n",
       "LTBN_CHLD_AGE        0\n",
       "MAX_PAYM_YM       1570\n",
       "MAX_PRM           1570\n",
       "RGST_YEAR            0\n",
       "RGST_MONTH           0\n",
       "dtype: int64"
      ]
     },
     "execution_count": 126,
     "metadata": {
      "tags": []
     },
     "output_type": "execute_result"
    }
   ],
   "source": [
    "#결측치 제거 완료\n",
    "custDF.isnull().sum()"
   ]
  },
  {
   "cell_type": "code",
   "execution_count": 127,
   "metadata": {
    "executionInfo": {
     "elapsed": 278,
     "status": "ok",
     "timestamp": 1628004545734,
     "user": {
      "displayName": "이종혁",
      "photoUrl": "",
      "userId": "15679079817207258777"
     },
     "user_tz": -540
    },
    "id": "tfvIzCKqlkTi"
   },
   "outputs": [],
   "source": [
    "#1000만단위 라벨링 (ex)176만 -> 0, 1700만 -> 1, 3억 -> 30 ...)\n",
    "custDF.dropna(subset = ['TOTALPREM'], inplace = True)\n",
    "custDF['TOTALPREM'] = (custDF['TOTALPREM']/10000000).astype(int)"
   ]
  },
  {
   "cell_type": "code",
   "execution_count": 134,
   "metadata": {
    "executionInfo": {
     "elapsed": 278,
     "status": "ok",
     "timestamp": 1628004876582,
     "user": {
      "displayName": "이종혁",
      "photoUrl": "",
      "userId": "15679079817207258777"
     },
     "user_tz": -540
    },
    "id": "RMFR36p2np6K"
   },
   "outputs": [],
   "source": [
    "#WEDD_YN, RESI_TYPE_CODE에 대하여 결측치 삭제\n",
    "custDF.dropna(subset = ['WEDD_YN'], inplace = True)\n",
    "custDF.dropna(subset = ['RESI_TYPE_CODE'], inplace = True)"
   ]
  },
  {
   "cell_type": "code",
   "execution_count": 135,
   "metadata": {
    "colab": {
     "base_uri": "https://localhost:8080/"
    },
    "executionInfo": {
     "elapsed": 2,
     "status": "ok",
     "timestamp": 1628004878234,
     "user": {
      "displayName": "이종혁",
      "photoUrl": "",
      "userId": "15679079817207258777"
     },
     "user_tz": -540
    },
    "id": "SKhw1v8Go1M0",
    "outputId": "849af4d6-1895-4f46-8af1-96b4758b0a37"
   },
   "outputs": [
    {
     "data": {
      "text/plain": [
       "CUST_ID             0\n",
       "DIVIDED_SET         0\n",
       "SIU_CUST_YN       712\n",
       "SEX                 0\n",
       "AGE                 0\n",
       "RESI_COST           0\n",
       "RESI_TYPE_CODE      0\n",
       "FP_CAREER           0\n",
       "OCCP_GRP            0\n",
       "TOTALPREM           0\n",
       "WEDD_YN             0\n",
       "MATE_OCCP_GRP       0\n",
       "CHLD_CNT            0\n",
       "LTBN_CHLD_AGE       0\n",
       "MAX_PAYM_YM       471\n",
       "MAX_PRM           471\n",
       "RGST_YEAR           0\n",
       "RGST_MONTH          0\n",
       "dtype: int64"
      ]
     },
     "execution_count": 135,
     "metadata": {
      "tags": []
     },
     "output_type": "execute_result"
    }
   ],
   "source": [
    "custDF.isnull().sum()"
   ]
  },
  {
   "cell_type": "code",
   "execution_count": 138,
   "metadata": {
    "executionInfo": {
     "elapsed": 258,
     "status": "ok",
     "timestamp": 1628005316619,
     "user": {
      "displayName": "이종혁",
      "photoUrl": "",
      "userId": "15679079817207258777"
     },
     "user_tz": -540
    },
    "id": "RVg0muc5rOa6"
   },
   "outputs": [],
   "source": [
    "#MAX_PAYM_YM 결측치 ROW제거\n",
    "custDF.dropna(subset = ['MAX_PAYM_YM'], inplace = True)"
   ]
  },
  {
   "cell_type": "code",
   "execution_count": 139,
   "metadata": {
    "executionInfo": {
     "elapsed": 1,
     "status": "ok",
     "timestamp": 1628005318105,
     "user": {
      "displayName": "이종혁",
      "photoUrl": "",
      "userId": "15679079817207258777"
     },
     "user_tz": -540
    },
    "id": "qUMtiYIoo4Cb"
   },
   "outputs": [],
   "source": [
    "#MAX_PAYM_YM에 관한 최대 보험료 연월을 2개 컬럼으로 분리\n",
    "#분리 방법은 위 연월 분리 메소드와 동일\n",
    "Year = (custDF['MAX_PAYM_YM']/100).astype(int)\n",
    "Month = (custDF['MAX_PAYM_YM']-Year*100).astype(int)\n"
   ]
  },
  {
   "cell_type": "code",
   "execution_count": 144,
   "metadata": {
    "executionInfo": {
     "elapsed": 259,
     "status": "ok",
     "timestamp": 1628005499306,
     "user": {
      "displayName": "이종혁",
      "photoUrl": "",
      "userId": "15679079817207258777"
     },
     "user_tz": -540
    },
    "id": "ikD-m1Hdnq4x"
   },
   "outputs": [],
   "source": [
    "#새 컬럼 추가 후 데이터 삽입\n",
    "custDF['MAX_PAYM_YEAR'] =  Year\n",
    "custDF['MAX_PAYM_MONTH'] = Month"
   ]
  },
  {
   "cell_type": "code",
   "execution_count": 145,
   "metadata": {
    "executionInfo": {
     "elapsed": 278,
     "status": "ok",
     "timestamp": 1628005507590,
     "user": {
      "displayName": "이종혁",
      "photoUrl": "",
      "userId": "15679079817207258777"
     },
     "user_tz": -540
    },
    "id": "wAUwVcfIrwgX"
   },
   "outputs": [],
   "source": [
    "#컬럼 분리 완료했으므로 오리지널 컬럼 삭제\n",
    "custDF.drop(['MAX_PAYM_YM'], axis=1, inplace = True)"
   ]
  },
  {
   "cell_type": "code",
   "execution_count": 147,
   "metadata": {
    "colab": {
     "base_uri": "https://localhost:8080/"
    },
    "executionInfo": {
     "elapsed": 270,
     "status": "ok",
     "timestamp": 1628005575941,
     "user": {
      "displayName": "이종혁",
      "photoUrl": "",
      "userId": "15679079817207258777"
     },
     "user_tz": -540
    },
    "id": "VSg2eeYHr-5X",
    "outputId": "435090fd-12cc-4f0d-a7ea-5a5238ceb62e"
   },
   "outputs": [
    {
     "data": {
      "text/plain": [
       "CUST_ID             0\n",
       "DIVIDED_SET         0\n",
       "SIU_CUST_YN       677\n",
       "SEX                 0\n",
       "AGE                 0\n",
       "RESI_COST           0\n",
       "RESI_TYPE_CODE      0\n",
       "FP_CAREER           0\n",
       "OCCP_GRP            0\n",
       "TOTALPREM           0\n",
       "WEDD_YN             0\n",
       "MATE_OCCP_GRP       0\n",
       "CHLD_CNT            0\n",
       "LTBN_CHLD_AGE       0\n",
       "MAX_PRM             0\n",
       "RGST_YEAR           0\n",
       "RGST_MONTH          0\n",
       "MAX_PAYM_YEAR       0\n",
       "MAX_PAYM_MONTH      0\n",
       "dtype: int64"
      ]
     },
     "execution_count": 147,
     "metadata": {
      "tags": []
     },
     "output_type": "execute_result"
    }
   ],
   "source": [
    "custDF.isnull().sum()"
   ]
  },
  {
   "cell_type": "code",
   "execution_count": null,
   "metadata": {
    "id": "Y-C3VB91tBKW"
   },
   "outputs": [],
   "source": [
    "#월 최대 납입 보험료는 결측치 없는 것으로 확인됨"
   ]
  },
  {
   "cell_type": "code",
   "execution_count": 150,
   "metadata": {
    "executionInfo": {
     "elapsed": 274,
     "status": "ok",
     "timestamp": 1628005765622,
     "user": {
      "displayName": "이종혁",
      "photoUrl": "",
      "userId": "15679079817207258777"
     },
     "user_tz": -540
    },
    "id": "7l-w9EmLsapr"
   },
   "outputs": [],
   "source": [
    "#월 최대 납입 보험료 10만단위 라벨링, 메소드는 위 범위 기반 라벨링 코드와 동일\n",
    "custDF['MAX_PRM'] = (custDF['MAX_PRM']/100000).astype(int)"
   ]
  },
  {
   "cell_type": "code",
   "execution_count": 152,
   "metadata": {
    "colab": {
     "base_uri": "https://localhost:8080/"
    },
    "executionInfo": {
     "elapsed": 273,
     "status": "ok",
     "timestamp": 1628005790712,
     "user": {
      "displayName": "이종혁",
      "photoUrl": "",
      "userId": "15679079817207258777"
     },
     "user_tz": -540
    },
    "id": "ySYp3UhGsOb0",
    "outputId": "e412c938-4195-4a35-c3e2-02ddbbbce27b"
   },
   "outputs": [
    {
     "data": {
      "text/plain": [
       "CUST_ID             0\n",
       "DIVIDED_SET         0\n",
       "SIU_CUST_YN       677\n",
       "SEX                 0\n",
       "AGE                 0\n",
       "RESI_COST           0\n",
       "RESI_TYPE_CODE      0\n",
       "FP_CAREER           0\n",
       "OCCP_GRP            0\n",
       "TOTALPREM           0\n",
       "WEDD_YN             0\n",
       "MATE_OCCP_GRP       0\n",
       "CHLD_CNT            0\n",
       "LTBN_CHLD_AGE       0\n",
       "MAX_PRM             0\n",
       "RGST_YEAR           0\n",
       "RGST_MONTH          0\n",
       "MAX_PAYM_YEAR       0\n",
       "MAX_PAYM_MONTH      0\n",
       "dtype: int64"
      ]
     },
     "execution_count": 152,
     "metadata": {
      "tags": []
     },
     "output_type": "execute_result"
    }
   ],
   "source": [
    "#Test, train set으로 분리할 SIU_CUST_YN 제외 모든 결측치 제거된 것 최종 확인\n",
    "custDF.isnull().sum()"
   ]
  },
  {
   "cell_type": "code",
   "execution_count": 154,
   "metadata": {
    "executionInfo": {
     "elapsed": 262,
     "status": "ok",
     "timestamp": 1628005912350,
     "user": {
      "displayName": "이종혁",
      "photoUrl": "",
      "userId": "15679079817207258777"
     },
     "user_tz": -540
    },
    "id": "sIElDtqytKpF"
   },
   "outputs": [],
   "source": [
    "custDF.to_csv('ProcessedCustData.csv')"
   ]
  },
  {
   "cell_type": "code",
   "execution_count": 155,
   "metadata": {
    "colab": {
     "base_uri": "https://localhost:8080/",
     "height": 17
    },
    "executionInfo": {
     "elapsed": 265,
     "status": "ok",
     "timestamp": 1628005924769,
     "user": {
      "displayName": "이종혁",
      "photoUrl": "",
      "userId": "15679079817207258777"
     },
     "user_tz": -540
    },
    "id": "e3-y-ma8tsyW",
    "outputId": "bb67447c-a27d-4e34-eda1-85f8a521df88"
   },
   "outputs": [
    {
     "data": {
      "application/javascript": [
       "\n",
       "    async function download(id, filename, size) {\n",
       "      if (!google.colab.kernel.accessAllowed) {\n",
       "        return;\n",
       "      }\n",
       "      const div = document.createElement('div');\n",
       "      const label = document.createElement('label');\n",
       "      label.textContent = `Downloading \"${filename}\": `;\n",
       "      div.appendChild(label);\n",
       "      const progress = document.createElement('progress');\n",
       "      progress.max = size;\n",
       "      div.appendChild(progress);\n",
       "      document.body.appendChild(div);\n",
       "\n",
       "      const buffers = [];\n",
       "      let downloaded = 0;\n",
       "\n",
       "      const channel = await google.colab.kernel.comms.open(id);\n",
       "      // Send a message to notify the kernel that we're ready.\n",
       "      channel.send({})\n",
       "\n",
       "      for await (const message of channel.messages) {\n",
       "        // Send a message to notify the kernel that we're ready.\n",
       "        channel.send({})\n",
       "        if (message.buffers) {\n",
       "          for (const buffer of message.buffers) {\n",
       "            buffers.push(buffer);\n",
       "            downloaded += buffer.byteLength;\n",
       "            progress.value = downloaded;\n",
       "          }\n",
       "        }\n",
       "      }\n",
       "      const blob = new Blob(buffers, {type: 'application/binary'});\n",
       "      const a = document.createElement('a');\n",
       "      a.href = window.URL.createObjectURL(blob);\n",
       "      a.download = filename;\n",
       "      div.appendChild(a);\n",
       "      a.click();\n",
       "      div.remove();\n",
       "    }\n",
       "  "
      ],
      "text/plain": [
       "<IPython.core.display.Javascript object>"
      ]
     },
     "metadata": {
      "tags": []
     },
     "output_type": "display_data"
    },
    {
     "data": {
      "application/javascript": [
       "download(\"download_dbd736e8-558f-4a97-babf-2962c8f027b5\", \"ProcessedCustData.csv\", 600555)"
      ],
      "text/plain": [
       "<IPython.core.display.Javascript object>"
      ]
     },
     "metadata": {
      "tags": []
     },
     "output_type": "display_data"
    }
   ],
   "source": [
    "files.download('ProcessedCustData.csv')"
   ]
  }
 ],
 "metadata": {
  "colab": {
   "authorship_tag": "ABX9TyMCO726OzwVrTxhed5QwVV+",
   "collapsed_sections": [],
   "name": "IFPtest.ipynb",
   "provenance": []
  },
  "kernelspec": {
   "display_name": "Python 3",
   "language": "python",
   "name": "python3"
  },
  "language_info": {
   "codemirror_mode": {
    "name": "ipython",
    "version": 3
   },
   "file_extension": ".py",
   "mimetype": "text/x-python",
   "name": "python",
   "nbconvert_exporter": "python",
   "pygments_lexer": "ipython3",
   "version": "3.9.4"
  }
 },
 "nbformat": 4,
 "nbformat_minor": 1
}
