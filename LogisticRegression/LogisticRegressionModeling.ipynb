{
  "nbformat": 4,
  "nbformat_minor": 5,
  "metadata": {
    "kernelspec": {
      "display_name": "Python 3",
      "language": "python",
      "name": "python3"
    },
    "language_info": {
      "codemirror_mode": {
        "name": "ipython",
        "version": 3
      },
      "file_extension": ".py",
      "mimetype": "text/x-python",
      "name": "python",
      "nbconvert_exporter": "python",
      "pygments_lexer": "ipython3",
      "version": "3.8.8"
    },
    "colab": {
      "name": "LogisticRegressionModeling.ipynb",
      "provenance": []
    }
  },
  "cells": [
    {
      "cell_type": "markdown",
      "metadata": {
        "id": "5e619dc4"
      },
      "source": [
        "## Logistic Regression Modeling"
      ],
      "id": "5e619dc4"
    },
    {
      "cell_type": "code",
      "metadata": {
        "id": "mfOUTSqDhok3"
      },
      "source": [
        "!pip install numpy\n",
        "!pip install pandas\n",
        "!pip install sklearn\n",
        "!pip install statsmodels\n",
        "!pip install matplotlib\n",
        "!pip install seaborn\n"
      ],
      "id": "mfOUTSqDhok3",
      "execution_count": null,
      "outputs": []
    },
    {
      "cell_type": "code",
      "metadata": {
        "id": "5e43738b"
      },
      "source": [
        "from sklearn.linear_model import LogisticRegression\n",
        "import matplotlib.pyplot as plt"
      ],
      "id": "5e43738b",
      "execution_count": null,
      "outputs": []
    },
    {
      "cell_type": "code",
      "metadata": {
        "id": "a2d8efc7"
      },
      "source": [
        "# import random undersampling and other necessary libraries \n",
        "import pandas as pd\n",
        "import numpy as np\n",
        "import warnings\n",
        "warnings.simplefilter(action='ignore', category=FutureWarning)"
      ],
      "id": "a2d8efc7",
      "execution_count": null,
      "outputs": []
    },
    {
      "cell_type": "code",
      "metadata": {
        "scrolled": true,
        "id": "661cdee9",
        "outputId": "b4d06bed-e07f-4147-ba26-176db2f17cb6"
      },
      "source": [
        "import pandas as pd\n",
        "df = pd.read_csv(\"insurancedata.csv\")\n",
        "print(df.shape)\n",
        "print(df.head())"
      ],
      "id": "661cdee9",
      "execution_count": null,
      "outputs": [
        {
          "name": "stdout",
          "output_type": "stream",
          "text": [
            "(7626, 16)\n",
            "   Unnamed: 0 SIU_CUST_YN  SEX  AGE FP_CAREER  OCCP_GRP  TOTALPREM  \\\n",
            "0           0           N    2    4         N         1         14   \n",
            "1           1           N    1    6         N        11          2   \n",
            "2           2           N    1    5         Y         2         15   \n",
            "3           3           N    1    5         N        17         13   \n",
            "4           4           N    1    5         N         1          3   \n",
            "\n",
            "   MAIN_INSR_AMT_SUM  WORK_YEARS_MIN  EXPR_COUNT  DMND_AMT_SUM  CLAIM_CNT  \\\n",
            "0          120266433               0           8        141450          4   \n",
            "1            5000000               1           1       1390000          3   \n",
            "2         1797991770               1          24       2480000         10   \n",
            "3          212274240               1           6         72320          1   \n",
            "4           75256800              13           4       1300000          4   \n",
            "\n",
            "   TOTAL_VLID_HOSP_OTDA  HOSP_VARIES  HOSP_DVSN_VARIES  CHME_LICE_COUNT  \n",
            "0                     5            2                 2                1  \n",
            "1                     6            3                 2                3  \n",
            "2                    21            4                 3                4  \n",
            "3                     5            1                 1                1  \n",
            "4                    26            2                 2                2  \n"
          ]
        }
      ]
    },
    {
      "cell_type": "markdown",
      "metadata": {
        "id": "cce52f2b"
      },
      "source": [
        "## N : 0 / Y : 1 의 각각 비율 확인"
      ],
      "id": "cce52f2b"
    },
    {
      "cell_type": "code",
      "metadata": {
        "id": "c0ee4c66",
        "outputId": "0789cf65-2412-4967-82f6-cee9d6676dc5"
      },
      "source": [
        "df.SIU_CUST_YN.value_counts()"
      ],
      "id": "c0ee4c66",
      "execution_count": null,
      "outputs": [
        {
          "data": {
            "text/plain": [
              "N    6901\n",
              "Y     725\n",
              "Name: SIU_CUST_YN, dtype: int64"
            ]
          },
          "execution_count": 4,
          "metadata": {},
          "output_type": "execute_result"
        }
      ]
    },
    {
      "cell_type": "code",
      "metadata": {
        "scrolled": true,
        "id": "37778ece",
        "outputId": "620046f7-09e6-4e89-a51f-8663efb009dd"
      },
      "source": [
        "df.SIU_CUST_YN.value_counts(normalize=True).plot(kind='bar', color = \"black\")\n",
        "print(df.SIU_CUST_YN.value_counts(normalize=True)*100)"
      ],
      "id": "37778ece",
      "execution_count": null,
      "outputs": [
        {
          "name": "stdout",
          "output_type": "stream",
          "text": [
            "N    90.49305\n",
            "Y     9.50695\n",
            "Name: SIU_CUST_YN, dtype: float64\n"
          ]
        },
        {
          "data": {
            "image/png": "[encoded data removed]",
            "text/plain": [
              "<Figure size 432x288 with 1 Axes>"
            ]
          },
          "metadata": {
            "needs_background": "light"
          },
          "output_type": "display_data"
        }
      ]
    },
    {
      "cell_type": "markdown",
      "metadata": {
        "id": "a106c69c"
      },
      "source": [
        "## 데이터 추가정제\n",
        "\n",
        "데이터에 맞춰서 하나만 실행"
      ],
      "id": "a106c69c"
    },
    {
      "cell_type": "code",
      "metadata": {
        "id": "cee662b4"
      },
      "source": [
        "#insurance data\n",
        "\n",
        "df['SIU_CUST_YN'].replace('N', 0, inplace = True)\n",
        "df['SIU_CUST_YN'].replace('Y', 1, inplace = True)\n",
        "df['FP_CAREER'].replace('N', 0, inplace = True)\n",
        "df['FP_CAREER'].replace('Y', 1, inplace = True)\n",
        "df.drop(['Unnamed: 0'], axis=1, inplace = True)\n",
        "df.drop(['TOTALPREM'], axis=1, inplace = True)"
      ],
      "id": "cee662b4",
      "execution_count": null,
      "outputs": []
    },
    {
      "cell_type": "code",
      "metadata": {
        "id": "6eeb6951"
      },
      "source": [
        "X = df.iloc[:,1:] # SIU_CUST_YN을 제외한 모든 cloumn\n",
        "y = df.iloc[:,0] # SIU_CUST_YN"
      ],
      "id": "6eeb6951",
      "execution_count": null,
      "outputs": []
    },
    {
      "cell_type": "code",
      "metadata": {
        "scrolled": true,
        "id": "82d0eeb8",
        "outputId": "4283b85d-f730-4603-a9b8-ef93919c6e3a"
      },
      "source": [
        "from collections import Counter\n",
        "from sklearn.model_selection import train_test_split\n",
        "# 트레이닝 데이터, 테스트 데이터 설정\n",
        "X_train, X_test, y_train, y_test = train_test_split(X, y, test_size=0.3)\n",
        "# 현재 트레이닝 데이터 확인\n",
        "print(\"Before Sampling: \",Counter(y_train))"
      ],
      "id": "82d0eeb8",
      "execution_count": null,
      "outputs": [
        {
          "name": "stdout",
          "output_type": "stream",
          "text": [
            "Before Sampling:  Counter({0: 4844, 1: 494})\n"
          ]
        }
      ]
    },
    {
      "cell_type": "markdown",
      "metadata": {
        "id": "9652451f"
      },
      "source": [
        "## OverSampling Test Module"
      ],
      "id": "9652451f"
    },
    {
      "cell_type": "code",
      "metadata": {
        "id": "bda0b891",
        "outputId": "e9f8f2df-5875-4d7e-cad6-2583f01f0efe"
      },
      "source": [
        "from imblearn.over_sampling import SMOTE\n",
        "# OverSampling 방법(SMOTE)\n",
        "SMOTE = SMOTE()\n",
        "# OverSampling 실행\n",
        "X_train_SMOTE, y_train_SMOTE = SMOTE.fit_resample(X_train, y_train)\n",
        "# OverSampling 결과 데이터 확인\n",
        "print(\"Before Sampling: \",Counter(y_train))\n",
        "print(\"After oversampling(SMOTE): \",Counter(y_train_SMOTE))"
      ],
      "id": "bda0b891",
      "execution_count": null,
      "outputs": [
        {
          "name": "stdout",
          "output_type": "stream",
          "text": [
            "Before Sampling:  Counter({0: 4844, 1: 494})\n",
            "After oversampling(SMOTE):  Counter({0: 4844, 1: 4844})\n"
          ]
        }
      ]
    },
    {
      "cell_type": "code",
      "metadata": {
        "id": "81364693",
        "outputId": "98f87c7e-8e25-4117-dd39-af280e8a6045"
      },
      "source": [
        "from imblearn.over_sampling import BorderlineSMOTE\n",
        "# OverSampling 방법(BSMOTE)\n",
        "BSMOTE = BorderlineSMOTE()\n",
        "# OverSampling 실행\n",
        "X_train_BSMOTE, y_train_BSMOTE = BSMOTE.fit_resample(X_train, y_train)\n",
        "# OverSampling 결과 데이터 확인\n",
        "print(\"Before Sampling: \",Counter(y_train))\n",
        "print(\"After oversampling(BSMOTE)): \",Counter(y_train_BSMOTE))"
      ],
      "id": "81364693",
      "execution_count": null,
      "outputs": [
        {
          "name": "stdout",
          "output_type": "stream",
          "text": [
            "Before Sampling:  Counter({0: 4844, 1: 494})\n",
            "After oversampling(BSMOTE)):  Counter({0: 4844, 1: 4844})\n"
          ]
        }
      ]
    },
    {
      "cell_type": "code",
      "metadata": {
        "id": "bb4f6059",
        "outputId": "73f40b42-a78b-4688-d1a4-4df639b9471c"
      },
      "source": [
        "from imblearn.over_sampling import ADASYN\n",
        "# OverSampling 방법(ADASYN)\n",
        "ADASYN = ADASYN()\n",
        "# OverSampling 실행\n",
        "X_train_ADASYN, y_train_ADASYN = ADASYN.fit_resample(X_train, y_train)\n",
        "# OverSampling 결과 데이터 확인\n",
        "print(\"Before Sampling: \",Counter(y_train))\n",
        "print(\"After oversampling(ADASYN): \",Counter(y_train_ADASYN))"
      ],
      "id": "bb4f6059",
      "execution_count": null,
      "outputs": [
        {
          "name": "stdout",
          "output_type": "stream",
          "text": [
            "Before Sampling:  Counter({0: 4844, 1: 494})\n",
            "After oversampling(ADASYN):  Counter({1: 4898, 0: 4844})\n"
          ]
        }
      ]
    },
    {
      "cell_type": "code",
      "metadata": {
        "id": "4dea368c",
        "outputId": "035297ea-5c3d-4af0-bfe0-e8887736e21a"
      },
      "source": [
        "from imblearn.over_sampling import SVMSMOTE\n",
        "# OverSampling 방법(SVMSMOTE)\n",
        "SVMSMOTE = SVMSMOTE()\n",
        "X_train_SVMSMOTE, y_train_SVMSMOTE = SVMSMOTE.fit_resample(X_train, y_train)\n",
        "print(\"Before Sampling: \",Counter(y_train))\n",
        "print(\"After oversampling(ADASYN): \",Counter(y_train_SVMSMOTE))"
      ],
      "id": "4dea368c",
      "execution_count": null,
      "outputs": [
        {
          "name": "stdout",
          "output_type": "stream",
          "text": [
            "Before Sampling:  Counter({0: 4844, 1: 494})\n",
            "After oversampling(ADASYN):  Counter({0: 4844, 1: 4844})\n"
          ]
        }
      ]
    },
    {
      "cell_type": "markdown",
      "metadata": {
        "id": "0250d132"
      },
      "source": [
        "## Sampling 방식 선택"
      ],
      "id": "0250d132"
    },
    {
      "cell_type": "code",
      "metadata": {
        "id": "f502fd50"
      },
      "source": [
        "# 해당 변수를 설정해서 Sampling 방식 선택 후 머신러닝 실행\n",
        "X_train_sampling = X_train_SVMSMOTE\n",
        "y_train_sampling = y_train_SVMSMOTE"
      ],
      "id": "f502fd50",
      "execution_count": null,
      "outputs": []
    },
    {
      "cell_type": "markdown",
      "metadata": {
        "id": "8aa73e37"
      },
      "source": [
        "## 결과 확인"
      ],
      "id": "8aa73e37"
    },
    {
      "cell_type": "code",
      "metadata": {
        "id": "6b8c1f40"
      },
      "source": [
        "from sklearn.preprocessing import StandardScaler\n",
        "scaler = StandardScaler()\n",
        "X_train_sampling = scaler.fit_transform(X_train_sampling)\n",
        "X_test = scaler.transform(X_test)"
      ],
      "id": "6b8c1f40",
      "execution_count": null,
      "outputs": []
    },
    {
      "cell_type": "code",
      "metadata": {
        "scrolled": true,
        "id": "760795cf",
        "outputId": "acb384d9-bc5b-4731-ab54-e95139e74d03"
      },
      "source": [
        "# 학습 알고리즘 예시 (LogisticRegressiong - 로지스틱 회귀분석)\n",
        "from sklearn.linear_model import LogisticRegression\n",
        "model = LogisticRegression()\n",
        "model.fit(X_train_sampling, y_train_sampling)"
      ],
      "id": "760795cf",
      "execution_count": null,
      "outputs": [
        {
          "data": {
            "text/plain": [
              "LogisticRegression()"
            ]
          },
          "execution_count": 15,
          "metadata": {},
          "output_type": "execute_result"
        }
      ]
    },
    {
      "cell_type": "code",
      "metadata": {
        "id": "88956ca5",
        "outputId": "d0fc71aa-2e8e-40aa-b348-b3f2641ad399"
      },
      "source": [
        "# sklearn에서 제공하는 score값\n",
        "print(model.score(X_test, y_test))"
      ],
      "id": "88956ca5",
      "execution_count": null,
      "outputs": [
        {
          "name": "stdout",
          "output_type": "stream",
          "text": [
            "0.8868006993006993\n"
          ]
        }
      ]
    },
    {
      "cell_type": "code",
      "metadata": {
        "id": "76fcfda4",
        "outputId": "184ee650-8d15-475f-d604-319af9a41700"
      },
      "source": [
        "# 각 속성별 가중치 -> 절대값으로 보면됨.\n",
        "print(model.coef_)"
      ],
      "id": "76fcfda4",
      "execution_count": null,
      "outputs": [
        {
          "name": "stdout",
          "output_type": "stream",
          "text": [
            "[[ 0.06098469 -0.31792714  0.06747563 -0.21799101  0.51842989 -0.21146342\n",
            "  -0.44591512  0.4859928  -1.45711134  3.95478032 -0.1746471   0.06700949\n",
            "   1.95870306]]\n"
          ]
        }
      ]
    },
    {
      "cell_type": "code",
      "metadata": {
        "id": "584cc017",
        "outputId": "66659aaa-f892-4041-c7b9-fb7aed240627"
      },
      "source": [
        "print(model.predict(X_test))"
      ],
      "id": "584cc017",
      "execution_count": null,
      "outputs": [
        {
          "name": "stdout",
          "output_type": "stream",
          "text": [
            "[0 0 1 ... 0 0 0]\n"
          ]
        }
      ]
    },
    {
      "cell_type": "code",
      "metadata": {
        "id": "9704c070"
      },
      "source": [
        "predict_X = model.predict(X_test)"
      ],
      "id": "9704c070",
      "execution_count": null,
      "outputs": []
    },
    {
      "cell_type": "code",
      "metadata": {
        "id": "5bd117ac",
        "outputId": "8be1ea74-e673-421c-ae71-74efb3cf8bb5"
      },
      "source": [
        "print(model.predict_proba(X_test))"
      ],
      "id": "5bd117ac",
      "execution_count": null,
      "outputs": [
        {
          "name": "stdout",
          "output_type": "stream",
          "text": [
            "[[0.92663286 0.07336714]\n",
            " [0.81055055 0.18944945]\n",
            " [0.03284655 0.96715345]\n",
            " ...\n",
            " [0.90369951 0.09630049]\n",
            " [0.76379178 0.23620822]\n",
            " [0.64484316 0.35515684]]\n"
          ]
        }
      ]
    },
    {
      "cell_type": "code",
      "metadata": {
        "id": "ffc3cf3c"
      },
      "source": [
        "# 비중.\n",
        "persentage = 0.55"
      ],
      "id": "ffc3cf3c",
      "execution_count": null,
      "outputs": []
    },
    {
      "cell_type": "code",
      "metadata": {
        "id": "7d5cf312"
      },
      "source": [
        "# 몇 %까지를 0으로 할건지 판단.\n",
        "\n",
        "sample_result = model.predict_proba(X_test)[:,0]\n",
        "list_test_model = [i for i in sample_result]\n",
        "list_test_model\n",
        "for i in range(len(list_test_model)):\n",
        "    if list_test_model[i] >=persentage:\n",
        "        list_test_model[i] = 0\n",
        "    else:\n",
        "        list_test_model[i] = 1\n"
      ],
      "id": "7d5cf312",
      "execution_count": null,
      "outputs": []
    },
    {
      "cell_type": "code",
      "metadata": {
        "scrolled": true,
        "id": "c72f55bd",
        "outputId": "eb507b2a-1117-4761-e8f7-a02581c2f76c"
      },
      "source": [
        "from sklearn.metrics import confusion_matrix, accuracy_score,precision_score,recall_score,f1_score\n",
        "\n",
        "print('Persentage : %.2f' % persentage)\n",
        "print('list test model result')\n",
        "print(\"---------------------------\")\n",
        "print('accuracy: %.2f' % accuracy_score(y_test, list_test_model))\n",
        "print('precision: %.2f' % precision_score(y_test, list_test_model))\n",
        "print('recall: %.2f' % recall_score(y_test, list_test_model))\n",
        "print('F1: %.2f' % f1_score(y_test, list_test_model))\n",
        "print(\"---------------------------\")\n",
        "print(\"\")\n",
        "print('Persentage : 0.5')\n",
        "print('Just result')\n",
        "print(\"---------------------------\")\n",
        "print('accuracy: %.2f' % accuracy_score(y_test, predict_X))\n",
        "print('precision: %.2f' % precision_score(y_test, predict_X))\n",
        "print('recall: %.2f' % recall_score(y_test, predict_X))\n",
        "print('F1: %.2f' % f1_score(y_test, predict_X))"
      ],
      "id": "c72f55bd",
      "execution_count": null,
      "outputs": [
        {
          "name": "stdout",
          "output_type": "stream",
          "text": [
            "Persentage : 0.55\n",
            "list test model result\n",
            "---------------------------\n",
            "accuracy: 0.88\n",
            "precision: 0.44\n",
            "recall: 0.58\n",
            "F1: 0.50\n",
            "---------------------------\n",
            "\n",
            "Persentage : 0.5\n",
            "Just result\n",
            "---------------------------\n",
            "accuracy: 0.89\n",
            "precision: 0.45\n",
            "recall: 0.55\n",
            "F1: 0.50\n"
          ]
        }
      ]
    },
    {
      "cell_type": "code",
      "metadata": {
        "id": "adc0f06c",
        "outputId": "174c1dec-1d19-4c08-c37e-567240d982de"
      },
      "source": [
        "import seaborn as sns\n",
        "confusion = confusion_matrix(y_true = y_test\n",
        "                             , y_pred = predict_X)\n",
        "\n",
        "plt.figure(figsize=(4, 3))\n",
        "sns.heatmap(confusion, annot=True, annot_kws={'size':15}, cmap='OrRd', fmt='.10g')\n",
        "plt.title('Confusion Matrix')\n",
        "plt.show()"
      ],
      "id": "adc0f06c",
      "execution_count": null,
      "outputs": [
        {
          "data": {
            "image/png": "[encoded data removed]",
            "text/plain": [
              "<Figure size 288x216 with 2 Axes>"
            ]
          },
          "metadata": {
            "needs_background": "light"
          },
          "output_type": "display_data"
        }
      ]
    },
    {
      "cell_type": "code",
      "metadata": {
        "id": "18a74ccc"
      },
      "source": [
        "import seaborn as sns\n",
        "confusion = confusion_matrix(y_true = y_test\n",
        "                             , y_pred = list_test_model)\n",
        "\n",
        "plt.figure(figsize=(4, 3))\n",
        "sns.heatmap(confusion, annot=True, annot_kws={'size':15}, cmap='OrRd', fmt='.10g')\n",
        "plt.title('Confusion Matrix')\n",
        "plt.show()"
      ],
      "id": "18a74ccc",
      "execution_count": null,
      "outputs": []
    },
    {
      "cell_type": "code",
      "metadata": {
        "id": "37a2aebc"
      },
      "source": [
        ""
      ],
      "id": "37a2aebc",
      "execution_count": null,
      "outputs": []
    }
  ]
}