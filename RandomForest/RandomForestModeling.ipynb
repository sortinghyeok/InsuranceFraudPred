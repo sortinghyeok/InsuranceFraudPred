{
  "nbformat": 4,
  "nbformat_minor": 5,
  "metadata": {
    "colab": {
      "name": "RandomForestModeling.ipynb",
      "provenance": [],
      "collapsed_sections": []
    },
    "kernelspec": {
      "display_name": "Python 3",
      "language": "python",
      "name": "python3"
    },
    "language_info": {
      "codemirror_mode": {
        "name": "ipython",
        "version": 3
      },
      "file_extension": ".py",
      "mimetype": "text/x-python",
      "name": "python",
      "nbconvert_exporter": "python",
      "pygments_lexer": "ipython3",
      "version": "3.8.8"
    }
  },
  "cells": [
    {
      "cell_type": "markdown",
      "metadata": {
        "id": "1229a824"
      },
      "source": [
        "## Random Forest Modeling"
      ],
      "id": "1229a824"
    },
    {
      "cell_type": "code",
      "metadata": {
        "colab": {
          "base_uri": "https://localhost:8080/"
        },
        "id": "kTrLT5l5hD_Y",
        "outputId": "2c351f76-1a2b-4b43-952b-af06952b38eb"
      },
      "source": [
        "!pip install numpy\n",
        "!pip install pandas\n",
        "!pip install warnings\n",
        "!pip install sklearn\n",
        "!pip install statsmodels\n",
        "!pip install matplotlib\n",
        "!pip install seaborn"
      ],
      "id": "kTrLT5l5hD_Y",
      "execution_count": 1,
      "outputs": [
        {
          "output_type": "stream",
          "text": [
            "Requirement already satisfied: numpy in /usr/local/lib/python3.7/dist-packages (1.19.5)\n",
            "Requirement already satisfied: pandas in /usr/local/lib/python3.7/dist-packages (1.1.5)\n",
            "Requirement already satisfied: pytz>=2017.2 in /usr/local/lib/python3.7/dist-packages (from pandas) (2018.9)\n",
            "Requirement already satisfied: numpy>=1.15.4 in /usr/local/lib/python3.7/dist-packages (from pandas) (1.19.5)\n",
            "Requirement already satisfied: python-dateutil>=2.7.3 in /usr/local/lib/python3.7/dist-packages (from pandas) (2.8.2)\n",
            "Requirement already satisfied: six>=1.5 in /usr/local/lib/python3.7/dist-packages (from python-dateutil>=2.7.3->pandas) (1.15.0)\n",
            "\u001b[31mERROR: Could not find a version that satisfies the requirement warnings (from versions: none)\u001b[0m\n",
            "\u001b[31mERROR: No matching distribution found for warnings\u001b[0m\n",
            "Requirement already satisfied: sklearn in /usr/local/lib/python3.7/dist-packages (0.0)\n",
            "Requirement already satisfied: scikit-learn in /usr/local/lib/python3.7/dist-packages (from sklearn) (0.22.2.post1)\n",
            "Requirement already satisfied: scipy>=0.17.0 in /usr/local/lib/python3.7/dist-packages (from scikit-learn->sklearn) (1.4.1)\n",
            "Requirement already satisfied: numpy>=1.11.0 in /usr/local/lib/python3.7/dist-packages (from scikit-learn->sklearn) (1.19.5)\n",
            "Requirement already satisfied: joblib>=0.11 in /usr/local/lib/python3.7/dist-packages (from scikit-learn->sklearn) (1.0.1)\n",
            "Requirement already satisfied: statsmodels in /usr/local/lib/python3.7/dist-packages (0.10.2)\n",
            "Requirement already satisfied: pandas>=0.19 in /usr/local/lib/python3.7/dist-packages (from statsmodels) (1.1.5)\n",
            "Requirement already satisfied: patsy>=0.4.0 in /usr/local/lib/python3.7/dist-packages (from statsmodels) (0.5.1)\n",
            "Requirement already satisfied: numpy>=1.11 in /usr/local/lib/python3.7/dist-packages (from statsmodels) (1.19.5)\n",
            "Requirement already satisfied: scipy>=0.18 in /usr/local/lib/python3.7/dist-packages (from statsmodels) (1.4.1)\n",
            "Requirement already satisfied: pytz>=2017.2 in /usr/local/lib/python3.7/dist-packages (from pandas>=0.19->statsmodels) (2018.9)\n",
            "Requirement already satisfied: python-dateutil>=2.7.3 in /usr/local/lib/python3.7/dist-packages (from pandas>=0.19->statsmodels) (2.8.2)\n",
            "Requirement already satisfied: six in /usr/local/lib/python3.7/dist-packages (from patsy>=0.4.0->statsmodels) (1.15.0)\n",
            "Requirement already satisfied: matplotlib in /usr/local/lib/python3.7/dist-packages (3.2.2)\n",
            "Requirement already satisfied: numpy>=1.11 in /usr/local/lib/python3.7/dist-packages (from matplotlib) (1.19.5)\n",
            "Requirement already satisfied: pyparsing!=2.0.4,!=2.1.2,!=2.1.6,>=2.0.1 in /usr/local/lib/python3.7/dist-packages (from matplotlib) (2.4.7)\n",
            "Requirement already satisfied: python-dateutil>=2.1 in /usr/local/lib/python3.7/dist-packages (from matplotlib) (2.8.2)\n",
            "Requirement already satisfied: kiwisolver>=1.0.1 in /usr/local/lib/python3.7/dist-packages (from matplotlib) (1.3.1)\n",
            "Requirement already satisfied: cycler>=0.10 in /usr/local/lib/python3.7/dist-packages (from matplotlib) (0.10.0)\n",
            "Requirement already satisfied: six in /usr/local/lib/python3.7/dist-packages (from cycler>=0.10->matplotlib) (1.15.0)\n",
            "Requirement already satisfied: seaborn in /usr/local/lib/python3.7/dist-packages (0.11.1)\n",
            "Requirement already satisfied: pandas>=0.23 in /usr/local/lib/python3.7/dist-packages (from seaborn) (1.1.5)\n",
            "Requirement already satisfied: numpy>=1.15 in /usr/local/lib/python3.7/dist-packages (from seaborn) (1.19.5)\n",
            "Requirement already satisfied: scipy>=1.0 in /usr/local/lib/python3.7/dist-packages (from seaborn) (1.4.1)\n",
            "Requirement already satisfied: matplotlib>=2.2 in /usr/local/lib/python3.7/dist-packages (from seaborn) (3.2.2)\n",
            "Requirement already satisfied: cycler>=0.10 in /usr/local/lib/python3.7/dist-packages (from matplotlib>=2.2->seaborn) (0.10.0)\n",
            "Requirement already satisfied: kiwisolver>=1.0.1 in /usr/local/lib/python3.7/dist-packages (from matplotlib>=2.2->seaborn) (1.3.1)\n",
            "Requirement already satisfied: python-dateutil>=2.1 in /usr/local/lib/python3.7/dist-packages (from matplotlib>=2.2->seaborn) (2.8.2)\n",
            "Requirement already satisfied: pyparsing!=2.0.4,!=2.1.2,!=2.1.6,>=2.0.1 in /usr/local/lib/python3.7/dist-packages (from matplotlib>=2.2->seaborn) (2.4.7)\n",
            "Requirement already satisfied: six in /usr/local/lib/python3.7/dist-packages (from cycler>=0.10->matplotlib>=2.2->seaborn) (1.15.0)\n",
            "Requirement already satisfied: pytz>=2017.2 in /usr/local/lib/python3.7/dist-packages (from pandas>=0.23->seaborn) (2018.9)\n"
          ],
          "name": "stdout"
        }
      ]
    },
    {
      "cell_type": "code",
      "metadata": {
        "id": "5e43738b"
      },
      "source": [
        "from sklearn.ensemble import RandomForestRegressor\n",
        "from sklearn.ensemble import RandomForestClassifier\n",
        "import matplotlib.pyplot as plt"
      ],
      "id": "5e43738b",
      "execution_count": null,
      "outputs": []
    },
    {
      "cell_type": "code",
      "metadata": {
        "id": "a2d8efc7"
      },
      "source": [
        "# import random undersampling and other necessary libraries \n",
        "import pandas as pd\n",
        "import numpy as np\n",
        "import warnings\n",
        "warnings.simplefilter(action='ignore', category=FutureWarning)"
      ],
      "id": "a2d8efc7",
      "execution_count": null,
      "outputs": []
    },
    {
      "cell_type": "code",
      "metadata": {
        "colab": {
          "base_uri": "https://localhost:8080/"
        },
        "id": "IODHaUYXPYEQ",
        "outputId": "3b94665a-0db6-4c28-e781-ef4b413a4f2c"
      },
      "source": [
        "df = pd.read_csv(\"InsuranceData.csv\")\n",
        "print(df.shape)\n",
        "print(df.head())"
      ],
      "id": "IODHaUYXPYEQ",
      "execution_count": null,
      "outputs": [
        {
          "name": "stdout",
          "output_type": "stream",
          "text": [
            "(7626, 16)\n",
            "   Unnamed: 0 SIU_CUST_YN  SEX  AGE FP_CAREER  OCCP_GRP  TOTALPREM  \\\n",
            "0           0           N    2    4         N         1         14   \n",
            "1           1           N    1    6         N        11          2   \n",
            "2           2           N    1    5         Y         2         15   \n",
            "3           3           N    1    5         N        17         13   \n",
            "4           4           N    1    5         N         1          3   \n",
            "\n",
            "   MAIN_INSR_AMT_SUM  WORK_YEARS_MIN  EXPR_COUNT  DMND_AMT_SUM  CLAIM_CNT  \\\n",
            "0          120266433               0           8        141450          4   \n",
            "1            5000000               1           1       1390000          3   \n",
            "2         1797991770               1          24       2480000         10   \n",
            "3          212274240               1           6         72320          1   \n",
            "4           75256800              13           4       1300000          4   \n",
            "\n",
            "   TOTAL_VLID_HOSP_OTDA  HOSP_VARIES  HOSP_DVSN_VARIES  CHME_LICE_COUNT  \n",
            "0                     5            2                 2                1  \n",
            "1                     6            3                 2                3  \n",
            "2                    21            4                 3                4  \n",
            "3                     5            1                 1                1  \n",
            "4                    26            2                 2                2  \n"
          ]
        }
      ]
    },
    {
      "cell_type": "markdown",
      "metadata": {
        "id": "cce52f2b"
      },
      "source": [
        "## N : 0 / Y : 1 의 각각 비율 확인"
      ],
      "id": "cce52f2b"
    },
    {
      "cell_type": "code",
      "metadata": {
        "colab": {
          "base_uri": "https://localhost:8080/"
        },
        "id": "c0ee4c66",
        "outputId": "1b8ce46d-258c-4b5c-d8a7-3fa0430ee967"
      },
      "source": [
        "df.SIU_CUST_YN.value_counts()\n",
        "#대략 10 : 1"
      ],
      "id": "c0ee4c66",
      "execution_count": null,
      "outputs": [
        {
          "data": {
            "text/plain": [
              "N    6901\n",
              "Y     725\n",
              "Name: SIU_CUST_YN, dtype: int64"
            ]
          },
          "execution_count": 4,
          "metadata": {},
          "output_type": "execute_result"
        }
      ]
    },
    {
      "cell_type": "code",
      "metadata": {
        "colab": {
          "base_uri": "https://localhost:8080/",
          "height": 317
        },
        "id": "37778ece",
        "scrolled": true,
        "outputId": "8f59af96-421f-41de-deb5-1fd1fd0f32f4"
      },
      "source": [
        "df.SIU_CUST_YN.value_counts(normalize=True).plot(kind='bar', color = \"black\")\n",
        "print(df.SIU_CUST_YN.value_counts(normalize=True)*100)"
      ],
      "id": "37778ece",
      "execution_count": null,
      "outputs": [
        {
          "name": "stdout",
          "output_type": "stream",
          "text": [
            "N    90.49305\n",
            "Y     9.50695\n",
            "Name: SIU_CUST_YN, dtype: float64\n"
          ]
        },
        {
          "data": {
            "image/png": "[encoded data removed]",
            "text/plain": [
              "<Figure size 432x288 with 1 Axes>"
            ]
          },
          "metadata": {
            "needs_background": "light"
          },
          "output_type": "display_data"
        }
      ]
    },
    {
      "cell_type": "markdown",
      "metadata": {
        "id": "a106c69c"
      },
      "source": [
        "## 데이터 추가정제\n",
        "\n",
        "데이터에 맞춰서 하나만 실행"
      ],
      "id": "a106c69c"
    },
    {
      "cell_type": "code",
      "metadata": {
        "id": "cee662b4"
      },
      "source": [
        "#insurance data\n",
        "\n",
        "df['SIU_CUST_YN'].replace('N', 0, inplace = True)\n",
        "df['SIU_CUST_YN'].replace('Y', 1, inplace = True)\n",
        "df['FP_CAREER'].replace('N', 0, inplace = True)\n",
        "df['FP_CAREER'].replace('Y', 1, inplace = True)\n",
        "df.drop(['Unnamed: 0'], axis=1, inplace = True)\n",
        "df.drop(['TOTALPREM'], axis=1, inplace = True)"
      ],
      "id": "cee662b4",
      "execution_count": null,
      "outputs": []
    },
    {
      "cell_type": "code",
      "metadata": {
        "id": "6eeb6951"
      },
      "source": [
        "X = df.iloc[:,1:] # SIU_CUST_YN을 제외한 모든 cloumn\n",
        "y = df.iloc[:,0] # SIU_CUST_YN"
      ],
      "id": "6eeb6951",
      "execution_count": null,
      "outputs": []
    },
    {
      "cell_type": "code",
      "metadata": {
        "colab": {
          "base_uri": "https://localhost:8080/"
        },
        "id": "82d0eeb8",
        "scrolled": true,
        "outputId": "b434bd7d-3f8e-40ee-a53f-2e0c4dab7ed2"
      },
      "source": [
        "from collections import Counter\n",
        "from sklearn.model_selection import train_test_split\n",
        "# 트레이닝 데이터, 테스트 데이터 설정\n",
        "X_train, X_test, y_train, y_test = train_test_split(X, y, test_size=0.3)\n",
        "# 현재 트레이닝 데이터 확인\n",
        "print(\"Before Sampling: \",Counter(y_train))"
      ],
      "id": "82d0eeb8",
      "execution_count": null,
      "outputs": [
        {
          "name": "stdout",
          "output_type": "stream",
          "text": [
            "Before Sampling:  Counter({0: 4839, 1: 499})\n"
          ]
        }
      ]
    },
    {
      "cell_type": "markdown",
      "metadata": {
        "id": "9652451f"
      },
      "source": [
        "## OverSampling Test Module"
      ],
      "id": "9652451f"
    },
    {
      "cell_type": "code",
      "metadata": {
        "colab": {
          "base_uri": "https://localhost:8080/"
        },
        "id": "bda0b891",
        "outputId": "4a490048-1143-4cb5-ca73-62aeacbef0d2"
      },
      "source": [
        "from imblearn.over_sampling import SMOTE\n",
        "# OverSampling 방법(SMOTE)\n",
        "SMOTE = SMOTE()\n",
        "# OverSampling 실행\n",
        "X_train_SMOTE, y_train_SMOTE = SMOTE.fit_resample(X_train, y_train)\n",
        "# OverSampling 결과 데이터 확인\n",
        "print(\"Before Sampling: \",Counter(y_train))\n",
        "print(\"After oversampling(SMOTE): \",Counter(y_train_SMOTE))"
      ],
      "id": "bda0b891",
      "execution_count": null,
      "outputs": [
        {
          "name": "stdout",
          "output_type": "stream",
          "text": [
            "Before Sampling:  Counter({0: 4839, 1: 499})\n",
            "After oversampling(SMOTE):  Counter({0: 4839, 1: 4839})\n"
          ]
        }
      ]
    },
    {
      "cell_type": "code",
      "metadata": {
        "colab": {
          "base_uri": "https://localhost:8080/"
        },
        "id": "81364693",
        "outputId": "16fecb4d-3f23-4795-f127-c7030ce155fa"
      },
      "source": [
        "from imblearn.over_sampling import BorderlineSMOTE\n",
        "# OverSampling 방법(BSMOTE)\n",
        "BSMOTE = BorderlineSMOTE()\n",
        "# OverSampling 실행\n",
        "X_train_BSMOTE, y_train_BSMOTE = BSMOTE.fit_resample(X_train, y_train)\n",
        "# OverSampling 결과 데이터 확인\n",
        "print(\"Before Sampling: \",Counter(y_train))\n",
        "print(\"After oversampling(BSMOTE)): \",Counter(y_train_BSMOTE))"
      ],
      "id": "81364693",
      "execution_count": null,
      "outputs": [
        {
          "name": "stdout",
          "output_type": "stream",
          "text": [
            "Before Sampling:  Counter({0: 4839, 1: 499})\n",
            "After oversampling(BSMOTE)):  Counter({0: 4839, 1: 4839})\n"
          ]
        }
      ]
    },
    {
      "cell_type": "code",
      "metadata": {
        "colab": {
          "base_uri": "https://localhost:8080/"
        },
        "id": "bb4f6059",
        "outputId": "56583dd0-830d-4abb-cee5-029c1851683d"
      },
      "source": [
        "from imblearn.over_sampling import ADASYN\n",
        "# OverSampling 방법(ADASYN)\n",
        "ADASYN = ADASYN()\n",
        "# OverSampling 실행\n",
        "X_train_ADASYN, y_train_ADASYN = ADASYN.fit_resample(X_train, y_train)\n",
        "# OverSampling 결과 데이터 확인\n",
        "print(\"Before Sampling: \",Counter(y_train))\n",
        "print(\"After oversampling(ADASYN): \",Counter(y_train_ADASYN))"
      ],
      "id": "bb4f6059",
      "execution_count": null,
      "outputs": [
        {
          "name": "stdout",
          "output_type": "stream",
          "text": [
            "Before Sampling:  Counter({0: 4839, 1: 499})\n",
            "After oversampling(ADASYN):  Counter({0: 4839, 1: 4824})\n"
          ]
        }
      ]
    },
    {
      "cell_type": "code",
      "metadata": {
        "colab": {
          "base_uri": "https://localhost:8080/"
        },
        "id": "4dea368c",
        "outputId": "90faea55-ba8e-446c-fca0-13c4ce6eac1b"
      },
      "source": [
        "from imblearn.over_sampling import SVMSMOTE\n",
        "# OverSampling 방법(SVMSMOTE)\n",
        "SVMSMOTE = SVMSMOTE()\n",
        "X_train_SVMSMOTE, y_train_SVMSMOTE = SVMSMOTE.fit_resample(X_train, y_train)\n",
        "print(\"Before Sampling: \",Counter(y_train))\n",
        "print(\"After oversampling(ADASYN): \",Counter(y_train_SVMSMOTE))"
      ],
      "id": "4dea368c",
      "execution_count": null,
      "outputs": [
        {
          "name": "stdout",
          "output_type": "stream",
          "text": [
            "Before Sampling:  Counter({0: 4839, 1: 499})\n",
            "After oversampling(ADASYN):  Counter({0: 4839, 1: 4839})\n"
          ]
        }
      ]
    },
    {
      "cell_type": "markdown",
      "metadata": {
        "id": "0250d132"
      },
      "source": [
        "## Sampling 방식 선택"
      ],
      "id": "0250d132"
    },
    {
      "cell_type": "code",
      "metadata": {
        "id": "f502fd50"
      },
      "source": [
        "# 해당 변수를 설정해서 Sampling 방식 선택 후 머신러닝 실행\n",
        "X_train_sampling = X_train_SVMSMOTE\n",
        "y_train_sampling = y_train_SVMSMOTE"
      ],
      "id": "f502fd50",
      "execution_count": null,
      "outputs": []
    },
    {
      "cell_type": "markdown",
      "metadata": {
        "id": "8aa73e37"
      },
      "source": [
        "## 결과 확인"
      ],
      "id": "8aa73e37"
    },
    {
      "cell_type": "code",
      "metadata": {
        "id": "6b8c1f40"
      },
      "source": [
        "from sklearn.preprocessing import StandardScaler\n",
        "scaler = StandardScaler()\n",
        "X_train_sampling = scaler.fit_transform(X_train_sampling)\n",
        "X_test = scaler.transform(X_test)"
      ],
      "id": "6b8c1f40",
      "execution_count": null,
      "outputs": []
    },
    {
      "cell_type": "code",
      "metadata": {
        "colab": {
          "base_uri": "https://localhost:8080/"
        },
        "id": "760795cf",
        "scrolled": true,
        "outputId": "329e180f-26b7-4bb9-8776-3cfc77400834"
      },
      "source": [
        "from sklearn.ensemble import RandomForestRegressor\n",
        "from sklearn.ensemble import RandomForestClassifier\n",
        "# 학습 진행\n",
        "model = RandomForestClassifier(n_estimators=100, random_state = 42)#생성할 트리 갯수, 서로 다른 방향으로 트리를 만들어 overfitting 양을 줄일 수 있음\n",
        "model.fit(X_train_sampling, y_train_sampling)"
      ],
      "id": "760795cf",
      "execution_count": null,
      "outputs": [
        {
          "data": {
            "text/plain": [
              "RandomForestClassifier(random_state=42)"
            ]
          },
          "execution_count": 15,
          "metadata": {},
          "output_type": "execute_result"
        }
      ]
    },
    {
      "cell_type": "code",
      "metadata": {
        "colab": {
          "base_uri": "https://localhost:8080/"
        },
        "id": "02098ad4",
        "scrolled": true,
        "outputId": "d9440233-716c-4d66-beb1-e21d5a665a8d"
      },
      "source": [
        "# sklearn에서 제공하는 score값\n",
        "print(model.score(X_test, y_test))"
      ],
      "id": "02098ad4",
      "execution_count": null,
      "outputs": [
        {
          "name": "stdout",
          "output_type": "stream",
          "text": [
            "0.9038461538461539\n"
          ]
        }
      ]
    },
    {
      "cell_type": "code",
      "metadata": {
        "colab": {
          "base_uri": "https://localhost:8080/",
          "height": 390
        },
        "id": "14ab9ae1",
        "scrolled": false,
        "outputId": "2efa535d-1b80-4d07-a8f3-d087ed0c26fe"
      },
      "source": [
        "# 각 속성별 w중요도\n",
        "import seaborn as sns\n",
        "importances_values = model.feature_importances_\n",
        "\n",
        "importances = pd.Series(importances_values, index=X_train.columns)\n",
        "top20 = importances.sort_values(ascending=False)[:20]\n",
        "plt.figure(figsize=(8, 6))\n",
        "plt.title('Feature importances Top 20')\n",
        "sns.barplot(x = top20, y = top20.index)\n",
        "plt.show()"
      ],
      "id": "14ab9ae1",
      "execution_count": null,
      "outputs": [
        {
          "data": {
            "image/png": "[encoded data removed]",
            "text/plain": [
              "<Figure size 576x432 with 1 Axes>"
            ]
          },
          "metadata": {
            "needs_background": "light"
          },
          "output_type": "display_data"
        }
      ]
    },
    {
      "cell_type": "code",
      "metadata": {
        "colab": {
          "base_uri": "https://localhost:8080/"
        },
        "id": "ac6febc1",
        "outputId": "b8008667-ed5f-4c36-9320-72e9bda97338"
      },
      "source": [
        "print(model.predict(X_test))"
      ],
      "id": "ac6febc1",
      "execution_count": null,
      "outputs": [
        {
          "name": "stdout",
          "output_type": "stream",
          "text": [
            "[0 0 0 ... 0 0 0]\n"
          ]
        }
      ]
    },
    {
      "cell_type": "code",
      "metadata": {
        "id": "7aa44d5a"
      },
      "source": [
        "predict_X = model.predict(X_test)"
      ],
      "id": "7aa44d5a",
      "execution_count": null,
      "outputs": []
    },
    {
      "cell_type": "code",
      "metadata": {
        "colab": {
          "base_uri": "https://localhost:8080/"
        },
        "id": "f128ac34",
        "scrolled": false,
        "outputId": "f345aa20-59b0-4083-85be-0d5771c88a75"
      },
      "source": [
        "print(model.predict_proba(X_test))"
      ],
      "id": "f128ac34",
      "execution_count": null,
      "outputs": [
        {
          "name": "stdout",
          "output_type": "stream",
          "text": [
            "[[0.7  0.3 ]\n",
            " [1.   0.  ]\n",
            " [0.88 0.12]\n",
            " ...\n",
            " [0.96 0.04]\n",
            " [0.98 0.02]\n",
            " [0.99 0.01]]\n"
          ]
        }
      ]
    },
    {
      "cell_type": "code",
      "metadata": {
        "id": "ffc3cf3c"
      },
      "source": [
        "# 비중.\n",
        "persentage = 0.55"
      ],
      "id": "ffc3cf3c",
      "execution_count": null,
      "outputs": []
    },
    {
      "cell_type": "code",
      "metadata": {
        "id": "7d5cf312"
      },
      "source": [
        "# 몇 %까지를 0으로 할건지 판단.\n",
        "\n",
        "sample_result = model.predict_proba(X_test)[:,0]\n",
        "list_test_model = [i for i in sample_result]\n",
        "list_test_model\n",
        "for i in range(len(list_test_model)):\n",
        "    if list_test_model[i] >=persentage:\n",
        "        list_test_model[i] = 0\n",
        "    else:\n",
        "        list_test_model[i] = 1\n"
      ],
      "id": "7d5cf312",
      "execution_count": null,
      "outputs": []
    },
    {
      "cell_type": "code",
      "metadata": {
        "colab": {
          "base_uri": "https://localhost:8080/"
        },
        "id": "c72f55bd",
        "scrolled": true,
        "outputId": "9a9a8a16-6271-4029-926f-6e724c82457d"
      },
      "source": [
        "from sklearn.metrics import confusion_matrix, accuracy_score,precision_score,recall_score,f1_score\n",
        "\n",
        "print('Persentage : %.2f' % persentage)\n",
        "print('list test model result')\n",
        "print(\"---------------------------\")\n",
        "print('accuracy: %.2f' % accuracy_score(y_test, list_test_model))\n",
        "print('precision: %.2f' % precision_score(y_test, list_test_model))\n",
        "print('recall: %.2f' % recall_score(y_test, list_test_model))\n",
        "print('F1: %.2f' % f1_score(y_test, list_test_model))\n",
        "print(\"---------------------------\")\n",
        "print(\"\")\n",
        "print('Persentage : 0.5')\n",
        "print('Just result')\n",
        "print(\"---------------------------\")\n",
        "print('accuracy: %.2f' % accuracy_score(y_test, predict_X))\n",
        "print('precision: %.2f' % precision_score(y_test, predict_X))\n",
        "print('recall: %.2f' % recall_score(y_test, predict_X))\n",
        "print('F1: %.2f' % f1_score(y_test, predict_X))"
      ],
      "id": "c72f55bd",
      "execution_count": null,
      "outputs": [
        {
          "name": "stdout",
          "output_type": "stream",
          "text": [
            "Persentage : 0.55\n",
            "list test model result\n",
            "---------------------------\n",
            "accuracy: 0.89\n",
            "precision: 0.46\n",
            "recall: 0.59\n",
            "F1: 0.51\n",
            "---------------------------\n",
            "\n",
            "Persentage : 0.5\n",
            "Just result\n",
            "---------------------------\n",
            "accuracy: 0.90\n",
            "precision: 0.51\n",
            "recall: 0.57\n",
            "F1: 0.54\n"
          ]
        }
      ]
    },
    {
      "cell_type": "code",
      "metadata": {
        "colab": {
          "base_uri": "https://localhost:8080/",
          "height": 227
        },
        "id": "adc0f06c",
        "outputId": "66401dd7-4444-4874-b235-a2da7ed4e367"
      },
      "source": [
        "import seaborn as sns\n",
        "confusion = confusion_matrix(y_true = y_test\n",
        "                             , y_pred = predict_X)\n",
        "\n",
        "plt.figure(figsize=(4, 3))\n",
        "sns.heatmap(confusion, annot=True, annot_kws={'size':15}, cmap='OrRd', fmt='.10g')\n",
        "plt.title('Confusion Matrix')\n",
        "plt.show()"
      ],
      "id": "adc0f06c",
      "execution_count": null,
      "outputs": [
        {
          "data": {
            "image/png": "[encoded data removed]",
            "text/plain": [
              "<Figure size 288x216 with 2 Axes>"
            ]
          },
          "metadata": {
            "needs_background": "light"
          },
          "output_type": "display_data"
        }
      ]
    },
    {
      "cell_type": "code",
      "metadata": {
        "id": "18a74ccc"
      },
      "source": [
        "import seaborn as sns\n",
        "confusion = confusion_matrix(y_true = y_test\n",
        "                             , y_pred = list_test_model)\n",
        "\n",
        "plt.figure(figsize=(4, 3))\n",
        "sns.heatmap(confusion, annot=True, annot_kws={'size':15}, cmap='OrRd', fmt='.10g')\n",
        "plt.title('Confusion Matrix')\n",
        "plt.show()"
      ],
      "id": "18a74ccc",
      "execution_count": null,
      "outputs": []
    },
    {
      "cell_type": "code",
      "metadata": {
        "id": "bdfeb333"
      },
      "source": [
        ""
      ],
      "id": "bdfeb333",
      "execution_count": null,
      "outputs": []
    }
  ]
}